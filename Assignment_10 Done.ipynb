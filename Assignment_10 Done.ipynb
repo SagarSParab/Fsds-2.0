{
 "cells": [
  {
   "cell_type": "markdown",
   "id": "86e65778-c83d-475d-9be4-5ef0dbf131b3",
   "metadata": {},
   "source": [
    "                                  Asignment no. 10"
   ]
  },
  {
   "cell_type": "markdown",
   "id": "0d25e157-d390-4083-9b3c-bfd6a35b7d5e",
   "metadata": {},
   "source": []
  },
  {
   "cell_type": "markdown",
   "id": "29712ea1-16ae-416b-9157-9273cac791e9",
   "metadata": {},
   "source": [
    "1. How do you distinguish between shutil.copy() and shutil.copytree()?"
   ]
  },
  {
   "cell_type": "markdown",
   "id": "3587f606-f00f-4be4-94a0-d5cfbbf39d54",
   "metadata": {},
   "source": [
    "Ans : shutil.copy()     -> copies a single file \n",
    "     shutil.copytree()  -> will copy an entire folder and every folder and file contained in it "
   ]
  },
  {
   "cell_type": "markdown",
   "id": "ea46e2db-e047-404f-bd23-95ec26194ecb",
   "metadata": {},
   "source": []
  },
  {
   "cell_type": "markdown",
   "id": "0c18392e-4d32-4ec4-a18f-a4de26fb7e1a",
   "metadata": {},
   "source": [
    "2. What function is used to rename files??"
   ]
  },
  {
   "cell_type": "markdown",
   "id": "4dfb70b7-0a6d-43cb-bf30-774b46fd0087",
   "metadata": {},
   "source": [
    "Ans : The function which is used to rename the files/directories is os.rename().\n",
    "\n",
    " this function takes two arguments src and dest. \n",
    "  src represents the name file/directory which we want to rename, whereas dest represents the new name of the file/directory.\n",
    "  "
   ]
  },
  {
   "cell_type": "markdown",
   "id": "c26f31df-beb7-4ec1-95d3-e88182772c63",
   "metadata": {},
   "source": [
    "import os \n",
    "os.rename(\"text.tct\",\"test.txt\")"
   ]
  },
  {
   "cell_type": "markdown",
   "id": "b679328b-15a9-4b4a-bdd5-29403d836591",
   "metadata": {},
   "source": []
  },
  {
   "cell_type": "markdown",
   "id": "c1a4d3c8-c79b-4ee6-8c34-2e1a38686465",
   "metadata": {},
   "source": [
    "3. What is the difference between the delete functions in the send2trash and shutil modules?"
   ]
  },
  {
   "cell_type": "markdown",
   "id": "8de5ebfe-f563-486c-a1b1-6cf711a525dd",
   "metadata": {},
   "source": [
    "Ans : import shutil shutil.retree() -> The shutil module's rmtree() function can be used to delete files or folders, but this function delete the files permanently. The operations cannot be undone if there were any accidental deletions perfomed.\n",
    "\n",
    "import send2trash -> \n",
    "\n",
    "send2trash.send2trash() : Using send2trash, we can send the files to the Trash or Recycle bin instead of permanently deleting items. if the directory contains files or other folders, those also deleted. \n",
    "\n",
    "A TrashPermissionError exception is raised, in case a file could not be deleted due to permission error or any other unexpected reason."
   ]
  },
  {
   "cell_type": "code",
   "execution_count": null,
   "id": "5ba360f3-20a4-4d9d-a3e4-d8ff69e268a4",
   "metadata": {},
   "outputs": [],
   "source": [
    "import shutil\n",
    "import send2trash\n",
    "shutil.rmtree(\"path\")\n",
    "send2trash.send2trash(\"path\")"
   ]
  },
  {
   "cell_type": "markdown",
   "id": "7ac5369e-5d0e-4692-8574-af745fd9096a",
   "metadata": {},
   "source": []
  },
  {
   "cell_type": "markdown",
   "id": "6b7a9a2b-73c4-4003-99e8-d0e4761ecfce",
   "metadata": {},
   "source": [
    "4. ZipFile objects have a close() method just like File objects’ close() method. What ZipFile method is\n",
    "equivalent to File objects’ open() method?"
   ]
  },
  {
   "cell_type": "markdown",
   "id": "b2a0c662-da3c-45e7-90d0-5e03d6919be8",
   "metadata": {},
   "source": [
    "Ans : Zipfile Module provides a method called as zipfile.zipfile() to read and write the zipfiles. \n",
    "\n",
    "it takes arguments like filename and mode.\n",
    "\n",
    "we can use zip objects to perform other operations the ziplife, like zip.read()"
   ]
  },
  {
   "cell_type": "code",
   "execution_count": null,
   "id": "77147ba8-4d81-4350-babd-e761a94a7577",
   "metadata": {},
   "outputs": [],
   "source": [
    "from ziplife import Zipfile\n",
    "with Zipfile(file_name, 'r') as zip"
   ]
  },
  {
   "cell_type": "markdown",
   "id": "7c33ba52-ee4b-4803-8f12-d56d6c911b9e",
   "metadata": {},
   "source": []
  },
  {
   "cell_type": "markdown",
   "id": "7deb4e2e-eeda-4976-9d67-08e025548dbc",
   "metadata": {},
   "source": [
    "5. Create a programme that searches a folder tree for files with a certain file extension (such as .pdf\n",
    "or .jpg). Copy these files from whatever location they are in to a new folder."
   ]
  },
  {
   "cell_type": "code",
   "execution_count": null,
   "id": "aae2a10f-6658-4ccf-a353-322ee4da8d82",
   "metadata": {},
   "outputs": [],
   "source": [
    "import os\n",
    "import shutil\n",
    "\n",
    "def selectivecopy(source, extensions, destinations):\n",
    "    folder = os.path.abspath(source)\n",
    "    destination = os.path.abspath(destination)\n",
    "    print('Looking in', source , 'for files with extensions of' , ','.join(extensions))\n",
    "    for foldername, subfolders , filenames in os.walk(source):\n",
    "        for filename in filenames:\n",
    "             name, extension = os.path.splittext(filename)\n",
    "                if extension in extensions:\n",
    "                    fileAbspath = foldername + os.path.sep + filename\n",
    "                    print('copying', fileAbspath, 'to', destination)\n",
    "                    shutil.copy(fileAbspath, destination)\n",
    "                    \n",
    "extensions = [ '.mp4', '.pdf', ',jpg']\n",
    "source = \"C:\\Users\\Sagar\\Dekstop\"\n",
    "destination = \"C:\\Users\\Sagar\\Dekstop\\abc\"\n",
    "selctivecopy(source, extensions, destination)"
   ]
  },
  {
   "cell_type": "code",
   "execution_count": null,
   "id": "b03b7343-bef1-45c3-93d8-39bebbe67a2a",
   "metadata": {},
   "outputs": [],
   "source": []
  }
 ],
 "metadata": {
  "kernelspec": {
   "display_name": "Python 3 (ipykernel)",
   "language": "python",
   "name": "python3"
  },
  "language_info": {
   "codemirror_mode": {
    "name": "ipython",
    "version": 3
   },
   "file_extension": ".py",
   "mimetype": "text/x-python",
   "name": "python",
   "nbconvert_exporter": "python",
   "pygments_lexer": "ipython3",
   "version": "3.10.8"
  }
 },
 "nbformat": 4,
 "nbformat_minor": 5
}
