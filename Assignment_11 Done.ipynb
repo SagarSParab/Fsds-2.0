{
 "cells": [
  {
   "cell_type": "markdown",
   "id": "7fff3934-6188-4839-874e-4e8cbb7500db",
   "metadata": {},
   "source": [
    "                                    Assignment no. 11"
   ]
  },
  {
   "cell_type": "markdown",
   "id": "bc05f45d-0101-4d0e-8f2c-41f98ab09a7b",
   "metadata": {},
   "source": []
  },
  {
   "cell_type": "markdown",
   "id": "8690fa0c-1bf9-4db3-897e-0e25eae4fec5",
   "metadata": {},
   "source": [
    "1. Create an assert statement that throws an AssertionError if the variable spam is a negative\n",
    "integer."
   ]
  },
  {
   "cell_type": "markdown",
   "id": "6da2b7a5-f3e7-4292-b416-78a7e94a6607",
   "metadata": {},
   "source": [
    "Ans : The assertion error is used to continue the exceute if the given condition evaluates to True. \n",
    "If the assert condition evaluates to False, then it raises the AssertionError exception with the specified error message."
   ]
  },
  {
   "cell_type": "code",
   "execution_count": 1,
   "id": "258d5bcd-ea4c-4fd0-90cf-ffd3b161c865",
   "metadata": {},
   "outputs": [
    {
     "name": "stdout",
     "output_type": "stream",
     "text": [
      "Collecting pyinputplus\n",
      "  Downloading PyInputPlus-0.2.12.tar.gz (20 kB)\n",
      "  Installing build dependencies ... \u001b[?25ldone\n",
      "\u001b[?25h  Getting requirements to build wheel ... \u001b[?25ldone\n",
      "\u001b[?25h  Preparing metadata (pyproject.toml) ... \u001b[?25ldone\n",
      "\u001b[?25hCollecting stdiomask>=0.0.3\n",
      "  Downloading stdiomask-0.0.6.tar.gz (3.6 kB)\n",
      "  Installing build dependencies ... \u001b[?25ldone\n",
      "\u001b[?25h  Getting requirements to build wheel ... \u001b[?25ldone\n",
      "\u001b[?25h  Preparing metadata (pyproject.toml) ... \u001b[?25ldone\n",
      "\u001b[?25hCollecting pysimplevalidate>=0.2.7\n",
      "  Downloading PySimpleValidate-0.2.12.tar.gz (22 kB)\n",
      "  Installing build dependencies ... \u001b[?25ldone\n",
      "\u001b[?25h  Getting requirements to build wheel ... \u001b[?25ldone\n",
      "\u001b[?25h  Preparing metadata (pyproject.toml) ... \u001b[?25ldone\n",
      "\u001b[?25hBuilding wheels for collected packages: pyinputplus, pysimplevalidate, stdiomask\n",
      "  Building wheel for pyinputplus (pyproject.toml) ... \u001b[?25ldone\n",
      "\u001b[?25h  Created wheel for pyinputplus: filename=PyInputPlus-0.2.12-py3-none-any.whl size=11296 sha256=176d4e0d7875cabd4c1f4791cd8affaadefc081e5bb3eea20099fe2045462436\n",
      "  Stored in directory: /home/jovyan/.cache/pip/wheels/2d/72/d9/818396cecb072b3d697a47b007d9bbad74859a83a635e47d4d\n",
      "  Building wheel for pysimplevalidate (pyproject.toml) ... \u001b[?25ldone\n",
      "\u001b[?25h  Created wheel for pysimplevalidate: filename=PySimpleValidate-0.2.12-py3-none-any.whl size=16176 sha256=6b9b38d25fa36b5fb1360e353a54a8da04bbba51cb2cc11313687b0b35715244\n",
      "  Stored in directory: /home/jovyan/.cache/pip/wheels/05/ad/4d/7289d8b9a519e88167728584876a1a1073a3f71666d875aba7\n",
      "  Building wheel for stdiomask (pyproject.toml) ... \u001b[?25ldone\n",
      "\u001b[?25h  Created wheel for stdiomask: filename=stdiomask-0.0.6-py3-none-any.whl size=3306 sha256=d723d0d17da8bc9c1dafdc091d7c72952bb4fe37e10349d3599231849424f0fd\n",
      "  Stored in directory: /home/jovyan/.cache/pip/wheels/41/ee/55/6e4b70f6248b280caae3d938bc543206bb1a75988b739f1238\n",
      "Successfully built pyinputplus pysimplevalidate stdiomask\n",
      "Installing collected packages: stdiomask, pysimplevalidate, pyinputplus\n",
      "Successfully installed pyinputplus-0.2.12 pysimplevalidate-0.2.12 stdiomask-0.0.6\n"
     ]
    }
   ],
   "source": [
    "!pip install pyinputplus"
   ]
  },
  {
   "cell_type": "code",
   "execution_count": 3,
   "id": "e3fda12a-7582-4ff4-a762-f1b5ad607883",
   "metadata": {},
   "outputs": [
    {
     "name": "stdout",
     "output_type": "stream",
     "text": [
      "Enter a positive number :"
     ]
    },
    {
     "name": "stdin",
     "output_type": "stream",
     "text": [
      " 2\n"
     ]
    },
    {
     "name": "stdout",
     "output_type": "stream",
     "text": [
      "2 is a positive number\n"
     ]
    }
   ],
   "source": [
    "import pyinputplus as pyip\n",
    "\n",
    "spam = pyip.inputNum(\"Enter a positive number :\")\n",
    "assert spam > 0\n",
    "print(spam, 'is a positive number')"
   ]
  },
  {
   "cell_type": "markdown",
   "id": "527340f0-76ad-4b05-b912-2ddb5fe964f5",
   "metadata": {},
   "source": [
    "import pyinputplus as pyip\n",
    "\n",
    "spam = pyip.inputNum(\"Enter a positive number :\")\n",
    "assert spam > 0\n",
    "print(spam, 'is a positive number')"
   ]
  },
  {
   "cell_type": "code",
   "execution_count": null,
   "id": "7bc7077e-fd6d-45de-92e4-db3c2527ec49",
   "metadata": {},
   "outputs": [],
   "source": []
  },
  {
   "cell_type": "markdown",
   "id": "8629754d-b0c4-41de-857a-be238809871d",
   "metadata": {},
   "source": [
    "Q. 2. Write an assert statement that triggers an AssertionError if the variables eggs and bacon contain strings that are the same as each other, even if their cases are different (that is, 'hello' and 'hello' are considered the same, and 'goodbye' and 'GOODbye' are also considered the same)."
   ]
  },
  {
   "cell_type": "code",
   "execution_count": 8,
   "id": "e47dbcab-7725-4936-b6e6-e10591f23d07",
   "metadata": {},
   "outputs": [
    {
     "ename": "AssertionError",
     "evalue": "",
     "output_type": "error",
     "traceback": [
      "\u001b[0;31m---------------------------------------------------------------------------\u001b[0m",
      "\u001b[0;31mAssertionError\u001b[0m                            Traceback (most recent call last)",
      "Cell \u001b[0;32mIn[8], line 4\u001b[0m\n\u001b[1;32m      1\u001b[0m eggs \u001b[38;5;241m=\u001b[39m \u001b[38;5;124m'\u001b[39m\u001b[38;5;124mHello\u001b[39m\u001b[38;5;124m'\u001b[39m\n\u001b[1;32m      2\u001b[0m bacon \u001b[38;5;241m=\u001b[39m \u001b[38;5;124m'\u001b[39m\u001b[38;5;124mhello\u001b[39m\u001b[38;5;124m'\u001b[39m\n\u001b[0;32m----> 4\u001b[0m \u001b[38;5;28;01massert\u001b[39;00m eggs\u001b[38;5;241m.\u001b[39mlower() \u001b[38;5;241m!=\u001b[39m bacon\u001b[38;5;241m.\u001b[39mlower() \u001b[38;5;129;01mor\u001b[39;00m eggs\u001b[38;5;241m.\u001b[39mupper() \u001b[38;5;241m!=\u001b[39m bacon\u001b[38;5;241m.\u001b[39mupper()\n\u001b[1;32m      5\u001b[0m \u001b[38;5;28mprint\u001b[39m(\u001b[38;5;124m'\u001b[39m\u001b[38;5;124mThe eggs and bacon variables are not the same!\u001b[39m\u001b[38;5;124m'\u001b[39m)\n",
      "\u001b[0;31mAssertionError\u001b[0m: "
     ]
    }
   ],
   "source": [
    "eggs = 'Hello'\n",
    "bacon = 'hello'\n",
    "\n",
    "assert eggs.lower() != bacon.lower() or eggs.upper() != bacon.upper()\n",
    "print('The eggs and bacon variables are not the same!')"
   ]
  },
  {
   "cell_type": "markdown",
   "id": "95ca6970-63e6-4b64-8dae-0fb989617ef7",
   "metadata": {},
   "source": []
  },
  {
   "cell_type": "markdown",
   "id": "6ba1ac16-560f-4218-889f-ba123f67204d",
   "metadata": {},
   "source": [
    "3. Create an assert statement that throws an AssertionError every time."
   ]
  },
  {
   "cell_type": "markdown",
   "id": "4bcf8f4a-a0ab-4bbe-8c09-9cc4957e1efa",
   "metadata": {},
   "source": [
    "Ans :  assert False -> this always triggers an exception"
   ]
  },
  {
   "cell_type": "code",
   "execution_count": 9,
   "id": "c30de3dc-90f5-4a60-a84e-fb1abc27d9bd",
   "metadata": {},
   "outputs": [
    {
     "ename": "AssertionError",
     "evalue": "",
     "output_type": "error",
     "traceback": [
      "\u001b[0;31m---------------------------------------------------------------------------\u001b[0m",
      "\u001b[0;31mAssertionError\u001b[0m                            Traceback (most recent call last)",
      "Cell \u001b[0;32mIn[9], line 1\u001b[0m\n\u001b[0;32m----> 1\u001b[0m \u001b[38;5;28;01massert\u001b[39;00m \u001b[38;5;28;01mFalse\u001b[39;00m\n",
      "\u001b[0;31mAssertionError\u001b[0m: "
     ]
    }
   ],
   "source": [
    "assert False"
   ]
  },
  {
   "cell_type": "markdown",
   "id": "590b444d-a424-4b92-83fd-ba45cd814422",
   "metadata": {},
   "source": []
  },
  {
   "cell_type": "markdown",
   "id": "54524141-7e97-4739-99b6-0e23aa800130",
   "metadata": {},
   "source": [
    "4. What are the two lines that must be present in your software in order to call logging.debug()?"
   ]
  },
  {
   "cell_type": "code",
   "execution_count": 10,
   "id": "aa209abe-a92f-4d7f-88f8-3f79c7261713",
   "metadata": {},
   "outputs": [],
   "source": [
    "import logging as lg\n",
    "lg.basicConfig(level=lg.DEBUG, format = '%(asctime)s - %(levelname)s - %(message)s')\n"
   ]
  },
  {
   "cell_type": "markdown",
   "id": "be08f19b-5ae9-4b03-8d66-39ee71a4df4d",
   "metadata": {},
   "source": []
  },
  {
   "cell_type": "markdown",
   "id": "18221922-853e-41b9-b464-6efdc2582327",
   "metadata": {},
   "source": [
    "5. What are the two lines that your program must have in order to have logging.debug() send a logging message to a file named programLog.txt ?"
   ]
  },
  {
   "cell_type": "code",
   "execution_count": 11,
   "id": "5ac00703-85ef-4d45-ba5a-4e5a72149620",
   "metadata": {},
   "outputs": [],
   "source": [
    "import logging as lg\n",
    "lg.basicConfig(filename='programLog.txt' , level= lg.DEBUG , format = '%(asctime)s - %(levelname)s - %(message)s')"
   ]
  },
  {
   "cell_type": "markdown",
   "id": "17d6ba63-5430-42ae-9408-9092ae3f07ba",
   "metadata": {},
   "source": []
  },
  {
   "cell_type": "markdown",
   "id": "922b97c3-2cfc-4c81-8119-4886f9f62787",
   "metadata": {},
   "source": [
    "6. What are the five levels of logging?"
   ]
  },
  {
   "cell_type": "markdown",
   "id": "10f532ed-d1c4-4884-945e-600d633e7fb7",
   "metadata": {},
   "source": [
    "Ans :  DEBUG, INFO, WARNING, ERROR and CRITICAL these are the 5 levels of logging.\n",
    "\n",
    "logging.DEBUG() -> Variable's state and small details\n",
    "\n",
    "logging.INFO() -> general events, confirm a progran is working\n",
    "\n",
    "logging.WARNING() -> potential problem to work on in the future\n",
    "\n",
    "logging.ERROR() -> record and error that caused program to fail to do something\n",
    "\n",
    "logging.CRITICAL() -> fatal error that has caused"
   ]
  },
  {
   "cell_type": "markdown",
   "id": "c50a09e5-6f5f-4e6e-af8e-d023abfb60b0",
   "metadata": {},
   "source": []
  },
  {
   "cell_type": "markdown",
   "id": "6e008ffa-cd1c-4287-8ceb-645ed5edadaf",
   "metadata": {},
   "source": [
    "7. What line of code would you add to your software to disable all logging messages?"
   ]
  },
  {
   "cell_type": "code",
   "execution_count": 12,
   "id": "a0db46fa-d963-43fc-b552-aa992692b6ac",
   "metadata": {},
   "outputs": [],
   "source": [
    "import logging as lg\n",
    "lg.disable(lg.CRITICAL)"
   ]
  },
  {
   "cell_type": "markdown",
   "id": "8085eb64-5b33-4a15-9f02-8088fbe3e76e",
   "metadata": {},
   "source": []
  },
  {
   "cell_type": "markdown",
   "id": "a4e7a045-8f66-404d-9312-1bdb6c1c31b2",
   "metadata": {},
   "source": [
    "8. Why is using logging messages better than using print() to display the same message?"
   ]
  },
  {
   "cell_type": "markdown",
   "id": "9ac4a541-60ae-49cc-bade-2bdf31c3d702",
   "metadata": {},
   "source": [
    "Ans :\n",
    "\n",
    " You can disable loging messages without removing the logging function calls.\n",
    " \n",
    " You can selectively disable lower-level logging messages.\n",
    " \n",
    " You can create logging messages.Logging messages provides a timestamp."
   ]
  },
  {
   "cell_type": "markdown",
   "id": "ef2fc2ce-9ec7-4b47-afdc-1c81c25f2bb1",
   "metadata": {},
   "source": []
  },
  {
   "cell_type": "markdown",
   "id": "82a83980-695b-4490-bd69-4814e892ce16",
   "metadata": {},
   "source": [
    "9. What are the differences between the Step Over, Step In, and Step Out buttons in the debugger?"
   ]
  },
  {
   "cell_type": "markdown",
   "id": "6e0d036f-8626-4f62-bd1d-4874c98059ca",
   "metadata": {},
   "source": [
    "Ans :\n",
    "\n",
    " The Step Over button will quickly execute the function call without stepping into it.\n",
    " \n",
    " The Step In button will move the debugger into a function call.\n",
    " \n",
    " The Step Out button quickly execute the rest of the code until it steps out of the function it currently is in.\n",
    "    "
   ]
  },
  {
   "cell_type": "markdown",
   "id": "67039032-6efc-437a-b778-041e0029ce0b",
   "metadata": {},
   "source": []
  },
  {
   "cell_type": "markdown",
   "id": "6e0ef7b7-b36e-4866-8f16-5b16ceaae8b5",
   "metadata": {},
   "source": [
    "10. After you click Continue, when will the debugger stop ?"
   ]
  },
  {
   "cell_type": "markdown",
   "id": "e4651c52-b841-4721-aa7d-47bae1cd16f4",
   "metadata": {},
   "source": [
    "Ans : it will stops at next breakpoint, if there is no further breakpoints program will be fully executed."
   ]
  },
  {
   "cell_type": "markdown",
   "id": "801955f3-086a-45b9-b720-8cbff694cd0d",
   "metadata": {},
   "source": []
  },
  {
   "cell_type": "markdown",
   "id": "fdc06e56-c8f7-4773-9f89-239335ce33d8",
   "metadata": {},
   "source": [
    "11. What is the concept of a breakpoint?"
   ]
  },
  {
   "cell_type": "markdown",
   "id": "bfefd594-442a-4814-8e17-a281037bb29a",
   "metadata": {},
   "source": [
    "Ans : A breakpoint is an intentional stopping point or pause put into a program for debugging purposes."
   ]
  },
  {
   "cell_type": "markdown",
   "id": "201dbaab-3e15-4a4e-a0f1-c0b02daf2eb9",
   "metadata": {},
   "source": []
  }
 ],
 "metadata": {
  "kernelspec": {
   "display_name": "Python 3 (ipykernel)",
   "language": "python",
   "name": "python3"
  },
  "language_info": {
   "codemirror_mode": {
    "name": "ipython",
    "version": 3
   },
   "file_extension": ".py",
   "mimetype": "text/x-python",
   "name": "python",
   "nbconvert_exporter": "python",
   "pygments_lexer": "ipython3",
   "version": "3.10.8"
  }
 },
 "nbformat": 4,
 "nbformat_minor": 5
}
