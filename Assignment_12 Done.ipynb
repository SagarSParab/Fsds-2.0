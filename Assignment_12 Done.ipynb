{
 "cells": [
  {
   "cell_type": "markdown",
   "id": "4681dbe3-519c-4281-9589-6d0b069e163a",
   "metadata": {},
   "source": [
    "                           Assignment no. 12"
   ]
  },
  {
   "cell_type": "markdown",
   "id": "614474da-77f6-4a6e-98c8-ae864ae887bd",
   "metadata": {},
   "source": []
  },
  {
   "cell_type": "markdown",
   "id": "5e8449ac-c882-44c6-b00f-72593401226b",
   "metadata": {},
   "source": [
    "1. In what modes should the PdfFileReader() and PdfFileWriter() File objects will be opened?"
   ]
  },
  {
   "cell_type": "markdown",
   "id": "a5726fbe-099c-4fb5-85a3-54278826ce4c",
   "metadata": {},
   "source": [
    "Ans : These files will be opened in binary mode, read binary (rb) for all PdfFileReader() and Write binary (wb) for PdfFileWriter() "
   ]
  },
  {
   "cell_type": "code",
   "execution_count": 1,
   "id": "f63b2c42-db4b-47db-94f3-6c1df940a565",
   "metadata": {},
   "outputs": [
    {
     "name": "stdout",
     "output_type": "stream",
     "text": [
      "Collecting PyPDF2\n",
      "  Downloading pypdf2-3.0.1-py3-none-any.whl (232 kB)\n",
      "\u001b[2K     \u001b[90m━━━━━━━━━━━━━━━━━━━━━━━━━━━━━━━━━━━━━━━\u001b[0m \u001b[32m232.6/232.6 kB\u001b[0m \u001b[31m6.9 MB/s\u001b[0m eta \u001b[36m0:00:00\u001b[0m\n",
      "\u001b[?25hInstalling collected packages: PyPDF2\n",
      "Successfully installed PyPDF2-3.0.1\n"
     ]
    }
   ],
   "source": [
    "!pip install PyPDF2"
   ]
  },
  {
   "cell_type": "markdown",
   "id": "915b7f7e-6e8e-4cc5-9cba-2529d1ffaf2e",
   "metadata": {},
   "source": []
  },
  {
   "cell_type": "markdown",
   "id": "25d8c268-a239-486b-929d-d2dc5e35da22",
   "metadata": {},
   "source": [
    "2. From a PdfFileReader object, how do you get a Page object for page 5?"
   ]
  },
  {
   "cell_type": "markdown",
   "id": "2a6d28b4-c5bc-45fc-b627-9ae5eebe2206",
   "metadata": {},
   "source": [
    "Ans : Calling getPage(4) will return a Page object for page 5 since page() is first page."
   ]
  },
  {
   "cell_type": "code",
   "execution_count": null,
   "id": "9d7cceb5-5b1b-41d7-9417-f9d53ee9274a",
   "metadata": {},
   "outputs": [],
   "source": [
    "import PyPDF2 as pdf\n",
    "pdfFileObj = open(\"cardealer.pdf\", 'rb')\n",
    "pdfReader = pdf.PdfFileReader(pdfFileObj)\n",
    "pageObj = pdfReader.getpage(4)\n",
    "pageObj.extractText()"
   ]
  },
  {
   "cell_type": "markdown",
   "id": "8c7617c8-f778-4137-b80f-bb5337b95ba3",
   "metadata": {},
   "source": []
  },
  {
   "cell_type": "markdown",
   "id": "a8ce637d-c1e6-4003-8492-094d29427b2b",
   "metadata": {},
   "source": [
    "3. What PdfFileReader variable stores the number of pages in the PDF document?"
   ]
  },
  {
   "cell_type": "code",
   "execution_count": null,
   "id": "4d110e3a-8c98-440f-9540-a8614097c7d2",
   "metadata": {},
   "outputs": [],
   "source": [
    "import PyPDF2 as pdf\n",
    "pdfFileObj = open(\"cardealer.pdf\", 'rb')\n",
    "pdfReader = pdfFileReader(pdfFileObj)\n",
    "pdfReader.numPages"
   ]
  },
  {
   "cell_type": "markdown",
   "id": "5628d80e-772a-4432-acd7-af6fe4479037",
   "metadata": {},
   "source": []
  },
  {
   "cell_type": "markdown",
   "id": "fb0dc90c-3d10-46d8-b346-0f4c47abf64b",
   "metadata": {},
   "source": [
    "4. If a PdfFileReader object’s PDF is encrypted with the password swordfish, what must you do\n",
    "before you can obtain Page objects from it?"
   ]
  },
  {
   "cell_type": "markdown",
   "id": "0422edfd-4886-4510-bc29-faaca1a4d987",
   "metadata": {},
   "source": [
    "Ans : Before we can obtain the page object, the pdf has to be decrypted by calling .decrypt('swordfish')"
   ]
  },
  {
   "cell_type": "markdown",
   "id": "57f067dd-d560-4627-b81c-db18c264a8ee",
   "metadata": {},
   "source": []
  },
  {
   "cell_type": "markdown",
   "id": "a7350781-dfdf-4304-a28f-151d3185ae7d",
   "metadata": {},
   "source": [
    "5. What methods do you use to rotate a page?"
   ]
  },
  {
   "cell_type": "code",
   "execution_count": null,
   "id": "0af75aea-6fdd-4509-a0ae-30513d367b58",
   "metadata": {},
   "outputs": [],
   "source": [
    "pageObject.rotateclockwise(180)\n",
    "\n",
    "or\n",
    "\n",
    "pageObject.rotateanticlockwise(360)\n",
    "\n",
    "# The degree to rotate is passed as an integer argument."
   ]
  },
  {
   "cell_type": "markdown",
   "id": "096d01a3-ee11-4e3f-a871-0a7adbeb4e7b",
   "metadata": {},
   "source": []
  },
  {
   "cell_type": "markdown",
   "id": "5e44e466-b80d-41fd-bbaa-377f39557e58",
   "metadata": {},
   "source": [
    "6. What is the difference between a Run object and a Paragraph object?"
   ]
  },
  {
   "cell_type": "markdown",
   "id": "42a085d8-3a09-4e09-976c-7ab2b4f88454",
   "metadata": {},
   "source": [
    "Ans :\n",
    "\n",
    "Run Object -> Runs are contiguous groups of characters within a paragraph with same style\n",
    "\n",
    "Paragraph Object -> A document contains multiple paragraphs. A paragraph begins on a new line and contains multiple runs. The Document object contains a list of Paragraph objects for the paragraphs in the document.\n",
    "\n",
    "(A new paragraph begins whenever the user presses ENTER or RETURN while typing a word document.)"
   ]
  },
  {
   "cell_type": "markdown",
   "id": "d9d0ee59-f12f-4719-b863-37b8446f8618",
   "metadata": {},
   "source": []
  },
  {
   "cell_type": "markdown",
   "id": "bf2ff3b7-b03e-4317-8dab-29477b88bccd",
   "metadata": {},
   "source": [
    "7. How do you obtain a list of Paragraph objects for a Document object that’s stored in a variable\n",
    "named doc?"
   ]
  },
  {
   "cell_type": "code",
   "execution_count": null,
   "id": "1c97aac5-952b-43f7-a434-affb6a95783a",
   "metadata": {},
   "outputs": [],
   "source": [
    "#!pip install python-docx\n",
    "import docx\n",
    "\n",
    "doc = docx.Document('abc.docx')\n",
    "doc.paragraphs\n",
    "#by using doc.paragraphs"
   ]
  },
  {
   "cell_type": "markdown",
   "id": "91568efb-816b-49fa-b78a-0f59c3694209",
   "metadata": {},
   "source": []
  },
  {
   "cell_type": "markdown",
   "id": "d7ea9327-d833-47fc-a09d-e61e5c311f88",
   "metadata": {},
   "source": [
    "8. What type of object has bold, underline, italic, strike, and outline variables?"
   ]
  },
  {
   "cell_type": "markdown",
   "id": "7b9989bb-0f5c-437a-9375-9dbff2edd3e0",
   "metadata": {},
   "source": [
    "Ans : A Run Object has bold, underline, italic, strike, and outline variables."
   ]
  },
  {
   "cell_type": "markdown",
   "id": "d2436571-2a14-4e01-a3a0-56f5fb6f221c",
   "metadata": {},
   "source": []
  },
  {
   "cell_type": "markdown",
   "id": "e236fc4b-7754-4ad5-ade8-948c3d9965ed",
   "metadata": {},
   "source": [
    "9. What is the difference between False, True, and None for the bold variable?"
   ]
  },
  {
   "cell_type": "markdown",
   "id": "48f54b30-2572-416f-83e7-e942a1963b4c",
   "metadata": {},
   "source": [
    "Ans :\n",
    "\n",
    "Runs can be further styled using text attributes. Each attribute can be set to one of three values:\n",
    "\n",
    "False -> the attribute is always disabled\n",
    "\n",
    "True -> the attribute is always enabled, no matter what other styles are applied to run\n",
    "\n",
    "None -> defaults to whatever the run's style is set to"
   ]
  },
  {
   "cell_type": "markdown",
   "id": "e6d8a7b9-d957-4948-9ba3-8087961bef76",
   "metadata": {},
   "source": []
  },
  {
   "cell_type": "markdown",
   "id": "d85797db-af5b-4308-9a9a-d7842c4d025c",
   "metadata": {},
   "source": [
    "10. How do you create a Document object for a new Word document?"
   ]
  },
  {
   "cell_type": "markdown",
   "id": "4f8ab6b9-ab10-4ad9-b4bd-2d1073e9afbe",
   "metadata": {},
   "source": [
    "Ans : By calling the docx.Document() function."
   ]
  },
  {
   "cell_type": "markdown",
   "id": "2b575317-e6e3-4e7f-8e95-f37d8ade5cc8",
   "metadata": {},
   "source": []
  },
  {
   "cell_type": "markdown",
   "id": "a19541f1-f4cd-4f5c-a2b6-dbe65c5ad392",
   "metadata": {},
   "source": [
    "11. How do you add a paragraph with the text &#39;Hello, there!&#39; to a Document object stored in a\n",
    "variable named doc?"
   ]
  },
  {
   "cell_type": "code",
   "execution_count": null,
   "id": "6f14ab49-74bb-42bd-83ee-098ab27bef75",
   "metadata": {},
   "outputs": [],
   "source": [
    "import docx\n",
    "doc = docx.Document()\n",
    "\n",
    "doc.add_paragraph('Hello there!')\n",
    "doc.save('hellothere.docx')"
   ]
  },
  {
   "cell_type": "markdown",
   "id": "0da69ca4-51bc-4fe8-99c9-cb6693c16f2d",
   "metadata": {},
   "source": []
  },
  {
   "cell_type": "markdown",
   "id": "0e49eaf8-5a6a-4daa-a3fe-246056849e44",
   "metadata": {},
   "source": [
    "12. What integers represent the levels of headings available in Word documents?"
   ]
  },
  {
   "cell_type": "markdown",
   "id": "5e846d51-0de8-4da0-8497-9c0915f57f10",
   "metadata": {},
   "source": [
    "Ans :\n",
    "\n",
    "integers from 0 to 4\n",
    "\n",
    "The arguments to add_heading() are a string of the heading text and an integer from 0 to 4.\n",
    "\n",
    "The integer 0 makes the heading the Title style, which is used for the top of the document.\n",
    "\n",
    "The integers 1 to 4 are for various heading levels, with 1 being the main heading and 4 the lowest subheading.\n"
   ]
  },
  {
   "cell_type": "markdown",
   "id": "f94a389e-e0fb-4e1a-aa5e-ffaac7b40d09",
   "metadata": {},
   "source": []
  }
 ],
 "metadata": {
  "kernelspec": {
   "display_name": "Python 3 (ipykernel)",
   "language": "python",
   "name": "python3"
  },
  "language_info": {
   "codemirror_mode": {
    "name": "ipython",
    "version": 3
   },
   "file_extension": ".py",
   "mimetype": "text/x-python",
   "name": "python",
   "nbconvert_exporter": "python",
   "pygments_lexer": "ipython3",
   "version": "3.10.8"
  }
 },
 "nbformat": 4,
 "nbformat_minor": 5
}
