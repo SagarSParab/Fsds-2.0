{
 "cells": [
  {
   "cell_type": "markdown",
   "id": "f26229c6-88d1-4c28-a7c6-9e5fd6d51637",
   "metadata": {},
   "source": [
    "                          Assignment no. 13"
   ]
  },
  {
   "cell_type": "markdown",
   "id": "bdda8219-8c8b-42aa-8462-160eb898c1e6",
   "metadata": {},
   "source": []
  },
  {
   "cell_type": "markdown",
   "id": "4f158906-2ac7-4942-b410-bae34da88670",
   "metadata": {},
   "source": [
    "1. What advantages do Excel spreadsheets have over CSV spreadsheets?"
   ]
  },
  {
   "cell_type": "markdown",
   "id": "fcc039bf-ec88-4092-a245-d49535cefc79",
   "metadata": {},
   "source": [
    "Ans :\n",
    "\n",
    "it is a binary file that holds information about all the worksheets in a workbook\n",
    "\n",
    "An excel not only stores data but can also do operations on the data\n",
    "\n",
    "Files saved in excel cannot be opened or edited by text editors\n",
    "\n",
    "Large files user is much easier in Excel for the end user. Also, you can have additional functions like selecting individual cells for import, convert dates and time automatically, reading formulas and their results, filters, sorting, etc.\n",
    "\n",
    "Apart from text, data can also be stored in form of charts and graphs.\n",
    "\n",
    "Excel can convert to external data sources to fetch data. You can use custom add-in in the Excel to increase it's funtionality.\n",
    "\n",
    "Excel allows for Review of Data with detailed tracking and commenting feature\n",
    "\n",
    "In Excel, spreadsheets can have values of data types other than strings; cells can have different fonts, sizes, or color settings; can have have varying widths and heights; adjacent cells can be merged\n"
   ]
  },
  {
   "cell_type": "markdown",
   "id": "58e40205-983a-4211-885d-6dd406f9b46e",
   "metadata": {},
   "source": []
  },
  {
   "cell_type": "markdown",
   "id": "86e4a6cb-b64e-40d6-a776-d02a0ee6a36b",
   "metadata": {},
   "source": [
    "2. What do you pass to csv.reader() and csv.writer() to create reader and writer objects?"
   ]
  },
  {
   "cell_type": "code",
   "execution_count": null,
   "id": "58f62e36-da1f-4496-8e0d-ac294e552e3b",
   "metadata": {},
   "outputs": [],
   "source": [
    "# we pass a File Object, obtained from a calll to open().\n",
    "\n",
    "import csv\n",
    "file_csv = open('abc.csv')\n",
    "filereader = csv.reader(file_csv)\n",
    "fileData = list(filereader)\n",
    "fileData"
   ]
  },
  {
   "cell_type": "markdown",
   "id": "3d54dc0d-13c8-4269-81aa-4f4321fc5bd1",
   "metadata": {},
   "source": []
  },
  {
   "cell_type": "markdown",
   "id": "8374d5a2-adb1-4412-81fe-fa1f65c36003",
   "metadata": {},
   "source": [
    "3. What modes do File objects for reader and writer objects need to be opened in?"
   ]
  },
  {
   "cell_type": "markdown",
   "id": "36582d19-3e45-4857-a312-71c7bdd93cc3",
   "metadata": {},
   "source": [
    "Ans : File objects need to be opened in read-binary('rb') for Reader Objects and write-binary ('wb') for Writer objects."
   ]
  },
  {
   "cell_type": "markdown",
   "id": "76b6fa70-cb39-466e-a27a-61fb95c00d5e",
   "metadata": {},
   "source": []
  },
  {
   "cell_type": "markdown",
   "id": "0130857d-e5d8-4aee-bb46-0d16fb10b840",
   "metadata": {},
   "source": [
    "4. What method takes a list argument and writes it to a CSV file?"
   ]
  },
  {
   "cell_type": "code",
   "execution_count": null,
   "id": "148baf90-6392-47cc-8e1b-9aa1fdd43e33",
   "metadata": {},
   "outputs": [],
   "source": [
    "# The writerow() method\n",
    "\n",
    "File_abc = open('abc'.csv', 'w')\n",
    "File_Writer = csv.writer(File_abc)\n",
    "csv.writer(File_abc).writerow(['cat', 'fish', 'dog'])"
   ]
  },
  {
   "cell_type": "markdown",
   "id": "be8a6036-d314-4744-b4cf-2b8563c8bd5e",
   "metadata": {},
   "source": []
  },
  {
   "cell_type": "markdown",
   "id": "ab7aa651-18d1-4b6c-ab83-6a1e1fe5e510",
   "metadata": {},
   "source": [
    "5. What do the keyword arguments delimiter and line terminator do?"
   ]
  },
  {
   "cell_type": "markdown",
   "id": "00c19b4d-8fd2-4961-aaac-074f399a348c",
   "metadata": {},
   "source": [
    "Ans : \n",
    "\n",
    "The delimiter arguments changes strings usedd to seperate cells in a row.\n",
    "\n",
    "The line terminator argument changes the string used to seperate rows."
   ]
  },
  {
   "cell_type": "markdown",
   "id": "61d032d4-825f-4b49-9a79-12277182ed72",
   "metadata": {},
   "source": []
  },
  {
   "cell_type": "markdown",
   "id": "1c3ed9b3-8d11-4e41-b2a0-f457bcf7a1c0",
   "metadata": {},
   "source": [
    "6. What function takes a string of JSON data and returns a Python data structure?"
   ]
  },
  {
   "cell_type": "markdown",
   "id": "1be21fe0-f1a9-43ef-b87e-1c76d736d2c2",
   "metadata": {},
   "source": [
    "Ans : json.loads()"
   ]
  },
  {
   "cell_type": "markdown",
   "id": "70d74a2e-88a3-41d0-b9ba-bd1dbe70224b",
   "metadata": {},
   "source": []
  },
  {
   "cell_type": "markdown",
   "id": "66694199-37d7-4ba0-b476-f075ab5a9d95",
   "metadata": {},
   "source": [
    "7. What function takes a Python data structure and returns a string of JSON data?"
   ]
  },
  {
   "cell_type": "markdown",
   "id": "0fed2eff-4370-4bb4-881c-683a382e0e5f",
   "metadata": {},
   "source": [
    "Ans : json.dumps()"
   ]
  }
 ],
 "metadata": {
  "kernelspec": {
   "display_name": "Python 3 (ipykernel)",
   "language": "python",
   "name": "python3"
  },
  "language_info": {
   "codemirror_mode": {
    "name": "ipython",
    "version": 3
   },
   "file_extension": ".py",
   "mimetype": "text/x-python",
   "name": "python",
   "nbconvert_exporter": "python",
   "pygments_lexer": "ipython3",
   "version": "3.10.8"
  }
 },
 "nbformat": 4,
 "nbformat_minor": 5
}
