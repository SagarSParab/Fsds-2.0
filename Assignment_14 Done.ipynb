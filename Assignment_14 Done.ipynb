{
 "cells": [
  {
   "cell_type": "markdown",
   "id": "4940f6b4-73dc-49b2-955c-b93d242f117c",
   "metadata": {},
   "source": [
    "                           Assignment no. 14"
   ]
  },
  {
   "cell_type": "markdown",
   "id": "0bc5f9d6-3ac0-44eb-a02f-834ff0bc0d0d",
   "metadata": {},
   "source": []
  },
  {
   "cell_type": "markdown",
   "id": "32a4d13e-2988-4721-afbe-5cd3849895a4",
   "metadata": {},
   "source": [
    "1. What does RGBA stand for?"
   ]
  },
  {
   "cell_type": "markdown",
   "id": "6fada118-f903-4e17-82e1-4ac6f3e569d4",
   "metadata": {},
   "source": [
    "Ans :     RGBA  stands for Red, Green, Blue and  Alpha ( transparency ) in the color.\n",
    "\n",
    "An RGBA value is a tuple of 4 integers, each ranging from 0 to 255. The four integers corresponds to the amount of red, green, blue and alpha(transparency) in the color.\n",
    "\n"
   ]
  },
  {
   "cell_type": "markdown",
   "id": "09495147-ba12-43a2-8b2e-ecbd61e27269",
   "metadata": {},
   "source": []
  },
  {
   "cell_type": "markdown",
   "id": "2d1ec973-29bd-40e6-ab09-5661ba687416",
   "metadata": {},
   "source": [
    "2. From the Pillow module, how do you get the RGBA value of any images?"
   ]
  },
  {
   "cell_type": "code",
   "execution_count": 1,
   "id": "dde15301-958b-4844-a4f7-5113eded0272",
   "metadata": {},
   "outputs": [
    {
     "data": {
      "text/plain": [
       "(255, 0, 0, 255)"
      ]
     },
     "execution_count": 1,
     "metadata": {},
     "output_type": "execute_result"
    }
   ],
   "source": [
    "from PIL import ImageColor\n",
    "ImageColor.getcolor('green', 'RGBA')\n",
    "ImageColor.getcolor('red', 'RGBA')"
   ]
  },
  {
   "cell_type": "markdown",
   "id": "72af80d9-0ad2-4df4-94ba-84d5d5751d60",
   "metadata": {},
   "source": []
  },
  {
   "cell_type": "markdown",
   "id": "018f12c2-32ff-4242-b703-fdf4c3cc36ac",
   "metadata": {},
   "source": [
    "3. What is a box tuple, and how does it work?"
   ]
  },
  {
   "cell_type": "markdown",
   "id": "a9c33c99-7aaa-4707-b593-0383d4484a73",
   "metadata": {},
   "source": [
    "Ans :   A Box tuple is a tuple value of four integers : the left edge x-coordinate, the top edge x-coordinate, the width and the height respectively."
   ]
  },
  {
   "cell_type": "markdown",
   "id": "d2deb855-d208-4632-985e-0a4b7806440a",
   "metadata": {},
   "source": []
  },
  {
   "cell_type": "markdown",
   "id": "0238396d-71ab-41e5-a236-f1adb6aeccd4",
   "metadata": {},
   "source": [
    "4. Use your image and load in notebook then, How can you find out the width and height of an\n",
    "Image object?"
   ]
  },
  {
   "cell_type": "code",
   "execution_count": null,
   "id": "4a9c68ec-0299-45ae-b1b0-0a414b3bf4ff",
   "metadata": {},
   "outputs": [],
   "source": [
    "from google.colab import files\n",
    "uploaded = files.upload()"
   ]
  },
  {
   "cell_type": "markdown",
   "id": "7ae2466f-403c-4419-a6b4-a36fdb881a4d",
   "metadata": {},
   "source": [
    "Upload widget is only available when the cell has been executed in the current browser session. Please return this cell to enable.\n",
    "saving sagar.jpg to sagar.jpg"
   ]
  },
  {
   "cell_type": "code",
   "execution_count": null,
   "id": "15e2d7f3-4a0f-47b4-bddb-317c0217e031",
   "metadata": {},
   "outputs": [],
   "source": [
    "from PIL import Image\n",
    "myImg = Image.open('sagar.jpg')\n",
    "w,h = myImg.size\n",
    "w,h"
   ]
  },
  {
   "cell_type": "code",
   "execution_count": null,
   "id": "c60e2293-99b9-465d-9950-ba2cb5386e88",
   "metadata": {},
   "outputs": [],
   "source": []
  },
  {
   "cell_type": "markdown",
   "id": "c1bcbf35-ac50-4825-8cc0-5638369454cb",
   "metadata": {},
   "source": [
    "5. What method would you call to get Image object for a 100×100 image, excluding the lower-left\n",
    "quarter of it?"
   ]
  },
  {
   "cell_type": "markdown",
   "id": "d1ce9978-1fc9-446f-8eb5-a2987c7494b8",
   "metadata": {},
   "source": [
    "Ans :  \n",
    "imageObject.crop((0,50,50,50))"
   ]
  },
  {
   "cell_type": "markdown",
   "id": "24ea8578-5e7f-4d4d-a8ab-4054e99c73e6",
   "metadata": {},
   "source": []
  },
  {
   "cell_type": "markdown",
   "id": "08516b87-6608-4bec-8429-9bf2540de04e",
   "metadata": {},
   "source": [
    "6. After making changes to an Image object, how could you save it as an image file?"
   ]
  },
  {
   "cell_type": "markdown",
   "id": "563d1460-61d1-4d59-8c75-4ea5032ed94e",
   "metadata": {},
   "source": [
    "Ans :  By calling imageObj.save('new_filename.png') method of the image object."
   ]
  },
  {
   "cell_type": "markdown",
   "id": "0262d78b-eee4-4d19-9605-f856ddda9ebd",
   "metadata": {},
   "source": []
  },
  {
   "cell_type": "markdown",
   "id": "bbdd769c-5921-4641-b0a3-ff6912e15a35",
   "metadata": {},
   "source": [
    "7. What module contains Pillow’s shape-drawing code?"
   ]
  },
  {
   "cell_type": "markdown",
   "id": "3b83efee-9d3d-4c0e-b62b-adc220009335",
   "metadata": {},
   "source": [
    "Ans :  The ImageDraw module contains code to draw on images"
   ]
  },
  {
   "cell_type": "markdown",
   "id": "cdbceb4e-d5f6-4eaf-b9a4-ae40bf0b03d8",
   "metadata": {},
   "source": []
  },
  {
   "cell_type": "markdown",
   "id": "213f52aa-54e6-4e85-9fbd-27db0f7edc1b",
   "metadata": {},
   "source": [
    "8. Image objects do not have drawing methods. What kind of object does? How do you get this kind\n",
    "of object?"
   ]
  },
  {
   "cell_type": "markdown",
   "id": "af57bcec-8db4-4e94-8201-9b90ef5995b8",
   "metadata": {},
   "source": [
    "Ans : ImageDraw Objects have shape-drawing methods such as point(), line(), or rectangle().\n",
    "They are returned by passing the image object to the imageDraw.Draw() function"
   ]
  },
  {
   "cell_type": "markdown",
   "id": "38bc35d0-1301-4b0a-a912-b6b25788992e",
   "metadata": {},
   "source": []
  }
 ],
 "metadata": {
  "kernelspec": {
   "display_name": "Python 3 (ipykernel)",
   "language": "python",
   "name": "python3"
  },
  "language_info": {
   "codemirror_mode": {
    "name": "ipython",
    "version": 3
   },
   "file_extension": ".py",
   "mimetype": "text/x-python",
   "name": "python",
   "nbconvert_exporter": "python",
   "pygments_lexer": "ipython3",
   "version": "3.10.8"
  }
 },
 "nbformat": 4,
 "nbformat_minor": 5
}
