{
 "cells": [
  {
   "cell_type": "markdown",
   "id": "ae93f6d7-3491-4c41-a207-ef108bd1696b",
   "metadata": {},
   "source": [
    "                             Assignment no. 15"
   ]
  },
  {
   "cell_type": "markdown",
   "id": "62f0affd-1f71-4be4-99ed-38ae74c28365",
   "metadata": {},
   "source": []
  },
  {
   "cell_type": "markdown",
   "id": "333542ec-5e92-4628-bf58-c7b12f4c63d4",
   "metadata": {},
   "source": [
    "1. How many seconds are in an hour? Use the interactive interpreter as a calculator and multiply the\n",
    "number of seconds in a minute (60) by the number of minutes in an hour (also 60)."
   ]
  },
  {
   "cell_type": "code",
   "execution_count": 1,
   "id": "dbad191b-bbd5-4ca0-892b-a2574000fb63",
   "metadata": {},
   "outputs": [
    {
     "data": {
      "text/plain": [
       "3600"
      ]
     },
     "execution_count": 1,
     "metadata": {},
     "output_type": "execute_result"
    }
   ],
   "source": [
    "60*60"
   ]
  },
  {
   "cell_type": "markdown",
   "id": "cd32580c-7d06-4860-bd04-7e61027af8a7",
   "metadata": {},
   "source": []
  },
  {
   "cell_type": "markdown",
   "id": "1d01a0b0-3e9d-4f64-8ff4-18454f8a3ac2",
   "metadata": {},
   "source": [
    "2. Assign the result from the previous task (seconds in an hour) to a variable called\n",
    "seconds_per_hour."
   ]
  },
  {
   "cell_type": "code",
   "execution_count": 2,
   "id": "b9ca7324-7d65-4361-90a1-fec85b23bee1",
   "metadata": {},
   "outputs": [
    {
     "data": {
      "text/plain": [
       "3600"
      ]
     },
     "execution_count": 2,
     "metadata": {},
     "output_type": "execute_result"
    }
   ],
   "source": [
    "seconds_per_hour = 60*60\n",
    "seconds_per_hour"
   ]
  },
  {
   "cell_type": "markdown",
   "id": "04ae07d0-80b6-4507-bf9e-a1097025b0fc",
   "metadata": {},
   "source": []
  },
  {
   "cell_type": "markdown",
   "id": "0fb6f2b6-0f34-4085-bd88-a03ba796cb24",
   "metadata": {},
   "source": [
    "3. How many seconds do you think there are in a day? Make use of the variables seconds per hour\n",
    "and minutes per hour."
   ]
  },
  {
   "cell_type": "code",
   "execution_count": 3,
   "id": "c9ffce6a-2921-4c12-b217-3ce8d44c75be",
   "metadata": {},
   "outputs": [
    {
     "data": {
      "text/plain": [
       "86400"
      ]
     },
     "execution_count": 3,
     "metadata": {},
     "output_type": "execute_result"
    }
   ],
   "source": [
    "one_day = 24\n",
    "seconds_in_a_day = 24 * seconds_per_hour\n",
    "seconds_in_a_day"
   ]
  },
  {
   "cell_type": "markdown",
   "id": "8d9d34b9-4a03-4840-9707-1e5fe763e594",
   "metadata": {},
   "source": []
  },
  {
   "cell_type": "markdown",
   "id": "c21c247b-6098-4deb-a22f-d7f451a6bd50",
   "metadata": {},
   "source": [
    "4. Calculate seconds per day again, but this time save the result in a variable called seconds_per_day"
   ]
  },
  {
   "cell_type": "code",
   "execution_count": 5,
   "id": "ad0a2b0b-0512-4996-ad77-4eedc563c8e6",
   "metadata": {},
   "outputs": [
    {
     "data": {
      "text/plain": [
       "86400"
      ]
     },
     "execution_count": 5,
     "metadata": {},
     "output_type": "execute_result"
    }
   ],
   "source": [
    "seconds_per_day = 24 * seconds_per_hour\n",
    "seconds_per_day"
   ]
  },
  {
   "cell_type": "markdown",
   "id": "e0bb2cfb-80f3-4d8e-b2f6-d7312be935e5",
   "metadata": {},
   "source": []
  },
  {
   "cell_type": "markdown",
   "id": "3de074c8-a985-42db-b883-de50231928a5",
   "metadata": {},
   "source": [
    "5. Divide seconds_per_day by seconds_per_hour. Use floating-point (/) division."
   ]
  },
  {
   "cell_type": "code",
   "execution_count": 6,
   "id": "a0a433eb-210e-4b92-b831-58a2ce79755a",
   "metadata": {},
   "outputs": [
    {
     "data": {
      "text/plain": [
       "24.0"
      ]
     },
     "execution_count": 6,
     "metadata": {},
     "output_type": "execute_result"
    }
   ],
   "source": [
    "seconds_per_day/seconds_per_hour"
   ]
  },
  {
   "cell_type": "markdown",
   "id": "e7e5d822-95eb-44d4-b560-ad85c3ab4462",
   "metadata": {},
   "source": []
  },
  {
   "cell_type": "markdown",
   "id": "1f0934e4-02ec-401d-bc23-36a1d90d00bf",
   "metadata": {},
   "source": [
    "6. Divide seconds_per_day by seconds_per_hour, using integer (//) division. Did this number agree\n",
    "with the floating-point value from the previous question, aside from the final .0?"
   ]
  },
  {
   "cell_type": "code",
   "execution_count": 7,
   "id": "c6a860d6-f159-42e5-a2da-a03b463fd150",
   "metadata": {},
   "outputs": [
    {
     "data": {
      "text/plain": [
       "24"
      ]
     },
     "execution_count": 7,
     "metadata": {},
     "output_type": "execute_result"
    }
   ],
   "source": [
    "# yes this number agrees \n",
    "\n",
    "seconds_per_day//seconds_per_hour"
   ]
  },
  {
   "cell_type": "markdown",
   "id": "553daf9f-af63-4571-a2d8-6c89d66bc600",
   "metadata": {},
   "source": []
  },
  {
   "cell_type": "markdown",
   "id": "521ac568-68d0-43ca-b173-0cec8e23adaf",
   "metadata": {},
   "source": [
    "7. Write a generator, genPrimes, that returns the sequence of prime numbers on successive calls to\n",
    "its next() method: 2, 3, 5, 7, 11, ..."
   ]
  },
  {
   "cell_type": "code",
   "execution_count": null,
   "id": "ea3ba0d0-d032-42e3-9304-d139e554bcc4",
   "metadata": {},
   "outputs": [],
   "source": [
    "def genPrimes():\n",
    "    n = 2\n",
    "    primes = []\n",
    "    while True:\n",
    "        for p in primes:\n",
    "            if n % p == 0:\n",
    "                break\n",
    "            \n",
    "            else:\n",
    "                primes"
   ]
  }
 ],
 "metadata": {
  "kernelspec": {
   "display_name": "Python 3 (ipykernel)",
   "language": "python",
   "name": "python3"
  },
  "language_info": {
   "codemirror_mode": {
    "name": "ipython",
    "version": 3
   },
   "file_extension": ".py",
   "mimetype": "text/x-python",
   "name": "python",
   "nbconvert_exporter": "python",
   "pygments_lexer": "ipython3",
   "version": "3.10.8"
  }
 },
 "nbformat": 4,
 "nbformat_minor": 5
}
