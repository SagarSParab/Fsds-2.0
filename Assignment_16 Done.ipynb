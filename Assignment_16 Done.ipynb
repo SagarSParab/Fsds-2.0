{
 "cells": [
  {
   "cell_type": "markdown",
   "id": "83059afb-16f8-42c6-a9d3-6ad109e084d8",
   "metadata": {},
   "source": [
    "                        Assignment no. 16"
   ]
  },
  {
   "cell_type": "markdown",
   "id": "187be32d-ece2-4bb0-9b10-c3187eacf6e8",
   "metadata": {},
   "source": []
  },
  {
   "cell_type": "markdown",
   "id": "54fa56d2-18b7-4d12-b88f-429308672ec0",
   "metadata": {},
   "source": [
    "1. Create a list called years_list, starting with the year of your birth, and each year thereafter until\n",
    "the year of your fifth birthday. For example, if you were born in 1980. the list would be years_list =\n",
    "[1980, 1981, 1982, 1983, 1984, 1985]."
   ]
  },
  {
   "cell_type": "code",
   "execution_count": 1,
   "id": "cb46f58a-f695-4ffb-925c-9cd2ceb43304",
   "metadata": {},
   "outputs": [
    {
     "data": {
      "text/plain": [
       "[1997, 1998, 1999, 2000, 2001, 2002]"
      ]
     },
     "execution_count": 1,
     "metadata": {},
     "output_type": "execute_result"
    }
   ],
   "source": [
    "years_list = [ i for i in range(1997, 1997+6)]\n",
    "years_list "
   ]
  },
  {
   "cell_type": "markdown",
   "id": "7e77dfc0-a802-456f-bfb5-2a95b18f1dff",
   "metadata": {},
   "source": []
  },
  {
   "cell_type": "markdown",
   "id": "7ab46908-352a-485d-a9b8-4994e7bc0357",
   "metadata": {},
   "source": [
    "2. In which year in years_list was your third birthday? Remember, you were 0 years of age for your\n",
    "first year."
   ]
  },
  {
   "cell_type": "code",
   "execution_count": 2,
   "id": "c52936a6-37f0-4ee5-9f0c-31bbbad55242",
   "metadata": {},
   "outputs": [
    {
     "data": {
      "text/plain": [
       "2000"
      ]
     },
     "execution_count": 2,
     "metadata": {},
     "output_type": "execute_result"
    }
   ],
   "source": [
    "years_list[3]"
   ]
  },
  {
   "cell_type": "markdown",
   "id": "7f5a3597-3df8-4bc1-b711-7749c2f8d44f",
   "metadata": {},
   "source": []
  },
  {
   "cell_type": "markdown",
   "id": "a64f6f65-5777-4814-8cb0-051bfb774c2a",
   "metadata": {},
   "source": [
    "3. In the years list, which year were you the oldest?"
   ]
  },
  {
   "cell_type": "code",
   "execution_count": 3,
   "id": "7797fbbc-0db6-4fa4-a18b-27270aff8269",
   "metadata": {},
   "outputs": [
    {
     "data": {
      "text/plain": [
       "2002"
      ]
     },
     "execution_count": 3,
     "metadata": {},
     "output_type": "execute_result"
    }
   ],
   "source": [
    "max(years_list)"
   ]
  },
  {
   "cell_type": "markdown",
   "id": "7e89b92b-d8db-47ee-a926-71e03a4e58b6",
   "metadata": {},
   "source": []
  },
  {
   "cell_type": "markdown",
   "id": "a535f854-d75a-4cf6-89ba-8dd0af9b61e3",
   "metadata": {},
   "source": [
    "4. Make a list called things with these three strings as elements: 'mozzarella', 'cinderella','salmonella'."
   ]
  },
  {
   "cell_type": "code",
   "execution_count": 7,
   "id": "1141b90a-5228-4781-83c1-313a0269d72f",
   "metadata": {},
   "outputs": [
    {
     "data": {
      "text/plain": [
       "['mozzarella', 'cindrella', 'salmonella']"
      ]
     },
     "execution_count": 7,
     "metadata": {},
     "output_type": "execute_result"
    }
   ],
   "source": [
    "things = list( ['mozzarella', 'cindrella', 'salmonella'])\n",
    "things"
   ]
  },
  {
   "cell_type": "markdown",
   "id": "1f0bf1d0-1c66-452d-9f57-b0a02d6e0207",
   "metadata": {},
   "source": []
  },
  {
   "cell_type": "markdown",
   "id": "7e10bc16-5f68-46e3-b066-48bf44d360fb",
   "metadata": {},
   "source": [
    "5. Capitalize the element in things that refers to a person and then print the list. Did it change the\n",
    "element in the list?"
   ]
  },
  {
   "cell_type": "code",
   "execution_count": 8,
   "id": "0a6eae75-9cf4-4cc6-b016-491dde02e8b0",
   "metadata": {},
   "outputs": [
    {
     "name": "stdout",
     "output_type": "stream",
     "text": [
      "Mozzarella\n",
      "Cindrella\n",
      "Salmonella\n"
     ]
    },
    {
     "data": {
      "text/plain": [
       "['mozzarella', 'cindrella', 'salmonella']"
      ]
     },
     "execution_count": 8,
     "metadata": {},
     "output_type": "execute_result"
    }
   ],
   "source": [
    "for i in things:\n",
    "    print(i.capitalize())\n",
    "things \n",
    "\n",
    "# capitalize() will not update the original values."
   ]
  },
  {
   "cell_type": "markdown",
   "id": "0b5804bb-c3b3-4007-ac99-a817c139a223",
   "metadata": {},
   "source": []
  },
  {
   "cell_type": "markdown",
   "id": "763c6b44-4971-4266-ba3d-4170d4b5708a",
   "metadata": {},
   "source": [
    "6. Make a surprise list with the elements &quot;Groucho,&quot; &quot;Chico,&quot; and &quot;Harpo.&quot;"
   ]
  },
  {
   "cell_type": "code",
   "execution_count": 9,
   "id": "a2d9448f-c93f-4ace-ab3b-8f48f74293d5",
   "metadata": {},
   "outputs": [
    {
     "data": {
      "text/plain": [
       "['Groucho', 'Chicho', 'Harpo']"
      ]
     },
     "execution_count": 9,
     "metadata": {},
     "output_type": "execute_result"
    }
   ],
   "source": [
    "surprise_list = [\"Groucho\", \"Chicho\", \"Harpo\"]\n",
    "surprise_list"
   ]
  },
  {
   "cell_type": "markdown",
   "id": "5ea1a3bb-5fbb-4a5b-b89b-b5f9216e4b68",
   "metadata": {},
   "source": []
  },
  {
   "cell_type": "markdown",
   "id": "087ff0e3-0c98-4d76-b281-8caeab85e9ae",
   "metadata": {},
   "source": [
    "7. Lowercase the last element of the surprise list, reverse it, and then capitalize it."
   ]
  },
  {
   "cell_type": "code",
   "execution_count": 10,
   "id": "49bfac03-d992-430a-81aa-d9a766e76523",
   "metadata": {},
   "outputs": [
    {
     "data": {
      "text/plain": [
       "'harpo'"
      ]
     },
     "execution_count": 10,
     "metadata": {},
     "output_type": "execute_result"
    }
   ],
   "source": [
    "surprise_list[-1].lower()"
   ]
  },
  {
   "cell_type": "code",
   "execution_count": 15,
   "id": "7f879f72-2581-4a89-a3ee-76fab1ab9154",
   "metadata": {},
   "outputs": [
    {
     "data": {
      "text/plain": [
       "'opraH'"
      ]
     },
     "execution_count": 15,
     "metadata": {},
     "output_type": "execute_result"
    }
   ],
   "source": [
    "surprise_list[-1][::-1]"
   ]
  },
  {
   "cell_type": "code",
   "execution_count": 16,
   "id": "480ef28f-b553-4c38-aed6-4a0a433c8124",
   "metadata": {},
   "outputs": [
    {
     "data": {
      "text/plain": [
       "'OPRAH'"
      ]
     },
     "execution_count": 16,
     "metadata": {},
     "output_type": "execute_result"
    }
   ],
   "source": [
    "surprise_list[-1][::-1].upper()"
   ]
  },
  {
   "cell_type": "markdown",
   "id": "67b66c2f-eec3-480e-a992-fe3b8dd6c012",
   "metadata": {},
   "source": []
  },
  {
   "cell_type": "markdown",
   "id": "3d518b6a-87f3-4071-968e-805d8276aff0",
   "metadata": {},
   "source": [
    "8. Make an English-to-French dictionary called e2f and print it. Here are your starter words: dog is\n",
    "chien, cat is chat, and walrus is morse."
   ]
  },
  {
   "cell_type": "code",
   "execution_count": 17,
   "id": "3c8b9416-7cca-48af-b4b4-263d8a8ae201",
   "metadata": {},
   "outputs": [],
   "source": [
    "e2f = { 'dog' : 'chien', 'cat' : 'chat', 'walrus' : 'morse'}"
   ]
  },
  {
   "cell_type": "markdown",
   "id": "8abf6102-a5fd-4578-a1dd-1caa2f0da36c",
   "metadata": {},
   "source": []
  },
  {
   "cell_type": "markdown",
   "id": "46e7eb0d-f9e5-4cbe-bdec-859084b1d955",
   "metadata": {},
   "source": [
    "9. Write the French word for walrus in your three-word dictionary e2f."
   ]
  },
  {
   "cell_type": "code",
   "execution_count": 18,
   "id": "6a0a7231-1dd4-4c1f-9c40-cdc502df0985",
   "metadata": {},
   "outputs": [
    {
     "data": {
      "text/plain": [
       "'morse'"
      ]
     },
     "execution_count": 18,
     "metadata": {},
     "output_type": "execute_result"
    }
   ],
   "source": [
    "e2f['walrus']"
   ]
  },
  {
   "cell_type": "markdown",
   "id": "c8ef95cb-5c8c-4ea8-b53c-86a7144fd371",
   "metadata": {},
   "source": []
  },
  {
   "cell_type": "markdown",
   "id": "8d3726ac-b464-41c2-8b12-46972de65392",
   "metadata": {},
   "source": [
    "10. Make a French-to-English dictionary called f2e from e2f. Use the items method."
   ]
  },
  {
   "cell_type": "code",
   "execution_count": 20,
   "id": "0a8853b4-6fa6-4d73-a14b-59c68fb5e600",
   "metadata": {},
   "outputs": [
    {
     "data": {
      "text/plain": [
       "{'chien': 'dog', 'chat': 'cat', 'morse': 'walrus'}"
      ]
     },
     "execution_count": 20,
     "metadata": {},
     "output_type": "execute_result"
    }
   ],
   "source": [
    "f2e = dict((key,value) for value, key in e2f.items())\n",
    "f2e"
   ]
  },
  {
   "cell_type": "markdown",
   "id": "95682751-e362-46b8-8a0c-9e19d3557838",
   "metadata": {},
   "source": []
  },
  {
   "cell_type": "markdown",
   "id": "e75a0eb3-6263-474a-be91-52aa12f81c46",
   "metadata": {},
   "source": [
    "11. Print the English version of the French word chien using f2e."
   ]
  },
  {
   "cell_type": "code",
   "execution_count": 21,
   "id": "9034bd69-d32d-4019-a8fc-cc0d23d51ea6",
   "metadata": {},
   "outputs": [
    {
     "data": {
      "text/plain": [
       "'dog'"
      ]
     },
     "execution_count": 21,
     "metadata": {},
     "output_type": "execute_result"
    }
   ],
   "source": [
    "f2e['chien']"
   ]
  },
  {
   "cell_type": "markdown",
   "id": "f9318fda-f19a-47bf-acd6-66e06b4291f8",
   "metadata": {},
   "source": []
  },
  {
   "cell_type": "markdown",
   "id": "934c8d1c-0ec9-4eab-93da-7629e6f176b3",
   "metadata": {},
   "source": [
    "12. Make and print a set of English words from the keys in e2f."
   ]
  },
  {
   "cell_type": "code",
   "execution_count": 24,
   "id": "7b263379-cc5b-4a1f-a867-e9662fe8586c",
   "metadata": {},
   "outputs": [
    {
     "data": {
      "text/plain": [
       "dict_keys(['dog', 'cat', 'walrus'])"
      ]
     },
     "execution_count": 24,
     "metadata": {},
     "output_type": "execute_result"
    }
   ],
   "source": [
    "e2f.keys()"
   ]
  },
  {
   "cell_type": "markdown",
   "id": "491cf586-6d12-493d-aea1-7373eab8c5d4",
   "metadata": {},
   "source": []
  },
  {
   "cell_type": "markdown",
   "id": "a54b46b7-7de5-404c-b65f-1aa4133f67e8",
   "metadata": {},
   "source": [
    "13. Make a multilevel dictionary called life. Use these strings for the topmost keys: &#39;animals&#39;, &#39;plants&#39;,\n",
    "and &#39;other&#39;. Make the &#39;animals&#39; key refer to another dictionary with the keys &#39;cats&#39;, &#39;octopi&#39;, and\n",
    "&#39;emus&#39;. Make the &#39;cats&#39; key refer to a list of strings with the values &#39;Henri&#39;, &#39;Grumpy&#39;, and &#39;Lucy&#39;.\n",
    "Make all the other keys refer to empty dictionaries."
   ]
  },
  {
   "cell_type": "code",
   "execution_count": 32,
   "id": "407191e9-2327-44cc-b102-d0dda7bd57b6",
   "metadata": {},
   "outputs": [
    {
     "data": {
      "text/plain": [
       "{'animals': {'cats': ['Henri', 'Grumphy', 'Lucy'], 'octopi': '', 'emus': ''},\n",
       " 'plants': '',\n",
       " 'other': ''}"
      ]
     },
     "execution_count": 32,
     "metadata": {},
     "output_type": "execute_result"
    }
   ],
   "source": [
    "life = {'animals' : {'cats' : [ 'Henri', 'Grumphy', 'Lucy'] , 'octopi':'', 'emus':''}, 'plants':'', 'other':''}\n",
    "life"
   ]
  },
  {
   "cell_type": "markdown",
   "id": "dac343d0-baa3-401c-8666-de20a8c9563a",
   "metadata": {},
   "source": []
  },
  {
   "cell_type": "markdown",
   "id": "dea78158-40c5-428e-82e3-ab72a7f64279",
   "metadata": {},
   "source": [
    "14. Print the top-level keys of life."
   ]
  },
  {
   "cell_type": "code",
   "execution_count": 33,
   "id": "51b56676-83ee-40fb-987f-31ab0eedc2b7",
   "metadata": {},
   "outputs": [
    {
     "data": {
      "text/plain": [
       "dict_keys(['animals', 'plants', 'other'])"
      ]
     },
     "execution_count": 33,
     "metadata": {},
     "output_type": "execute_result"
    }
   ],
   "source": [
    "life.keys()"
   ]
  },
  {
   "cell_type": "markdown",
   "id": "9312a845-159e-4a16-9f58-3f1f20be66ce",
   "metadata": {},
   "source": []
  },
  {
   "cell_type": "markdown",
   "id": "eae71e92-0e49-4206-bb4a-8b87e4b9e3d7",
   "metadata": {},
   "source": [
    "15. Print the keys for life[&#39;animals&#39;]."
   ]
  },
  {
   "cell_type": "code",
   "execution_count": 34,
   "id": "f435e8dd-985d-4966-a1c2-a521fb3232a9",
   "metadata": {},
   "outputs": [
    {
     "data": {
      "text/plain": [
       "dict_keys(['cats', 'octopi', 'emus'])"
      ]
     },
     "execution_count": 34,
     "metadata": {},
     "output_type": "execute_result"
    }
   ],
   "source": [
    "life['animals'].keys()"
   ]
  },
  {
   "cell_type": "markdown",
   "id": "aca4e6d1-7171-4351-8057-06a71c674fde",
   "metadata": {},
   "source": []
  },
  {
   "cell_type": "markdown",
   "id": "0bb36bc8-a61a-434a-84df-133c54d6c086",
   "metadata": {},
   "source": [
    "16. Print the values for life[&#39;animals&#39;][&#39;cats&#39;]"
   ]
  },
  {
   "cell_type": "code",
   "execution_count": 35,
   "id": "2f010d2a-d215-43dd-9f8d-ea2d64ceb063",
   "metadata": {},
   "outputs": [
    {
     "data": {
      "text/plain": [
       "['Henri', 'Grumphy', 'Lucy']"
      ]
     },
     "execution_count": 35,
     "metadata": {},
     "output_type": "execute_result"
    }
   ],
   "source": [
    "life['animals']['cats']"
   ]
  },
  {
   "cell_type": "markdown",
   "id": "87053899-bde0-44b1-b2de-c366cffe1bba",
   "metadata": {},
   "source": []
  }
 ],
 "metadata": {
  "kernelspec": {
   "display_name": "Python 3 (ipykernel)",
   "language": "python",
   "name": "python3"
  },
  "language_info": {
   "codemirror_mode": {
    "name": "ipython",
    "version": 3
   },
   "file_extension": ".py",
   "mimetype": "text/x-python",
   "name": "python",
   "nbconvert_exporter": "python",
   "pygments_lexer": "ipython3",
   "version": "3.10.8"
  }
 },
 "nbformat": 4,
 "nbformat_minor": 5
}
