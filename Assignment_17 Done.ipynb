{
 "cells": [
  {
   "cell_type": "markdown",
   "id": "8554ab8f-6c0b-4934-b1eb-07b0532fea72",
   "metadata": {},
   "source": [
    "                        Assignment no. 17"
   ]
  },
  {
   "cell_type": "markdown",
   "id": "dd1a2fd7-4462-49c7-a787-4e2847189bcf",
   "metadata": {},
   "source": []
  },
  {
   "cell_type": "markdown",
   "id": "4c589b46-f97a-40d9-8c03-ba5655f9fb87",
   "metadata": {},
   "source": [
    "1. Assign the value 7 to the variable guess_me. Then, write the conditional tests (if, else, and elif) to\n",
    "print the string &#39;too low&#39; if guess_me is less than 7, &#39;too high&#39; if greater than 7, and &#39;just right&#39; if equal\n",
    "to 7."
   ]
  },
  {
   "cell_type": "code",
   "execution_count": 20,
   "id": "29ffc8a6-da32-4310-b82d-67d3f921f779",
   "metadata": {},
   "outputs": [
    {
     "name": "stdin",
     "output_type": "stream",
     "text": [
      "Enter a Value :  9\n"
     ]
    },
    {
     "name": "stdout",
     "output_type": "stream",
     "text": [
      "too high\n"
     ]
    }
   ],
   "source": [
    "guess_me = int(input(\"Enter a Value : \"))\n",
    "if guess_me == 7:\n",
    "    print('just right')\n",
    "elif guess_me > 7:\n",
    "    print('too high')\n",
    "else:\n",
    "    print('too low')"
   ]
  },
  {
   "cell_type": "code",
   "execution_count": null,
   "id": "d2f1be72-1e5f-4bac-9610-838974cc5ca2",
   "metadata": {},
   "outputs": [],
   "source": []
  },
  {
   "cell_type": "markdown",
   "id": "00ffdd66-0921-4451-bd26-f58843576ba1",
   "metadata": {},
   "source": [
    "2. Assign the value 7 to the variable guess_me and the value 1 to the variable start. Write a while loop that compares start with guess_me. Print too low if start is less than guess me. If start equals guess_me, print 'found it!' and exit the loop. If start is greater than guess_me, print 'oops' and exit the loop. Increment start at the end of the loop."
   ]
  },
  {
   "cell_type": "code",
   "execution_count": 5,
   "id": "bf2ba2c2-06e6-422d-804f-1e34e6c283ec",
   "metadata": {},
   "outputs": [
    {
     "name": "stdout",
     "output_type": "stream",
     "text": [
      "too low\n",
      "too low\n",
      "too low\n",
      "too low\n",
      "too low\n",
      "too low\n",
      "found it!\n"
     ]
    }
   ],
   "source": [
    "guess_me = 7\n",
    "start = 1\n",
    "\n",
    "while True:\n",
    "    if start < guess_me:\n",
    "        print('too low')\n",
    "    elif start == guess_me:\n",
    "        print('found it!')\n",
    "        break\n",
    "    else:\n",
    "        print('oops')\n",
    "        break\n",
    "    start += 1"
   ]
  },
  {
   "cell_type": "markdown",
   "id": "856fdd7b-2d15-4648-87cf-afb74eb900b2",
   "metadata": {},
   "source": []
  },
  {
   "cell_type": "markdown",
   "id": "78a87894-ab16-421a-96d5-e830656523c3",
   "metadata": {},
   "source": [
    "3. Print the following values of the list [3, 2, 1, 0] using a for loop."
   ]
  },
  {
   "cell_type": "code",
   "execution_count": 6,
   "id": "5313be0f-6fe2-48bc-821b-0f049c636836",
   "metadata": {},
   "outputs": [
    {
     "name": "stdout",
     "output_type": "stream",
     "text": [
      "3\n",
      "2\n",
      "1\n",
      "0\n"
     ]
    }
   ],
   "source": [
    "list = [ 3, 2, 1, 0]\n",
    "for i in list:\n",
    "    print(i)"
   ]
  },
  {
   "cell_type": "markdown",
   "id": "f23dd32b-5af9-49dc-840d-c26edd5daf3d",
   "metadata": {},
   "source": []
  },
  {
   "cell_type": "markdown",
   "id": "f4b9ed45-fa3a-44aa-b6fc-d67edc906edb",
   "metadata": {},
   "source": [
    "4. Use a list comprehension to make a list of the even numbers in range(10)"
   ]
  },
  {
   "cell_type": "code",
   "execution_count": 9,
   "id": "d0dfc6a9-0415-4965-83e8-5110fdde0228",
   "metadata": {},
   "outputs": [
    {
     "data": {
      "text/plain": [
       "[0, 2, 4, 6, 8]"
      ]
     },
     "execution_count": 9,
     "metadata": {},
     "output_type": "execute_result"
    }
   ],
   "source": [
    "even = [items for items in range(10) if items % 2 == 0]\n",
    "even "
   ]
  },
  {
   "cell_type": "markdown",
   "id": "b57c6e80-aca1-4725-a16c-77b72852e009",
   "metadata": {},
   "source": []
  },
  {
   "cell_type": "markdown",
   "id": "273cbf9e-fc38-45ba-b55c-37d8380f2654",
   "metadata": {},
   "source": [
    "5. Use a dictionary comprehension to create the dictionary squares. Use range(10) to return the\n",
    "keys, and use the square of each key as its value."
   ]
  },
  {
   "cell_type": "code",
   "execution_count": 10,
   "id": "5785643f-5e46-448e-ad0b-5abf00e4aac2",
   "metadata": {},
   "outputs": [
    {
     "data": {
      "text/plain": [
       "{0: 0, 1: 1, 2: 4, 3: 9, 4: 16, 5: 25, 6: 36, 7: 49, 8: 64, 9: 81}"
      ]
     },
     "execution_count": 10,
     "metadata": {},
     "output_type": "execute_result"
    }
   ],
   "source": [
    "squares = {num: num * num for num in range(10)}\n",
    "squares"
   ]
  },
  {
   "cell_type": "markdown",
   "id": "bff1f744-6a6a-4bcf-a862-621c920d1567",
   "metadata": {},
   "source": []
  },
  {
   "cell_type": "markdown",
   "id": "20222652-1502-487f-b264-583ebdc76501",
   "metadata": {},
   "source": [
    "6. Construct the set odd from the odd numbers in the range using a set comprehension (10)."
   ]
  },
  {
   "cell_type": "code",
   "execution_count": 11,
   "id": "14f3e800-3fc3-45aa-9ac2-f9f49edf8bcf",
   "metadata": {},
   "outputs": [
    {
     "data": {
      "text/plain": [
       "{1, 3, 5, 7, 9}"
      ]
     },
     "execution_count": 11,
     "metadata": {},
     "output_type": "execute_result"
    }
   ],
   "source": [
    "odd = { item for item in range(10) if item % 2 ==1}\n",
    "odd"
   ]
  },
  {
   "cell_type": "markdown",
   "id": "1dd54bd0-c0df-47b3-b782-e753d0bc7372",
   "metadata": {},
   "source": []
  },
  {
   "cell_type": "markdown",
   "id": "6def53ea-52a9-4de7-8e28-d5927047b8bf",
   "metadata": {},
   "source": [
    "7. Use a generator comprehension to return the string &#39;Got &#39; and a number for the numbers in\n",
    "range(10). Iterate through this by using a for loop."
   ]
  },
  {
   "cell_type": "code",
   "execution_count": 13,
   "id": "939ee952-e21f-4141-83d7-a449d3ab43bf",
   "metadata": {},
   "outputs": [
    {
     "name": "stdout",
     "output_type": "stream",
     "text": [
      "Got0\n",
      "Got1\n",
      "Got2\n",
      "Got3\n",
      "Got4\n",
      "Got5\n",
      "Got6\n",
      "Got7\n",
      "Got8\n",
      "Got9\n"
     ]
    }
   ],
   "source": [
    "string_generator = ('Got' + str(num) for num in range(10))\n",
    "for item in string_generator:\n",
    "    print(item)"
   ]
  },
  {
   "cell_type": "markdown",
   "id": "6f736dbe-d0b3-4832-8cce-febca9bd2717",
   "metadata": {},
   "source": []
  },
  {
   "cell_type": "markdown",
   "id": "e7687da8-0004-448b-8d34-91e22153ec8f",
   "metadata": {},
   "source": [
    "8. Define a function called good that returns the list [&#39;Harry&#39;, &#39;Ron&#39;, &#39;Hermione&#39;]."
   ]
  },
  {
   "cell_type": "code",
   "execution_count": 14,
   "id": "5cbd28ed-3b22-43f4-bc1e-1c9016dc426c",
   "metadata": {},
   "outputs": [
    {
     "data": {
      "text/plain": [
       "['Harry', 'Ron', 'Hermione']"
      ]
     },
     "execution_count": 14,
     "metadata": {},
     "output_type": "execute_result"
    }
   ],
   "source": [
    "def returnList():\n",
    "    return['Harry', 'Ron', 'Hermione']\n",
    "returnList()"
   ]
  },
  {
   "cell_type": "markdown",
   "id": "5b7c7e90-b9f8-4306-b1ea-051fe5780002",
   "metadata": {},
   "source": []
  },
  {
   "cell_type": "markdown",
   "id": "d544e04c-1d05-4a1d-b2aa-0bcf1568b407",
   "metadata": {},
   "source": [
    "9. Define a generator function called get_odds that returns the odd numbers from range(10). Use a\n",
    "for loop to find and print the third value returned."
   ]
  },
  {
   "cell_type": "code",
   "execution_count": 16,
   "id": "6ca218ae-010f-442c-8339-f1d3ac65cce3",
   "metadata": {},
   "outputs": [
    {
     "name": "stdout",
     "output_type": "stream",
     "text": [
      "The third odd number is 5\n"
     ]
    }
   ],
   "source": [
    "def get_odds():\n",
    "    for number in range(1, 10, 2):\n",
    "        yield number\n",
    "count = 1\n",
    "for number in get_odds():\n",
    "    if count == 3:\n",
    "        print(\"The third odd number is\", number)\n",
    "        break\n",
    "    count += 1"
   ]
  },
  {
   "cell_type": "markdown",
   "id": "0a21342e-c4dd-4608-9a72-1cc581a432b1",
   "metadata": {},
   "source": []
  },
  {
   "cell_type": "markdown",
   "id": "ff4fb568-a911-4065-8b00-1f643ac45d44",
   "metadata": {},
   "source": [
    "10. Define an exception called OopsException. Raise this exception to see what happens. Then write\n",
    "the code to catch this exception and print &#39;Caught an oops&#39;."
   ]
  },
  {
   "cell_type": "code",
   "execution_count": 18,
   "id": "21262adf-b173-45b9-be71-70bc6b2395e0",
   "metadata": {},
   "outputs": [
    {
     "name": "stdout",
     "output_type": "stream",
     "text": [
      "caught an oops\n"
     ]
    }
   ],
   "source": [
    "class OopsException(Exception):\n",
    "    pass\n",
    "\n",
    "def raiseException(num):\n",
    "    if num < 0:\n",
    "        raise OopsException(num)\n",
    "        \n",
    "\n",
    "try:\n",
    "    raiseException(-1)\n",
    "except OopsException as err:\n",
    "    print('caught an oops')\n",
    "    "
   ]
  },
  {
   "cell_type": "markdown",
   "id": "fdc5e33c-b755-44be-bd86-779831512822",
   "metadata": {},
   "source": []
  },
  {
   "cell_type": "markdown",
   "id": "b156e110-5f04-45d4-9b1f-fcda680cd61e",
   "metadata": {},
   "source": [
    "11. Use zip() to make a dictionary called movies that pairs these lists: titles = [&#39;Creature of Habit&#39;,\n",
    "&#39;Crewel Fate&#39;] and plots = [&#39;A nun turns into a monster&#39;, &#39;A haunted yarn shop&#39;]."
   ]
  },
  {
   "cell_type": "code",
   "execution_count": 19,
   "id": "449382ed-cd69-45d0-b09a-e6715d5bff5c",
   "metadata": {},
   "outputs": [
    {
     "name": "stdout",
     "output_type": "stream",
     "text": [
      "{'Creature of Habit': 'A nun turns into a monster', 'Crewel Fate': 'A haunted yarn shop'}\n"
     ]
    }
   ],
   "source": [
    "titles = ['Creature of Habit', 'Crewel Fate']\n",
    "plots = ['A nun turns into a monster', 'A haunted yarn shop']\n",
    "movies = dict(zip(titles, plots))\n",
    "print(movies)"
   ]
  },
  {
   "cell_type": "markdown",
   "id": "6bc4e539-e0ab-4ca9-8e74-7b3cda9a8467",
   "metadata": {},
   "source": []
  }
 ],
 "metadata": {
  "kernelspec": {
   "display_name": "Python 3 (ipykernel)",
   "language": "python",
   "name": "python3"
  },
  "language_info": {
   "codemirror_mode": {
    "name": "ipython",
    "version": 3
   },
   "file_extension": ".py",
   "mimetype": "text/x-python",
   "name": "python",
   "nbconvert_exporter": "python",
   "pygments_lexer": "ipython3",
   "version": "3.10.8"
  }
 },
 "nbformat": 4,
 "nbformat_minor": 5
}
