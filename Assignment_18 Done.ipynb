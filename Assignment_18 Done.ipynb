{
 "cells": [
  {
   "cell_type": "markdown",
   "id": "5bba602c-5f46-467b-86bc-47755f33bec1",
   "metadata": {},
   "source": [
    "                                 Assignment no. 18"
   ]
  },
  {
   "cell_type": "markdown",
   "id": "b3f520bd-0334-407d-bf92-c74cd0b0bb13",
   "metadata": {},
   "source": []
  },
  {
   "cell_type": "markdown",
   "id": "e3ee7e27-5d2e-427f-8d83-4317b04f0bd2",
   "metadata": {},
   "source": [
    "1. Create a zoo.py file first. Define the hours() function, which prints the string &#39;Open 9-5 daily&#39;.\n",
    "Then, use the interactive interpreter to import the zoo module and call its hours() function."
   ]
  },
  {
   "cell_type": "code",
   "execution_count": 24,
   "id": "12c3b1c7-a805-41e3-899f-ffbc2c48a5fc",
   "metadata": {},
   "outputs": [
    {
     "name": "stdout",
     "output_type": "stream",
     "text": [
      "Open 9-5 daily\n"
     ]
    }
   ],
   "source": [
    " import zoo\n",
    "    \n",
    "zoo.hours()"
   ]
  },
  {
   "cell_type": "markdown",
   "id": "6e50ca32-338c-4843-a8db-debe2808c793",
   "metadata": {},
   "source": []
  },
  {
   "cell_type": "markdown",
   "id": "86c1363b-d5b0-4631-8065-96597bce5388",
   "metadata": {},
   "source": [
    "2. In the interactive interpreter, import the zoo module as menagerie and call its hours() function."
   ]
  },
  {
   "cell_type": "code",
   "execution_count": null,
   "id": "66ea9ac7-6b56-4d29-bd54-b24fe012a5d6",
   "metadata": {},
   "outputs": [],
   "source": [
    "import zoo as menager"
   ]
  },
  {
   "cell_type": "markdown",
   "id": "5fe9a0c5-da18-4fa3-9142-8f077694158c",
   "metadata": {},
   "source": []
  },
  {
   "cell_type": "markdown",
   "id": "4c562a03-8cef-462a-b4e4-50fde9aeae8c",
   "metadata": {},
   "source": [
    "3. Using the interpreter, explicitly import and call the hours() function from zoo."
   ]
  },
  {
   "cell_type": "code",
   "execution_count": null,
   "id": "82a5d8ef-866b-4537-a608-59b2f805e2e1",
   "metadata": {},
   "outputs": [],
   "source": []
  },
  {
   "cell_type": "markdown",
   "id": "5611d101-bbb9-42a8-9e2a-1e967e7caef4",
   "metadata": {},
   "source": []
  },
  {
   "cell_type": "markdown",
   "id": "011d5fd1-28ee-48ba-8341-53e42ff1282f",
   "metadata": {},
   "source": [
    "4. Import the hours() function as info and call it."
   ]
  },
  {
   "cell_type": "code",
   "execution_count": null,
   "id": "82151185-ee36-4565-915a-aaf522b0992c",
   "metadata": {},
   "outputs": [],
   "source": []
  },
  {
   "cell_type": "markdown",
   "id": "30309c9d-0f02-4e88-a933-cccc25b60443",
   "metadata": {},
   "source": []
  },
  {
   "cell_type": "markdown",
   "id": "ecaa8bab-0dca-485c-82ad-0b11986c58a8",
   "metadata": {},
   "source": [
    "5. Create a plain dictionary with the key-value pairs &#39;a&#39;: 1, &#39;b&#39;: 2, and &#39;c&#39;: 3, and print it out."
   ]
  },
  {
   "cell_type": "code",
   "execution_count": 4,
   "id": "7d95d0cc-f9ce-44cc-8fbe-90b22d7fa72d",
   "metadata": {},
   "outputs": [
    {
     "data": {
      "text/plain": [
       "{'a': 1, 'b': 2, 'c': 3}"
      ]
     },
     "execution_count": 4,
     "metadata": {},
     "output_type": "execute_result"
    }
   ],
   "source": [
    "plain = {'a': 1, 'b': 2, 'c': 3}\n",
    "plain"
   ]
  },
  {
   "cell_type": "markdown",
   "id": "0947a399-ba62-45e9-ad61-6b90c9252282",
   "metadata": {},
   "source": []
  },
  {
   "cell_type": "markdown",
   "id": "971e9b7a-fda6-4760-93f6-2e2fb0017d7e",
   "metadata": {},
   "source": [
    "6. Make an OrderedDict called fancy from the same pairs listed in 5 and print it. Did it print in the\n",
    "same order as plain?"
   ]
  },
  {
   "cell_type": "code",
   "execution_count": 3,
   "id": "79d3c926-fb86-4ccb-92d9-b76c96ab24c7",
   "metadata": {},
   "outputs": [
    {
     "data": {
      "text/plain": [
       "OrderedDict([('a', 1), ('b', 2), ('c', 3)])"
      ]
     },
     "execution_count": 3,
     "metadata": {},
     "output_type": "execute_result"
    }
   ],
   "source": [
    "# yes\n",
    "from collections import OrderedDict\n",
    "fancy = OrderedDict([('a', 1), ('b', 2), ('c', 3)])\n",
    "fancy\n"
   ]
  },
  {
   "cell_type": "markdown",
   "id": "1ab18a30-4f55-4fe4-a018-0d03b6e510c8",
   "metadata": {},
   "source": []
  },
  {
   "cell_type": "markdown",
   "id": "a2147d57-3474-4cd9-a391-1ff3ad089040",
   "metadata": {},
   "source": [
    "7. Make a default dictionary called dict_of_lists and pass it the argument list. Make the list\n",
    "dict_of_lists[&#39;a&#39;] and append the value &#39;something for a&#39; to it in one assignment. Print\n",
    "dict_of_lists[&#39;a&#39;]."
   ]
  },
  {
   "cell_type": "code",
   "execution_count": 2,
   "id": "46cc0f33-172e-48f7-af37-c46c04e1948c",
   "metadata": {},
   "outputs": [
    {
     "data": {
      "text/plain": [
       "['something for a']"
      ]
     },
     "execution_count": 2,
     "metadata": {},
     "output_type": "execute_result"
    }
   ],
   "source": [
    "from collections import defaultdict\n",
    "dict_of_lists = defaultdict(list)\n",
    "dict_of_lists['a'].append('something for a')\n",
    "dict_of_lists['a']"
   ]
  },
  {
   "cell_type": "code",
   "execution_count": null,
   "id": "cdde4484-d9ba-4b44-97b7-335ee8446a79",
   "metadata": {},
   "outputs": [],
   "source": []
  },
  {
   "cell_type": "markdown",
   "id": "50a0846a-b8ba-42a8-830b-b3d94d242285",
   "metadata": {},
   "source": []
  }
 ],
 "metadata": {
  "kernelspec": {
   "display_name": "Python 3 (ipykernel)",
   "language": "python",
   "name": "python3"
  },
  "language_info": {
   "codemirror_mode": {
    "name": "ipython",
    "version": 3
   },
   "file_extension": ".py",
   "mimetype": "text/x-python",
   "name": "python",
   "nbconvert_exporter": "python",
   "pygments_lexer": "ipython3",
   "version": "3.10.8"
  }
 },
 "nbformat": 4,
 "nbformat_minor": 5
}
