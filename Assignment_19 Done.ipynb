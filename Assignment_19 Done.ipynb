{
 "cells": [
  {
   "cell_type": "markdown",
   "id": "4c7530bc-4723-400e-b1e3-dc82d449c183",
   "metadata": {},
   "source": [
    "                                            Assignment no. 19"
   ]
  },
  {
   "cell_type": "markdown",
   "id": "4944f119-498c-4199-8bb5-1f9b9c5c7841",
   "metadata": {},
   "source": []
  },
  {
   "cell_type": "markdown",
   "id": "f05f8b0c-1aad-4f57-95bf-2e00564000a1",
   "metadata": {},
   "source": [
    "1. Make a class called Thing with no contents and print it. Then, create an object called example\n",
    "from this class and also print it. Are the printed values the same or different?"
   ]
  },
  {
   "cell_type": "code",
   "execution_count": 8,
   "id": "501ced87-4684-45b7-ae26-274401641ca2",
   "metadata": {},
   "outputs": [],
   "source": [
    "class Thing:\n",
    "    pass"
   ]
  },
  {
   "cell_type": "code",
   "execution_count": 10,
   "id": "f384d424-ad7e-4834-bd36-4613cad406bb",
   "metadata": {},
   "outputs": [
    {
     "name": "stdout",
     "output_type": "stream",
     "text": [
      "<class '__main__.Thing'>\n"
     ]
    }
   ],
   "source": [
    "print(Thing)"
   ]
  },
  {
   "cell_type": "code",
   "execution_count": 11,
   "id": "1529b2b9-6e28-40a8-85a8-0b9e653a9519",
   "metadata": {},
   "outputs": [
    {
     "name": "stdout",
     "output_type": "stream",
     "text": [
      "<__main__.Things object at 0x7f66e0538a30>\n"
     ]
    }
   ],
   "source": [
    "example = Things()\n",
    "print(example)"
   ]
  },
  {
   "cell_type": "markdown",
   "id": "c90d3491-fa5c-4d7a-a371-3baaf837c43a",
   "metadata": {},
   "source": [
    "Here printed values are not same, it prints, class and object details."
   ]
  },
  {
   "cell_type": "markdown",
   "id": "a8a4eb57-5a97-4ad9-89fe-13bff72591d1",
   "metadata": {},
   "source": []
  },
  {
   "cell_type": "markdown",
   "id": "7831bec7-a4e8-453e-8e6b-93fa5c4726b1",
   "metadata": {},
   "source": [
    "2. Create a new class called Thing2 and add the value &#39;abc&#39; to the letters class attribute. Letters\n",
    "should be printed."
   ]
  },
  {
   "cell_type": "code",
   "execution_count": 13,
   "id": "d407e262-ac13-4dbf-be27-0f2dfa6c9c72",
   "metadata": {},
   "outputs": [
    {
     "data": {
      "text/plain": [
       "'abc'"
      ]
     },
     "execution_count": 13,
     "metadata": {},
     "output_type": "execute_result"
    }
   ],
   "source": [
    "class Thing2():\n",
    "    letters = 'abc'\n",
    "Thing2.letters"
   ]
  },
  {
   "cell_type": "markdown",
   "id": "64bcda0b-0ee2-45f2-8a2d-a980d61cdede",
   "metadata": {},
   "source": []
  },
  {
   "cell_type": "markdown",
   "id": "76c648cc-a820-42e0-bd7b-a1d850bb9d8d",
   "metadata": {},
   "source": [
    "3. Make yet another class called, of course, Thing3. This time, assign the value &#39;xyz&#39; to an instance\n",
    "(object) attribute called letters. Print letters. Do you need to make an object from the class to do\n",
    "this?"
   ]
  },
  {
   "cell_type": "code",
   "execution_count": 15,
   "id": "72e013d7-257e-49b4-9344-6823161598fd",
   "metadata": {},
   "outputs": [
    {
     "name": "stdout",
     "output_type": "stream",
     "text": [
      "xyz\n"
     ]
    }
   ],
   "source": [
    "class Thing3():\n",
    "    def __init__(self, letter):\n",
    "        self.letter = letter\n",
    "    def letters(self):\n",
    "        print(self.letter)\n",
    "Thing3('xyz').letters()"
   ]
  },
  {
   "cell_type": "markdown",
   "id": "91c11960-4864-4804-88e4-1d27f6f063eb",
   "metadata": {},
   "source": []
  },
  {
   "cell_type": "markdown",
   "id": "061bf9a1-c94e-4688-9ac0-f592f44645d6",
   "metadata": {},
   "source": [
    "4. Create an Element class with the instance attributes name, symbol, and number. Create a class\n",
    "object with the values &#39;Hydrogen,&#39; &#39;H,&#39; and 1."
   ]
  },
  {
   "cell_type": "code",
   "execution_count": 16,
   "id": "af12dcb5-371d-4c9b-a9f3-b58a5755ee3f",
   "metadata": {},
   "outputs": [],
   "source": [
    "\n",
    "class Element:\n",
    "    def __init__(self, name, symbol, number):\n",
    "        self.name = name\n",
    "        self.symbol = symbol\n",
    "        self.number = number\n",
    "    def printThem(self):\n",
    "        print(self.name, self.symbol, self.number)"
   ]
  },
  {
   "cell_type": "code",
   "execution_count": 17,
   "id": "b6030dbb-de07-4d0e-ae68-d97fae364e20",
   "metadata": {},
   "outputs": [
    {
     "data": {
      "text/plain": [
       "'Hydrogen'"
      ]
     },
     "execution_count": 17,
     "metadata": {},
     "output_type": "execute_result"
    }
   ],
   "source": [
    "obj = Element('Hydrogen', 'H', 1)\n",
    "obj.name"
   ]
  },
  {
   "cell_type": "markdown",
   "id": "2dcfd88b-fb28-4638-a17d-572558ffe938",
   "metadata": {},
   "source": []
  },
  {
   "cell_type": "markdown",
   "id": "ddd35270-a7a1-4f2d-9c1b-6d9d806b2251",
   "metadata": {},
   "source": [
    "5. Make a dictionary with these keys and values: &#39;name&#39;: &#39;Hydrogen&#39;, &#39;symbol&#39;: &#39;H&#39;, &#39;number&#39;: 1. Then,\n",
    "create an object called hydrogen from class Element using this dictionary."
   ]
  },
  {
   "cell_type": "code",
   "execution_count": 18,
   "id": "7f0ad534-d56a-4930-b85d-34848b216677",
   "metadata": {},
   "outputs": [
    {
     "data": {
      "text/plain": [
       "'H'"
      ]
     },
     "execution_count": 18,
     "metadata": {},
     "output_type": "execute_result"
    }
   ],
   "source": [
    "dict = { 'name': 'Hydrogen', 'symbol': 'H', 'number': 1}\n",
    "hydrogen = Element(**dict)       # using dictionary unpacking **\n",
    "hydrogen.symbol"
   ]
  },
  {
   "cell_type": "markdown",
   "id": "c6714fb9-fd2c-4b4a-aae7-10ddbe3c77f6",
   "metadata": {},
   "source": []
  },
  {
   "cell_type": "markdown",
   "id": "145f9ed3-772b-45fa-8120-d74a76fc8ad1",
   "metadata": {},
   "source": [
    "6. For the Element class, define a method called dump() that prints the values of the object’s\n",
    "attributes (name, symbol, and number). Create the hydrogen object from this new definition and\n",
    "use dump() to print its attributes."
   ]
  },
  {
   "cell_type": "code",
   "execution_count": 19,
   "id": "97b4cdce-ebd1-4f37-be07-72f5a4e01848",
   "metadata": {},
   "outputs": [],
   "source": [
    "\n",
    "class Element:\n",
    "    def __init__(self, name, symbol, number):\n",
    "        self.name = name\n",
    "        self.symbol = symbol\n",
    "        self.number = number\n",
    "    def dump(self):\n",
    "        print(self.name, self.symbol, self.number)\n",
    "        "
   ]
  },
  {
   "cell_type": "code",
   "execution_count": 20,
   "id": "98b9e69b-bb71-4e9d-a9c9-f07084541e8c",
   "metadata": {},
   "outputs": [
    {
     "name": "stdout",
     "output_type": "stream",
     "text": [
      "Hydrogen H 1\n"
     ]
    }
   ],
   "source": [
    "hydrogen = Element('Hydrogen', 'H', 1)\n",
    "hydrogen.dump()"
   ]
  },
  {
   "cell_type": "markdown",
   "id": "e0edad30-6243-4a81-99bb-f841daf48f9e",
   "metadata": {},
   "source": []
  },
  {
   "cell_type": "markdown",
   "id": "0c43fb6b-db5d-48e8-b7bc-97923ced51eb",
   "metadata": {},
   "source": [
    "7. Call print(hydrogen). In the definition of Element, change the name of method dump to __str__,\n",
    "create a new hydrogen object, and call print(hydrogen) again."
   ]
  },
  {
   "cell_type": "code",
   "execution_count": 24,
   "id": "ce2baf71-d905-47e4-afd7-91e82185e748",
   "metadata": {},
   "outputs": [],
   "source": [
    "\n",
    "class Element:\n",
    "    def __init__(self, name, symbol, number):\n",
    "        self.name = name\n",
    "        self.symbol = symbol\n",
    "        self.number = number\n",
    "    def __str__(self):\n",
    "        return ('name = %s, symbol = %s, number = %s' % (self.name, self.symbol, self.number))\n",
    "    \n",
    "    "
   ]
  },
  {
   "cell_type": "code",
   "execution_count": 25,
   "id": "45ed1054-8849-44a6-a731-efa43ee4e5aa",
   "metadata": {},
   "outputs": [
    {
     "name": "stdout",
     "output_type": "stream",
     "text": [
      "name = Hydrogen, symbol = H, number = 1\n"
     ]
    }
   ],
   "source": [
    "hydrogen = Element('Hydrogen', 'H', 1)\n",
    "print(hydrogen)"
   ]
  },
  {
   "cell_type": "markdown",
   "id": "eef86592-6f45-4038-b639-a9d5d2fdba65",
   "metadata": {},
   "source": []
  },
  {
   "cell_type": "markdown",
   "id": "8aba9072-1db0-49fa-99f9-938e3ee56fbd",
   "metadata": {},
   "source": [
    "8. Modify Element to make the attributes name, symbol, and number private. Define a getter\n",
    "property for each to return its value."
   ]
  },
  {
   "cell_type": "code",
   "execution_count": 14,
   "id": "c70b1ad2-a9c0-4ed9-9bb9-241280768b77",
   "metadata": {},
   "outputs": [],
   "source": [
    "\n",
    "class Element():\n",
    "    def __init__(self, name, symbol, number):\n",
    "        self.__name = name\n",
    "        self.__symbol = symbol\n",
    "        self.__number = number\n",
    "    @property\n",
    "    def name(self):\n",
    "        return (self.__name)\n",
    "    @property\n",
    "    def symbol(self):\n",
    "        return (self.__symbol)\n",
    "    @property\n",
    "    def number(self):\n",
    "        return (self.__number)\n",
    "    \n"
   ]
  },
  {
   "cell_type": "code",
   "execution_count": 15,
   "id": "3cf7e533-9c25-40cb-91a6-84131edff232",
   "metadata": {},
   "outputs": [
    {
     "data": {
      "text/plain": [
       "'Hydrogen'"
      ]
     },
     "execution_count": 15,
     "metadata": {},
     "output_type": "execute_result"
    }
   ],
   "source": [
    "hydrogen = Element('Hydrogen', 'H', 1)\n",
    "hydrogen.name"
   ]
  },
  {
   "cell_type": "markdown",
   "id": "7ff7b8f1-9c74-4373-aa8a-a7e2e3d9dbca",
   "metadata": {},
   "source": []
  },
  {
   "cell_type": "markdown",
   "id": "29a073a3-51ed-477d-bfab-edbdc136ebfd",
   "metadata": {},
   "source": [
    "9. Define three classes: Bear, Rabbit, and Octothorpe. For each, define only one method: eats(). This\n",
    "should return &#39;berries&#39; (Bear), &#39;clover&#39; (Rabbit), or &#39;campers&#39; (Octothorpe). Create one object from\n",
    "each and print what it eats."
   ]
  },
  {
   "cell_type": "code",
   "execution_count": 16,
   "id": "452dfea8-c195-498e-93eb-85c865757d40",
   "metadata": {},
   "outputs": [],
   "source": [
    "\n",
    "class Bear:\n",
    "    def eats():\n",
    "        print('berries')\n",
    "        \n",
    "class Rabit:\n",
    "    def eats():\n",
    "        print('clover')\n",
    "        \n",
    "class Octothrope:\n",
    "    def eats():\n",
    "        print('campers')\n",
    "        "
   ]
  },
  {
   "cell_type": "code",
   "execution_count": 17,
   "id": "8f75f09e-3c30-480b-a832-461dc38c970a",
   "metadata": {},
   "outputs": [
    {
     "name": "stdout",
     "output_type": "stream",
     "text": [
      "berries\n"
     ]
    }
   ],
   "source": [
    "Bear.eats()"
   ]
  },
  {
   "cell_type": "code",
   "execution_count": 18,
   "id": "ad52b840-5c6c-4c0e-92b0-0d1e205455ab",
   "metadata": {},
   "outputs": [
    {
     "name": "stdout",
     "output_type": "stream",
     "text": [
      "clover\n"
     ]
    }
   ],
   "source": [
    "Rabit.eats()"
   ]
  },
  {
   "cell_type": "code",
   "execution_count": 19,
   "id": "550a64d4-b933-4626-a299-3285c8b9b233",
   "metadata": {},
   "outputs": [
    {
     "name": "stdout",
     "output_type": "stream",
     "text": [
      "campers\n"
     ]
    }
   ],
   "source": [
    "Octothrope.eats()"
   ]
  },
  {
   "cell_type": "markdown",
   "id": "043258b2-9212-43ff-add0-1441f423902b",
   "metadata": {},
   "source": []
  },
  {
   "cell_type": "markdown",
   "id": "010a6374-c77e-4efd-99a6-9e3dff321e2c",
   "metadata": {},
   "source": [
    "10. Define these classes: Laser, Claw, and SmartPhone. Each has only one method: does(). This\n",
    "returns &#39;disintegrate&#39; (Laser), &#39;crush&#39; (Claw), or &#39;ring&#39; (SmartPhone). Then, define the class Robot that\n",
    "has one instance (object) of each of these. Define a does() method for the Robot that prints what its\n",
    "component objects do."
   ]
  },
  {
   "cell_type": "code",
   "execution_count": 25,
   "id": "c4e70d7b-f5d5-4225-ad1a-d6ff0ca96943",
   "metadata": {},
   "outputs": [],
   "source": [
    "\n",
    "class Laser:\n",
    "    def does(self):\n",
    "        return ('disintegrate')\n",
    "        \n",
    "class Claw:\n",
    "    def does(self):\n",
    "        return('crush')\n",
    "        \n",
    "class SmartPhone:\n",
    "    def does(self):\n",
    "        return('ring')\n",
    "        \n",
    "class Robot:\n",
    "    def __init__(self):\n",
    "        self.laser = Laser()\n",
    "        self.claw = Claw()\n",
    "        self.smartphone = SmartPhone()\n",
    "    \n",
    "    def does(self):\n",
    "        return ('Laser is %s, Claw is %s, SmartPhone is %s' % (self.laser.does(),self.claw.does(),self.smartphone.does()))\n"
   ]
  },
  {
   "cell_type": "code",
   "execution_count": 26,
   "id": "32c85d6f-d5dc-461c-9305-a2be2876fcaf",
   "metadata": {},
   "outputs": [],
   "source": [
    "robo = Robot()"
   ]
  },
  {
   "cell_type": "code",
   "execution_count": 27,
   "id": "31425f30-0ecd-4e41-88d6-4a29dfa49320",
   "metadata": {},
   "outputs": [
    {
     "data": {
      "text/plain": [
       "'Laser is disintegrate, Claw is crush, SmartPhone is ring'"
      ]
     },
     "execution_count": 27,
     "metadata": {},
     "output_type": "execute_result"
    }
   ],
   "source": [
    "robo.does()"
   ]
  },
  {
   "cell_type": "markdown",
   "id": "24b6f9ff-18a9-4a7e-a6e6-e85983871ad8",
   "metadata": {},
   "source": []
  }
 ],
 "metadata": {
  "kernelspec": {
   "display_name": "Python 3 (ipykernel)",
   "language": "python",
   "name": "python3"
  },
  "language_info": {
   "codemirror_mode": {
    "name": "ipython",
    "version": 3
   },
   "file_extension": ".py",
   "mimetype": "text/x-python",
   "name": "python",
   "nbconvert_exporter": "python",
   "pygments_lexer": "ipython3",
   "version": "3.10.8"
  }
 },
 "nbformat": 4,
 "nbformat_minor": 5
}
