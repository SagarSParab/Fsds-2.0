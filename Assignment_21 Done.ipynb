{
 "cells": [
  {
   "cell_type": "markdown",
   "id": "e81973ed-c01d-4a85-9fb1-edaf850e5ba0",
   "metadata": {},
   "source": [
    "                           Assignment no. 21 "
   ]
  },
  {
   "cell_type": "markdown",
   "id": "c561869d-4ea0-40bf-aea6-f358291c4186",
   "metadata": {},
   "source": []
  },
  {
   "cell_type": "markdown",
   "id": "04cc2ed4-57be-4bfb-987b-80626d4e72bc",
   "metadata": {},
   "source": [
    "1. Add the current date to the text file today.txt as a string."
   ]
  },
  {
   "cell_type": "code",
   "execution_count": 7,
   "id": "bee546e0-6eb6-4094-95cc-8e04e1e37188",
   "metadata": {},
   "outputs": [
    {
     "data": {
      "text/plain": [
       "'2024-06-22'"
      ]
     },
     "execution_count": 7,
     "metadata": {},
     "output_type": "execute_result"
    }
   ],
   "source": [
    "\n",
    "import datetime\n",
    "\n",
    "from datetime import date\n",
    "now = date.today()\n",
    "cur_date = now.isoformat()\n",
    "cur_date"
   ]
  },
  {
   "cell_type": "code",
   "execution_count": 8,
   "id": "6329839e-a04c-4cc9-9b88-6927dfe5a222",
   "metadata": {},
   "outputs": [],
   "source": [
    "with open('today.txt', 'w') as file:\n",
    "    file.write(cur_date)"
   ]
  },
  {
   "cell_type": "markdown",
   "id": "fd6cdc57-9cb0-4095-917f-7c7eb68d6230",
   "metadata": {},
   "source": []
  },
  {
   "cell_type": "markdown",
   "id": "f2dec1be-da4d-4843-9eee-f1cb5360a1b4",
   "metadata": {},
   "source": [
    "2. Read the text file today.txt into the string today_string"
   ]
  },
  {
   "cell_type": "code",
   "execution_count": 9,
   "id": "2df566bc-4005-446b-8699-2dd2b60676b5",
   "metadata": {},
   "outputs": [
    {
     "data": {
      "text/plain": [
       "'2024-06-22'"
      ]
     },
     "execution_count": 9,
     "metadata": {},
     "output_type": "execute_result"
    }
   ],
   "source": [
    "with open('today.txt', 'r') as file:\n",
    "    today_string = file.read()\n",
    "\n",
    "today_string"
   ]
  },
  {
   "cell_type": "markdown",
   "id": "7e594fdd-d775-46e1-86df-c6ab8697f995",
   "metadata": {},
   "source": []
  },
  {
   "cell_type": "markdown",
   "id": "45759101-f0f8-403a-b009-77b229d00179",
   "metadata": {},
   "source": [
    "3. Parse the date from today_string."
   ]
  },
  {
   "cell_type": "code",
   "execution_count": 12,
   "id": "731acdc5-4f5b-4ba9-b9ca-a61ebf170d8a",
   "metadata": {},
   "outputs": [
    {
     "data": {
      "text/plain": [
       "datetime.datetime(2024, 6, 22, 0, 0)"
      ]
     },
     "execution_count": 12,
     "metadata": {},
     "output_type": "execute_result"
    }
   ],
   "source": [
    "from datetime import datetime \n",
    "format = '%Y-%m-%d'\n",
    "datetime.strptime(today_string, format)"
   ]
  },
  {
   "cell_type": "markdown",
   "id": "61b54760-e1f5-4d1d-b794-9f41082a56d3",
   "metadata": {},
   "source": []
  },
  {
   "cell_type": "markdown",
   "id": "3ba93c21-ed50-4350-bad4-6845347fe698",
   "metadata": {},
   "source": [
    "4. List the files in your current directory"
   ]
  },
  {
   "cell_type": "code",
   "execution_count": 13,
   "id": "3b6073f2-be47-4304-ac83-2b4340bf8a72",
   "metadata": {},
   "outputs": [
    {
     "data": {
      "text/plain": [
       "['Assignment_11 Done.ipynb',\n",
       " 'today.txt',\n",
       " 'text.txt',\n",
       " 'Assignment_17 Done.ipynb',\n",
       " 'Assignment_21 Done.ipynb',\n",
       " 'Assignment_20 Done.ipynb',\n",
       " '.ipynb_checkpoints',\n",
       " 'books.csv',\n",
       " '__pycache__',\n",
       " 'books.db',\n",
       " 'Assignment_9 Done.ipynb',\n",
       " 'Assignment_7 Done.ipynb',\n",
       " 'Assignmen_10.ipynb',\n",
       " 'Assignment_13 Done.ipynb',\n",
       " 'zoo.py',\n",
       " 'Assignment_12 Done.ipynb',\n",
       " 'Assignment 5.ipynb',\n",
       " 'Assignment_18 Done.ipynb',\n",
       " 'Assignment_8 Done.ipynb',\n",
       " 'sample-code.ipynb',\n",
       " 'Assignment_14 Done.ipynb',\n",
       " '.git',\n",
       " 'Assignment_19 Done.ipynb',\n",
       " 'Assignment_10 Done.ipynb',\n",
       " 'Assignment_16 Done.ipynb',\n",
       " 'Assignment_15 Done.ipynb',\n",
       " 'README.md',\n",
       " 'Assignment_6 Done.ipynb']"
      ]
     },
     "execution_count": 13,
     "metadata": {},
     "output_type": "execute_result"
    }
   ],
   "source": [
    "import os\n",
    "os.listdir('.')"
   ]
  },
  {
   "cell_type": "markdown",
   "id": "54bfc34b-c984-43ad-ab97-abc70b689a9b",
   "metadata": {},
   "source": []
  },
  {
   "cell_type": "markdown",
   "id": "9c6400e1-8845-4f95-bf3c-510637a43475",
   "metadata": {},
   "source": [
    "6. Use multiprocessing to create three separate processes. Make each one wait a random number of\n",
    "seconds between one and five, print the current time, and then exit."
   ]
  },
  {
   "cell_type": "code",
   "execution_count": 17,
   "id": "15239aa1-475e-4e8c-9eda-464490cef782",
   "metadata": {},
   "outputs": [
    {
     "name": "stdout",
     "output_type": "stream",
     "text": [
      "wait 0.06260038783111521 seconds, time is 2024-06-22 08:43:04.024832\n",
      "wait 0.3058068255128147 seconds, time is 2024-06-22 08:43:04.274712\n",
      "wait 0.37340982969161385 seconds, time is 2024-06-22 08:43:04.347053\n"
     ]
    }
   ],
   "source": [
    "import multiprocessing \n",
    "\n",
    "def printsec(seconds):\n",
    "    from datetime import datetime\n",
    "    from time import sleep \n",
    "    sleep(seconds)\n",
    "    print('wait', seconds, 'seconds, time is', datetime.utcnow())\n",
    "    \n",
    "if __name__ == '__main__':\n",
    "    import random \n",
    "    for n in range(3):\n",
    "        seconds = random.random()\n",
    "        proc = multiprocessing.Process(target=printsec, args=(seconds,))\n",
    "        proc.start()"
   ]
  },
  {
   "cell_type": "markdown",
   "id": "71c13bfe-ad79-4f77-bbf1-9a7db02fea6e",
   "metadata": {},
   "source": []
  },
  {
   "cell_type": "markdown",
   "id": "f0b4f3d4-95b1-4683-b648-9b9f516f659d",
   "metadata": {},
   "source": [
    "7. Create a date object of your day of birth."
   ]
  },
  {
   "cell_type": "code",
   "execution_count": 18,
   "id": "862dba2f-7fe7-4e8a-a3d4-b1e5eb5bca9a",
   "metadata": {},
   "outputs": [
    {
     "data": {
      "text/plain": [
       "datetime.date(1997, 10, 14)"
      ]
     },
     "execution_count": 18,
     "metadata": {},
     "output_type": "execute_result"
    }
   ],
   "source": [
    "my_dob = date(1997, 10, 14)\n",
    "my_dob"
   ]
  },
  {
   "cell_type": "markdown",
   "id": "e0508bda-7617-47e5-a9c2-22278bbd1229",
   "metadata": {},
   "source": []
  },
  {
   "cell_type": "markdown",
   "id": "f0b3f2f2-9809-4054-a4e3-c2fec8821d7e",
   "metadata": {},
   "source": [
    "8. What day of the week was your day of birth?"
   ]
  },
  {
   "cell_type": "code",
   "execution_count": 19,
   "id": "b8f71845-43ec-4086-8384-db2396aeefac",
   "metadata": {},
   "outputs": [
    {
     "data": {
      "text/plain": [
       "1"
      ]
     },
     "execution_count": 19,
     "metadata": {},
     "output_type": "execute_result"
    }
   ],
   "source": [
    "my_dob.weekday()"
   ]
  },
  {
   "cell_type": "markdown",
   "id": "02516ef1-6037-4bd7-9268-70e11f9bae70",
   "metadata": {},
   "source": []
  },
  {
   "cell_type": "markdown",
   "id": "2fd0ddd8-0d14-4b14-aa23-5201d4939d60",
   "metadata": {},
   "source": [
    "9. When will you be (or when were you) 10,000 days old?"
   ]
  },
  {
   "cell_type": "code",
   "execution_count": null,
   "id": "1aea0086-0a31-435e-90bd-70555c14da52",
   "metadata": {},
   "outputs": [],
   "source": [
    "from datetime import timedelta\n",
    "day10000"
   ]
  }
 ],
 "metadata": {
  "kernelspec": {
   "display_name": "Python 3 (ipykernel)",
   "language": "python",
   "name": "python3"
  },
  "language_info": {
   "codemirror_mode": {
    "name": "ipython",
    "version": 3
   },
   "file_extension": ".py",
   "mimetype": "text/x-python",
   "name": "python",
   "nbconvert_exporter": "python",
   "pygments_lexer": "ipython3",
   "version": "3.10.8"
  }
 },
 "nbformat": 4,
 "nbformat_minor": 5
}
