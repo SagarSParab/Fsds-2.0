{
 "cells": [
  {
   "cell_type": "markdown",
   "id": "14c163dd-fc0c-4f9b-abcd-00887c90aba9",
   "metadata": {},
   "source": [
    "                              Assignment no. 22"
   ]
  },
  {
   "cell_type": "markdown",
   "id": "bac9920e-95c1-415c-bf37-108b9b6b2d73",
   "metadata": {},
   "source": []
  },
  {
   "cell_type": "markdown",
   "id": "1aff7bd4-0888-4a33-b716-b3ed5f66efd0",
   "metadata": {},
   "source": [
    "1. What is the result of the code, and explain?\n",
    "\n",
    "&gt;&gt;&gt; X = &#39;iNeuron&#39;\n",
    "&gt;&gt;&gt; def func():\n",
    "print(X)\n",
    "\n",
    "&gt;&gt;&gt; func()"
   ]
  },
  {
   "cell_type": "code",
   "execution_count": 10,
   "id": "f0ce14e8-f76e-4013-a30c-419ee159d921",
   "metadata": {},
   "outputs": [
    {
     "name": "stdout",
     "output_type": "stream",
     "text": [
      "iNeuron\n"
     ]
    }
   ],
   "source": [
    "X = 'iNeuron'\n",
    "\n",
    "def func():\n",
    "    print(X)\n",
    "func()\n",
    "\n",
    "# Ans ->  The global variables are accessible in side the function in python.\n",
    " # but we cannot access function variable out side function.\n",
    " # since X is global variable we are able to print it in side the function so Solution : 'ineuron'"
   ]
  },
  {
   "cell_type": "markdown",
   "id": "a042e17e-f3e9-491f-9901-01f0fffe8310",
   "metadata": {},
   "source": []
  },
  {
   "cell_type": "markdown",
   "id": "827263cd-a1e6-40e1-bf64-ebfb334efcdf",
   "metadata": {},
   "source": [
    "2. What is the result of the code, and explain?\n",
    "\n",
    "&gt;&gt;&gt; X = &#39;iNeuron&#39;\n",
    "&gt;&gt;&gt; def func():\n",
    "X = &#39;NI!&#39;\n",
    "\n",
    "&gt;&gt;&gt; func()\n",
    "&gt;&gt;&gt; print(X)"
   ]
  },
  {
   "cell_type": "code",
   "execution_count": 9,
   "id": "12bebdd7-c8fc-4b02-aa2f-6cd979c4e312",
   "metadata": {},
   "outputs": [
    {
     "name": "stdout",
     "output_type": "stream",
     "text": [
      "iNeuron\n"
     ]
    }
   ],
   "source": [
    "X = 'iNeuron'\n",
    "def func():\n",
    "    X = 'NI!'\n",
    "    \n",
    "func()\n",
    "print(X)\n",
    "\n",
    "\n",
    "# Ans ->\n",
    "# The global variables are access in side in the function in python. \n",
    "# But we can not access the function out side function.\n",
    "# Since X is global variable we are able to print it out side of the function = 'iNeuron'"
   ]
  },
  {
   "cell_type": "markdown",
   "id": "5a397425-0c7e-46ee-8b7b-27952e5898b6",
   "metadata": {},
   "source": []
  },
  {
   "cell_type": "markdown",
   "id": "57f7e797-59da-4f55-9a5d-760dff4e508d",
   "metadata": {},
   "source": [
    "3. What does this code print, and why?\n",
    "\n",
    "&gt;&gt;&gt; X = &#39;iNeuron&#39;\n",
    "&gt;&gt;&gt; def func():\n",
    "X = &#39;NI&#39;\n",
    "print(X)\n",
    "\n",
    "&gt;&gt;&gt; func()\n",
    "&gt;&gt;&gt; print(X)"
   ]
  },
  {
   "cell_type": "code",
   "execution_count": 4,
   "id": "420b3d13-3102-4ef6-aa0d-977bf6da8b89",
   "metadata": {},
   "outputs": [
    {
     "name": "stdout",
     "output_type": "stream",
     "text": [
      "NI!\n",
      "iNeuron\n"
     ]
    }
   ],
   "source": [
    "X = 'iNeuron'\n",
    "\n",
    "def func():\n",
    "    X = 'NI!'\n",
    "    print(X)\n",
    "    \n",
    "func()\n",
    "print(X)\n",
    "\n",
    "# Ans ->  The global variables are access in side of the function in python.\n",
    "# but we can not access function variable out side of function.\n",
    "# as X is updated with 'NI' which is a local to function and its immutable.\n",
    "# its name space is with in the function solution = 'NI!' , 'iNeuron'"
   ]
  },
  {
   "cell_type": "markdown",
   "id": "85750a48-d135-4947-8799-ba1b771f488d",
   "metadata": {},
   "source": []
  },
  {
   "cell_type": "markdown",
   "id": "bbfbf1ff-22b4-4cf5-9153-ef0a1c6b8237",
   "metadata": {},
   "source": [
    "4. What output does this code produce? Why?\n",
    "\n",
    "&gt;&gt;&gt; X = &#39;iNeuron&#39;\n",
    "&gt;&gt;&gt; def func():\n",
    "global X\n",
    "X = &#39;NI&#39;\n",
    "\n",
    "&gt;&gt;&gt; func()\n",
    "&gt;&gt;&gt; print(X)"
   ]
  },
  {
   "cell_type": "code",
   "execution_count": 7,
   "id": "cd802799-0f90-4650-ae22-9bb933ab1610",
   "metadata": {},
   "outputs": [
    {
     "name": "stdout",
     "output_type": "stream",
     "text": [
      "NI!\n",
      "NI!\n"
     ]
    }
   ],
   "source": [
    "X = 'iNeuron'\n",
    "def func():\n",
    "    global X\n",
    "    X = 'NI!'\n",
    "    print(X)\n",
    "    \n",
    "func()\n",
    "print(X)\n",
    "\n",
    "# Ans ->  Since the X in side the funtion is made gloabal, it will accessible out side of the function too.\n",
    "#  now X will have new value.\n",
    "# Solution : 'NI!' , 'iNeuron'"
   ]
  },
  {
   "cell_type": "markdown",
   "id": "73b4363b-8fdf-4d56-9c37-93d13cd242e7",
   "metadata": {},
   "source": []
  },
  {
   "cell_type": "markdown",
   "id": "1a88f4be-ced9-4a7a-be14-7382cbfcfe21",
   "metadata": {},
   "source": [
    "5. What about this code—what’s the output, and why?\n",
    "\n",
    "&gt;&gt;&gt; X = &#39;iNeuron&#39;\n",
    "&gt;&gt;&gt; def func():\n",
    "X = &#39;NI&#39;\n",
    "def nested():\n",
    "print(X)\n",
    "nested()\n",
    "\n",
    "&gt;&gt;&gt; func()"
   ]
  },
  {
   "cell_type": "code",
   "execution_count": 11,
   "id": "5cca703d-b79d-490c-8096-d129b8ca2450",
   "metadata": {},
   "outputs": [
    {
     "name": "stdout",
     "output_type": "stream",
     "text": [
      "iNeuron\n"
     ]
    },
    {
     "data": {
      "text/plain": [
       "'iNeuron'"
      ]
     },
     "execution_count": 11,
     "metadata": {},
     "output_type": "execute_result"
    }
   ],
   "source": [
    "X = 'iNeuron'\n",
    "def func():\n",
    "    X = 'NI'\n",
    "    \n",
    "def nested():\n",
    "    print(X)\n",
    "    \n",
    "nested()\n",
    "func()\n",
    "X\n",
    "\n",
    "# Ans -> \n",
    "# the nested() function will print 'iNeuron', then func() does not display anything,\n",
    "# and X = 'NI' is not accessible out \n",
    "# Solution : 'iNeuron'\n"
   ]
  },
  {
   "cell_type": "markdown",
   "id": "67acd88f-bb36-4437-8292-d511b3f79cf2",
   "metadata": {},
   "source": []
  },
  {
   "cell_type": "markdown",
   "id": "abe4caaf-b165-4128-9e01-f68432b8c837",
   "metadata": {},
   "source": [
    "6. How about this code: what is its output in Python 3, and explain?\n",
    "\n",
    "&gt;&gt;&gt; def func():\n",
    "X = &#39;NI&#39;\n",
    "def nested():\n",
    "nonlocal X\n",
    "X = &#39;Spam&#39;\n",
    "nested()\n",
    "print(X)\n",
    "\n",
    "&gt;&gt;&gt; func()"
   ]
  },
  {
   "cell_type": "code",
   "execution_count": 13,
   "id": "8893c3b0-abb0-4fac-bb2e-e36c8b539443",
   "metadata": {},
   "outputs": [
    {
     "name": "stdout",
     "output_type": "stream",
     "text": [
      "spam\n"
     ]
    }
   ],
   "source": [
    "def func():\n",
    "    X = 'NI'\n",
    "    def nested():\n",
    "        nonlocal X\n",
    "        X = 'spam'\n",
    "    nested()\n",
    "    print(X)\n",
    "    \n",
    "func()\n",
    "\n",
    "\n",
    "# Ans ->  Nonlocal variables are used in nested functions whose local space is not defined.\n",
    "# This means that the variable can be neither in the local nor the global scope.\n",
    "# it prints the updated value from nested function.\n",
    "\n",
    "# Solution : "
   ]
  },
  {
   "cell_type": "markdown",
   "id": "66ebc6a6-e11c-4c14-a8a6-f1709b46848f",
   "metadata": {},
   "source": []
  }
 ],
 "metadata": {
  "kernelspec": {
   "display_name": "Python 3 (ipykernel)",
   "language": "python",
   "name": "python3"
  },
  "language_info": {
   "codemirror_mode": {
    "name": "ipython",
    "version": 3
   },
   "file_extension": ".py",
   "mimetype": "text/x-python",
   "name": "python",
   "nbconvert_exporter": "python",
   "pygments_lexer": "ipython3",
   "version": "3.10.8"
  }
 },
 "nbformat": 4,
 "nbformat_minor": 5
}
