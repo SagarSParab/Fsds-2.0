{
 "cells": [
  {
   "cell_type": "markdown",
   "id": "26641a72-4f8a-4a5c-8e9c-4fdcaa3765d8",
   "metadata": {},
   "source": [
    "                               Assignment no. 23"
   ]
  },
  {
   "cell_type": "markdown",
   "id": "e85231f6-ecaf-47c4-a270-85977e322ed7",
   "metadata": {},
   "source": []
  },
  {
   "cell_type": "markdown",
   "id": "ea59ad88-26d4-455f-8f22-80919e2ee22a",
   "metadata": {},
   "source": [
    "1. What is the result of the code, and why?\n",
    "\n",
    "&gt;&gt;&gt; def func(a, b=6, c=8):\n",
    "\n",
    "print(a, b, c)\n",
    "\n",
    "&gt;&gt;&gt; func(1, 2)"
   ]
  },
  {
   "cell_type": "code",
   "execution_count": 1,
   "id": "e2457aa2-75fd-4cb7-ad69-18b52ef03e22",
   "metadata": {},
   "outputs": [
    {
     "name": "stdout",
     "output_type": "stream",
     "text": [
      "1 2 8\n"
     ]
    }
   ],
   "source": [
    "def func(a, b=6, c= 8):\n",
    "    print(a,b,c)\n",
    "    \n",
    "func(1,2)"
   ]
  },
  {
   "cell_type": "markdown",
   "id": "05964f42-0f76-4892-86d4-735acec7bf78",
   "metadata": {},
   "source": [
    "Ans  :  This function is taking a positional argument and 2 keyword argument.\n",
    "\n",
    "When function call m = is made parameter passed are a=1, b=2 \n",
    "\n",
    "so when function is executed, parameter c=8 will be taken by default as its a keyword argument.\n",
    "\n",
    "That's why solution is -> 1, 2, 8"
   ]
  },
  {
   "cell_type": "markdown",
   "id": "0f781efc-1750-404e-9d61-292746986e68",
   "metadata": {},
   "source": []
  },
  {
   "cell_type": "markdown",
   "id": "bde9cee7-58e3-4dd8-835a-6d9065984245",
   "metadata": {},
   "source": [
    "2. What is the result of this code, and why?\n",
    "\n",
    "&gt;&gt;&gt; def func(a, b, c=5):\n",
    "\n",
    "print(a, b, c)\n",
    "\n",
    "&gt;&gt;&gt; func(1, c=3, b=2)"
   ]
  },
  {
   "cell_type": "code",
   "execution_count": 2,
   "id": "04fbb9ae-bb8e-46d0-9c89-971fd57b8d8f",
   "metadata": {},
   "outputs": [
    {
     "name": "stdout",
     "output_type": "stream",
     "text": [
      "1 2 3\n"
     ]
    }
   ],
   "source": [
    "def func(a, b, c=5):\n",
    "    print(a, b, c)\n",
    "    \n",
    "func(1, c=3, b=2)"
   ]
  },
  {
   "cell_type": "markdown",
   "id": "82ead8f5-ffbd-4a24-8bca-a35869a0c5d6",
   "metadata": {},
   "source": [
    "Ans :  When we make function call, order will be positional argument and then keywords arguments.\n",
    "\n",
    "we can pass the keyword argument in any order we want.\n",
    " \n",
    "That's why solution is -> 1, 2, 3"
   ]
  },
  {
   "cell_type": "markdown",
   "id": "eaae787e-b2ce-40a9-b7c1-832b488e63a0",
   "metadata": {},
   "source": []
  },
  {
   "cell_type": "markdown",
   "id": "bd7df09e-524d-4c0f-9339-1b9c482786a6",
   "metadata": {},
   "source": [
    "3. How about this code: what is its result, and why?\n",
    "\n",
    "&gt;&gt;&gt; def func(a, *pargs):\n",
    "\n",
    "print(a, pargs)\n",
    "\n",
    "&gt;&gt;&gt; func(1, 2, 3)"
   ]
  },
  {
   "cell_type": "code",
   "execution_count": 3,
   "id": "778ea39c-ca2c-4f50-9a5f-8757fd19ab04",
   "metadata": {},
   "outputs": [
    {
     "name": "stdout",
     "output_type": "stream",
     "text": [
      "1 (2, 3)\n"
     ]
    }
   ],
   "source": [
    "def func(a, *pargs):\n",
    "    print(a, pargs)\n",
    "    \n",
    "func(1, 2, 3)"
   ]
  },
  {
   "cell_type": "markdown",
   "id": "f8de5e6f-40f2-4c70-b426-ab4232ea2378",
   "metadata": {},
   "source": [
    "Ans :  The return type of *args parameter is tuple, where as **kargs will be a dictionary.\n",
    "\n",
    "\n",
    "That's why solution is ->  1, (2, 3)"
   ]
  },
  {
   "cell_type": "markdown",
   "id": "33f92c90-3071-4705-9234-bfd8883553ca",
   "metadata": {},
   "source": []
  },
  {
   "cell_type": "markdown",
   "id": "c05ecee4-da31-4b60-8c52-d48af3c8c5a1",
   "metadata": {},
   "source": [
    "4. What does this code print, and why?\n",
    "\n",
    "&gt;&gt;&gt; def func(a, **kargs):\n",
    "\n",
    "print(a, kargs)\n",
    "\n",
    "&gt;&gt;&gt; func(a=1, c=3, b=2)"
   ]
  },
  {
   "cell_type": "code",
   "execution_count": 4,
   "id": "14e9784e-7cf8-4958-816b-9d9b0617e460",
   "metadata": {},
   "outputs": [
    {
     "name": "stdout",
     "output_type": "stream",
     "text": [
      "1 {'c': 3, 'b': 2}\n"
     ]
    }
   ],
   "source": [
    "def func(a, **kargs):\n",
    "    print(a, kargs)\n",
    "    \n",
    "func(a=1, c=3, b=2)"
   ]
  },
  {
   "cell_type": "markdown",
   "id": "f2a5d355-9a32-432d-b82c-ee37dbb11964",
   "metadata": {},
   "source": [
    "Ans : The return  type of **kargs parameter is dictionary.\n",
    "\n",
    "That' why Solution is ->  1, {'c': 3, 'b': 2}"
   ]
  },
  {
   "cell_type": "markdown",
   "id": "1dd588ad-1b03-424a-a826-0c14b4263f0d",
   "metadata": {},
   "source": []
  },
  {
   "cell_type": "markdown",
   "id": "714358b6-34f6-4462-a09b-1b2166e6fbeb",
   "metadata": {},
   "source": [
    "5. What gets printed by this, and explain\n",
    "\n",
    "&gt;&gt;&gt; def func(a, b, c=8, d=5): print(a, b, c, d)\n",
    "\n",
    "&gt;&gt;&gt; func(1, *(5, 6))"
   ]
  },
  {
   "cell_type": "code",
   "execution_count": 6,
   "id": "bbe65ad7-0044-487f-9f07-57845aca52d6",
   "metadata": {},
   "outputs": [
    {
     "name": "stdout",
     "output_type": "stream",
     "text": [
      "1 5 6 5\n"
     ]
    }
   ],
   "source": [
    "def func(a, b, c=8, d=5):\n",
    "    print(a, b, c, d)\n",
    "    \n",
    "func(1, *(5, 6))"
   ]
  },
  {
   "cell_type": "markdown",
   "id": "3a17d0c3-a162-4146-888e-ac58624c1d6d",
   "metadata": {},
   "source": [
    "Ans :  is the unpacking operator and are operators that unpack the values from iterable objects in python.\n",
    "\n",
    "The single asterick operator * can be used on any iterable that python provides, \n",
    "\n",
    "while double asterick operator ** can only be used on dictionaries.\n",
    "\n",
    "In the above example, the values (5, 6) will be unpacked and will be assigned to b and c  and passed as arguments,\n",
    "\n",
    "d=5 will be taken by defaults are keyword arguments."
   ]
  },
  {
   "cell_type": "markdown",
   "id": "85172bc6-2698-498e-b8dc-fbfe59dd1ab1",
   "metadata": {},
   "source": []
  },
  {
   "cell_type": "markdown",
   "id": "b6e91d49-249f-4559-b1d3-1d5e84310401",
   "metadata": {},
   "source": [
    "6. what is the result of this, and explain?\n",
    "\n",
    "&gt;&gt;&gt; def func(a, b, c): a = 2; b[0] = &#39;x&#39;; c[&#39;a&#39;] = &#39;y&#39;\n",
    "\n",
    "&gt;&gt;&gt; l=1; m=[1]; n={&#39;a&#39;:0}\n",
    "\n",
    "&gt;&gt;&gt; func(l, m, n)\n",
    "\n",
    "&gt;&gt;&gt; l, m, n"
   ]
  },
  {
   "cell_type": "code",
   "execution_count": 8,
   "id": "dc74cae2-8d21-4d4b-aa12-7daf36e3d257",
   "metadata": {},
   "outputs": [
    {
     "data": {
      "text/plain": [
       "(1, ['x'], {'a': 'y'})"
      ]
     },
     "execution_count": 8,
     "metadata": {},
     "output_type": "execute_result"
    }
   ],
   "source": [
    "def func(a, b, c):\n",
    "    a= 2; b[0] = 'x'; c['a'] = 'y'\n",
    "    \n",
    "l = 1; m = [1]; n = {'a':0}\n",
    "func(l, m, n)\n",
    "\n",
    "l, m, n"
   ]
  },
  {
   "cell_type": "code",
   "execution_count": null,
   "id": "f011a559-59ee-4483-9c5c-d9107013dd93",
   "metadata": {},
   "outputs": [],
   "source": [
    "Ans : Here in the above code, the list and dict are passed as argument, and those are mutable.\n",
    "\n",
    "Here the list l and parameter b point to the same list in the memory location where as dict c and n points to the same memory location.\n",
    "\n",
    "Any updates to this list will update in the memory location.\n",
    "\n",
    "l = 1 , integer values, immutable, m is list, mutable, n is dict, mutable.\n",
    "\n",
    "output will be = 1, ['x'], {'a': 'y'}"
   ]
  }
 ],
 "metadata": {
  "kernelspec": {
   "display_name": "Python 3 (ipykernel)",
   "language": "python",
   "name": "python3"
  },
  "language_info": {
   "codemirror_mode": {
    "name": "ipython",
    "version": 3
   },
   "file_extension": ".py",
   "mimetype": "text/x-python",
   "name": "python",
   "nbconvert_exporter": "python",
   "pygments_lexer": "ipython3",
   "version": "3.10.8"
  }
 },
 "nbformat": 4,
 "nbformat_minor": 5
}
