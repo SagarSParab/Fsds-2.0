{
 "cells": [
  {
   "cell_type": "markdown",
   "id": "faff5541-a169-49da-b371-11b45c743a96",
   "metadata": {},
   "source": [
    "                                Assignment no. 24"
   ]
  },
  {
   "cell_type": "markdown",
   "id": "dc921808-8207-4b3c-a9f0-1f737b0f5db5",
   "metadata": {},
   "source": []
  },
  {
   "cell_type": "markdown",
   "id": "a36eed20-9e26-4c01-b9b3-2711ff531116",
   "metadata": {},
   "source": [
    "1. What is the relationship between def statements and lambda expressions ?"
   ]
  },
  {
   "cell_type": "markdown",
   "id": "e8978f46-830f-48c5-b2f8-212dd215282b",
   "metadata": {},
   "source": [
    "Ans : \n",
    "Keyword def that marks the start of the function header. A function name to uniquely identify the function, Function naming follows the same rules  of writing identifiers in python.\n",
    "\n",
    "Lambdas are one-line methods without name or we can say anonymous Function. They work practically the same as any other method in Puthon Lambdas differ from normal Python methods because they can have only one expression can't contain any statements and their return type is function object.\n"
   ]
  },
  {
   "cell_type": "markdown",
   "id": "5905b276-fcb8-4a92-b1fa-31111871c2db",
   "metadata": {},
   "source": []
  },
  {
   "cell_type": "markdown",
   "id": "18d61124-bdce-4728-ac08-8562988bd4f7",
   "metadata": {},
   "source": [
    "2. What is the benefit of lambda?"
   ]
  },
  {
   "cell_type": "markdown",
   "id": "570dce5e-4c62-45eb-8afc-f4135fdfea46",
   "metadata": {},
   "source": [
    "Ans :  Fewer lines of Code Lambdas functions are inline functions and thus execute comparatively faster Many times lambada functions make code much more readable by avoiding the logical jumps caused by function calls."
   ]
  },
  {
   "cell_type": "markdown",
   "id": "6056490c-2568-4947-b8af-3d4b2bfa5e3e",
   "metadata": {},
   "source": []
  },
  {
   "cell_type": "markdown",
   "id": "416713d9-e43d-4478-9555-870cb442f963",
   "metadata": {},
   "source": [
    "3. Compare and contrast map, filter, and reduce."
   ]
  },
  {
   "cell_type": "markdown",
   "id": "5e1e60d7-4dea-4a8f-8b6f-199114a33f3d",
   "metadata": {},
   "source": [
    "Ans :\n",
    "\n",
    "map ->  map applies as a transformation to an element. The map() function iterates through all items in the given iterable and executes the function we passed as an argument on each of them.\n",
    "\n",
    "Syntax :-  map(function, iterables(s))\n",
    "\n",
    "\n",
    "\n",
    "filter ->  filter accumulates only elements matching a condition. filter() forms a new list that contains only elements that satisfy a certain condition, i.e. the function we passed returns True \n",
    "\n",
    "Syntax :- filter(function, iterables(s))\n",
    "\n",
    "\n",
    "\n",
    "reduce ->  reduce accumulates all elements to a single value, by using immutable values reduce() works by calling the function we passed for the first two items in the sequence. The result returned by the function is used in another call to function alongside the next ( third in case ) element.\n",
    "\n",
    "Syntax :-  reduce(function, sequence[, initial])"
   ]
  },
  {
   "cell_type": "code",
   "execution_count": 6,
   "id": "edd1e950-a70e-4401-9993-e9c54c3b3ba4",
   "metadata": {},
   "outputs": [
    {
     "name": "stdout",
     "output_type": "stream",
     "text": [
      "True\n",
      "False\n",
      "False\n",
      "False\n",
      "False\n",
      "False\n"
     ]
    }
   ],
   "source": [
    "## map functions \n",
    "\n",
    "Animal = [ \"Cat\", \"Anteater\", \"Dog\", \"Elephant\", \"Giraaffe\", \"Lion\"]\n",
    "map_object = map(lambda s: s[0] == \"C\" , Animal)\n",
    "\n",
    "\n",
    "for i in map_object:\n",
    "    print(i)"
   ]
  },
  {
   "cell_type": "code",
   "execution_count": 8,
   "id": "b96885e5-7b77-430a-bde3-7429f82ca971",
   "metadata": {},
   "outputs": [
    {
     "name": "stdout",
     "output_type": "stream",
     "text": [
      "Cat\n"
     ]
    }
   ],
   "source": [
    "## filter functions\n",
    "\n",
    "Animal = [ \"Cat\", \"Anteater\", \"Dog\", \"Elephant\", \"Giraaffe\", \"Lion\"]\n",
    "filter_object = filter(lambda s: s[0] == \"C\" , Animal)\n",
    "\n",
    "\n",
    "for i in filter_object:\n",
    "    print(i)"
   ]
  },
  {
   "cell_type": "code",
   "execution_count": 13,
   "id": "dac6c4c7-e02b-4ab9-ab28-385307eaeb97",
   "metadata": {},
   "outputs": [
    {
     "name": "stdout",
     "output_type": "stream",
     "text": [
      "23\n",
      "with an initial value : 43\n"
     ]
    }
   ],
   "source": [
    "## reduce functions \n",
    "\n",
    "from functools import reduce\n",
    "\n",
    "list = [ 1, 2, 5, 7, 8]\n",
    "print(reduce(lambda x, y : x + y, list))\n",
    "print(\"with an initial value : \" + str(reduce(lambda x, y : x + y, list, 20)))\n",
    " "
   ]
  },
  {
   "cell_type": "markdown",
   "id": "20f6d9c0-2ea4-45bd-924b-a77a488b3343",
   "metadata": {},
   "source": []
  },
  {
   "cell_type": "markdown",
   "id": "6ac72393-7316-4004-8a67-4ef3f658ccd0",
   "metadata": {},
   "source": [
    "4. What are function annotations, and how are they used?"
   ]
  },
  {
   "cell_type": "markdown",
   "id": "fd5512de-7fb1-41fa-b7f8-9cb68a5e785c",
   "metadata": {},
   "source": [
    "Ans :\n",
    "\n",
    "Functions annotations is the standard way to access the metadata with the arguments and the return value of the function.\n",
    "\n",
    "These are nothing but some random and optional Python expression get allied to different parts of the function. \n",
    "\n",
    "They get evaluated only during the compile-time and have no significance during the run-time of the code.\n",
    "\n",
    "They do not have any significance or meaning associated with them untik accessed by some third-party libraries.\n",
    "\n",
    "They are used to type check the functions by declaring the type of the parameters and ther return value for the functions.\n",
    "\n",
    "The string-based annotations helps us to improve the help message.\n",
    "\n",
    "Syntax :\n",
    "\n",
    "def func(a: 'int'):\n",
    "    pass\n",
    "    \n",
    "Annotations for simple parameters:\n",
    "\n",
    "def func(x: 'float'= 14.2, y='argument2'):\n",
    " \n",
    "in the above code the argument, 'x' of the function func, has been annotated to float data type and the argument 'y' has a string=based annotation.   The argument can also be assigned to a default value using a '=' symbol followed by the default value. These default values are optional to the code.\n",
    "\n",
    "Annotations for return values:\n",
    "\n",
    "def func(a: expression) -> 'int':\n",
    "  \n",
    "The annotations for return value is written after the '->' symbol."
   ]
  },
  {
   "cell_type": "code",
   "execution_count": 14,
   "id": "9e9b47c7-ef50-4cf8-a368-600091858e2c",
   "metadata": {},
   "outputs": [
    {
     "name": "stdout",
     "output_type": "stream",
     "text": [
      "{'n': 'float', 'b': 'int', 'return': 'result'}\n"
     ]
    }
   ],
   "source": [
    "def fib(n: 'float', b: 'int')-> 'result':\n",
    "    pass\n",
    "print(fib.__annotations__)"
   ]
  },
  {
   "cell_type": "markdown",
   "id": "2df7936d-b125-490c-9bb8-a14ab1bec34f",
   "metadata": {},
   "source": []
  },
  {
   "cell_type": "markdown",
   "id": "bb5d6032-8b23-4ebf-b779-2bf889b419a7",
   "metadata": {},
   "source": [
    "5. What are recursive functions, and how are they used?"
   ]
  },
  {
   "cell_type": "markdown",
   "id": "72e38ad8-794a-4fba-8b84-b98506de83d0",
   "metadata": {},
   "source": [
    "Ans : A recursive function is a function that calls itself during its execution. This means that the function will continue to call itself and repeat its behaviour until same condition is met to a return a result."
   ]
  },
  {
   "cell_type": "code",
   "execution_count": 15,
   "id": "f3552e68-fd88-46e9-85be-23811cae0f14",
   "metadata": {},
   "outputs": [
    {
     "data": {
      "text/plain": [
       "120"
      ]
     },
     "execution_count": 15,
     "metadata": {},
     "output_type": "execute_result"
    }
   ],
   "source": [
    "## example\n",
    "\n",
    "def fact(x):\n",
    "    if x == 1 :\n",
    "        return 1 \n",
    "    else:\n",
    "        return x * fact(x-1)    ### this is recursion          \n",
    "    \n",
    "fact(5)"
   ]
  },
  {
   "cell_type": "markdown",
   "id": "57577457-c3f0-48de-9db5-3ec2c68ab391",
   "metadata": {},
   "source": []
  },
  {
   "cell_type": "markdown",
   "id": "3ee60148-77ae-4411-86a3-f4b32752f064",
   "metadata": {},
   "source": [
    "6. What are some general design guidelines for coding functions?"
   ]
  },
  {
   "cell_type": "markdown",
   "id": "50016bac-547a-4b04-8a4d-b3159dbb08fd",
   "metadata": {},
   "source": [
    "Ans:\n",
    "\n",
    "1. Use 4-space indentation and no tabs.\n",
    "2. Use docstrings\n",
    "3. Wrap linehat they don't exceed 79 charcters\n",
    "4. Use of regular and upadatd comments are valuable to both the coders and users\n",
    "5. Use of trailing commas : in case of tuple -> ('good')\n",
    "6. Use Python's default UTF-8 or ASCII encodings and not any fancy encodings\n",
    "7. Naming Conventions 8 characters that should not be used for identifiers : 'l' (lowercase letter el), 'O'(uppercase letter oh), 'I'(uppercase letter eye) as single character variable names as these are similar to the numerals one and zero.\n",
    "8. Don't use non-ASCII characters in identifiers.\n",
    "9. Name your classes and functions consistently.\n",
    "10. While naming of function of methods always use self for the first argument"
   ]
  },
  {
   "cell_type": "markdown",
   "id": "3147f156-c7df-4fa9-8a44-22d061709501",
   "metadata": {},
   "source": []
  },
  {
   "cell_type": "markdown",
   "id": "3a3b06f1-d252-4542-8697-69dbacf435c5",
   "metadata": {},
   "source": [
    "7. Name three or more ways that functions can communicate results to a caller."
   ]
  },
  {
   "cell_type": "code",
   "execution_count": null,
   "id": "5ef47e55-afdd-4223-92dc-781cfdb39d1c",
   "metadata": {},
   "outputs": [],
   "source": [
    "Ans :\n",
    "\n",
    "1. Function can return single value\n",
    "2. Can return multiple values, tuple\n",
    "3. Can return list, dictionary\n",
    "4. "
   ]
  }
 ],
 "metadata": {
  "kernelspec": {
   "display_name": "Python 3 (ipykernel)",
   "language": "python",
   "name": "python3"
  },
  "language_info": {
   "codemirror_mode": {
    "name": "ipython",
    "version": 3
   },
   "file_extension": ".py",
   "mimetype": "text/x-python",
   "name": "python",
   "nbconvert_exporter": "python",
   "pygments_lexer": "ipython3",
   "version": "3.10.8"
  }
 },
 "nbformat": 4,
 "nbformat_minor": 5
}
