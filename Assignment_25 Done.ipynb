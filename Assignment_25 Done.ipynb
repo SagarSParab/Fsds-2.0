{
 "cells": [
  {
   "cell_type": "markdown",
   "id": "ee5d9f92-9f76-4082-8490-c873a9af3de3",
   "metadata": {},
   "source": [
    "                             Assignment no. 25"
   ]
  },
  {
   "cell_type": "markdown",
   "id": "7889c929-688c-472d-80b0-81990657d682",
   "metadata": {},
   "source": []
  },
  {
   "cell_type": "markdown",
   "id": "a7d3f9d3-4a9c-48bd-b107-8b31f732ff6a",
   "metadata": {},
   "source": [
    "1) . What is the difference between enclosing a list comprehension in square brackets and\n",
    "parentheses?"
   ]
  },
  {
   "cell_type": "code",
   "execution_count": 1,
   "id": "8315044e-98c1-4bd0-b9bc-a1c414bdf0ab",
   "metadata": {},
   "outputs": [
    {
     "data": {
      "text/plain": [
       "[0, 1, 2, 3, 4, 5, 6, 7, 8, 9]"
      ]
     },
     "execution_count": 1,
     "metadata": {},
     "output_type": "execute_result"
    }
   ],
   "source": [
    "#  list comprehension with square brackets produces list\n",
    "\n",
    "lst = [i for i in range(10)]\n",
    "lst"
   ]
  },
  {
   "cell_type": "code",
   "execution_count": 3,
   "id": "2f839fac-0509-43bd-9c18-9bfe466aa72b",
   "metadata": {},
   "outputs": [
    {
     "data": {
      "text/plain": [
       "<generator object <genexpr> at 0x7f6d241619a0>"
      ]
     },
     "execution_count": 3,
     "metadata": {},
     "output_type": "execute_result"
    }
   ],
   "source": [
    "lst = (i for i in range(10))\n",
    "lst"
   ]
  },
  {
   "cell_type": "code",
   "execution_count": 4,
   "id": "2f28c055-99a2-4d45-a9a6-8a5b1f79262e",
   "metadata": {},
   "outputs": [
    {
     "data": {
      "text/plain": [
       "<generator object <genexpr> at 0x7f6d24161af0>"
      ]
     },
     "execution_count": 4,
     "metadata": {},
     "output_type": "execute_result"
    }
   ],
   "source": [
    "lstparentheses = (i for i in range(10))\n",
    "lstparentheses"
   ]
  },
  {
   "cell_type": "markdown",
   "id": "4defb16a-a662-4774-8276-5f85e1193620",
   "metadata": {},
   "source": [
    "if you are familiar with list comprehensions, then this lookk likes it might create a tuple which is (1,2,3,4,...)\n",
    "\n",
    "but it is actually a generator expression - this expression is a one time only iterator which will yield the values 1, 2, 3,4, .... in order"
   ]
  },
  {
   "cell_type": "code",
   "execution_count": 5,
   "id": "3dfc51af-a629-4ca2-bd32-d4e74429effa",
   "metadata": {},
   "outputs": [
    {
     "data": {
      "text/plain": [
       "[0, 1, 2, 3, 4, 5, 6, 7, 8, 9]"
      ]
     },
     "execution_count": 5,
     "metadata": {},
     "output_type": "execute_result"
    }
   ],
   "source": [
    "list(lst)"
   ]
  },
  {
   "cell_type": "code",
   "execution_count": 7,
   "id": "1d308e64-9e96-42b8-b0ea-b18a66bb535f",
   "metadata": {},
   "outputs": [
    {
     "data": {
      "text/plain": [
       "[0, 1, 2, 3, 4, 5, 6, 7, 8, 9]"
      ]
     },
     "execution_count": 7,
     "metadata": {},
     "output_type": "execute_result"
    }
   ],
   "source": [
    "list(lstparentheses)"
   ]
  },
  {
   "cell_type": "markdown",
   "id": "1a5040ac-6290-492f-a3a4-060b23f2b8fe",
   "metadata": {},
   "source": []
  },
  {
   "cell_type": "markdown",
   "id": "350e54ba-f942-416c-a471-921b5df74ae0",
   "metadata": {},
   "source": [
    "2) What is the relationship between generators and iterators?"
   ]
  },
  {
   "cell_type": "markdown",
   "id": "8878ad76-d81e-41f0-8ae8-8cad3e451eca",
   "metadata": {},
   "source": [
    "Iterator :  An iterator is an object which contains a countable number of values and it is used to iterate over iterable objects like list, tuples, etc.\n",
    "\n",
    "using an iterator - iter() is a keyword is used to create an iterator containing an iterable object.\n",
    "\n",
    "next() is a keyword is used to call the next element in the iterable object.\n"
   ]
  },
  {
   "cell_type": "code",
   "execution_count": 8,
   "id": "c3ff0fb6-6858-4ecf-ab97-898b50525f0b",
   "metadata": {},
   "outputs": [
    {
     "name": "stdout",
     "output_type": "stream",
     "text": [
      "Lion\n",
      "Tiger\n",
      "Eagle\n"
     ]
    }
   ],
   "source": [
    "# iterator \n",
    "\n",
    "iter_list = iter(['Lion', 'Tiger', 'Eagle'])\n",
    "\n",
    "print(next(iter_list))\n",
    "print(next(iter_list))\n",
    "print(next(iter_list))"
   ]
  },
  {
   "cell_type": "markdown",
   "id": "510fd52a-bf67-4c5c-84f6-17b3d425737a",
   "metadata": {},
   "source": [
    "Generator :  it is another way of creating iterators in a simple way where it uses the keyword \"yield\" instead of returning it in defined function.\n",
    "\n",
    "Generators are implemented using a function. Here the yield function returns the data without affecting or existing the function.\n",
    "\n",
    "it will return a sequence of a data in an iterable format where we need to iterate over the sequence to use the data as they won't store the entire sequence in the memory By using next()\n",
    "function we can iterate the output of generator function."
   ]
  },
  {
   "cell_type": "code",
   "execution_count": 9,
   "id": "cd2f2c6b-4d2b-44a7-88e4-6e31294d41a3",
   "metadata": {},
   "outputs": [],
   "source": [
    "# Generator\n",
    "\n",
    "def seq(n):\n",
    "    for i in range(1, n+1):\n",
    "        yield i*i"
   ]
  },
  {
   "cell_type": "code",
   "execution_count": 10,
   "id": "c2d79ace-ea7a-4dd0-85bb-2f608eb69880",
   "metadata": {},
   "outputs": [
    {
     "data": {
      "text/plain": [
       "<generator object seq at 0x7f6d2011f060>"
      ]
     },
     "execution_count": 10,
     "metadata": {},
     "output_type": "execute_result"
    }
   ],
   "source": [
    "seq(4)"
   ]
  },
  {
   "cell_type": "code",
   "execution_count": 11,
   "id": "121b8118-ed39-46f9-903b-ecb0d02a231a",
   "metadata": {},
   "outputs": [
    {
     "data": {
      "text/plain": [
       "<generator object seq at 0x7f6d2011f5a0>"
      ]
     },
     "execution_count": 11,
     "metadata": {},
     "output_type": "execute_result"
    }
   ],
   "source": [
    "seq(7)"
   ]
  },
  {
   "cell_type": "code",
   "execution_count": 17,
   "id": "9918d4c1-fe53-430b-a470-534f342e70ab",
   "metadata": {},
   "outputs": [
    {
     "data": {
      "text/plain": [
       "<generator object seq at 0x7f6d0a438200>"
      ]
     },
     "execution_count": 17,
     "metadata": {},
     "output_type": "execute_result"
    }
   ],
   "source": [
    "four = seq(4)\n",
    "four"
   ]
  },
  {
   "cell_type": "code",
   "execution_count": 18,
   "id": "04ab9efb-1a49-42b0-a0a5-d978e34d8104",
   "metadata": {},
   "outputs": [
    {
     "name": "stdout",
     "output_type": "stream",
     "text": [
      "1\n",
      "4\n",
      "9\n",
      "16\n"
     ]
    },
    {
     "ename": "StopIteration",
     "evalue": "",
     "output_type": "error",
     "traceback": [
      "\u001b[0;31m---------------------------------------------------------------------------\u001b[0m",
      "\u001b[0;31mStopIteration\u001b[0m                             Traceback (most recent call last)",
      "Cell \u001b[0;32mIn[18], line 5\u001b[0m\n\u001b[1;32m      3\u001b[0m \u001b[38;5;28mprint\u001b[39m(\u001b[38;5;28mnext\u001b[39m(four))\n\u001b[1;32m      4\u001b[0m \u001b[38;5;28mprint\u001b[39m(\u001b[38;5;28mnext\u001b[39m(four))\n\u001b[0;32m----> 5\u001b[0m \u001b[38;5;28mprint\u001b[39m(\u001b[38;5;28;43mnext\u001b[39;49m\u001b[43m(\u001b[49m\u001b[43mfour\u001b[49m\u001b[43m)\u001b[49m)\n",
      "\u001b[0;31mStopIteration\u001b[0m: "
     ]
    }
   ],
   "source": [
    "print(next(four))\n",
    "print(next(four))\n",
    "print(next(four))\n",
    "print(next(four))\n",
    "print(next(four))"
   ]
  },
  {
   "cell_type": "markdown",
   "id": "04cafcf2-2237-4cdf-902f-01d612ec745d",
   "metadata": {},
   "source": []
  },
  {
   "cell_type": "markdown",
   "id": "b5c57e34-59ab-4a09-80d1-d38f3aecb108",
   "metadata": {},
   "source": [
    "3) What are the signs that a function is a generator function?"
   ]
  },
  {
   "cell_type": "markdown",
   "id": "be0cef5b-73ba-4259-86a5-0cf038c3cb5a",
   "metadata": {},
   "source": [
    "Ans:if a function contains atleast one yield statement ( it may contain other yield or return statements), it becomes a generator function.\n",
    "Both yield and return will return some value from a function.\n"
   ]
  },
  {
   "cell_type": "markdown",
   "id": "1b658df0-eebb-4435-a793-a2ffe8d23f0d",
   "metadata": {},
   "source": []
  },
  {
   "cell_type": "markdown",
   "id": "8ab66d90-b697-4207-aa8d-c641a644f6be",
   "metadata": {},
   "source": [
    "4) What is the purpose of a yield statement?"
   ]
  },
  {
   "cell_type": "markdown",
   "id": "6e657819-ec67-4665-82f8-35fe58731cd8",
   "metadata": {},
   "source": [
    "Ans: A yield statement looks much like a return statement, except that instead of stopping execution of the function and returning,\n",
    "\n",
    "yield instead provides a value to the code looping over the generator and pauses execution of the generator function."
   ]
  },
  {
   "cell_type": "markdown",
   "id": "2c775d7c-85e4-4209-8c01-06b5b423bed2",
   "metadata": {},
   "source": []
  },
  {
   "cell_type": "markdown",
   "id": "409689d7-87f4-4d4a-94b2-b6c4f4413d5c",
   "metadata": {},
   "source": [
    "5) What is the relationship between map calls and list comprehensions? Make a comparison and\n",
    "contrast between the two."
   ]
  },
  {
   "cell_type": "markdown",
   "id": "459160a3-4dfa-4dfb-8352-4cd907de1fd9",
   "metadata": {},
   "source": [
    "Ans :\n",
    "\n",
    "Map function ->  Suppose we have a function and we want to compute this funtion for different values in a single line of code. This is where map() function plays it's role.\n",
    "\n",
    "map() function returns a map object(which is basically a iterator) of the results after applying the given function to each item of a given iterable(list, tuple, etc..)."
   ]
  },
  {
   "cell_type": "markdown",
   "id": "583cc73c-7739-4bf7-b94c-67c92d227885",
   "metadata": {},
   "source": []
  },
  {
   "cell_type": "markdown",
   "id": "a97253ce-50df-4b2b-bb9c-9c1814d692e9",
   "metadata": {},
   "source": [
    "If we already have a function defined, it is often good to use map for Example, map(sum, myLists) is more than [sum(x) for x in myLists].\n",
    "\n",
    "You gain elegance of not having to make up a dummy variable (e.g. sum(x) for x or sum(_) for _ ... or sum(readableName) for readableName..)    which you have to type twice, just to iterate."
   ]
  },
  {
   "cell_type": "markdown",
   "id": "8ee6c898-ea85-4538-995a-bbd61ee62df4",
   "metadata": {},
   "source": [
    "List Comprehension is a substitute for the lambda function, map(), filter(), and reduce()."
   ]
  },
  {
   "cell_type": "markdown",
   "id": "080c76ec-e9ec-4c89-b273-2a9aca0948b4",
   "metadata": {},
   "source": []
  },
  {
   "cell_type": "markdown",
   "id": "e906119b-9524-4237-a1fc-21c3bd51942f",
   "metadata": {},
   "source": [
    "Comparision:\n",
    "\n",
    "1. List Comprehension is more concise and easier to read as compared to map().\n",
    "2. List Comprehension allows filtering where as in map() we have no such facility \n",
    "\n",
    " for example. to print all even numbers in range 100, we can write [ n for n in range(100) if n%2==0 ] There is no alternative for it in map.\n",
    " \n",
    "3. List Comprehension are used when a list of results is required, where as map only returns a map object and does not return any list.\n",
    "4. List Comprehension is faster than map when we need to evaluate expressions that are too long or complicated to express.\n",
    "5. Map is faster in case of calling an already defined functions(as no lambda is required)."
   ]
  },
  {
   "cell_type": "markdown",
   "id": "133e410e-d2cd-4d1f-b428-8214e09de177",
   "metadata": {},
   "source": []
  }
 ],
 "metadata": {
  "kernelspec": {
   "display_name": "Python 3 (ipykernel)",
   "language": "python",
   "name": "python3"
  },
  "language_info": {
   "codemirror_mode": {
    "name": "ipython",
    "version": 3
   },
   "file_extension": ".py",
   "mimetype": "text/x-python",
   "name": "python",
   "nbconvert_exporter": "python",
   "pygments_lexer": "ipython3",
   "version": "3.10.8"
  }
 },
 "nbformat": 4,
 "nbformat_minor": 5
}
