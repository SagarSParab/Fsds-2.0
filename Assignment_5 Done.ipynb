{
 "cells": [
  {
   "cell_type": "raw",
   "id": "26aab400-1ccd-4075-ba7b-fe201078b88d",
   "metadata": {},
   "source": [
    "                                                                  Python Basics Asssignment no. 5"
   ]
  },
  {
   "cell_type": "code",
   "execution_count": null,
   "id": "a1c7323e-abf9-43f2-820d-ec8eb1b1809c",
   "metadata": {},
   "outputs": [],
   "source": []
  },
  {
   "cell_type": "markdown",
   "id": "07c31aaf-2275-4c25-aafe-5162eb1d779b",
   "metadata": {},
   "source": [
    "1. What does an empty dictionary's code look like?"
   ]
  },
  {
   "cell_type": "code",
   "execution_count": null,
   "id": "2f6b1d15-edf7-4a96-90d3-64735a36e215",
   "metadata": {},
   "outputs": [],
   "source": []
  },
  {
   "cell_type": "raw",
   "id": "e3dbf6a4-cec0-4e60-bc76-8f70be347415",
   "metadata": {},
   "source": [
    "Ans: An empty dictionary is often represnted by two empty curly brackets \n",
    "d = {} or d = dict()"
   ]
  },
  {
   "cell_type": "code",
   "execution_count": null,
   "id": "3758b086-619f-4262-b212-578d7a599048",
   "metadata": {},
   "outputs": [],
   "source": []
  },
  {
   "cell_type": "code",
   "execution_count": null,
   "id": "c5a5bb4d-89f6-444e-9a66-d5fd16726f80",
   "metadata": {},
   "outputs": [],
   "source": []
  },
  {
   "cell_type": "markdown",
   "id": "276350b5-9fc2-4c01-a305-37c64d7b25bb",
   "metadata": {},
   "source": [
    "2. What is the value of a dictionary value with the key &#39;foo&#39; and the value 42?"
   ]
  },
  {
   "cell_type": "code",
   "execution_count": null,
   "id": "6cfcbe09-72f9-4d16-8f16-08fc4d20ecbc",
   "metadata": {},
   "outputs": [],
   "source": []
  },
  {
   "cell_type": "raw",
   "id": "3ab4575a-72e3-4bb4-ade0-f82f00de3eea",
   "metadata": {},
   "source": [
    "Ans. {'foo' :42}"
   ]
  },
  {
   "cell_type": "code",
   "execution_count": null,
   "id": "dd8dca4d-6659-480b-9ce1-3fd86e8b554a",
   "metadata": {},
   "outputs": [],
   "source": []
  },
  {
   "cell_type": "code",
   "execution_count": null,
   "id": "9b4a3909-66ab-4857-b9af-dd34324d7ea7",
   "metadata": {},
   "outputs": [],
   "source": []
  },
  {
   "cell_type": "markdown",
   "id": "bdbff845-4771-4dbe-bb95-65c2c3ebe782",
   "metadata": {},
   "source": [
    "3. What is the most significant distinction between a dictionary and a list?"
   ]
  },
  {
   "cell_type": "code",
   "execution_count": null,
   "id": "ff989bf6-5ec2-4ee5-ae2e-84c935da6ab8",
   "metadata": {},
   "outputs": [],
   "source": []
  },
  {
   "cell_type": "markdown",
   "id": "3f0d0fbc-73d9-4bfd-b07c-0c6f51ff9e80",
   "metadata": {},
   "source": [
    "Ans. Dictionaries are represented by {} where as lists are represented by []\n",
    " The items stored in a dictionary are unordered, while the items in a list ara ordered."
   ]
  },
  {
   "cell_type": "code",
   "execution_count": null,
   "id": "8c62b890-2ba0-4dec-98dc-fe82b660abe5",
   "metadata": {},
   "outputs": [],
   "source": []
  },
  {
   "cell_type": "code",
   "execution_count": null,
   "id": "a0bcbd70-c15f-40a2-ae91-5ac0114447ba",
   "metadata": {},
   "outputs": [],
   "source": []
  },
  {
   "cell_type": "markdown",
   "id": "c8c4a51c-8d66-4a9e-90a4-961cb5a75c97",
   "metadata": {},
   "source": [
    "4. What happens if you try to access spam[&#39;foo&#39;] if spam is {&#39;bar&#39;: 100}?"
   ]
  },
  {
   "cell_type": "code",
   "execution_count": null,
   "id": "4e027787-71b5-403e-bd23-ec089d054055",
   "metadata": {},
   "outputs": [],
   "source": []
  },
  {
   "cell_type": "raw",
   "id": "0c467ffe-aa06-4dec-9286-0d727e257a54",
   "metadata": {},
   "source": [
    "Ans. We will get a key error   KeyError : 'foo' ."
   ]
  },
  {
   "cell_type": "code",
   "execution_count": 3,
   "id": "24b72609-cf20-4942-9012-f5d19c76e47f",
   "metadata": {},
   "outputs": [
    {
     "ename": "KeyError",
     "evalue": "'foo'",
     "output_type": "error",
     "traceback": [
      "\u001b[0;31m---------------------------------------------------------------------------\u001b[0m",
      "\u001b[0;31mKeyError\u001b[0m                                  Traceback (most recent call last)",
      "Cell \u001b[0;32mIn[3], line 2\u001b[0m\n\u001b[1;32m      1\u001b[0m spam \u001b[38;5;241m=\u001b[39m {\u001b[38;5;124m'\u001b[39m\u001b[38;5;124mbar\u001b[39m\u001b[38;5;124m'\u001b[39m :\u001b[38;5;241m100\u001b[39m}\n\u001b[0;32m----> 2\u001b[0m \u001b[43mspam\u001b[49m\u001b[43m[\u001b[49m\u001b[38;5;124;43m'\u001b[39;49m\u001b[38;5;124;43mfoo\u001b[39;49m\u001b[38;5;124;43m'\u001b[39;49m\u001b[43m]\u001b[49m\n\u001b[1;32m      3\u001b[0m \u001b[38;5;66;03m# we will get the key error here\u001b[39;00m\n",
      "\u001b[0;31mKeyError\u001b[0m: 'foo'"
     ]
    }
   ],
   "source": [
    "spam = {'bar' :100}\n",
    "spam['foo']\n",
    "# we will get the key error here"
   ]
  },
  {
   "cell_type": "code",
   "execution_count": null,
   "id": "e468cd7f-2b04-492e-bcd1-e0bef066e09e",
   "metadata": {},
   "outputs": [],
   "source": []
  },
  {
   "cell_type": "code",
   "execution_count": null,
   "id": "e3746772-7d89-4b76-a58f-fec7e06d2933",
   "metadata": {},
   "outputs": [],
   "source": []
  },
  {
   "cell_type": "markdown",
   "id": "fe7eab4f-987a-48e9-ba5d-28b61aa515f1",
   "metadata": {},
   "source": [
    "5. If a dictionary is stored in spam, what is the difference between the expressions &#39;cat&#39; in spam and\n",
    "&#39;cat&#39; in spam.keys()?"
   ]
  },
  {
   "cell_type": "code",
   "execution_count": null,
   "id": "d992ecc0-eab2-4a13-8ab0-41d76a74a178",
   "metadata": {},
   "outputs": [],
   "source": []
  },
  {
   "cell_type": "code",
   "execution_count": 4,
   "id": "67384fa5-4555-494c-ae07-971ad51a4c47",
   "metadata": {},
   "outputs": [
    {
     "data": {
      "text/plain": [
       "True"
      ]
     },
     "execution_count": 4,
     "metadata": {},
     "output_type": "execute_result"
    }
   ],
   "source": [
    "spam = {'cat' : 100 }\n",
    "'cat' in spam"
   ]
  },
  {
   "cell_type": "code",
   "execution_count": 5,
   "id": "32cf6348-da97-433c-992f-71ec461425b6",
   "metadata": {},
   "outputs": [
    {
     "data": {
      "text/plain": [
       "True"
      ]
     },
     "execution_count": 5,
     "metadata": {},
     "output_type": "execute_result"
    }
   ],
   "source": [
    "'cat' in spam.keys()\n",
    "# there is no difference, both check if 'cat' is key of the dictionary and if its a key, returns True. "
   ]
  },
  {
   "cell_type": "raw",
   "id": "5d692e10-33bc-4efa-8cbb-f9893aa0a0f6",
   "metadata": {},
   "source": [
    "In both cases There is no difference. The operator checks whether a value exits as a key in a dictionary or not."
   ]
  },
  {
   "cell_type": "code",
   "execution_count": null,
   "id": "b6db3cfe-282a-448e-84b8-d1067c175af9",
   "metadata": {},
   "outputs": [],
   "source": []
  },
  {
   "cell_type": "markdown",
   "id": "85c6ea6c-58d6-49ac-95fe-d8a0b0aa71c8",
   "metadata": {},
   "source": []
  },
  {
   "cell_type": "markdown",
   "id": "7476e827-3058-427f-8278-ff0b7be42e58",
   "metadata": {},
   "source": [
    "6. If a dictionary is stored in spam, what is the difference between the expressions 'cat' in spam and 'cat' in spam.values()?"
   ]
  },
  {
   "cell_type": "code",
   "execution_count": null,
   "id": "2c38eff1-a34b-43e3-b493-da10a2937ae9",
   "metadata": {},
   "outputs": [],
   "source": []
  },
  {
   "cell_type": "raw",
   "id": "1e9930e0-bbdf-478d-aeac-7acf853b4046",
   "metadata": {},
   "source": [
    "'cat' in spam checks whether there is a 'cat' key in the dictionary"
   ]
  },
  {
   "cell_type": "code",
   "execution_count": 6,
   "id": "103e4e27-f0ad-4648-9dd4-a87e5f92de4a",
   "metadata": {},
   "outputs": [
    {
     "data": {
      "text/plain": [
       "True"
      ]
     },
     "execution_count": 6,
     "metadata": {},
     "output_type": "execute_result"
    }
   ],
   "source": [
    "spam = {'cat' : 100}\n",
    "'cat' in spam"
   ]
  },
  {
   "cell_type": "raw",
   "id": "aef12064-1e27-4d79-85f1-d5a7bf62972a",
   "metadata": {},
   "source": [
    "'cat' in spam.values checks whether there is a value 'cat'  for one of the keys in spam."
   ]
  },
  {
   "cell_type": "code",
   "execution_count": 7,
   "id": "d318b9db-e2f6-475d-903f-6e587502f692",
   "metadata": {},
   "outputs": [
    {
     "data": {
      "text/plain": [
       "False"
      ]
     },
     "execution_count": 7,
     "metadata": {},
     "output_type": "execute_result"
    }
   ],
   "source": [
    "spam = {'cat' : 100}\n",
    "'cat' in spam.values()"
   ]
  },
  {
   "cell_type": "code",
   "execution_count": null,
   "id": "e76a75af-5c02-45da-9845-4f7ff13b5375",
   "metadata": {},
   "outputs": [],
   "source": []
  },
  {
   "cell_type": "code",
   "execution_count": null,
   "id": "47b36eab-a9d5-4100-9fe6-e78e8b23803a",
   "metadata": {},
   "outputs": [],
   "source": []
  },
  {
   "cell_type": "markdown",
   "id": "251d89fe-dd2a-4c9f-93e7-c01126a988e2",
   "metadata": {},
   "source": [
    " 7. What is a shortcut for the following code?"
   ]
  },
  {
   "cell_type": "code",
   "execution_count": null,
   "id": "cdc59c63-6f66-490a-988e-4c69bbab8c62",
   "metadata": {},
   "outputs": [],
   "source": []
  },
  {
   "cell_type": "raw",
   "id": "8d6c7e55-6582-4fd1-8ea7-f004cc0af6c1",
   "metadata": {},
   "source": [
    "if 'color' not in spam:     spam['color'] ='black'"
   ]
  },
  {
   "cell_type": "code",
   "execution_count": 8,
   "id": "c1ec36a8-4cfa-4cb5-9da7-ce924e3c6aa3",
   "metadata": {},
   "outputs": [
    {
     "data": {
      "text/plain": [
       "{'cat': 100, 'color': 'black'}"
      ]
     },
     "execution_count": 8,
     "metadata": {},
     "output_type": "execute_result"
    }
   ],
   "source": [
    "spam = {'cat' : 100 }\n",
    "spam.setdefault('color' , 'black')\n",
    "spam\n"
   ]
  },
  {
   "cell_type": "code",
   "execution_count": null,
   "id": "a8d9bb35-d670-49ec-99da-46e9df185e42",
   "metadata": {},
   "outputs": [],
   "source": []
  },
  {
   "cell_type": "markdown",
   "id": "80f85b1f-7d68-4e63-bc21-b517d0902e94",
   "metadata": {},
   "source": [
    "8.How do you 'pretty print' dictionary values using which modules and function ?"
   ]
  },
  {
   "cell_type": "code",
   "execution_count": null,
   "id": "a282193c-88a5-47f9-a519-37afb6ef4876",
   "metadata": {},
   "outputs": [],
   "source": []
  },
  {
   "cell_type": "code",
   "execution_count": 20,
   "id": "c8779353-3073-4aaf-b086-86229f484746",
   "metadata": {},
   "outputs": [],
   "source": [
    "import pprint \n",
    "\n",
    "dct = [ {'Name': 'Akash', 'Age': '24' , 'Country': 'India' },\n",
    "     {'Name': 'Ganesh', 'Age': '24' , 'Country': 'India' },\n",
    "      {'Name': 'Sagar', 'Age': '25' , 'Country': 'India' }, \n",
    "      {'Name': 'Akshay', 'Age': '26' , 'Country': 'India' } \n",
    "     ]"
   ]
  },
  {
   "cell_type": "code",
   "execution_count": null,
   "id": "f5fa2148-90db-4017-8c40-786c638f1f70",
   "metadata": {},
   "outputs": [],
   "source": []
  },
  {
   "cell_type": "raw",
   "id": "53ff3231-e231-4007-baa7-b22a41a18bab",
   "metadata": {},
   "source": [
    "Printing with pprint()"
   ]
  },
  {
   "cell_type": "code",
   "execution_count": 21,
   "id": "4045c97f-e0a0-4d7c-94ac-6eecc09e3d2f",
   "metadata": {},
   "outputs": [
    {
     "name": "stdout",
     "output_type": "stream",
     "text": [
      "[{'Age': '24', 'Country': 'India', 'Name': 'Akash'},\n",
      " {'Age': '24', 'Country': 'India', 'Name': 'Ganesh'},\n",
      " {'Age': '25', 'Country': 'India', 'Name': 'Sagar'},\n",
      " {'Age': '26', 'Country': 'India', 'Name': 'Akshay'}]\n"
     ]
    }
   ],
   "source": [
    "pprint.pprint(dct)"
   ]
  },
  {
   "cell_type": "code",
   "execution_count": null,
   "id": "91a4f040-5c7b-4402-89f3-7f0dab4ca927",
   "metadata": {},
   "outputs": [],
   "source": []
  },
  {
   "cell_type": "raw",
   "id": "acab2104-1416-402d-9d58-eb8a13a107c9",
   "metadata": {},
   "source": [
    "Printing with print()"
   ]
  },
  {
   "cell_type": "code",
   "execution_count": 23,
   "id": "e14d9f51-84a3-490c-a2e0-fed599e150ce",
   "metadata": {},
   "outputs": [
    {
     "name": "stdout",
     "output_type": "stream",
     "text": [
      "[{'Name': 'Akash', 'Age': '24', 'Country': 'India'}, {'Name': 'Ganesh', 'Age': '24', 'Country': 'India'}, {'Name': 'Sagar', 'Age': '25', 'Country': 'India'}, {'Name': 'Akshay', 'Age': '26', 'Country': 'India'}]\n"
     ]
    }
   ],
   "source": [
    "print(dct)"
   ]
  },
  {
   "cell_type": "code",
   "execution_count": null,
   "id": "2fc6436c-78f8-4d30-b6df-3741278effae",
   "metadata": {},
   "outputs": [],
   "source": []
  },
  {
   "cell_type": "code",
   "execution_count": 25,
   "id": "7c4145a0-930e-49ff-bb5e-110ba183ef4c",
   "metadata": {},
   "outputs": [
    {
     "name": "stdout",
     "output_type": "stream",
     "text": [
      "Printing using print() funtion\n",
      " [{'Name': 'Akash', 'Age': '24', 'Residence': {'Country': 'India', 'city': 'Munbai'}}, {'Name': 'Ganesh', 'Age': '24', 'Residence': {'Country': 'India', 'city': 'Munbai'}}, {'Name': 'Sagar', 'Age': '25', 'Residence': {'Country': 'India', 'city': 'Munbai'}}, {'Name': 'Akshay', 'Age': '26', 'Residence': {'Country': 'India', 'city': 'Munbai'}}]\n",
      "----------------------------------------------------------------------\n",
      "Printing using pprint function\n",
      "[{'Age': '24',\n",
      "  'Name': 'Akash',\n",
      "  'Residence': {'Country': 'India', 'city': 'Munbai'}},\n",
      " {'Age': '24',\n",
      "  'Name': 'Ganesh',\n",
      "  'Residence': {'Country': 'India', 'city': 'Munbai'}},\n",
      " {'Age': '25',\n",
      "  'Name': 'Sagar',\n",
      "  'Residence': {'Country': 'India', 'city': 'Munbai'}},\n",
      " {'Age': '26',\n",
      "  'Name': 'Akshay',\n",
      "  'Residence': {'Country': 'India', 'city': 'Munbai'}}]\n",
      "----------------------------------------------------------------------\n",
      "Printing using dumps() method\n",
      " [\n",
      "    {\n",
      "        \"Name\": \"Akash\",\n",
      "        \"Age\": \"24\",\n",
      "        \"Residence\": {\n",
      "            \"Country\": \"India\",\n",
      "            \"city\": \"Munbai\"\n",
      "        }\n",
      "    },\n",
      "    {\n",
      "        \"Name\": \"Ganesh\",\n",
      "        \"Age\": \"24\",\n",
      "        \"Residence\": {\n",
      "            \"Country\": \"India\",\n",
      "            \"city\": \"Munbai\"\n",
      "        }\n",
      "    },\n",
      "    {\n",
      "        \"Name\": \"Sagar\",\n",
      "        \"Age\": \"25\",\n",
      "        \"Residence\": {\n",
      "            \"Country\": \"India\",\n",
      "            \"city\": \"Munbai\"\n",
      "        }\n",
      "    },\n",
      "    {\n",
      "        \"Name\": \"Akshay\",\n",
      "        \"Age\": \"26\",\n",
      "        \"Residence\": {\n",
      "            \"Country\": \"India\",\n",
      "            \"city\": \"Munbai\"\n",
      "        }\n",
      "    }\n",
      "]\n",
      "----------------------------------------------------------------------\n",
      "Printing using dump() method\n",
      " - Age: '24'\n",
      "  Name: Akash\n",
      "  Residence:\n",
      "    Country: India\n",
      "    city: Munbai\n",
      "- Age: '24'\n",
      "  Name: Ganesh\n",
      "  Residence:\n",
      "    Country: India\n",
      "    city: Munbai\n",
      "- Age: '25'\n",
      "  Name: Sagar\n",
      "  Residence:\n",
      "    Country: India\n",
      "    city: Munbai\n",
      "- Age: '26'\n",
      "  Name: Akshay\n",
      "  Residence:\n",
      "    Country: India\n",
      "    city: Munbai\n",
      "\n"
     ]
    }
   ],
   "source": [
    "\n",
    "ndict = [ {'Name': 'Akash', 'Age': '24' ,'Residence' : {'Country': 'India' , 'city' : 'Munbai'}},\n",
    "     {'Name': 'Ganesh', 'Age': '24' , 'Residence' : {'Country': 'India' , 'city' : 'Munbai'}},\n",
    "      {'Name': 'Sagar', 'Age': '25' , 'Residence' : {'Country': 'India' , 'city' : 'Munbai'}}, \n",
    "      {'Name': 'Akshay', 'Age': '26' , 'Residence' : {'Country': 'India' , 'city' : 'Munbai'}} \n",
    "     ] \n",
    "\n",
    "print('Printing using print() funtion\\n', ndict)\n",
    "print('-'*70)\n",
    "\n",
    "import pprint \n",
    "print('Printing using pprint function')\n",
    "pprint.pprint(ndict)\n",
    "print('-'*70)\n",
    "\n",
    "import json\n",
    "dump = json.dumps(ndict, indent = 4)\n",
    "print('Printing using dumps() method\\n' , dump)\n",
    "print('-'*70)\n",
    "\n",
    "import yaml\n",
    "dump = yaml.dump(ndict)\n",
    "print('Printing using dump() method\\n' , dump)\n",
    "\n"
   ]
  },
  {
   "cell_type": "code",
   "execution_count": null,
   "id": "f9711ba9-96d1-4ddc-b297-b2d8c0094f5e",
   "metadata": {},
   "outputs": [],
   "source": []
  }
 ],
 "metadata": {
  "kernelspec": {
   "display_name": "Python 3 (ipykernel)",
   "language": "python",
   "name": "python3"
  },
  "language_info": {
   "codemirror_mode": {
    "name": "ipython",
    "version": 3
   },
   "file_extension": ".py",
   "mimetype": "text/x-python",
   "name": "python",
   "nbconvert_exporter": "python",
   "pygments_lexer": "ipython3",
   "version": "3.10.8"
  }
 },
 "nbformat": 4,
 "nbformat_minor": 5
}
