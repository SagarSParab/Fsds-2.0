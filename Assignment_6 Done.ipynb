{
 "cells": [
  {
   "cell_type": "markdown",
   "id": "d4222d75-3414-4fc8-a823-7b446db5b8e5",
   "metadata": {},
   "source": [
    "                                                                                Assignment 6"
   ]
  },
  {
   "cell_type": "markdown",
   "id": "e2f0aff0-b997-4605-9877-8ef4060bc877",
   "metadata": {},
   "source": []
  },
  {
   "cell_type": "markdown",
   "id": "c186cc58-53ac-4749-b4c7-5368c69ce0e1",
   "metadata": {},
   "source": [
    "1. What are escape characters, and how do you use them?"
   ]
  },
  {
   "cell_type": "raw",
   "id": "6bdc4c05-1938-4d79-919d-7db014b1cb28",
   "metadata": {},
   "source": [
    "In python Strings, the backslash \"\" is a special character, also called as \"escape\" character. it is used in representing certain whitespace characters.\n",
    "\"\\t\" is a tab, \"\\n\" us newline and \"\\r\" is a carriage return."
   ]
  },
  {
   "cell_type": "code",
   "execution_count": 1,
   "id": "4a225d7c-b3f3-461d-8299-63b4a0b1410a",
   "metadata": {},
   "outputs": [
    {
     "name": "stdout",
     "output_type": "stream",
     "text": [
      "my name is \n"
     ]
    }
   ],
   "source": [
    "print(\"my \\\n",
    "name \\\n",
    "is \" )\n"
   ]
  },
  {
   "cell_type": "markdown",
   "id": "21e9db12-43d6-43c1-ad8d-5f4d5f08d43d",
   "metadata": {},
   "source": []
  },
  {
   "cell_type": "markdown",
   "id": "5ec93443-3bda-46cf-8364-69f485982930",
   "metadata": {},
   "source": [
    "2.What do the escape characters n and t stand for ?"
   ]
  },
  {
   "cell_type": "raw",
   "id": "ed445929-1567-4d10-9481-a76ac90ef305",
   "metadata": {},
   "source": [
    "Ans:  \"\\n\" is a newline and \"\\t\" is a tab "
   ]
  },
  {
   "cell_type": "markdown",
   "id": "28398f78-9614-4106-93c2-9fc53ec65e0a",
   "metadata": {},
   "source": []
  },
  {
   "cell_type": "markdown",
   "id": "35ea58ed-78be-42d8-a0ca-21a539516b87",
   "metadata": {},
   "source": [
    "3.What is the way to include backslash character in a string?"
   ]
  },
  {
   "cell_type": "raw",
   "id": "08b5e3cb-107f-430c-b315-1806aa865d72",
   "metadata": {},
   "source": [
    "Ans: The \\\\ escape character will represent the backslash character in a string."
   ]
  },
  {
   "cell_type": "markdown",
   "id": "5e0747e5-e439-4c34-9306-e150f51e7472",
   "metadata": {},
   "source": []
  },
  {
   "cell_type": "markdown",
   "id": "3a1bbc9c-a798-4978-9136-0e9835d644bb",
   "metadata": {},
   "source": [
    "4.The string \"Howl's Moving Castle\" is a correct value. Why isn't the single quote character in the word Howl's not escaped a problem ?"
   ]
  },
  {
   "cell_type": "raw",
   "id": "ccdc0a18-b671-45fc-9203-323cc08fd626",
   "metadata": {},
   "source": [
    "Ans: The string \"Howl's Moving Castle\" escaped the problem because it is wrapped inside double quotes. if its wrapped in single quotes then we have to use escape character \\' to show single quote in final output "
   ]
  },
  {
   "cell_type": "code",
   "execution_count": 2,
   "id": "27bacf12-d2c3-479f-a560-3029bb50bec5",
   "metadata": {},
   "outputs": [
    {
     "data": {
      "text/plain": [
       "\"Howl's Moving Castle\""
      ]
     },
     "execution_count": 2,
     "metadata": {},
     "output_type": "execute_result"
    }
   ],
   "source": [
    "'Howl\\'s Moving Castle'"
   ]
  },
  {
   "cell_type": "markdown",
   "id": "15c8346e-764b-4487-9b3f-1706864f0a27",
   "metadata": {},
   "source": []
  },
  {
   "cell_type": "markdown",
   "id": "62155ec8-e9c7-4649-877a-edf2b00506b6",
   "metadata": {},
   "source": [
    "5.How do you write a string of newlines if you don't want to use the n character?"
   ]
  },
  {
   "cell_type": "raw",
   "id": "707efafc-7fce-465c-ac6c-bbd1e1253819",
   "metadata": {},
   "source": [
    "Multiline strings allow you to use newlines in string without the \\n escape character"
   ]
  },
  {
   "cell_type": "code",
   "execution_count": 5,
   "id": "5660d7bb-42b4-43e9-9eef-b9e77d5b4779",
   "metadata": {},
   "outputs": [
    {
     "name": "stdout",
     "output_type": "stream",
     "text": [
      " ineuron full stack\n",
      "Data Science Course\n"
     ]
    }
   ],
   "source": [
    "a = ''' ineuron full stack\n",
    "Data Science Course'''\n",
    "print(a)"
   ]
  },
  {
   "cell_type": "markdown",
   "id": "fe491e54-893c-42b4-bbd4-08e47e0400f1",
   "metadata": {},
   "source": []
  },
  {
   "cell_type": "markdown",
   "id": "bd314a43-7f76-420c-bb07-245cc1c08e36",
   "metadata": {},
   "source": [
    "6.What are the values of the given expressions ?\n",
    "\n",
    "'Hello, world!'[1]\n",
    "\n",
    "'Hello, world!'[0:5]\n",
    "\n",
    "'Hello, world!'[:5]\n",
    "\n",
    "'Hello, world!'[3:]"
   ]
  },
  {
   "cell_type": "code",
   "execution_count": 9,
   "id": "fbade2c4-4b54-4031-ae2b-3202ef0a6999",
   "metadata": {},
   "outputs": [
    {
     "data": {
      "text/plain": [
       "'e'"
      ]
     },
     "execution_count": 9,
     "metadata": {},
     "output_type": "execute_result"
    }
   ],
   "source": [
    "'Hello, world!'[1]"
   ]
  },
  {
   "cell_type": "code",
   "execution_count": 8,
   "id": "b72b049b-03d8-4ce3-ae65-99f8f00da55f",
   "metadata": {},
   "outputs": [
    {
     "data": {
      "text/plain": [
       "'Hello'"
      ]
     },
     "execution_count": 8,
     "metadata": {},
     "output_type": "execute_result"
    }
   ],
   "source": [
    "'Hello, world!'[0:5]"
   ]
  },
  {
   "cell_type": "code",
   "execution_count": 11,
   "id": "00cc87e8-e8ef-46a7-a042-2d481fded1bf",
   "metadata": {},
   "outputs": [
    {
     "data": {
      "text/plain": [
       "'Hello'"
      ]
     },
     "execution_count": 11,
     "metadata": {},
     "output_type": "execute_result"
    }
   ],
   "source": [
    "'Hello, world!'[:5]"
   ]
  },
  {
   "cell_type": "code",
   "execution_count": 13,
   "id": "29061ab6-a14e-4a0a-8b66-3dfb0bde059e",
   "metadata": {},
   "outputs": [
    {
     "data": {
      "text/plain": [
       "'lo, world!'"
      ]
     },
     "execution_count": 13,
     "metadata": {},
     "output_type": "execute_result"
    }
   ],
   "source": [
    "'Hello, world!'[3:]"
   ]
  },
  {
   "cell_type": "markdown",
   "id": "c615e1e2-beba-4f16-885f-b9fda736bab6",
   "metadata": {},
   "source": []
  },
  {
   "cell_type": "markdown",
   "id": "fcbea4a6-1f01-4ab3-8fdd-fb95023aca74",
   "metadata": {},
   "source": [
    "7.What are the values of the following expressions ?\n",
    "\n",
    "'Hello'.upper()\n",
    "\n",
    "'Hello'.upper().isupper()\n",
    "\n",
    "'Hello'.upper().lower()"
   ]
  },
  {
   "cell_type": "code",
   "execution_count": 14,
   "id": "196e72a4-ba3a-40e9-998d-054514a50f10",
   "metadata": {},
   "outputs": [
    {
     "data": {
      "text/plain": [
       "'HELLO'"
      ]
     },
     "execution_count": 14,
     "metadata": {},
     "output_type": "execute_result"
    }
   ],
   "source": [
    "'Hello'.upper()"
   ]
  },
  {
   "cell_type": "code",
   "execution_count": 15,
   "id": "2f3278d3-0ff8-4c63-881b-32d747250911",
   "metadata": {},
   "outputs": [
    {
     "data": {
      "text/plain": [
       "True"
      ]
     },
     "execution_count": 15,
     "metadata": {},
     "output_type": "execute_result"
    }
   ],
   "source": [
    "'Hello'.upper().isupper()"
   ]
  },
  {
   "cell_type": "code",
   "execution_count": 17,
   "id": "67f2ef86-7af4-4d5a-95ce-d518ac88fbe7",
   "metadata": {},
   "outputs": [
    {
     "data": {
      "text/plain": [
       "'hello'"
      ]
     },
     "execution_count": 17,
     "metadata": {},
     "output_type": "execute_result"
    }
   ],
   "source": [
    "'Hello'.upper().lower()"
   ]
  },
  {
   "cell_type": "markdown",
   "id": "5949437e-2d76-45f1-98a0-6c913be7bb1e",
   "metadata": {},
   "source": []
  },
  {
   "cell_type": "markdown",
   "id": "adbe4470-a940-4caa-935b-d9fd9c0fde4c",
   "metadata": {},
   "source": [
    "8. What are the values of the following expressions?\n",
    "&#39;Remember, remember, the fifth of July.&#39;.split()\n",
    "&#39;-&#39;.join(&#39;There can only one.&#39;.split())"
   ]
  },
  {
   "cell_type": "code",
   "execution_count": 19,
   "id": "def4bc14-79af-44ba-81f2-07b064c5c0d7",
   "metadata": {},
   "outputs": [
    {
     "data": {
      "text/plain": [
       "['Remember,', 'remember,', 'the', 'fifith', 'of', 'July.']"
      ]
     },
     "execution_count": 19,
     "metadata": {},
     "output_type": "execute_result"
    }
   ],
   "source": [
    "'Remember, remember, the fifith of July.'.split()"
   ]
  },
  {
   "cell_type": "code",
   "execution_count": 20,
   "id": "979e1047-a292-491c-9bf9-93de6ac96e93",
   "metadata": {},
   "outputs": [
    {
     "data": {
      "text/plain": [
       "'There-can-only-one'"
      ]
     },
     "execution_count": 20,
     "metadata": {},
     "output_type": "execute_result"
    }
   ],
   "source": [
    "'-'.join('There can only one'.split())"
   ]
  },
  {
   "cell_type": "markdown",
   "id": "4e047233-2955-4223-9458-df291debf88d",
   "metadata": {},
   "source": []
  },
  {
   "cell_type": "markdown",
   "id": "c932ba81-6983-4b1e-8d4b-3c9b2b698407",
   "metadata": {},
   "source": [
    "9.What are the methods for right-justifying, left-justifying and centering a string ?"
   ]
  },
  {
   "cell_type": "raw",
   "id": "a9e6f0b1-e17c-41e9-9df8-e3893bdb0b9a",
   "metadata": {},
   "source": [
    "Ans: The rjust(), ljust() and center() string methods respectively."
   ]
  },
  {
   "cell_type": "code",
   "execution_count": 32,
   "id": "0df0b05d-4757-4c57-922c-cb5abea97ce0",
   "metadata": {},
   "outputs": [
    {
     "data": {
      "text/plain": [
       "'----------------------shankara'"
      ]
     },
     "execution_count": 32,
     "metadata": {},
     "output_type": "execute_result"
    }
   ],
   "source": [
    "# right justfied\n",
    "\n",
    "str = \"shankara\"\n",
    "str.rjust(30,\"-\")\n"
   ]
  },
  {
   "cell_type": "code",
   "execution_count": 31,
   "id": "57b9294a-a924-467c-908e-58e6ecfa7361",
   "metadata": {},
   "outputs": [
    {
     "data": {
      "text/plain": [
       "'My name is**********'"
      ]
     },
     "execution_count": 31,
     "metadata": {},
     "output_type": "execute_result"
    }
   ],
   "source": [
    "# left justified \n",
    "\n",
    "str = \"My name is\"\n",
    "str.ljust(20, \"*\")"
   ]
  },
  {
   "cell_type": "code",
   "execution_count": 33,
   "id": "7ac13f19-8bdb-4995-9c4c-a859726af07f",
   "metadata": {},
   "outputs": [
    {
     "data": {
      "text/plain": [
       "'#################Om Namah Shivay##################'"
      ]
     },
     "execution_count": 33,
     "metadata": {},
     "output_type": "execute_result"
    }
   ],
   "source": [
    "# center justified\n",
    "str = \"Om Namah Shivay\"\n",
    "str.center(50, \"#\")"
   ]
  },
  {
   "cell_type": "markdown",
   "id": "450e6e72-b8a2-4c69-ad7c-e12eace7eb07",
   "metadata": {},
   "source": []
  },
  {
   "cell_type": "markdown",
   "id": "fd4ec7dc-79a7-4c77-892e-94d54a22d1de",
   "metadata": {},
   "source": [
    "10.What is the best way to remove whitespace characters from the start or end ?"
   ]
  },
  {
   "cell_type": "raw",
   "id": "fb6a4cc3-6bd2-4cad-ab4c-336143c2180c",
   "metadata": {},
   "source": [
    "Ans :  The rstrip() and lstrip() methods remove whitespace charaters from the right and left ends of a string respectively."
   ]
  },
  {
   "cell_type": "code",
   "execution_count": 36,
   "id": "ddbd34d7-7c33-454a-968e-5dac9b3fee73",
   "metadata": {},
   "outputs": [
    {
     "data": {
      "text/plain": [
       "'  abcdefghijklmn'"
      ]
     },
     "execution_count": 36,
     "metadata": {},
     "output_type": "execute_result"
    }
   ],
   "source": [
    "str = \"  abcdefghijklmn     \"\n",
    "str.rstrip()"
   ]
  },
  {
   "cell_type": "code",
   "execution_count": 37,
   "id": "4678f12c-ca2c-4a73-9ba2-b5e28c4f59cd",
   "metadata": {},
   "outputs": [
    {
     "data": {
      "text/plain": [
       "'abcdefghijklmnop                '"
      ]
     },
     "execution_count": 37,
     "metadata": {},
     "output_type": "execute_result"
    }
   ],
   "source": [
    "str = \"  abcdefghijklmnop                \"\n",
    "str.lstrip()"
   ]
  },
  {
   "cell_type": "code",
   "execution_count": null,
   "id": "87daf49e-98e1-4728-9ebf-669840871507",
   "metadata": {},
   "outputs": [],
   "source": []
  }
 ],
 "metadata": {
  "kernelspec": {
   "display_name": "Python 3 (ipykernel)",
   "language": "python",
   "name": "python3"
  },
  "language_info": {
   "codemirror_mode": {
    "name": "ipython",
    "version": 3
   },
   "file_extension": ".py",
   "mimetype": "text/x-python",
   "name": "python",
   "nbconvert_exporter": "python",
   "pygments_lexer": "ipython3",
   "version": "3.10.8"
  }
 },
 "nbformat": 4,
 "nbformat_minor": 5
}
