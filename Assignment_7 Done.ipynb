{
 "cells": [
  {
   "cell_type": "markdown",
   "id": "8463d33e-c162-4a31-888d-774fae4689c7",
   "metadata": {},
   "source": [
    "                                                                                    Assignment no. 7 "
   ]
  },
  {
   "cell_type": "markdown",
   "id": "143d5758-df58-475b-9259-27cb71170445",
   "metadata": {},
   "source": []
  },
  {
   "cell_type": "markdown",
   "id": "ba43f1ba-2d27-4f73-b8c2-4d0a30443a80",
   "metadata": {},
   "source": [
    "1. What is the name of the feature responsible for generating Regex objects?"
   ]
  },
  {
   "cell_type": "raw",
   "id": "b5ec3dd4-4056-4c9e-839a-a3ebce56c046",
   "metadata": {},
   "source": [
    "Ans : re.complie() is the feature responsible for generation of Regex objects."
   ]
  },
  {
   "cell_type": "code",
   "execution_count": 1,
   "id": "3415da9f-d252-4c29-b480-4ddd6a8b3df0",
   "metadata": {},
   "outputs": [
    {
     "name": "stdout",
     "output_type": "stream",
     "text": [
      "re.compile('some_randon_pattern')\n"
     ]
    }
   ],
   "source": [
    "import re\n",
    "x = re.compile(\"some_randon_pattern\")\n",
    "type(x)\n",
    "print(x)\n"
   ]
  },
  {
   "cell_type": "markdown",
   "id": "1483dcf7-632a-4006-9849-156f11504ad4",
   "metadata": {},
   "source": []
  },
  {
   "cell_type": "markdown",
   "id": "8360d40c-73c8-42be-88bd-007a107dc694",
   "metadata": {},
   "source": [
    "2. Why do raw strings often appear in Regex objects?"
   ]
  },
  {
   "cell_type": "raw",
   "id": "ef19d7b7-2fe2-4680-a775-ede18b782566",
   "metadata": {},
   "source": [
    "Ans : Raw strings are used so that backslashes do not have to escaped."
   ]
  },
  {
   "cell_type": "markdown",
   "id": "2746dd3c-89fa-462c-a595-f5b34511df5f",
   "metadata": {},
   "source": []
  },
  {
   "cell_type": "markdown",
   "id": "07702dbe-db79-447a-81ce-c7b435610f58",
   "metadata": {},
   "source": [
    "3. What is the return value of the search() method?"
   ]
  },
  {
   "cell_type": "raw",
   "id": "bcd5f3af-b247-4b8d-9cef-06543c1b5935",
   "metadata": {},
   "source": [
    "Ans : The Search() method searches a string for a specified value, and returns the position of the match. The search value can be string or a regular expression.\n",
    "This method returns -1 if no result is found."
   ]
  },
  {
   "cell_type": "markdown",
   "id": "61093ee8-7598-40e1-827e-fbfe9120c98a",
   "metadata": {},
   "source": []
  },
  {
   "cell_type": "markdown",
   "id": "683730f6-4974-48b2-a5b8-ad364cf18299",
   "metadata": {},
   "source": [
    "4. From a Match item, how do you get the actual strings that match the pattern?"
   ]
  },
  {
   "cell_type": "code",
   "execution_count": 13,
   "id": "c47dfeb4-5fc1-4914-af6c-e0e10533a1ba",
   "metadata": {},
   "outputs": [
    {
     "name": "stdout",
     "output_type": "stream",
     "text": [
      "Phone number found: 908-279-5084\n"
     ]
    }
   ],
   "source": [
    "import re\n",
    "\n",
    "phoneNumRegex = re.compile(r'\\d\\d\\d-\\d\\d\\d-\\d\\d\\d\\d')\n",
    "matchingobject = phoneNumRegex.search('My number is 908-279-5084.')\n",
    "print('Phone number found: ' + matchingobject.group() )\n",
    "\n",
    "# calling matchObject.group() will return the string."
   ]
  },
  {
   "cell_type": "markdown",
   "id": "06b9f6f2-4ec1-4601-a42c-c983fa3b2004",
   "metadata": {},
   "source": []
  },
  {
   "cell_type": "markdown",
   "id": "09ddf95d-1a77-472b-97c2-67fe5a2353b9",
   "metadata": {},
   "source": [
    "5. In the regex which created from the r&#39;(\\d\\d\\d)-(\\d\\d\\d-\\d\\d\\d\\d)&#39;, what does group zero cover?\n",
    "Group 2? Group 1?"
   ]
  },
  {
   "cell_type": "code",
   "execution_count": 15,
   "id": "d90e9231-ee76-4a64-bc40-05956823e8ab",
   "metadata": {},
   "outputs": [
    {
     "data": {
      "text/plain": [
       "'908-279-5084'"
      ]
     },
     "execution_count": 15,
     "metadata": {},
     "output_type": "execute_result"
    }
   ],
   "source": [
    "phoneNumRegex = re.compile(r'(\\d\\d\\d)-(\\d\\d\\d)-(\\d\\d\\d\\d)')\n",
    "mo = phoneNumRegex.search('My number is 908-279-5084.')\n",
    "mo.group(0)"
   ]
  },
  {
   "cell_type": "code",
   "execution_count": 16,
   "id": "c1058a2b-1490-450b-9265-d399214c04ee",
   "metadata": {},
   "outputs": [
    {
     "data": {
      "text/plain": [
       "'279'"
      ]
     },
     "execution_count": 16,
     "metadata": {},
     "output_type": "execute_result"
    }
   ],
   "source": [
    "phoneNumRegex = re.compile(r'(\\d\\d\\d)-(\\d\\d\\d)-(\\d\\d\\d\\d)')\n",
    "mo = phoneNumRegex.search('My number is 908-279-5084.')\n",
    "mo.group(2)"
   ]
  },
  {
   "cell_type": "code",
   "execution_count": 17,
   "id": "91c16111-fec5-4428-be26-b15c68af59eb",
   "metadata": {},
   "outputs": [
    {
     "data": {
      "text/plain": [
       "'908'"
      ]
     },
     "execution_count": 17,
     "metadata": {},
     "output_type": "execute_result"
    }
   ],
   "source": [
    "phoneNumRegex = re.compile(r'(\\d\\d\\d)-(\\d\\d\\d)-(\\d\\d\\d\\d)')\n",
    "mo = phoneNumRegex.search('My number is 908-279-5084.')\n",
    "mo.group(1)"
   ]
  },
  {
   "cell_type": "code",
   "execution_count": 18,
   "id": "d369d04f-b8f5-4948-86c3-70c7db17aad3",
   "metadata": {},
   "outputs": [
    {
     "data": {
      "text/plain": [
       "'5084'"
      ]
     },
     "execution_count": 18,
     "metadata": {},
     "output_type": "execute_result"
    }
   ],
   "source": [
    "phoneNumRegex = re.compile(r'(\\d\\d\\d)-(\\d\\d\\d)-(\\d\\d\\d\\d)')\n",
    "mo = phoneNumRegex.search('My number is 908-279-5084.')\n",
    "mo.group(3)"
   ]
  },
  {
   "cell_type": "code",
   "execution_count": 19,
   "id": "b6bcbb62-7977-42da-b0db-43b2460f3ba7",
   "metadata": {},
   "outputs": [
    {
     "ename": "IndexError",
     "evalue": "no such group",
     "output_type": "error",
     "traceback": [
      "\u001b[0;31m---------------------------------------------------------------------------\u001b[0m",
      "\u001b[0;31mIndexError\u001b[0m                                Traceback (most recent call last)",
      "Cell \u001b[0;32mIn[19], line 3\u001b[0m\n\u001b[1;32m      1\u001b[0m phoneNumRegex \u001b[38;5;241m=\u001b[39m re\u001b[38;5;241m.\u001b[39mcompile(\u001b[38;5;124mr\u001b[39m\u001b[38;5;124m'\u001b[39m\u001b[38;5;124m(\u001b[39m\u001b[38;5;124m\\\u001b[39m\u001b[38;5;124md\u001b[39m\u001b[38;5;124m\\\u001b[39m\u001b[38;5;124md\u001b[39m\u001b[38;5;124m\\\u001b[39m\u001b[38;5;124md)-(\u001b[39m\u001b[38;5;124m\\\u001b[39m\u001b[38;5;124md\u001b[39m\u001b[38;5;124m\\\u001b[39m\u001b[38;5;124md\u001b[39m\u001b[38;5;124m\\\u001b[39m\u001b[38;5;124md)-(\u001b[39m\u001b[38;5;124m\\\u001b[39m\u001b[38;5;124md\u001b[39m\u001b[38;5;124m\\\u001b[39m\u001b[38;5;124md\u001b[39m\u001b[38;5;124m\\\u001b[39m\u001b[38;5;124md\u001b[39m\u001b[38;5;124m\\\u001b[39m\u001b[38;5;124md)\u001b[39m\u001b[38;5;124m'\u001b[39m)\n\u001b[1;32m      2\u001b[0m mo \u001b[38;5;241m=\u001b[39m phoneNumRegex\u001b[38;5;241m.\u001b[39msearch(\u001b[38;5;124m'\u001b[39m\u001b[38;5;124mMy number is 908-279-5084.\u001b[39m\u001b[38;5;124m'\u001b[39m)\n\u001b[0;32m----> 3\u001b[0m \u001b[43mmo\u001b[49m\u001b[38;5;241;43m.\u001b[39;49m\u001b[43mgroup\u001b[49m\u001b[43m(\u001b[49m\u001b[38;5;241;43m4\u001b[39;49m\u001b[43m)\u001b[49m\n",
      "\u001b[0;31mIndexError\u001b[0m: no such group"
     ]
    }
   ],
   "source": [
    "phoneNumRegex = re.compile(r'(\\d\\d\\d)-(\\d\\d\\d)-(\\d\\d\\d\\d)')\n",
    "mo = phoneNumRegex.search('My number is 908-279-5084.')\n",
    "mo.group(4)"
   ]
  },
  {
   "cell_type": "markdown",
   "id": "2a684912-be80-4e31-941d-903b04372c7e",
   "metadata": {},
   "source": []
  },
  {
   "cell_type": "markdown",
   "id": "a1cc1231-de43-441f-a3cf-bb97d88d49a8",
   "metadata": {},
   "source": [
    "6. In standard expression syntax, parentheses and intervals have distinct meanings. How can you tell\n",
    "a regex that you want it to fit real parentheses and periods?"
   ]
  },
  {
   "cell_type": "raw",
   "id": "d3bf6beb-9760-4822-b11c-a26a69b20942",
   "metadata": {},
   "source": [
    "Ans : Periods and Parantheses can be escaped with \\. \\( and \\)"
   ]
  },
  {
   "cell_type": "code",
   "execution_count": 25,
   "id": "f1c6f07d-111c-4fe2-81da-af1d17ec9eb4",
   "metadata": {},
   "outputs": [
    {
     "name": "stdout",
     "output_type": "stream",
     "text": [
      "(908) 279-5084\n"
     ]
    }
   ],
   "source": [
    "# example\n",
    "\n",
    "import re\n",
    "\n",
    "phoneNumRegex = re.compile(r'(\\(\\d\\d\\d\\)) (\\d\\d\\d-\\d\\d\\d\\d)')\n",
    "mo = phoneNumRegex.search('My number is (908) 279-5084.')\n",
    "print(mo.group())"
   ]
  },
  {
   "cell_type": "markdown",
   "id": "052b2562-dd13-4581-a4d4-c25d64af014a",
   "metadata": {},
   "source": []
  },
  {
   "cell_type": "markdown",
   "id": "130fc162-220d-4068-aa7a-bef68b7eba73",
   "metadata": {},
   "source": [
    "7. The findall() method returns a string list or a list of string tuples. What causes it to return one of\n",
    "the two options?"
   ]
  },
  {
   "cell_type": "raw",
   "id": "fa96f292-b468-428f-ac34-631fe885cc08",
   "metadata": {},
   "source": [
    "Ans : If the Regex Pattern has no groups, then a list of strings matched is returned. if the Regex Pattern has groups, then a list of tuple of strings is returned.\n",
    " let's understand this with an example."
   ]
  },
  {
   "cell_type": "code",
   "execution_count": 33,
   "id": "7bf5635c-816a-47c8-ab41-87ad3c4607fc",
   "metadata": {},
   "outputs": [
    {
     "name": "stdout",
     "output_type": "stream",
     "text": [
      "[('(908)', '279-5084')]\n"
     ]
    }
   ],
   "source": [
    "import re\n",
    "phoneNumRegex = re.compile(r'(\\(\\d\\d\\d\\)) (\\d\\d\\d-\\d\\d\\d\\d)')\n",
    "mo = phoneNumRegex.findall('My number is (908) 279-5084.')\n",
    "print(mo)"
   ]
  },
  {
   "cell_type": "code",
   "execution_count": 36,
   "id": "79bc074e-412e-4582-ac76-43a5eac6ce31",
   "metadata": {},
   "outputs": [
    {
     "name": "stdout",
     "output_type": "stream",
     "text": [
      "['908-279-5084']\n"
     ]
    }
   ],
   "source": [
    "import re\n",
    "phoneNumRegex = re.compile(r'\\d{3}-\\d{3}-\\d{4}')\n",
    "mo = phoneNumRegex.findall('My number is 908-279-5084.')\n",
    "print(mo)"
   ]
  },
  {
   "cell_type": "markdown",
   "id": "e8b0eaea-c3c9-4c8a-a8e2-8a9d57992e0f",
   "metadata": {},
   "source": []
  },
  {
   "cell_type": "markdown",
   "id": "20528cf3-2f2e-4a8e-9170-4de735af586f",
   "metadata": {},
   "source": [
    "8. In standard expressions, what does the | character mean?"
   ]
  },
  {
   "cell_type": "raw",
   "id": "f4c108c6-097b-4705-90a8-f753b4fb0b02",
   "metadata": {},
   "source": [
    "Ans : in standard expressions | means OR operator.\n",
    "The | character is called as pip. We can use it anywhere we want to match one of many expressions. \n",
    "For Example, the regular expression r'Cricket|Hockey Sport' will match either 'Cricket' or 'Hockey Sport'.\n",
    "\n",
    "When both Cricket and Hockey Sport occur in the searched string, the first occurence of matching text will be returned as the Match object.\n",
    " \n",
    "The | character signifies matching 'either' or 'between two groups'."
   ]
  },
  {
   "cell_type": "code",
   "execution_count": 37,
   "id": "68f08a40-0fc7-4319-8972-3a3c2d38c0a6",
   "metadata": {},
   "outputs": [
    {
     "data": {
      "text/plain": [
       "'Cricket'"
      ]
     },
     "execution_count": 37,
     "metadata": {},
     "output_type": "execute_result"
    }
   ],
   "source": [
    "SportRegex = re.compile(r'Cricket|Hockey Sport')\n",
    "s1 = SportRegex.search('Cricket and Hockey Sport')\n",
    "s1.group()"
   ]
  },
  {
   "cell_type": "code",
   "execution_count": 40,
   "id": "393a9bc3-b964-4706-a48d-a26865bfc1d7",
   "metadata": {},
   "outputs": [
    {
     "data": {
      "text/plain": [
       "'Hockey'"
      ]
     },
     "execution_count": 40,
     "metadata": {},
     "output_type": "execute_result"
    }
   ],
   "source": [
    "SportRegex = re.compile(r'Hockey|Cricket Sport')\n",
    "s2 = SportRegex.search('Hockey and Cricket Sport')\n",
    "s2.group()"
   ]
  },
  {
   "cell_type": "markdown",
   "id": "5f3e89d8-bd21-4bab-a9b7-59f6e62c8c59",
   "metadata": {},
   "source": []
  },
  {
   "cell_type": "markdown",
   "id": "2c195738-d8a7-4df6-b3a1-9782156499a4",
   "metadata": {},
   "source": [
    "9. In regular expressions, what does the ? character stand for?"
   ]
  },
  {
   "cell_type": "raw",
   "id": "72dfd642-74d2-4ea1-95cd-f446b36dac3c",
   "metadata": {},
   "source": [
    "Ans : in regular expressions, ? character represents zero or one of the match of preceeding group"
   ]
  },
  {
   "cell_type": "code",
   "execution_count": 43,
   "id": "bd2425df-0920-40d3-910e-d45f0fdc6645",
   "metadata": {},
   "outputs": [
    {
     "name": "stdout",
     "output_type": "stream",
     "text": [
      "<re.Match object; span=(0, 8), match='Superman'>\n",
      "<re.Match object; span=(0, 10), match='Superwoman'>\n"
     ]
    }
   ],
   "source": [
    "import re\n",
    "match_1 = re.search(\"Super(wo)?man\", \"Superman returns\")\n",
    "print(match_1)\n",
    "\n",
    "match_2 = re.search(\"Super(wo)?man\" , \"Superwoman returns\")\n",
    "print(match_2)"
   ]
  },
  {
   "cell_type": "markdown",
   "id": "e2fca55e-e61f-49de-a13c-896a81640eb7",
   "metadata": {},
   "source": []
  },
  {
   "cell_type": "markdown",
   "id": "33d3a1a7-1981-4eb6-8b87-96e12cb560ae",
   "metadata": {},
   "source": [
    "10. In regular expressions, what is the difference between the + and * characters?"
   ]
  },
  {
   "cell_type": "raw",
   "id": "ba1fac1d-810b-4e20-90cb-d219b0e267cc",
   "metadata": {},
   "source": [
    "Ans : in regular expressions, * Represents Zero or more occurences of the preceeding group, whereas + Represents one or more occurences of the preceeding group."
   ]
  },
  {
   "cell_type": "code",
   "execution_count": 41,
   "id": "c4a53e2c-775f-4465-8845-d3bce210daee",
   "metadata": {},
   "outputs": [
    {
     "name": "stdout",
     "output_type": "stream",
     "text": [
      "<re.Match object; span=(0, 6), match='Batman'>\n",
      "None\n"
     ]
    }
   ],
   "source": [
    "import re\n",
    "match_1 = re.search(\"Bat(wo)*man\", \"Batman returns\")\n",
    "print(match_1)\n",
    "\n",
    "match_2 = re.search(\"Bat(wo)+man\" , \"Batman returns\")\n",
    "print(match_2)"
   ]
  },
  {
   "cell_type": "markdown",
   "id": "6340f576-3f82-4b2b-9460-d3974d4eb892",
   "metadata": {},
   "source": []
  },
  {
   "cell_type": "markdown",
   "id": "cce5207e-e9f1-46b9-ad51-4119746f0cbb",
   "metadata": {},
   "source": [
    "11. What is the difference between {4} and {4,5} in regular expression?"
   ]
  },
  {
   "cell_type": "raw",
   "id": "18a6456b-2665-4352-a060-3e262cc76d8a",
   "metadata": {},
   "source": [
    "Ans : {4} means that it's preceeding group should repeat 4 times, where as {4,5} means that it's preceeding group should repeat minimum 4 times and maximun 5 times."
   ]
  },
  {
   "cell_type": "code",
   "execution_count": 54,
   "id": "dfc3b69f-73d2-4c46-a588-9fb0bda36f4e",
   "metadata": {},
   "outputs": [
    {
     "name": "stdout",
     "output_type": "stream",
     "text": [
      "HaHaHaHa\n",
      "None\n"
     ]
    }
   ],
   "source": [
    "import re\n",
    "haRegex = re.compile(r'(Ha){4}')\n",
    "mo1 = haRegex.search('HaHaHaHa')\n",
    "mo2 = haRegex.search( 'Ha' )\n",
    "print(mo1.group())\n",
    "print(mo2)"
   ]
  },
  {
   "cell_type": "code",
   "execution_count": 2,
   "id": "4222363d-99a7-4144-b28e-9de466cfebff",
   "metadata": {},
   "outputs": [
    {
     "name": "stdout",
     "output_type": "stream",
     "text": [
      "HaHaHaHaHa\n",
      "None\n"
     ]
    }
   ],
   "source": [
    "import re\n",
    "haRegex = re.compile(r'(Ha){4,5}')\n",
    "mo1 = haRegex.search('HaHaHaHaHaHaHa')\n",
    "mo2 = haRegex.search( 'Ha' )\n",
    "print(mo1.group())\n",
    "print(mo2)"
   ]
  },
  {
   "cell_type": "markdown",
   "id": "69fcb7cf-e7b9-46e2-b9c1-42671b0a0000",
   "metadata": {},
   "source": []
  },
  {
   "cell_type": "markdown",
   "id": "d142cd50-6a47-4d22-b99c-5908628d678c",
   "metadata": {},
   "source": [
    "12. What do you mean by the \\d, \\w, and \\s shorthand character classes signify in regular\n",
    "expressions?"
   ]
  },
  {
   "cell_type": "raw",
   "id": "4baacc23-2693-4479-b0ee-724f07491905",
   "metadata": {},
   "source": [
    "Ans : \\d  ->  Any character that is not a numeric digit from 0 to 9.\n",
    "      \\w  ->  Any character that is not a letter, numeric digit, or the unstore character.\n",
    "      \\s  ->  Any character that is not a space, tab or newline.\n",
    "      "
   ]
  },
  {
   "cell_type": "markdown",
   "id": "aa5f7177-47fb-40b5-b447-84b02425dc91",
   "metadata": {},
   "source": []
  },
  {
   "cell_type": "markdown",
   "id": "c350b8fe-1e31-4850-a966-62cedf9b051a",
   "metadata": {},
   "source": [
    "14. What is the difference between    .* ?   and    .*   ?"
   ]
  },
  {
   "cell_type": "raw",
   "id": "8a0aac68-0f14-4dd0-a4d5-b3f6e23a7772",
   "metadata": {},
   "source": [
    "Ans : .* -> Greedy mode. it will always try to match as much text as possible.\n",
    " .*?  ->  Non-greedy mode. To match any and all text."
   ]
  },
  {
   "cell_type": "markdown",
   "id": "1d00fa25-f283-49d3-83b9-060454b9b76c",
   "metadata": {},
   "source": []
  },
  {
   "cell_type": "markdown",
   "id": "1e75df60-0ad5-4ce0-89b2-199d33d1ae7b",
   "metadata": {},
   "source": [
    "15. What is the syntax for matching both numbers and lowercase letters with a character class?"
   ]
  },
  {
   "cell_type": "raw",
   "id": "670e9827-b9d1-41d1-9040-3bd718faeb7d",
   "metadata": {},
   "source": [
    "Ans : Either [0-9a-z] or [a-z0-9]"
   ]
  },
  {
   "cell_type": "code",
   "execution_count": 14,
   "id": "9d9e9dd5-bd77-4433-8689-6e2d7ff9ba52",
   "metadata": {},
   "outputs": [
    {
     "data": {
      "text/plain": [
       "'1'"
      ]
     },
     "execution_count": 14,
     "metadata": {},
     "output_type": "execute_result"
    }
   ],
   "source": [
    "reg1 = re.compile(r'[0-9a-z]')\n",
    "reg2 = re.compile(r'[a-z0-9]')\n",
    "\n",
    "mo1 = reg1.search('100 times I am chanting  this for 100 th tine')\n",
    "mo1.group()"
   ]
  },
  {
   "cell_type": "code",
   "execution_count": 16,
   "id": "643df7d8-53cb-4b38-81ca-8ab555dd00a1",
   "metadata": {},
   "outputs": [
    {
     "data": {
      "text/plain": [
       "'t'"
      ]
     },
     "execution_count": 16,
     "metadata": {},
     "output_type": "execute_result"
    }
   ],
   "source": [
    "reg2= re.compile(r'[a-z0-9]')\n",
    "\n",
    "mo2 =reg2.search(r' times I am chanting  this for 100 th time')\n",
    "mo2.group()"
   ]
  },
  {
   "cell_type": "markdown",
   "id": "ca7460e5-4a42-49cb-a87d-395ed57e7d07",
   "metadata": {},
   "source": []
  },
  {
   "cell_type": "markdown",
   "id": "09503bdb-59a0-4e23-ae9d-a6efd5523f19",
   "metadata": {},
   "source": [
    "16. What is the procedure for making a normal expression in regax case insensitive?"
   ]
  },
  {
   "cell_type": "raw",
   "id": "14d4464c-51de-41b1-bfa2-df9f459bdd32",
   "metadata": {},
   "source": [
    "Ans : passing re.|  or  IGNORECASE as the second word argument ro re.compile() will make the matching case insensitive."
   ]
  },
  {
   "cell_type": "code",
   "execution_count": 17,
   "id": "ad3e1245-268b-426a-b494-c87a24779131",
   "metadata": {},
   "outputs": [
    {
     "data": {
      "text/plain": [
       "'Machine'"
      ]
     },
     "execution_count": 17,
     "metadata": {},
     "output_type": "execute_result"
    }
   ],
   "source": [
    "casesen = re.compile(r'machine', re.I)\n",
    "casesen.search('Machine learning is a part of data science').group()"
   ]
  },
  {
   "cell_type": "code",
   "execution_count": 18,
   "id": "e946b6e1-df3c-4861-96df-da63b718ea00",
   "metadata": {},
   "outputs": [
    {
     "data": {
      "text/plain": [
       "'MACHINE'"
      ]
     },
     "execution_count": 18,
     "metadata": {},
     "output_type": "execute_result"
    }
   ],
   "source": [
    "casesen.search('MACHINE learning.').group()"
   ]
  },
  {
   "cell_type": "markdown",
   "id": "d318a517-fc44-4a4b-ab71-81290d44eade",
   "metadata": {},
   "source": []
  },
  {
   "cell_type": "markdown",
   "id": "b0788044-c53d-472b-8aa4-0890c7df2e3f",
   "metadata": {},
   "source": [
    "17. What does the . character normally match? What does it match if re.DOTALL is passed as 2nd argument in re.compile()?"
   ]
  },
  {
   "cell_type": "raw",
   "id": "b5c9e047-bb7f-4b28-807b-abd3bbef234b",
   "metadata": {},
   "source": [
    "Ans : The .character normally matches any character except the newline character.\n",
    "If re.DOTALL is passed as the second word argument to re.compile(), then the dot will also match newline character."
   ]
  },
  {
   "cell_type": "markdown",
   "id": "12d16729-ea1f-4814-9858-8a4174b8d6a3",
   "metadata": {},
   "source": []
  },
  {
   "cell_type": "markdown",
   "id": "ecac5df4-e870-403b-a691-5ab9f9f351c3",
   "metadata": {},
   "source": [
    "18. If numReg = re.compile(r'\\d+'), what will numRegex.sub('X', '11 drummers, 10 pipers, five rings, 4 hen') return?"
   ]
  },
  {
   "cell_type": "code",
   "execution_count": 19,
   "id": "e352c976-d45d-4ffc-bb96-98908fdf1895",
   "metadata": {},
   "outputs": [
    {
     "data": {
      "text/plain": [
       "'x drummers, x pipers, five rings, x hen'"
      ]
     },
     "execution_count": 19,
     "metadata": {},
     "output_type": "execute_result"
    }
   ],
   "source": [
    "numRegex = re.compile(r'\\d+')\n",
    "mo = numRegex.sub('x', '11 drummers, 10 pipers, five rings, 4 hen')\n",
    "mo"
   ]
  },
  {
   "cell_type": "markdown",
   "id": "067e4417-dd9a-41c1-9b5a-1deb7519f4d1",
   "metadata": {},
   "source": []
  },
  {
   "cell_type": "markdown",
   "id": "8e8c2a00-7e45-4530-8c85-26e9095b6b8b",
   "metadata": {},
   "source": [
    "19. What does passing re.VERBOSE as the 2nd argument to re.compile() allow to do?"
   ]
  },
  {
   "cell_type": "raw",
   "id": "5cd02737-295f-49e2-a77d-e70b7a9b6891",
   "metadata": {},
   "source": [
    "Ans : The re.VARBOSE argument allows you to add whitespace and comments to the string passed to re.compile()"
   ]
  },
  {
   "cell_type": "code",
   "execution_count": 26,
   "id": "45d00512-0373-4fd4-8c56-8eb35e839be9",
   "metadata": {},
   "outputs": [],
   "source": [
    "# without using VERBOSE \n",
    "\n",
    "regex_email = re.compile(r'^([a-z0-9_\\.-\\]+)@)[0-9a-z\\.-]+)\\.([a-z\\,\\.]{2,6})$', re.IGNORECASE)\n",
    "\n",
    "# with using VERBOSE\n",
    "regex_email = re.compile(r\"\"\" \n",
    "                            ^([a-z0-9_\\.-]+)\n",
    "                            @([0-9a-z\\.-]+)\n",
    "                            \\.\n",
    "                            ([a-z]{2,6})$\n",
    "                        \"\"\",re.VERBOSE | re.IGNORECASE)"
   ]
  },
  {
   "cell_type": "markdown",
   "id": "07c1f44b-5fba-48eb-a6ba-daf98c9079be",
   "metadata": {},
   "source": []
  },
  {
   "cell_type": "markdown",
   "id": "0760e7dc-3b30-4659-93ad-16bccb24ec32",
   "metadata": {},
   "source": [
    "20. How would you write a regex that match a number with comma for every three digits? It must match the given following:"
   ]
  },
  {
   "cell_type": "code",
   "execution_count": 28,
   "id": "c58239d6-acf6-4a07-90c0-69faaeb569ae",
   "metadata": {},
   "outputs": [
    {
     "data": {
      "text/plain": [
       "'42'"
      ]
     },
     "execution_count": 28,
     "metadata": {},
     "output_type": "execute_result"
    }
   ],
   "source": [
    "reg1 = re.compile(r'^\\d{1,3}(,\\d{3})*$')\n",
    "mo1 = reg1.search('42')\n",
    "mo1.group()"
   ]
  },
  {
   "cell_type": "code",
   "execution_count": 29,
   "id": "44a847f1-3127-4a60-9d9e-37cd07e4f695",
   "metadata": {},
   "outputs": [
    {
     "data": {
      "text/plain": [
       "'1,234'"
      ]
     },
     "execution_count": 29,
     "metadata": {},
     "output_type": "execute_result"
    }
   ],
   "source": [
    "reg1 = re.compile(r'^\\d{1,3}(,\\d{3})*$')\n",
    "mo1 = reg1.search('1,234')\n",
    "mo1.group()"
   ]
  },
  {
   "cell_type": "code",
   "execution_count": 30,
   "id": "c7b63196-07d6-40c6-8444-9f1016d2b58c",
   "metadata": {},
   "outputs": [
    {
     "data": {
      "text/plain": [
       "'6,368,745'"
      ]
     },
     "execution_count": 30,
     "metadata": {},
     "output_type": "execute_result"
    }
   ],
   "source": [
    "reg1 = re.compile(r'^\\d{1,3}(,\\d{3})*$')\n",
    "mo1 = reg1.search('6,368,745')\n",
    "mo1.group()"
   ]
  },
  {
   "cell_type": "markdown",
   "id": "49e74b6f-96a9-415a-a755-46f62da1f7d9",
   "metadata": {},
   "source": []
  },
  {
   "cell_type": "markdown",
   "id": "8aca9007-b77b-4436-bde2-05486b32664b",
   "metadata": {},
   "source": [
    "21. How would you write a regex that matches the full name of someone whose last name is Watanabe? You can assume that the first name that comes before it will always be one word that begins with a capital letter. The regex must match the following:\n",
    "\n",
    "'Haruto Watanabe\n",
    "\n",
    "'Alice Watanabe'\n",
    "\n",
    "'RoboCop Watanabe\n",
    "\n",
    "\n",
    "but not the following\n",
    "\n",
    "\n",
    "'haruto Watanabe' (where the first name is not capitalized\n",
    "\n",
    "'Mr. Watanabe' (where the preceding word has a nonletter character)\n",
    "\n",
    "'Watanabe' (which has no first name)\n",
    "\n",
    "'Haruto watanabe' (where Watanabe is not capitalized)\n"
   ]
  },
  {
   "cell_type": "code",
   "execution_count": 2,
   "id": "28ac37e5-735d-4ce3-ba5c-3532bf4d5ea0",
   "metadata": {},
   "outputs": [
    {
     "data": {
      "text/plain": [
       "'Haruto Watanabe'"
      ]
     },
     "execution_count": 2,
     "metadata": {},
     "output_type": "execute_result"
    }
   ],
   "source": [
    "import re\n",
    "name = re.compile(r'[A-Z][a-z]*\\sWatanabe')\n",
    "reg1 = re.compile(r'^\\d{1,3}(,\\d{haruto Watanabe3})*$')\n",
    "mo1 = name.search('Haruto Watanabe')\n",
    "mo1.group()"
   ]
  },
  {
   "cell_type": "code",
   "execution_count": 3,
   "id": "5739dda5-be23-4ebf-b580-09fb97746a68",
   "metadata": {},
   "outputs": [
    {
     "data": {
      "text/plain": [
       "'Alice Watanabe'"
      ]
     },
     "execution_count": 3,
     "metadata": {},
     "output_type": "execute_result"
    }
   ],
   "source": [
    "\n",
    "name = re.compile(r'[A-Z][a-z]*\\sWatanabe')\n",
    "reg1 = re.compile(r'^\\d{1,3}(,\\d{3})*$')\n",
    "mo1 = name.search('Alice Watanabe')\n",
    "mo1.group()\n",
    "     "
   ]
  },
  {
   "cell_type": "code",
   "execution_count": 4,
   "id": "757feca8-a2af-4d19-b5e2-5d9341d91085",
   "metadata": {},
   "outputs": [
    {
     "data": {
      "text/plain": [
       "'Robocop Watanabe'"
      ]
     },
     "execution_count": 4,
     "metadata": {},
     "output_type": "execute_result"
    }
   ],
   "source": [
    "name = re.compile(r'[A-Z][a-z]*\\sWatanabe')\n",
    "reg1 = re.compile(r'^\\d{1,3}(,\\d{3})*$')\n",
    "mo1 = name.search('Robocop Watanabe')\n",
    "mo1.group()"
   ]
  },
  {
   "cell_type": "markdown",
   "id": "f3557c4c-b27b-45de-93a3-fdc75e7c52ea",
   "metadata": {},
   "source": []
  },
  {
   "cell_type": "markdown",
   "id": "f15bf18a-ad80-4f0f-b3fa-c1c538aee209",
   "metadata": {},
   "source": [
    "22. How would you write a regex that matches a sentence where the first word is either Alice, Bob,or Carol; the second word is either eats, pets, or throws; the third word is apples, cats, or baseballs; and the sentence ends with a period? This regex should be case-insensitive. It must match the following:\n",
    "\n",
    "'Alice eats apples.'\n",
    "\n",
    "'Bob pets cats.'\n",
    "\n",
    "'Carol throws baseballs.'\n",
    "\n",
    "'Alice throws Apples.'\n",
    "\n",
    "'BOB EATS CATS.'\n",
    "\n",
    "\n",
    "but not the following:\n",
    "\n",
    "\n",
    "'RoboCop eats apples.'\n",
    "\n",
    "'ALICE THROWS FOOTBALLS.'\n",
    "\n",
    "'Carol eats 7 cats.'\n"
   ]
  },
  {
   "cell_type": "code",
   "execution_count": 5,
   "id": "5ce81b3f-32ca-47d5-a8eb-a1e327df386b",
   "metadata": {},
   "outputs": [
    {
     "data": {
      "text/plain": [
       "'Alice eats apples.'"
      ]
     },
     "execution_count": 5,
     "metadata": {},
     "output_type": "execute_result"
    }
   ],
   "source": [
    "import re\n",
    "\n",
    "name = re.compile(r'(Alice|Bob|Carol)\\s(eats|pets|throws)\\s(apples|cats|baseballs)\\.', re.IGNORECASE)\n",
    "\n",
    "mo1 = name.search('Alice eats apples.')\n",
    "mo1.group()\n",
    "     "
   ]
  },
  {
   "cell_type": "code",
   "execution_count": 6,
   "id": "3f5a51b7-e895-4705-b4ac-129d31d0ee63",
   "metadata": {},
   "outputs": [
    {
     "data": {
      "text/plain": [
       "'Carol throws baseballs.'"
      ]
     },
     "execution_count": 6,
     "metadata": {},
     "output_type": "execute_result"
    }
   ],
   "source": [
    "name = re.compile(r'(Alice|Bob|Carol)\\s(eats|pets|throws)\\s(apples|cats|baseballs)\\.', re.IGNORECASE)\n",
    "\n",
    "mo1 = name.search('Carol throws baseballs.')\n",
    "mo1.group()"
   ]
  },
  {
   "cell_type": "markdown",
   "id": "e458499a-5591-4441-94b1-971153bd014d",
   "metadata": {},
   "source": []
  }
 ],
 "metadata": {
  "kernelspec": {
   "display_name": "Python 3 (ipykernel)",
   "language": "python",
   "name": "python3"
  },
  "language_info": {
   "codemirror_mode": {
    "name": "ipython",
    "version": 3
   },
   "file_extension": ".py",
   "mimetype": "text/x-python",
   "name": "python",
   "nbconvert_exporter": "python",
   "pygments_lexer": "ipython3",
   "version": "3.10.8"
  }
 },
 "nbformat": 4,
 "nbformat_minor": 5
}
