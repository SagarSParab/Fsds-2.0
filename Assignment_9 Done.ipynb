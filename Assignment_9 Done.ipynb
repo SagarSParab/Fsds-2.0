{
 "cells": [
  {
   "cell_type": "markdown",
   "id": "8ef3acf8-c12d-4b5f-a0a0-9c202fedaf5e",
   "metadata": {},
   "source": [
    "                                     Assignment no. 9"
   ]
  },
  {
   "cell_type": "markdown",
   "id": "86f2a06f-4eec-48fb-abd9-9b0c71b20ffe",
   "metadata": {},
   "source": []
  },
  {
   "cell_type": "markdown",
   "id": "9e7dc57b-6d4a-4560-b221-e41d43884e14",
   "metadata": {},
   "source": [
    "1. To what does a relative path refer?"
   ]
  },
  {
   "cell_type": "markdown",
   "id": "bdd49e06-2aed-4bd6-bb0d-e3a6db2ea57b",
   "metadata": {},
   "source": [
    "Ans : The relative path is the path to some file with respect to your current working directiory.(i.e. Present Working Directory PWD)\n",
    "\n",
    "For example -> if Absolute path to file called stuff.txt is C:/users/admin/docs/stuff.txt \n",
    "if my PWD is C:users/admin/   then the relative path to stuff.txt would be  docs/stuff.txt\n",
    "\n",
    "Note : PWD + relative path = Absolute path."
   ]
  },
  {
   "cell_type": "markdown",
   "id": "c676ac91-364e-41fd-965e-cd11e7e8cd5f",
   "metadata": {},
   "source": []
  },
  {
   "cell_type": "markdown",
   "id": "54e62ad4-eec1-438e-a47d-48752bc872f5",
   "metadata": {},
   "source": [
    "2. Where does an absolute path start with your Operating System ?"
   ]
  },
  {
   "cell_type": "markdown",
   "id": "435357d9-e282-4634-9d42-bd968bc230d3",
   "metadata": {},
   "source": [
    "Ans : in linux based systems the absolute path starts with /\n",
    "where as in windows based systems absolute path starts with C:"
   ]
  },
  {
   "cell_type": "markdown",
   "id": "864cf563-4c5e-41a9-b766-aa5a9364e3e1",
   "metadata": {},
   "source": []
  },
  {
   "cell_type": "markdown",
   "id": "8979aa48-1a39-4215-b848-a4c321c27ae1",
   "metadata": {},
   "source": [
    "3. What does the functions os.getcwd() and os.chdir() do ?"
   ]
  },
  {
   "cell_type": "markdown",
   "id": "23d8142e-2bb9-4a93-bd63-9077c813b433",
   "metadata": {},
   "source": [
    "Ans :  os.getcwd() method tells us the location of current working directiory (CWD)\n",
    "\n",
    "whereas  os.chdir() method used in python used to change the current working directory to specified path. \n",
    "\n",
    "These functions are similar to linux commands pwd   and   cd."
   ]
  },
  {
   "cell_type": "code",
   "execution_count": 12,
   "id": "d12767b9-8a89-4e79-8c24-216b6fb8967d",
   "metadata": {},
   "outputs": [
    {
     "name": "stdout",
     "output_type": "stream",
     "text": [
      "/home/jovyan/work\n"
     ]
    }
   ],
   "source": [
    "import os\n",
    "print(os.getcwd())"
   ]
  },
  {
   "cell_type": "markdown",
   "id": "d44354a5-7372-48bc-8d24-4e98d0ee6e73",
   "metadata": {},
   "source": []
  },
  {
   "cell_type": "markdown",
   "id": "d53658de-61f7-4b85-adc6-2be2af6d1b53",
   "metadata": {},
   "source": [
    "4. What are . and .. folders ?"
   ]
  },
  {
   "cell_type": "markdown",
   "id": "24f9496f-6064-48e9-90c0-6145caaedb5a",
   "metadata": {},
   "source": [
    "Ans : .represnts the Current working directory \n",
    "whereas .. represents the Parent directory of current working directory \n"
   ]
  },
  {
   "cell_type": "markdown",
   "id": "ec4a133e-e9f3-4fb7-bbbe-0bf215816108",
   "metadata": {},
   "source": []
  },
  {
   "cell_type": "markdown",
   "id": "005fa915-e386-4e8e-89fe-0a7a5ff2da10",
   "metadata": {},
   "source": [
    "5. In C:\\bacon\\eggs\\spam.txt, which part is the dir name, and which part is the base name?"
   ]
  },
  {
   "cell_type": "markdown",
   "id": "3c2dfaad-459b-433e-bb60-c45e27935fa6",
   "metadata": {},
   "source": [
    "Ans : For C:\\bacon\\spam.txt\n",
    "The dir name is C:\\\\bacon\\\\eggs\n",
    "The base name is spam.txt"
   ]
  },
  {
   "cell_type": "code",
   "execution_count": 2,
   "id": "f709d094-1680-4ec2-af7d-7adb47e1f619",
   "metadata": {},
   "outputs": [
    {
     "name": "stdout",
     "output_type": "stream",
     "text": [
      "\n",
      "C:\\bacon\\eggs\\spam.txt\n"
     ]
    }
   ],
   "source": [
    "import os \n",
    "path = r'C:\\bacon\\eggs\\spam.txt'\n",
    "print(os.path.dirname(path))\n",
    "print(os.path.basename(path))"
   ]
  },
  {
   "cell_type": "markdown",
   "id": "97388b06-8e75-4b2f-88c8-535e5a5f67fa",
   "metadata": {},
   "source": []
  },
  {
   "cell_type": "markdown",
   "id": "64129050-a3e7-4914-bad1-53df98ed5966",
   "metadata": {},
   "source": [
    "6.What are the three mode arguments that can be passed to the open() function ?"
   ]
  },
  {
   "cell_type": "markdown",
   "id": "499363fd-a068-4c13-827d-2d7a9f5c4c2b",
   "metadata": {},
   "source": [
    "Ans : A file can be accessed in python using open() function, open function takes two arguments filename and mode of operation (optional).\n",
    "if mode is not provided then the default mode of opening is read mode.\n",
    "so syntax is : open(filename, mode)\n",
    "\n",
    "'r' - Read Mode : This is the default mode for open(). The file is opened and a pointer is positioned at the beginning of the file's content.\n",
    "\n",
    "'w' - Write Mode : Using this mode will overwrite any existing content in a file. if a given file dose not exist, a new one will be created.\n",
    "\n",
    "'r+' - Read/Write Mode : Use this mode if we need simultaneously read and write the file.\n",
    "\n",
    "'a' - Append Mode : With this mode the user can append the data without overwriting any already existing data in the file.\n",
    "\n",
    "'a+' - Append and Read Mode : in this mode we can read and append the data without overwriting the original file.\n",
    "\n",
    "'x' - Exclusive Creative Mode : This mode is for the sole purpose of creating new files. use this mode if you know the file to be written dosen't exist beforehand.\n",
    "\n"
   ]
  },
  {
   "cell_type": "markdown",
   "id": "ab5378c2-4db5-48c4-a2b5-cf594f501397",
   "metadata": {},
   "source": []
  },
  {
   "cell_type": "markdown",
   "id": "80772f07-dee0-4b9c-9b03-070e22b91909",
   "metadata": {},
   "source": [
    "7. What happens if an existing file is opened in write mode ?"
   ]
  },
  {
   "cell_type": "markdown",
   "id": "56ca49c8-dee5-40dd-b60d-4a35bf2e451c",
   "metadata": {},
   "source": [
    "Ans : Basically Write mode will overwrite any existing content in a file but if the given file dosen't exist then the new one will be created."
   ]
  },
  {
   "cell_type": "markdown",
   "id": "9ad5b2ba-2275-4d3c-83f0-bf4c0884b4b7",
   "metadata": {},
   "source": []
  },
  {
   "cell_type": "markdown",
   "id": "25b604fa-6bf1-4fc1-afa6-4e537507630a",
   "metadata": {},
   "source": [
    "8. How do you tell the difference between read() and readlines() ?"
   ]
  },
  {
   "cell_type": "markdown",
   "id": "1c9727c4-9bd4-49e2-b0a6-21ec3af43f39",
   "metadata": {},
   "source": [
    "Ans : The main difference is that read() will read the whole file at once and then print out the first characters that take up as many bytes as you specify in the parantheses.\n",
    "\n",
    "Whereas the readline() that will read and print out only the first characters that take up as many bytes as you specify in the paranthesis. You may want to use readline() when you're reading files that are too big for your RAM.\n",
    "\n",
    "The read() would treat each character in the file separately, meaning that the iteration would happen for every character.\n",
    "\n",
    "The readline() function, on the other hand only reads a single line of the file. This means that if the first line of the file were three lines long, the readline() function would only parse( or iterate/operate) on the first line of the file.\n"
   ]
  },
  {
   "cell_type": "markdown",
   "id": "f658bb51-f461-46c5-b7ef-411e8acbb6f3",
   "metadata": {},
   "source": []
  },
  {
   "cell_type": "markdown",
   "id": "f5675969-b801-4025-ab95-1b202eb39b61",
   "metadata": {},
   "source": [
    "9. What data structure does a shelf value resemble ?"
   ]
  },
  {
   "cell_type": "markdown",
   "id": "1783c34a-7b1b-463d-bff6-5eb39f1bad0e",
   "metadata": {},
   "source": [
    "Ans : It contains key and value it represents dictionary."
   ]
  },
  {
   "cell_type": "code",
   "execution_count": null,
   "id": "0b0d8bcc-f2f7-4528-91f1-0e3c7014a0fa",
   "metadata": {},
   "outputs": [],
   "source": []
  }
 ],
 "metadata": {
  "kernelspec": {
   "display_name": "Python 3 (ipykernel)",
   "language": "python",
   "name": "python3"
  },
  "language_info": {
   "codemirror_mode": {
    "name": "ipython",
    "version": 3
   },
   "file_extension": ".py",
   "mimetype": "text/x-python",
   "name": "python",
   "nbconvert_exporter": "python",
   "pygments_lexer": "ipython3",
   "version": "3.10.8"
  }
 },
 "nbformat": 4,
 "nbformat_minor": 5
}
