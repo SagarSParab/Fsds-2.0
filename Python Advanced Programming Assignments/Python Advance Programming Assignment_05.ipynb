{
 "cells": [
  {
   "cell_type": "markdown",
   "id": "7a99c2bd-3de7-46f8-a23c-c849acdc2afb",
   "metadata": {},
   "source": [
    "                            Python Advanced Programming Assignment No. 05"
   ]
  },
  {
   "cell_type": "markdown",
   "id": "728a1558-84b5-4c38-9dc0-5ac5b7674d58",
   "metadata": {},
   "source": []
  },
  {
   "cell_type": "markdown",
   "id": "08d46d4a-4a65-46fd-bd49-a98f759a5a3f",
   "metadata": {},
   "source": [
    "Q1. Create a function that takes a number n (integer greater than zero) as an\n",
    "argument, and returns 2 if n is odd and 8 if n is even.\n",
    "\n",
    "You can only use the following arithmetic operators: addition of numbers +,\n",
    "subtraction of numbers -, multiplication of number *, division of number /, and\n",
    "exponentiation **.\n",
    "\n",
    "You are not allowed to use any other methods in this challenge (i.e. no if\n",
    "statements, comparison operators, etc).\n",
    "\n",
    "Examples\n",
    "f(1) ➞ 2\n",
    "f(2) ➞ 8\n",
    "f(3) ➞ 2"
   ]
  },
  {
   "cell_type": "code",
   "execution_count": 1,
   "id": "d5117810-10f1-4be6-adcf-f4c1af663df0",
   "metadata": {},
   "outputs": [],
   "source": [
    "def f(num):\n",
    "    evenOddList = [8,2]\n",
    "    return evenOddList[num & 1]"
   ]
  },
  {
   "cell_type": "code",
   "execution_count": 2,
   "id": "11bff35f-b515-4001-a295-ee9d44fed992",
   "metadata": {},
   "outputs": [
    {
     "data": {
      "text/plain": [
       "2"
      ]
     },
     "execution_count": 2,
     "metadata": {},
     "output_type": "execute_result"
    }
   ],
   "source": [
    "f(1)"
   ]
  },
  {
   "cell_type": "code",
   "execution_count": 3,
   "id": "77dd5328-71ce-43ac-8ecf-44865e6ce6cd",
   "metadata": {},
   "outputs": [
    {
     "data": {
      "text/plain": [
       "8"
      ]
     },
     "execution_count": 3,
     "metadata": {},
     "output_type": "execute_result"
    }
   ],
   "source": [
    "f(2)"
   ]
  },
  {
   "cell_type": "code",
   "execution_count": 4,
   "id": "faf1697f-d13a-48b0-b0e7-166dfc6fee7d",
   "metadata": {},
   "outputs": [
    {
     "data": {
      "text/plain": [
       "2"
      ]
     },
     "execution_count": 4,
     "metadata": {},
     "output_type": "execute_result"
    }
   ],
   "source": [
    "f(3)"
   ]
  },
  {
   "cell_type": "markdown",
   "id": "a8778e25-94b6-44f1-b972-bf2bff29674a",
   "metadata": {},
   "source": []
  },
  {
   "cell_type": "markdown",
   "id": "8e6fee9b-a66b-46f7-9d29-56a64ac3ecb6",
   "metadata": {},
   "source": [
    "Q2. Create a function that returns the majority vote in a list. A majority vote is\n",
    "an element that occurs &gt; N/2 times in a list (where N is the length of the list).\n",
    "\n",
    "Examples\n",
    "\n",
    "majority_vote([&quot;A&quot;, &quot;A&quot;, &quot;B&quot;]) ➞ &quot;A&quot;\n",
    "\n",
    "majority_vote([&quot;A&quot;, &quot;A&quot;, &quot;A&quot;, &quot;B&quot;, &quot;C&quot;, &quot;A&quot;]) ➞ &quot;A&quot;\n",
    "\n",
    "majority_vote([&quot;A&quot;, &quot;B&quot;, &quot;B&quot;, &quot;A&quot;, &quot;C&quot;, &quot;C&quot;]) ➞ None"
   ]
  },
  {
   "cell_type": "code",
   "execution_count": 5,
   "id": "8d16bcbb-8242-4d04-aae5-1f3eebefafac",
   "metadata": {},
   "outputs": [],
   "source": [
    "def majority_vote(lst):\n",
    "    done = []\n",
    "    maxCount = 0\n",
    "    count = 0\n",
    "    for i in lst:\n",
    "        if i not in done:\n",
    "            count = lst.count(i)\n",
    "            done.append(i)\n",
    "            if count > maxCount:\n",
    "                maxCount = count\n",
    "                ele = i\n",
    "                \n",
    "    if maxCount > len(lst)//2:\n",
    "        maxCount = count \n",
    "        return \"Majority Element \", ele\n",
    "    else:\n",
    "        return \"No Majority Elements\"\n",
    "    "
   ]
  },
  {
   "cell_type": "code",
   "execution_count": 6,
   "id": "c277a1c4-f435-4f5c-83c9-a8bcf471b830",
   "metadata": {},
   "outputs": [
    {
     "data": {
      "text/plain": [
       "('Majority Element ', 'A')"
      ]
     },
     "execution_count": 6,
     "metadata": {},
     "output_type": "execute_result"
    }
   ],
   "source": [
    "majority_vote(['A', 'A', 'B'])"
   ]
  },
  {
   "cell_type": "code",
   "execution_count": 7,
   "id": "a178a92e-e24a-4917-91f6-ba22ab7b0eb1",
   "metadata": {},
   "outputs": [
    {
     "data": {
      "text/plain": [
       "('Majority Element ', 'A')"
      ]
     },
     "execution_count": 7,
     "metadata": {},
     "output_type": "execute_result"
    }
   ],
   "source": [
    "majority_vote(['A', 'A', 'A', 'B', 'C', 'A'])"
   ]
  },
  {
   "cell_type": "code",
   "execution_count": 8,
   "id": "587b3d31-3f0f-4357-a2d8-f39291271a19",
   "metadata": {},
   "outputs": [
    {
     "data": {
      "text/plain": [
       "'No Majority Elements'"
      ]
     },
     "execution_count": 8,
     "metadata": {},
     "output_type": "execute_result"
    }
   ],
   "source": [
    "majority_vote(['A', 'B', 'B', 'A', 'C', 'C'])"
   ]
  },
  {
   "cell_type": "markdown",
   "id": "352cedd1-028c-45ca-becd-e29c80aea654",
   "metadata": {},
   "source": []
  },
  {
   "cell_type": "markdown",
   "id": "9e347fb5-1594-4885-89b2-f8dbcbcd7b9e",
   "metadata": {},
   "source": [
    "Q3. Create a function that takes a string txt and censors any word from a given\n",
    "list lst. The text removed must be replaced by the given character char.\n",
    "\n",
    "Examples\n",
    "\n",
    "censor_string(&quot;Today is a Wednesday!&quot;, [&quot;Today&quot;, &quot;a&quot;], &quot;-&quot;) ➞ &quot;----- is -\n",
    "Wednesday!&quot;\n",
    "\n",
    "censor_string(&quot;The cow jumped over the moon.&quot;, [&quot;cow&quot;, &quot;over&quot;], &quot;*&quot;), &quot;The ***\n",
    "jumped **** the moon.&quot;)\n",
    "\n",
    "censor_string(&quot;Why did the chicken cross the road?&quot;, [&quot;Did&quot;, &quot;chicken&quot;,\n",
    "&quot;road&quot;], &quot;*&quot;) ➞ &quot;Why *** the ******* cross the ****?&quot;"
   ]
  },
  {
   "cell_type": "code",
   "execution_count": 9,
   "id": "c06a1433-4e98-4019-9e06-5a9df8e0bac1",
   "metadata": {},
   "outputs": [],
   "source": [
    "def censor_string(text, censorlst, replacer):\n",
    "    \n",
    "    word_list = text.split()\n",
    "    for censor in censorlst:\n",
    "        index = 0\n",
    "        for word in word_list:\n",
    "            if censor.lower() == word.lower():\n",
    "                ch = len(censor) * replacer\n",
    "                word_list[index] = ch\n",
    "            elif censor.lower() == word[0:-1].lower():\n",
    "                ch = len(censor) * replacer\n",
    "                word_list[index] = ch + word[-1]\n",
    "            index += 1\n",
    "            \n",
    "    return \" \".join(word_list)\n"
   ]
  },
  {
   "cell_type": "code",
   "execution_count": 10,
   "id": "146ef3f5-5e53-412f-8a11-bf42daa43764",
   "metadata": {},
   "outputs": [
    {
     "data": {
      "text/plain": [
       "'----- is - Wednesday!'"
      ]
     },
     "execution_count": 10,
     "metadata": {},
     "output_type": "execute_result"
    }
   ],
   "source": [
    "censor_string('Today is a Wednesday!', ['Today', 'a'], '-')"
   ]
  },
  {
   "cell_type": "code",
   "execution_count": 11,
   "id": "169fdf01-3884-425f-b19b-6d32635cf1ba",
   "metadata": {},
   "outputs": [
    {
     "data": {
      "text/plain": [
       "'The *** jumped **** the moon.'"
      ]
     },
     "execution_count": 11,
     "metadata": {},
     "output_type": "execute_result"
    }
   ],
   "source": [
    "censor_string('The cow jumped over the moon.', ['cow', 'over'], '*')"
   ]
  },
  {
   "cell_type": "code",
   "execution_count": 12,
   "id": "641be515-1ad1-44a8-8ea2-7cfe8759e9c6",
   "metadata": {},
   "outputs": [
    {
     "data": {
      "text/plain": [
       "'Why *** the ******* cross the ****?'"
      ]
     },
     "execution_count": 12,
     "metadata": {},
     "output_type": "execute_result"
    }
   ],
   "source": [
    "censor_string('Why did the chicken cross the road?', ['Did', 'chicken','road'], '*')"
   ]
  },
  {
   "cell_type": "markdown",
   "id": "14f7f792-0396-4ea3-af9a-f17c3928ede6",
   "metadata": {},
   "source": []
  },
  {
   "cell_type": "markdown",
   "id": "7bd2d299-7f08-4a60-bf89-db6848d96b1a",
   "metadata": {},
   "source": [
    "Q4. In mathematics a Polydivisible Number (or magic number) is a number in a\n",
    "given number base with digits abcde... that has the following properties:\n",
    "- Its first digit a is not 0.\n",
    "- The number formed by its first two digits ab is a multiple of 2.\n",
    "- The number formed by its first three digits abc is a multiple of 3.\n",
    "- The number formed by its first four digits abcd is a multiple of 4.\n",
    "Create a function which takes an integer n and returns True if the given\n",
    "number is a Polydivisible Number and False otherwise.\n",
    "\n",
    "Examples\n",
    "\n",
    "is_polydivisible(1232) ➞ True\n",
    " - 1 / 1 = 1\n",
    " - 12 / 2 = 6\n",
    " - 123 / 3 = 41\n",
    " - 1232 / 4 = 308\n",
    " \n",
    "is_polydivisible(123220 ) ➞ False\n",
    " - 1 / 1 = 1\n",
    " - 12 / 2 = 6\n",
    " - 123 / 3 = 41\n",
    " - 1232 / 4 = 308\n",
    " - 12322 / 5 = 2464.4 # Not a Whole Number\n",
    " - 123220 /6 = 220536.333... # Not a Whole Number"
   ]
  },
  {
   "cell_type": "code",
   "execution_count": 13,
   "id": "94707478-5349-4fd3-9ebb-daa97d806d4e",
   "metadata": {},
   "outputs": [],
   "source": [
    "def is_polydivisible(n):\n",
    "    tempNum = n \n",
    "    digit = []\n",
    "    \n",
    "    # digit extraction of input number \n",
    "    while (n > 0):\n",
    "        digit.append(n % 10)\n",
    "        n /= 10\n",
    "        \n",
    "    digit.reverse()\n",
    "    \n",
    "    flag = True\n",
    "    n = digit[0]\n",
    "    for i in range(1, len(digit)):\n",
    "        \n",
    "        n = n * 10 + digit[i]\n",
    "        \n",
    "        if (n % (i + 1) != 0):\n",
    "            flag  = True\n",
    "            break\n",
    "            \n",
    "    \n",
    "    if (flag):\n",
    "            return tempNum, \"Is Polydivisible Number.\"\n",
    "    else:\n",
    "        return tempNum, \"Is Not Polydivsible Number.\"\n",
    "    "
   ]
  },
  {
   "cell_type": "code",
   "execution_count": 14,
   "id": "637bef77-4a4c-47c1-9e2c-a3eeb72ef5b2",
   "metadata": {},
   "outputs": [
    {
     "data": {
      "text/plain": [
       "(1232, 'Is Polydivisible Number.')"
      ]
     },
     "execution_count": 14,
     "metadata": {},
     "output_type": "execute_result"
    }
   ],
   "source": [
    "is_polydivisible(1232)"
   ]
  },
  {
   "cell_type": "code",
   "execution_count": 15,
   "id": "427e7bb4-7c5a-45a2-931e-412e0cdc42d3",
   "metadata": {},
   "outputs": [
    {
     "data": {
      "text/plain": [
       "(123220, 'Is Polydivisible Number.')"
      ]
     },
     "execution_count": 15,
     "metadata": {},
     "output_type": "execute_result"
    }
   ],
   "source": [
    "is_polydivisible(123220)"
   ]
  },
  {
   "cell_type": "markdown",
   "id": "8bdea3e6-7178-487b-805a-31fe2b0ad580",
   "metadata": {},
   "source": []
  },
  {
   "cell_type": "markdown",
   "id": "512c6ae3-0fca-435b-be34-497223f895b9",
   "metadata": {},
   "source": [
    "Q5. Create a function that takes a list of numbers and returns the sum of all\n",
    "prime numbers in the list.\n",
    "\n",
    "Examples\n",
    "\n",
    "sum_primes([1, 2, 3, 4, 5, 6, 7, 8, 9, 10]) ➞ 17\n",
    "\n",
    "sum_primes([2, 3, 4, 11, 20, 50, 71]) ➞ 87\n",
    "\n",
    "sum_primes([]) ➞ None"
   ]
  },
  {
   "cell_type": "code",
   "execution_count": 16,
   "id": "350e5854-b74d-4055-aef4-031b7a148741",
   "metadata": {},
   "outputs": [],
   "source": [
    "def is_prime(n):\n",
    "    if n < 2:\n",
    "        return False\n",
    "    elif n <= 3:\n",
    "        return True\n",
    "    elif n % 2 == 0:\n",
    "        return False\n",
    "  \n",
    "    length = int(n**.5) + 1  # n**.5 is equal to sqrt(n)\n",
    "    for i in range(3, length, 2):\n",
    "        if n % i == 0:\n",
    "            return False\n",
    "\n",
    "    return True\n",
    "def sum_primes(l):\n",
    "    return sum(n for n in l if is_prime(n))"
   ]
  },
  {
   "cell_type": "code",
   "execution_count": 17,
   "id": "b5c821e8-9c43-4410-bee5-c5a1a54357d7",
   "metadata": {},
   "outputs": [
    {
     "data": {
      "text/plain": [
       "17"
      ]
     },
     "execution_count": 17,
     "metadata": {},
     "output_type": "execute_result"
    }
   ],
   "source": [
    "sum_primes([1, 2, 3, 4, 5, 6, 7, 8, 9, 10])"
   ]
  },
  {
   "cell_type": "code",
   "execution_count": 18,
   "id": "853dc9d6-5936-4d99-a986-587488889bf9",
   "metadata": {},
   "outputs": [
    {
     "data": {
      "text/plain": [
       "87"
      ]
     },
     "execution_count": 18,
     "metadata": {},
     "output_type": "execute_result"
    }
   ],
   "source": [
    "sum_primes([2, 3, 4, 11, 20, 50, 71])"
   ]
  },
  {
   "cell_type": "code",
   "execution_count": 19,
   "id": "810264c4-b73f-4301-a904-c35507fc9c2e",
   "metadata": {},
   "outputs": [
    {
     "data": {
      "text/plain": [
       "0"
      ]
     },
     "execution_count": 19,
     "metadata": {},
     "output_type": "execute_result"
    }
   ],
   "source": [
    "sum_primes([])"
   ]
  },
  {
   "cell_type": "markdown",
   "id": "14fb617f-f565-42c2-a813-162a7258041e",
   "metadata": {},
   "source": []
  }
 ],
 "metadata": {
  "kernelspec": {
   "display_name": "Python 3 (ipykernel)",
   "language": "python",
   "name": "python3"
  },
  "language_info": {
   "codemirror_mode": {
    "name": "ipython",
    "version": 3
   },
   "file_extension": ".py",
   "mimetype": "text/x-python",
   "name": "python",
   "nbconvert_exporter": "python",
   "pygments_lexer": "ipython3",
   "version": "3.10.8"
  }
 },
 "nbformat": 4,
 "nbformat_minor": 5
}
