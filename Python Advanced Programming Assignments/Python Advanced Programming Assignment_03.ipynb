{
 "cells": [
  {
   "cell_type": "markdown",
   "id": "1ca83cee-0593-425d-9e9b-ae1c0a4d743f",
   "metadata": {},
   "source": [
    "                           Python Advanced Programming Assignment No. 03"
   ]
  },
  {
   "cell_type": "markdown",
   "id": "c02b5349-a3b1-4ffc-a914-4bf2fc56f30d",
   "metadata": {},
   "source": []
  },
  {
   "cell_type": "markdown",
   "id": "ee545443-f628-4391-a5b0-edfb67ff8415",
   "metadata": {},
   "source": [
    "Q1. Create a function to perform basic arithmetic operations that includes\n",
    "addition, subtraction, multiplication and division on a string number (e.g. &quot;12 +\n",
    "24&quot; or &quot;23 - 21&quot; or &quot;12 // 12&quot; or &quot;12 * 21&quot;).\n",
    "\n",
    "Here, we have 1 followed by a space, operator followed by another space\n",
    "and 2. For the challenge, we are going to have only two numbers between 1\n",
    "valid operator. The return value should be a number.\n",
    "eval() is not allowed. In case of division, whenever the second number equals\n",
    "&quot;0&quot; return -1.\n",
    "\n",
    "For example:\n",
    "\n",
    "&quot;15 // 0&quot; ➞ -1\n",
    "\n",
    "Examples\n",
    "\n",
    "arithmetic_operation(&quot;12 + 12&quot;) ➞ 24 // 12 + 12 = 24\n",
    "\n",
    "arithmetic_operation(&quot;12 - 12&quot;) ➞ 24 // 12 - 12 = 0\n",
    "\n",
    "arithmetic_operation(&quot;12 * 12&quot;) ➞ 144 // 12 * 12 = 144\n",
    "\n",
    "arithmetic_operation(&quot;12 // 0&quot;) ➞ -1 // 12 / 0 = -1"
   ]
  },
  {
   "cell_type": "code",
   "execution_count": 1,
   "id": "9be3549d-08de-4f18-8a26-3e638bd83573",
   "metadata": {},
   "outputs": [],
   "source": [
    "def arithmetic_operation(str):\n",
    "    opertors = ['+', '-', '*', '/', '//', '%']\n",
    "    exp = list(str.split())\n",
    "    if exp[1] == '+':\n",
    "        print(\"The Expression :\", str)\n",
    "        return int(exp[0]) + int(exp[2])\n",
    "    elif exp[1] == '-':\n",
    "        print(\"The Expression :\", str)\n",
    "        return int(exp[0]) - int(exp[2])\n",
    "    elif exp[1] == '*':\n",
    "        print(\"The Expression :\", str)\n",
    "        return int(exp[0]) * int(exp[2])\n",
    "    elif exp[1] == '/':\n",
    "        print(\"The Expression :\", str)\n",
    "        if int(exp[0]) == 0 or int(exp[2]) == 0:\n",
    "            return -1\n",
    "        else:\n",
    "            return int(exp[0]) / int(exp[2]) \n",
    "    elif exp[1] == '//':\n",
    "        print(\"The Expression :\", str)\n",
    "        if int(exp[0]) == 0 or int(exp[2]) == 0:\n",
    "            return -1\n",
    "        else:\n",
    "            return int(exp[0]) // int(exp[2]) \n",
    "    elif exp[1] == '%':\n",
    "        print(\"The Expression :\", str)\n",
    "        return int(exp[0]) % int(exp[2])"
   ]
  },
  {
   "cell_type": "code",
   "execution_count": 2,
   "id": "21240b5e-b98f-4da9-85d9-5070d70bf126",
   "metadata": {},
   "outputs": [
    {
     "name": "stdout",
     "output_type": "stream",
     "text": [
      "The Expression : 12 + 12\n"
     ]
    },
    {
     "data": {
      "text/plain": [
       "24"
      ]
     },
     "execution_count": 2,
     "metadata": {},
     "output_type": "execute_result"
    }
   ],
   "source": [
    "arithmetic_operation('12 + 12')"
   ]
  },
  {
   "cell_type": "code",
   "execution_count": 3,
   "id": "ccc72e1c-e4b8-4132-9246-ef17c60d209b",
   "metadata": {},
   "outputs": [
    {
     "name": "stdout",
     "output_type": "stream",
     "text": [
      "The Expression : 12 - 12\n"
     ]
    },
    {
     "data": {
      "text/plain": [
       "0"
      ]
     },
     "execution_count": 3,
     "metadata": {},
     "output_type": "execute_result"
    }
   ],
   "source": [
    "arithmetic_operation('12 - 12')"
   ]
  },
  {
   "cell_type": "code",
   "execution_count": 4,
   "id": "597ebe60-47e5-47fa-9f9a-2b182e52662f",
   "metadata": {},
   "outputs": [
    {
     "name": "stdout",
     "output_type": "stream",
     "text": [
      "The Expression : 12 * 12\n"
     ]
    },
    {
     "data": {
      "text/plain": [
       "144"
      ]
     },
     "execution_count": 4,
     "metadata": {},
     "output_type": "execute_result"
    }
   ],
   "source": [
    "arithmetic_operation('12 * 12')"
   ]
  },
  {
   "cell_type": "code",
   "execution_count": 5,
   "id": "22558275-6071-4adf-90a9-0e53ad7e0e08",
   "metadata": {},
   "outputs": [
    {
     "name": "stdout",
     "output_type": "stream",
     "text": [
      "The Expression : 12 / 12\n"
     ]
    },
    {
     "data": {
      "text/plain": [
       "1.0"
      ]
     },
     "execution_count": 5,
     "metadata": {},
     "output_type": "execute_result"
    }
   ],
   "source": [
    "arithmetic_operation('12 / 12')"
   ]
  },
  {
   "cell_type": "code",
   "execution_count": 6,
   "id": "a752a733-5334-4d59-bcf9-baa95548a8f6",
   "metadata": {},
   "outputs": [
    {
     "name": "stdout",
     "output_type": "stream",
     "text": [
      "The Expression : 12 // 12\n"
     ]
    },
    {
     "data": {
      "text/plain": [
       "1"
      ]
     },
     "execution_count": 6,
     "metadata": {},
     "output_type": "execute_result"
    }
   ],
   "source": [
    "arithmetic_operation('12 // 12')"
   ]
  },
  {
   "cell_type": "code",
   "execution_count": 7,
   "id": "d9704a2b-2436-46c2-a562-19e394134c34",
   "metadata": {},
   "outputs": [
    {
     "name": "stdout",
     "output_type": "stream",
     "text": [
      "The Expression : 12 % 12\n"
     ]
    },
    {
     "data": {
      "text/plain": [
       "0"
      ]
     },
     "execution_count": 7,
     "metadata": {},
     "output_type": "execute_result"
    }
   ],
   "source": [
    "arithmetic_operation('12 % 12')"
   ]
  },
  {
   "cell_type": "code",
   "execution_count": 8,
   "id": "6f5a805d-ee1c-49ad-b67f-1d99a5921696",
   "metadata": {},
   "outputs": [
    {
     "name": "stdout",
     "output_type": "stream",
     "text": [
      "The Expression : 12 // 0\n"
     ]
    },
    {
     "data": {
      "text/plain": [
       "-1"
      ]
     },
     "execution_count": 8,
     "metadata": {},
     "output_type": "execute_result"
    }
   ],
   "source": [
    "arithmetic_operation('12 // 0')"
   ]
  },
  {
   "cell_type": "code",
   "execution_count": 9,
   "id": "d1087e27-6ebc-4381-8f7d-b6dcc0d4081f",
   "metadata": {},
   "outputs": [
    {
     "name": "stdout",
     "output_type": "stream",
     "text": [
      "The Expression : 0 // 0\n"
     ]
    },
    {
     "data": {
      "text/plain": [
       "-1"
      ]
     },
     "execution_count": 9,
     "metadata": {},
     "output_type": "execute_result"
    }
   ],
   "source": [
    "arithmetic_operation('0 // 0')"
   ]
  },
  {
   "cell_type": "code",
   "execution_count": 10,
   "id": "042d8e78-1537-4b5f-9f09-feafd6bdea16",
   "metadata": {},
   "outputs": [
    {
     "name": "stdout",
     "output_type": "stream",
     "text": [
      "The Expression : 0 // 5\n"
     ]
    },
    {
     "data": {
      "text/plain": [
       "-1"
      ]
     },
     "execution_count": 10,
     "metadata": {},
     "output_type": "execute_result"
    }
   ],
   "source": [
    "arithmetic_operation('0 // 5')"
   ]
  },
  {
   "cell_type": "markdown",
   "id": "3bcfc350-f2f5-4802-816e-e5dd4d636bcd",
   "metadata": {},
   "source": []
  },
  {
   "cell_type": "markdown",
   "id": "8c593f79-370c-435e-adc6-de76b11db3ca",
   "metadata": {},
   "source": [
    "Q2. Write a function that takes the coordinates of three points in the form of a\n",
    "2d array and returns the perimeter of the triangle. The given points are the\n",
    "vertices of a triangle on a two-dimensional plane.\n",
    "\n",
    "Examples\n",
    "\n",
    "perimeter( [ [15, 7], [5, 22], [11, 1] ] ) ➞ 47.08\n",
    "\n",
    "perimeter( [ [0, 0], [0, 1], [1, 0] ] ) ➞ 3.42\n",
    "\n",
    "perimeter( [ [-10, -10], [10, 10 ], [-10, 10] ] ) ➞ 68.28\n"
   ]
  },
  {
   "cell_type": "code",
   "execution_count": 17,
   "id": "0cf0e4aa-7197-4640-b869-98aeea97f62e",
   "metadata": {},
   "outputs": [],
   "source": [
    "import math\n",
    "def perimeter(ary):\n",
    "   \n",
    "    x = ary[0]\n",
    "    y = ary[1]\n",
    "    z = ary[2]\n",
    "    #Find lenth of 3 sides\n",
    "    a = math.sqrt((x[0]-x[1])**2 + (y[0]-y[1])**2)\n",
    "    b = math.sqrt((y[0]-y[1])**2 + (z[0]-z[1])**2)\n",
    "    c = math.sqrt((z[0]-z[1])**2 + (x[0]-x[1])**2)\n",
    "    perimetr = a + b + c\n",
    "    print(\"The co ordinates are \",x,y,z)\n",
    "    return perimetr"
   ]
  },
  {
   "cell_type": "code",
   "execution_count": 18,
   "id": "881ccc9a-1644-4e7b-b797-882c58108779",
   "metadata": {},
   "outputs": [
    {
     "name": "stdout",
     "output_type": "stream",
     "text": [
      "The co ordinates are  [15, 7] [5, 22] [11, 1]\n"
     ]
    },
    {
     "data": {
      "text/plain": [
       "51.31762562623766"
      ]
     },
     "execution_count": 18,
     "metadata": {},
     "output_type": "execute_result"
    }
   ],
   "source": [
    "perimeter( [ [15, 7], [5, 22], [11, 1] ] )"
   ]
  },
  {
   "cell_type": "code",
   "execution_count": 19,
   "id": "7ed91170-9fa0-4b3b-ab2c-46e7e6ea6a52",
   "metadata": {},
   "outputs": [
    {
     "name": "stdout",
     "output_type": "stream",
     "text": [
      "The co ordinates are  [0, 0] [0, 1] [1, 0]\n"
     ]
    },
    {
     "data": {
      "text/plain": [
       "3.414213562373095"
      ]
     },
     "execution_count": 19,
     "metadata": {},
     "output_type": "execute_result"
    }
   ],
   "source": [
    "perimeter( [ [0, 0], [0, 1], [1, 0] ] )"
   ]
  },
  {
   "cell_type": "code",
   "execution_count": 20,
   "id": "cdb53361-450e-44a0-86f5-203385f15cc5",
   "metadata": {},
   "outputs": [
    {
     "name": "stdout",
     "output_type": "stream",
     "text": [
      "The co ordinates are  [-10, -10] [10, 10] [-10, 10]\n"
     ]
    },
    {
     "data": {
      "text/plain": [
       "40.0"
      ]
     },
     "execution_count": 20,
     "metadata": {},
     "output_type": "execute_result"
    }
   ],
   "source": [
    "perimeter( [ [-10, -10], [10, 10 ], [-10, 10] ] )"
   ]
  },
  {
   "cell_type": "markdown",
   "id": "90c12061-f780-4e14-a183-450f6173d9a3",
   "metadata": {},
   "source": []
  },
  {
   "cell_type": "markdown",
   "id": "de967757-7a83-4574-922b-dde1d7205cdd",
   "metadata": {},
   "source": [
    "3. A city skyline can be represented as a 2-D list with 1s representing\n",
    "buildings. In the example below, the height of the tallest building is 4 (second-\n",
    "most right column).\n",
    "[[0, 0, 0, 0, 0, 0],\n",
    "[0, 0, 0, 0, 1, 0],\n",
    "[0, 0, 1, 0, 1, 0],\n",
    "[0, 1, 1, 1, 1, 0],\n",
    "\n",
    "[1, 1, 1, 1, 1, 1]]\n",
    "Create a function that takes a skyline (2-D list of 0&#39;s and 1&#39;s) and returns the\n",
    "height of the tallest skyscraper.\n",
    "\n",
    "Examples\n",
    "\n",
    "tallest_skyscraper([\n",
    "[0, 0, 0, 0],\n",
    "[0, 1, 0, 0],\n",
    "[0, 1, 1, 0],\n",
    "[1, 1, 1, 1]\n",
    "]) ➞ 3\n",
    "\n",
    "tallest_skyscraper([\n",
    "[0, 1, 0, 0],\n",
    "[0, 1, 0, 0],\n",
    "[0, 1, 1, 0],\n",
    "[1, 1, 1, 1]\n",
    "]) ➞ 4\n",
    "\n",
    "tallest_skyscraper([\n",
    "[0, 0, 0, 0],\n",
    "[0, 0, 0, 0],\n",
    "[1, 1, 1, 0],\n",
    "[1, 1, 1, 1]\n",
    "]) ➞ 2\n"
   ]
  },
  {
   "cell_type": "code",
   "execution_count": 21,
   "id": "e85f6de0-e64d-4411-ba0b-bfad6cd8267f",
   "metadata": {},
   "outputs": [],
   "source": [
    "def tallest_skyscraper(array):\n",
    "    list_of_height = []\n",
    "    sum = 0\n",
    "    for i in range(len(array[0])):\n",
    "        for j in range(len(array)):\n",
    "            sum = sum + array[j][i]\n",
    "        list_of_height.append(sum)\n",
    "        sum = 0\n",
    "    return \"The hieght of tallest building is : \", max(list_of_height)\n",
    "     "
   ]
  },
  {
   "cell_type": "code",
   "execution_count": 22,
   "id": "31d6ab6a-4aad-4f3e-8039-ebc0a790bf3a",
   "metadata": {},
   "outputs": [
    {
     "data": {
      "text/plain": [
       "('The hieght of tallest building is : ', 3)"
      ]
     },
     "execution_count": 22,
     "metadata": {},
     "output_type": "execute_result"
    }
   ],
   "source": [
    "tallest_skyscraper([\n",
    "[0, 0, 0, 0],\n",
    "[0, 1, 0, 0],\n",
    "[0, 1, 1, 0],\n",
    "[1, 1, 1, 1]\n",
    "])"
   ]
  },
  {
   "cell_type": "code",
   "execution_count": 23,
   "id": "a55df425-39a6-4922-98de-ef4111232790",
   "metadata": {},
   "outputs": [
    {
     "data": {
      "text/plain": [
       "('The hieght of tallest building is : ', 4)"
      ]
     },
     "execution_count": 23,
     "metadata": {},
     "output_type": "execute_result"
    }
   ],
   "source": [
    "tallest_skyscraper([\n",
    "[0, 1, 0, 0],\n",
    "[0, 1, 0, 0],\n",
    "[0, 1, 1, 0],\n",
    "[1, 1, 1, 1]\n",
    "])"
   ]
  },
  {
   "cell_type": "code",
   "execution_count": 24,
   "id": "5b22f073-b1ac-4d53-8905-a555f9ee8944",
   "metadata": {},
   "outputs": [
    {
     "data": {
      "text/plain": [
       "('The hieght of tallest building is : ', 2)"
      ]
     },
     "execution_count": 24,
     "metadata": {},
     "output_type": "execute_result"
    }
   ],
   "source": [
    "tallest_skyscraper([\n",
    "[0, 0, 0, 0],\n",
    "[0, 0, 0, 0],\n",
    "[1, 1, 1, 0],\n",
    "[1, 1, 1, 1]\n",
    "])"
   ]
  },
  {
   "cell_type": "markdown",
   "id": "c9438cc3-86b6-446b-88e5-429a3d9d1663",
   "metadata": {},
   "source": []
  },
  {
   "cell_type": "markdown",
   "id": "2b0716a2-7865-40a9-be0a-5281325248b3",
   "metadata": {},
   "source": [
    "Q4. A financial institution provides professional services to banks and claims\n",
    "charges from the customers based on the number of man-days provided.\n",
    "Internally, it has set a scheme to motivate and reward staff to meet and\n",
    "exceed targeted billable utilization and revenues by paying a bonus for each\n",
    "day claimed from customers in excess of a threshold target.\n",
    "This quarterly scheme is calculated with a threshold target of 32 days per\n",
    "quarter, and the incentive payment for each billable day in excess of such\n",
    "threshold target is shown as follows:\n",
    "\n",
    "Days Bonus\n",
    "0 to 32 days Zero\n",
    "33 to 40 days SGD$325 per billable day\n",
    "41 to 48 days SGD$550 per billable day\n",
    "Greater than 48 days SGD$600 per billable day\n",
    "\n",
    "Please note that incentive payment is calculated progressively. As an\n",
    "example, if an employee reached total billable days of 45 in a quarter, his/her\n",
    "incentive payment is computed as follows:\n",
    "\n",
    "32*0 + 8*325 + 5*550 = 5350\n",
    "\n",
    "Write a function to read the billable days of an employee and return the bonus\n",
    "he/she has obtained in that quarter.\n",
    "\n",
    "Examples\n",
    "\n",
    "bonus(15) ➞ 0\n",
    "\n",
    "bonus(37) ➞ 1625\n",
    "\n",
    "bonus(50) ➞ 8200"
   ]
  },
  {
   "cell_type": "code",
   "execution_count": 27,
   "id": "df9bf588-cfb3-4f89-a6d4-16a883799146",
   "metadata": {},
   "outputs": [],
   "source": [
    "def bonus(day):\n",
    "    days = [32,40,48]\n",
    "    inc = 0\n",
    "    while True :\n",
    "        if day <=32 :\n",
    "            break\n",
    "        if day > 48:\n",
    "            inc = inc + (day - days[2]) * 600\n",
    "            day = day - (day - days[2])\n",
    "            print(inc)\n",
    "        elif day > 40 :\n",
    "            inc = inc + (day -days[1]) * 550\n",
    "            day = day - (day - days[1])\n",
    "        elif day > 32:\n",
    "            inc = inc + (day -days[0]) * 325\n",
    "            day = day - (day - days[0])\n",
    "    return \"The incentive is : \",inc"
   ]
  },
  {
   "cell_type": "code",
   "execution_count": 28,
   "id": "fac587df-57b4-4e19-a54f-2f963a95f3cb",
   "metadata": {},
   "outputs": [
    {
     "data": {
      "text/plain": [
       "('The incentive is : ', 5350)"
      ]
     },
     "execution_count": 28,
     "metadata": {},
     "output_type": "execute_result"
    }
   ],
   "source": [
    "bonus(45)"
   ]
  },
  {
   "cell_type": "code",
   "execution_count": 29,
   "id": "094b04cd-7a1c-4a36-aebe-90cf026b5072",
   "metadata": {},
   "outputs": [
    {
     "data": {
      "text/plain": [
       "('The incentive is : ', 0)"
      ]
     },
     "execution_count": 29,
     "metadata": {},
     "output_type": "execute_result"
    }
   ],
   "source": [
    "bonus(15)"
   ]
  },
  {
   "cell_type": "code",
   "execution_count": 30,
   "id": "ff34ad63-3253-418e-a164-af7680eba675",
   "metadata": {},
   "outputs": [
    {
     "data": {
      "text/plain": [
       "('The incentive is : ', 1625)"
      ]
     },
     "execution_count": 30,
     "metadata": {},
     "output_type": "execute_result"
    }
   ],
   "source": [
    "bonus(37)"
   ]
  },
  {
   "cell_type": "code",
   "execution_count": 31,
   "id": "89457689-c26c-40e0-82f3-d9231238cc45",
   "metadata": {},
   "outputs": [
    {
     "name": "stdout",
     "output_type": "stream",
     "text": [
      "1200\n"
     ]
    },
    {
     "data": {
      "text/plain": [
       "('The incentive is : ', 8200)"
      ]
     },
     "execution_count": 31,
     "metadata": {},
     "output_type": "execute_result"
    }
   ],
   "source": [
    "bonus(50)"
   ]
  },
  {
   "cell_type": "markdown",
   "id": "95812a73-5bd8-4513-b1bf-243a46ed5b6c",
   "metadata": {},
   "source": []
  },
  {
   "cell_type": "markdown",
   "id": "1c997ff1-8295-477a-9d3d-4d973754647e",
   "metadata": {},
   "source": [
    "Q5. A number is said to be Disarium if the sum of its digits raised to their\n",
    "respective positions is the number itself.\n",
    "Create a function that determines whether a number is a Disarium or not.\n",
    "Examples\n",
    "\n",
    "is_disarium(75) ➞ False\n",
    " - 7^1 + 5^2 = 7 + 25 = 32\n",
    "\n",
    "is_disarium(135) ➞ True\n",
    " - 1^1 + 3^2 + 5^3 = 1 + 9 + 125 = 135\n",
    "\n",
    "is_disarium(544) ➞ False\n",
    "is_disarium(518) ➞ True\n",
    "is_disarium(466) ➞ False\n",
    "is_disarium(8) ➞ True"
   ]
  },
  {
   "cell_type": "code",
   "execution_count": 33,
   "id": "e311c198-f06a-4374-98ad-51b241a481b6",
   "metadata": {},
   "outputs": [],
   "source": [
    "def is_disarium(num):\n",
    "    sum = 0\n",
    "    tempNum = num\n",
    "    while(num>0):\n",
    "        dgcnt= len(str(num))\n",
    "        digit = num%10\n",
    "        sum= sum + digit**dgcnt   \n",
    "        dgcnt-=1\n",
    "        num = num//10    \n",
    "    if sum == tempNum:\n",
    "        return tempNum,\"Number is Disarium\"\n",
    "    else:\n",
    "        return tempNum,\"Number is not Disarium\""
   ]
  },
  {
   "cell_type": "code",
   "execution_count": 34,
   "id": "976c977d-126a-4b52-8635-4a4357e0835b",
   "metadata": {},
   "outputs": [
    {
     "data": {
      "text/plain": [
       "(544, 'Number is not Disarium')"
      ]
     },
     "execution_count": 34,
     "metadata": {},
     "output_type": "execute_result"
    }
   ],
   "source": [
    "is_disarium(544)"
   ]
  },
  {
   "cell_type": "code",
   "execution_count": 35,
   "id": "1890be02-8fe7-429f-bd2a-99248668be8b",
   "metadata": {},
   "outputs": [
    {
     "data": {
      "text/plain": [
       "(518, 'Number is Disarium')"
      ]
     },
     "execution_count": 35,
     "metadata": {},
     "output_type": "execute_result"
    }
   ],
   "source": [
    "is_disarium(518)"
   ]
  },
  {
   "cell_type": "code",
   "execution_count": 36,
   "id": "fd0078b8-c584-4326-8462-60ee485be3d2",
   "metadata": {},
   "outputs": [
    {
     "data": {
      "text/plain": [
       "(466, 'Number is not Disarium')"
      ]
     },
     "execution_count": 36,
     "metadata": {},
     "output_type": "execute_result"
    }
   ],
   "source": [
    "is_disarium(466)"
   ]
  },
  {
   "cell_type": "code",
   "execution_count": 37,
   "id": "a50760da-dc81-4f7d-a210-4920aa91e336",
   "metadata": {},
   "outputs": [
    {
     "data": {
      "text/plain": [
       "(8, 'Number is Disarium')"
      ]
     },
     "execution_count": 37,
     "metadata": {},
     "output_type": "execute_result"
    }
   ],
   "source": [
    "is_disarium(8)"
   ]
  },
  {
   "cell_type": "markdown",
   "id": "1bb9a017-67de-49c1-bc29-43a2013e3cfc",
   "metadata": {},
   "source": []
  }
 ],
 "metadata": {
  "kernelspec": {
   "display_name": "Python 3 (ipykernel)",
   "language": "python",
   "name": "python3"
  },
  "language_info": {
   "codemirror_mode": {
    "name": "ipython",
    "version": 3
   },
   "file_extension": ".py",
   "mimetype": "text/x-python",
   "name": "python",
   "nbconvert_exporter": "python",
   "pygments_lexer": "ipython3",
   "version": "3.10.8"
  }
 },
 "nbformat": 4,
 "nbformat_minor": 5
}
