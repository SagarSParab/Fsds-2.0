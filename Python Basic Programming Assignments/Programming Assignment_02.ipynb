{
 "cells": [
  {
   "cell_type": "markdown",
   "id": "2cba26e7-7856-41c8-a1fb-bbfdd23e479e",
   "metadata": {},
   "source": [
    "                          Programming Assignment no. 02"
   ]
  },
  {
   "cell_type": "markdown",
   "id": "96716ea5-d2eb-44b7-a8af-bb0d1ae4c493",
   "metadata": {},
   "source": []
  },
  {
   "cell_type": "markdown",
   "id": "06ef0504-82fb-4394-bbaf-101b5c95d4cd",
   "metadata": {},
   "source": [
    "1. Write a Python program to convert kilometers to miles?"
   ]
  },
  {
   "cell_type": "code",
   "execution_count": 4,
   "id": "accd34d3-55e0-406b-83b4-9e167692a5d8",
   "metadata": {},
   "outputs": [
    {
     "name": "stdin",
     "output_type": "stream",
     "text": [
      "Enter the kilomters value: 3\n"
     ]
    },
    {
     "name": "stdout",
     "output_type": "stream",
     "text": [
      "3 kilometers is equivalent to 1.8641135699999998 miles\n"
     ]
    }
   ],
   "source": [
    " # take input as kilometers value from user\n",
    "    \n",
    "km = int(input(\"Enter the kilomters value:\"))\n",
    "\n",
    "# convert the kilometers into miles by using formula\n",
    "\n",
    "miles = km* 0.62137119\n",
    "\n",
    "# now to get results\n",
    "\n",
    "print(f\"{km} kilometers is equivalent to {miles} miles\")\n"
   ]
  },
  {
   "cell_type": "markdown",
   "id": "28538ea2-85f7-43d8-a1a9-6a5a62237acb",
   "metadata": {},
   "source": []
  },
  {
   "cell_type": "markdown",
   "id": "8b6ee4a5-47b8-4829-9af9-87a8150524b8",
   "metadata": {},
   "source": [
    "2. Write a Python program to convert Celsius to Fahrenheit?"
   ]
  },
  {
   "cell_type": "code",
   "execution_count": 6,
   "id": "98696233-5524-4190-97df-29a571fc04ac",
   "metadata": {},
   "outputs": [
    {
     "name": "stdin",
     "output_type": "stream",
     "text": [
      "Enter the temperature in celsius 11\n"
     ]
    },
    {
     "name": "stdout",
     "output_type": "stream",
     "text": [
      "11.0 degree Celsius is equal to 51.8 degree Fahrenhit\n"
     ]
    }
   ],
   "source": [
    "# import the necessary libraries\n",
    "import math\n",
    "\n",
    "# Get the celsius temperature from the user\n",
    "celsius = float(input(\"Enter the temperature in celsius\"))\n",
    "\n",
    "# calculate the Fahrenhit temperature\n",
    "fahrenhit= (celsius * 9 / 5) + 32\n",
    "\n",
    "# print the Fahrenhit temperature\n",
    "print(f\"{celsius} degree Celsius is equal to {fahrenhit} degree Fahrenhit\")\n"
   ]
  },
  {
   "cell_type": "markdown",
   "id": "200ec3ff-2603-4f59-93f2-c909f2b3ae66",
   "metadata": {},
   "source": []
  },
  {
   "cell_type": "markdown",
   "id": "d9d8c193-cdcd-4eed-986b-6b9a561756f0",
   "metadata": {},
   "source": [
    "3. Write a Python program to display calendar?"
   ]
  },
  {
   "cell_type": "code",
   "execution_count": 8,
   "id": "fd3b95fb-c256-4731-9b46-16d5678c3833",
   "metadata": {},
   "outputs": [
    {
     "name": "stdin",
     "output_type": "stream",
     "text": [
      "Enter the Year 2024\n",
      "Enter the Month 6\n"
     ]
    },
    {
     "name": "stdout",
     "output_type": "stream",
     "text": [
      "     June 2024\n",
      "Mo Tu We Th Fr Sa Su\n",
      "                1  2\n",
      " 3  4  5  6  7  8  9\n",
      "10 11 12 13 14 15 16\n",
      "17 18 19 20 21 22 23\n",
      "24 25 26 27 28 29 30\n",
      "\n"
     ]
    }
   ],
   "source": [
    "import calendar \n",
    "\n",
    "# Ask the user for the year and month\n",
    "year = int(input(\"Enter the Year\"))\n",
    "month = int(input(\"Enter the Month\"))\n",
    "\n",
    "# Display the Calendar\n",
    "print(calendar.month(year, month))"
   ]
  },
  {
   "cell_type": "markdown",
   "id": "b9fc551a-9d51-4c31-8280-f22532717425",
   "metadata": {},
   "source": []
  },
  {
   "cell_type": "markdown",
   "id": "75dc0df0-8ffa-4d0c-9edc-db4cbb85047e",
   "metadata": {},
   "source": [
    "4. Write a Python program to solve quadratic equation?"
   ]
  },
  {
   "cell_type": "code",
   "execution_count": 10,
   "id": "b72a1a54-831a-42f6-b49d-7764c5ddf9d7",
   "metadata": {},
   "outputs": [
    {
     "name": "stdin",
     "output_type": "stream",
     "text": [
      "Enter a = 2\n",
      "Enter b = 3\n",
      "Enter c = 5\n"
     ]
    },
    {
     "name": "stdout",
     "output_type": "stream",
     "text": [
      "(-0.75+1.3919410907075054j)  ,  (-0.75-1.3919410907075054j)\n"
     ]
    }
   ],
   "source": [
    "# Formula to solve quadratic equation is \n",
    "# x = -b +_ sqrt(b**2 - 4*a*c)/ 2*a\n",
    "\n",
    "import cmath\n",
    "\n",
    "a = int(input(\"Enter a =\"))\n",
    "b = int(input(\"Enter b =\"))\n",
    "c = int(input(\"Enter c =\"))\n",
    "\n",
    "discriminant = (b**2) - (4*a*c)\n",
    "\n",
    "solution_1 = (-b + cmath.sqrt(discriminant))/(2*a)\n",
    "\n",
    "solution_2 = (-b - cmath.sqrt(discriminant))/(2*a)\n",
    "\n",
    "print(solution_1, \" , \", solution_2)"
   ]
  },
  {
   "cell_type": "markdown",
   "id": "56e5ec98-29f6-4057-a25f-71fc0b1b6a18",
   "metadata": {},
   "source": []
  },
  {
   "cell_type": "markdown",
   "id": "364c5806-c5ae-486b-8ce2-cd64bf2fd8b2",
   "metadata": {},
   "source": [
    "5. Write a Python program to swap two variables without temp variable?"
   ]
  },
  {
   "cell_type": "code",
   "execution_count": 12,
   "id": "015c8395-2e30-4ef1-947d-58c3eef682c6",
   "metadata": {},
   "outputs": [
    {
     "name": "stdin",
     "output_type": "stream",
     "text": [
      "Enter first variable = 5\n",
      "Enter second variable = 7\n"
     ]
    },
    {
     "name": "stdout",
     "output_type": "stream",
     "text": [
      "First variable Before Swap : 5 \n",
      "  Second variable Before Swap : 7 \n",
      "After Swap : \n",
      " First variable : 7 \n",
      "  Second variable : 5 \n"
     ]
    }
   ],
   "source": [
    "# take the two variables as input from the user\n",
    "\n",
    "first_variable = int(input(\"Enter first variable =\"))\n",
    "second_variable = int(input(\"Enter second variable =\"))\n",
    "\n",
    "# before swapping the elements are\n",
    "print(\"First variable Before Swap : {} \\n  Second variable Before Swap : {} \". format(first_variable, second_variable))\n",
    "\n",
    "# Swapping the elements\n",
    "first_variable, second_variable = second_variable, first_variable\n",
    "\n",
    "# print the results\n",
    "print(\"After Swap : \\n First variable : {} \\n  Second variable : {} \".format(first_variable, second_variable))\n"
   ]
  },
  {
   "cell_type": "markdown",
   "id": "4ee931ad-b5fd-419b-975e-fb3be796881d",
   "metadata": {},
   "source": []
  }
 ],
 "metadata": {
  "kernelspec": {
   "display_name": "Python 3 (ipykernel)",
   "language": "python",
   "name": "python3"
  },
  "language_info": {
   "codemirror_mode": {
    "name": "ipython",
    "version": 3
   },
   "file_extension": ".py",
   "mimetype": "text/x-python",
   "name": "python",
   "nbconvert_exporter": "python",
   "pygments_lexer": "ipython3",
   "version": "3.10.8"
  }
 },
 "nbformat": 4,
 "nbformat_minor": 5
}
