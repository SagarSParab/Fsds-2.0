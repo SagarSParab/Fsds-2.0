{
 "cells": [
  {
   "cell_type": "markdown",
   "id": "e838333c-7719-42d6-85dc-801cd5f25c75",
   "metadata": {},
   "source": [
    "                         Programming Assignment no. 04"
   ]
  },
  {
   "cell_type": "markdown",
   "id": "379aa380-5c54-4322-a245-cae09df3a6c6",
   "metadata": {},
   "source": []
  },
  {
   "cell_type": "markdown",
   "id": "63f0a296-2528-425e-a283-d3d3d87807bb",
   "metadata": {},
   "source": [
    "1. Write a Python Program to Find the Factorial of a Number?"
   ]
  },
  {
   "cell_type": "code",
   "execution_count": 1,
   "id": "acd584e5-9c22-458c-8d1d-766943beeeb7",
   "metadata": {},
   "outputs": [
    {
     "name": "stdin",
     "output_type": "stream",
     "text": [
      "Enter a Number:  5\n"
     ]
    },
    {
     "name": "stdout",
     "output_type": "stream",
     "text": [
      "Factorial of number 5 is, 120\n"
     ]
    }
   ],
   "source": [
    "try:\n",
    "    # define number to factorial\n",
    "    number = int(input(\"Enter a Number: \"))\n",
    "    \n",
    "    # taking by default factorial of 0 is 1\n",
    "    factorial = 1\n",
    "    \n",
    "    num = 1\n",
    "    \n",
    "    \n",
    "    \n",
    "    while num <= number:\n",
    "        factorial = factorial * num\n",
    "        num = num + 1\n",
    "    else:\n",
    "        print(f\"Factorial of number {number} is, {factorial}\")\n",
    "        \n",
    "except Exception as e:\n",
    "    print(e)"
   ]
  },
  {
   "cell_type": "markdown",
   "id": "63dbd12b-b1cd-4496-bea4-64f30d55eefe",
   "metadata": {},
   "source": []
  },
  {
   "cell_type": "markdown",
   "id": "12e67bc9-ac02-4b90-9ecd-4ae09293bf7b",
   "metadata": {},
   "source": [
    "2. Write a Python Program to Display the multiplication Table?"
   ]
  },
  {
   "cell_type": "code",
   "execution_count": 11,
   "id": "688ad296-4608-41ce-8e84-3fa67d896ab2",
   "metadata": {},
   "outputs": [
    {
     "name": "stdin",
     "output_type": "stream",
     "text": [
      "Enter a number for Table 6\n"
     ]
    },
    {
     "name": "stdout",
     "output_type": "stream",
     "text": [
      "Multiplication Table for 6\n",
      "6 x 1 = 6\n",
      "6 x 2 = 12\n",
      "6 x 3 = 18\n",
      "6 x 4 = 24\n",
      "6 x 5 = 30\n",
      "6 x 6 = 36\n",
      "6 x 7 = 42\n",
      "6 x 8 = 48\n",
      "6 x 9 = 54\n",
      "6 x 10 = 60\n"
     ]
    }
   ],
   "source": [
    "x = int(input(\"Enter a number for Table\"))\n",
    "print(\"Multiplication Table for\",x)\n",
    "\n",
    "for i in range(1, 11):\n",
    "    print(\"{} x {} = {}\".format(x , i , x*i))"
   ]
  },
  {
   "cell_type": "markdown",
   "id": "d3cea0d1-092f-4c17-b7e3-65ff8a71f873",
   "metadata": {},
   "source": []
  },
  {
   "cell_type": "markdown",
   "id": "779a3838-4594-482a-abd0-f6c69e7e6a60",
   "metadata": {},
   "source": [
    "3. Write a Python Program to Print the Fibonacci sequence?"
   ]
  },
  {
   "cell_type": "code",
   "execution_count": 22,
   "id": "d442bf4a-4743-4b84-8efb-792c2d377a10",
   "metadata": {},
   "outputs": [],
   "source": [
    "# Fibonacci series -> 1, 1, 2, 3, 5, 8, 13, 21, 34,.....\n",
    "# We also know that fib of 0 and 1 is 1\n",
    "\n",
    "def genfib(n):\n",
    "    a = 1\n",
    "    b = 1\n",
    "    l = []\n",
    "    for i in range(n):\n",
    "        l.append(a)\n",
    "        a, b = b, a + b\n",
    "    return l"
   ]
  },
  {
   "cell_type": "code",
   "execution_count": 24,
   "id": "baef79db-0f13-41c1-b424-06b2d16791c6",
   "metadata": {},
   "outputs": [
    {
     "data": {
      "text/plain": [
       "[1, 1, 2, 3, 5, 8, 13, 21, 34]"
      ]
     },
     "execution_count": 24,
     "metadata": {},
     "output_type": "execute_result"
    }
   ],
   "source": [
    "genfib(9)"
   ]
  },
  {
   "cell_type": "markdown",
   "id": "ccac24a9-0a26-4c04-81bb-851c732fef6b",
   "metadata": {},
   "source": []
  },
  {
   "cell_type": "markdown",
   "id": "e2414216-3d00-4461-8829-59bd21a9f905",
   "metadata": {},
   "source": [
    "4. Write a Python Program to Check Armstrong Number?"
   ]
  },
  {
   "cell_type": "code",
   "execution_count": 28,
   "id": "feb641e5-0476-446b-973d-e889ea90ff66",
   "metadata": {},
   "outputs": [
    {
     "name": "stdin",
     "output_type": "stream",
     "text": [
      "Enter a number:  130\n"
     ]
    },
    {
     "name": "stdout",
     "output_type": "stream",
     "text": [
      " This Number is not Armstrong Number\n"
     ]
    }
   ],
   "source": [
    "x = int(input(\"Enter a number: \"))\n",
    "\n",
    "power = len(str(x))\n",
    "\n",
    "y = x\n",
    "sum = 0\n",
    "\n",
    "while y > 0:\n",
    "    digit = y % 10\n",
    "    sum = sum + digit ** power\n",
    "    y = y//10\n",
    "if x == sum:\n",
    "    print(\"This Number is Armstrong Number\")\n",
    "else:\n",
    "    print(\" This Number is not Armstrong Number\")"
   ]
  },
  {
   "cell_type": "markdown",
   "id": "a69ff1f0-63ba-4ede-87f9-9b69c2e1c8a4",
   "metadata": {},
   "source": []
  },
  {
   "cell_type": "markdown",
   "id": "8d8c309e-d55c-4dc4-89a8-a9249b64f1d9",
   "metadata": {},
   "source": [
    "5. Write a Python Program to Find Armstrong Number in an Interval?"
   ]
  },
  {
   "cell_type": "code",
   "execution_count": 30,
   "id": "dc93d62e-c02f-466f-8d12-4eb06ee9209f",
   "metadata": {},
   "outputs": [
    {
     "name": "stdin",
     "output_type": "stream",
     "text": [
      "Lower Number :  10\n",
      "Upper Number :  1000\n"
     ]
    },
    {
     "name": "stdout",
     "output_type": "stream",
     "text": [
      "153\n",
      "370\n",
      "371\n",
      "407\n"
     ]
    }
   ],
   "source": [
    "x = int(input(\"Lower Number : \"))\n",
    "y = int(input(\"Upper Number : \"))\n",
    "\n",
    "\n",
    "for i in range(x, y+1):\n",
    "    power = len(str(i))\n",
    "    sum = 0\n",
    "    temp = i\n",
    "    while temp > 0:\n",
    "        digit = temp % 10\n",
    "        sum = sum + digit ** power\n",
    "        temp = temp//10\n",
    "    if i == sum:\n",
    "        print(i)"
   ]
  },
  {
   "cell_type": "markdown",
   "id": "c65939f0-d9e6-42b4-be1a-4363a0780486",
   "metadata": {},
   "source": []
  },
  {
   "cell_type": "markdown",
   "id": "c17f59b8-d218-4efb-92ef-7e134c641449",
   "metadata": {},
   "source": [
    "6. Write a Python Program to Find the Sum of Natural Numbers?"
   ]
  },
  {
   "cell_type": "code",
   "execution_count": 34,
   "id": "2085ba28-8c91-43cd-b6fb-9e8f8b4e0d02",
   "metadata": {},
   "outputs": [
    {
     "name": "stdin",
     "output_type": "stream",
     "text": [
      "Enter the number:  10\n"
     ]
    },
    {
     "name": "stdout",
     "output_type": "stream",
     "text": [
      "Sum of Natural Numbers upto 10 is 55\n"
     ]
    }
   ],
   "source": [
    "x = int(input(\"Enter the number: \"))\n",
    "\n",
    "sum = 0 \n",
    "for i in range(0, x+1):\n",
    "    sum += i\n",
    "print(\"Sum of Natural Numbers upto {} is {}\".format(x, sum))"
   ]
  },
  {
   "cell_type": "markdown",
   "id": "19e17549-d7c6-4517-8058-35cab7839690",
   "metadata": {},
   "source": []
  }
 ],
 "metadata": {
  "kernelspec": {
   "display_name": "Python 3 (ipykernel)",
   "language": "python",
   "name": "python3"
  },
  "language_info": {
   "codemirror_mode": {
    "name": "ipython",
    "version": 3
   },
   "file_extension": ".py",
   "mimetype": "text/x-python",
   "name": "python",
   "nbconvert_exporter": "python",
   "pygments_lexer": "ipython3",
   "version": "3.10.8"
  }
 },
 "nbformat": 4,
 "nbformat_minor": 5
}
