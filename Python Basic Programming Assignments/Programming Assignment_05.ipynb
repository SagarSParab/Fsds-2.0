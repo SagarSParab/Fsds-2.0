{
 "cells": [
  {
   "cell_type": "markdown",
   "id": "8441ca82-8c76-41c4-be32-57a86ab32f51",
   "metadata": {},
   "source": [
    "                        Programming Assignment no. 05"
   ]
  },
  {
   "cell_type": "markdown",
   "id": "f7df80c4-a746-43d0-92d1-535050917257",
   "metadata": {},
   "source": []
  },
  {
   "cell_type": "markdown",
   "id": "82670264-cac1-43c1-b284-99b55455c765",
   "metadata": {},
   "source": [
    "1. Write a Python Program to Find LCM?"
   ]
  },
  {
   "cell_type": "code",
   "execution_count": 3,
   "id": "f4c40d9f-32a8-4459-a586-b8b4d699fd22",
   "metadata": {},
   "outputs": [
    {
     "name": "stdin",
     "output_type": "stream",
     "text": [
      "Enter a number_1:  4\n",
      "Enter a number_2:  8\n"
     ]
    },
    {
     "name": "stdout",
     "output_type": "stream",
     "text": [
      "The LCM of 4 and 8 is 8\n"
     ]
    }
   ],
   "source": [
    "x = int(input(\"Enter a number_1: \"))\n",
    "y = int(input(\"Enter a number_2: \")) \n",
    "\n",
    "# bigger number\n",
    "if x > y:\n",
    "    bigger = x\n",
    "else:\n",
    "    bigger = y\n",
    "    \n",
    "while(True):\n",
    "    if bigger % x == 0 and bigger % y == 0:\n",
    "        lcm = bigger\n",
    "        break\n",
    "    bigger += 1\n",
    "    \n",
    "print(\"The LCM of {} and {} is {}\".format(x, y, lcm))"
   ]
  },
  {
   "cell_type": "markdown",
   "id": "7e811bbd-1057-452a-83d4-26023d9f6013",
   "metadata": {},
   "source": []
  },
  {
   "cell_type": "markdown",
   "id": "08f8418a-45a3-41cf-b0c9-db961a679713",
   "metadata": {},
   "source": [
    "2. Write a Python Program to Find HCF?"
   ]
  },
  {
   "cell_type": "code",
   "execution_count": 5,
   "id": "5944e6a0-f3cf-4abb-b760-68e24b974932",
   "metadata": {},
   "outputs": [
    {
     "name": "stdin",
     "output_type": "stream",
     "text": [
      "Enter a number 1:  5\n",
      "Enter a number 2:  35\n"
     ]
    },
    {
     "name": "stdout",
     "output_type": "stream",
     "text": [
      "The HCF of 5 and 35 is 5\n"
     ]
    }
   ],
   "source": [
    "x = int(input(\"Enter a number 1: \"))\n",
    "y = int(input(\"Enter a number 2: \"))\n",
    "\n",
    "if x < y:\n",
    "    smaller = x\n",
    "else:\n",
    "    smaller = y\n",
    "hcf = 0\n",
    "\n",
    "for i in range(1, smaller+1):\n",
    "    if x % i == 0 and y % i == 0:\n",
    "        hcf = i\n",
    "        \n",
    "print(\"The HCF of {} and {} is {}\".format(x, y, hcf))"
   ]
  },
  {
   "cell_type": "markdown",
   "id": "35630e7c-bac1-4caf-98dc-115c3d1c6bc6",
   "metadata": {},
   "source": []
  },
  {
   "cell_type": "markdown",
   "id": "6f907590-dd75-4523-a2a7-15262d03e6f2",
   "metadata": {},
   "source": [
    "3. Write a Python Program to Convert Decimal to Binary, Octal and Hexadecimal?"
   ]
  },
  {
   "cell_type": "code",
   "execution_count": 8,
   "id": "eff26fc7-8651-4641-8e5c-478cdc555fc3",
   "metadata": {},
   "outputs": [
    {
     "name": "stdin",
     "output_type": "stream",
     "text": [
      "Enter the number =  14\n"
     ]
    },
    {
     "name": "stdout",
     "output_type": "stream",
     "text": [
      "The Decimal value of  14 is: \n",
      "In Binary. 0b1110\n",
      "In Octal. 0o16\n",
      "In Hexadecimal. 0xe\n"
     ]
    }
   ],
   "source": [
    "num = int(input(\"Enter the number = \"))\n",
    "\n",
    "print(\"The Decimal value of \", num, \"is: \")\n",
    "\n",
    "print(\"In Binary.\", bin(num))\n",
    "print(\"In Octal.\", oct(num))\n",
    "print(\"In Hexadecimal.\", hex(num))"
   ]
  },
  {
   "cell_type": "markdown",
   "id": "94aa8455-2327-41c5-b62c-82a3efe78618",
   "metadata": {},
   "source": []
  },
  {
   "cell_type": "markdown",
   "id": "0d387282-0fb4-4290-8f38-f22e9705a501",
   "metadata": {},
   "source": [
    "4. Write a Python Program To Find ASCII value of a character?"
   ]
  },
  {
   "cell_type": "code",
   "execution_count": 9,
   "id": "38645d1f-540d-47c6-acbc-8e34c3e70424",
   "metadata": {},
   "outputs": [
    {
     "name": "stdin",
     "output_type": "stream",
     "text": [
      "Enter a single character = s\n"
     ]
    },
    {
     "name": "stdout",
     "output_type": "stream",
     "text": [
      "ASCII value of s is 115\n"
     ]
    }
   ],
   "source": [
    "# Program to print the ASCII value od a character\n",
    "character = input(\"Enter a single character =\")\n",
    "\n",
    "# return corresponding ASCII value by using ord() function\n",
    "print(f\"ASCII value of {character} is {ord(character)}\")\n"
   ]
  },
  {
   "cell_type": "markdown",
   "id": "fce93d33-39b9-4c7c-b94b-a506b111f444",
   "metadata": {},
   "source": []
  },
  {
   "cell_type": "markdown",
   "id": "1cdb61be-054e-4fd8-bb10-cdac3d6473a8",
   "metadata": {},
   "source": []
  },
  {
   "cell_type": "code",
   "execution_count": 11,
   "id": "5ace5c46-5b93-459e-a18d-470a4a963c94",
   "metadata": {},
   "outputs": [
    {
     "name": "stdin",
     "output_type": "stream",
     "text": [
      "Enter num1 : 4\n",
      "Enter num2 : 9\n",
      "Enter + to add : \n",
      "Enter - to Sub :\n",
      "Enter * to multi :\n",
      "Enter / to div :  +\n"
     ]
    },
    {
     "name": "stdout",
     "output_type": "stream",
     "text": [
      "4.0 + 9.0 = 13.0\n"
     ]
    }
   ],
   "source": [
    "x = float(input(\"Enter num1 :\"))\n",
    "y = float(input(\"Enter num2 :\"))\n",
    "\n",
    "op = input(\"Enter + to add : \\nEnter - to Sub :\\nEnter * to multi :\\nEnter / to div : \") \n",
    "\n",
    "add = x + y\n",
    "sub = x - y\n",
    "mul = x * y\n",
    "\n",
    "\n",
    "if op == \"+\":\n",
    "    print(\"{} + {} = {}\".format(x,y,add))\n",
    "elif op == \"-\":\n",
    "    print(\"{} - {} = {}\".format(x,y,sub))\n",
    "elif op == \"*\":\n",
    "    print(\"{} * {} = {}\".format(x,y,mul))\n",
    "elif op == \"/\":\n",
    "    if num1 == 0 or num2 == 0:\n",
    "        print(\"Division with zero is not possible\")\n",
    "    else:\n",
    "        div = x / y\n",
    "        print(\"{} / {} = {}\".format(x,y,div))\n",
    "else:\n",
    "    print(\"Invalid input\")"
   ]
  },
  {
   "cell_type": "code",
   "execution_count": 12,
   "id": "2c66b6ec-9055-4932-8a39-77dd643a4466",
   "metadata": {},
   "outputs": [
    {
     "name": "stdin",
     "output_type": "stream",
     "text": [
      "Enter num1 : 4\n",
      "Enter num2 : 9\n",
      "Enter + to add : \n",
      "Enter - to Sub :\n",
      "Enter * to multi :\n",
      "Enter / to div :  -\n"
     ]
    },
    {
     "name": "stdout",
     "output_type": "stream",
     "text": [
      "4.0 - 9.0 = -5.0\n"
     ]
    }
   ],
   "source": [
    "x = float(input(\"Enter num1 :\"))\n",
    "y = float(input(\"Enter num2 :\"))\n",
    "\n",
    "op = input(\"Enter + to add : \\nEnter - to Sub :\\nEnter * to multi :\\nEnter / to div : \") \n",
    "\n",
    "add = x + y\n",
    "sub = x - y\n",
    "mul = x * y\n",
    "\n",
    "\n",
    "if op == \"+\":\n",
    "    print(\"{} + {} = {}\".format(x,y,add))\n",
    "elif op == \"-\":\n",
    "    print(\"{} - {} = {}\".format(x,y,sub))\n",
    "elif op == \"*\":\n",
    "    print(\"{} * {} = {}\".format(x,y,mul))\n",
    "elif op == \"/\":\n",
    "    if num1 == 0 or num2 == 0:\n",
    "        print(\"Division with zero is not possible\")\n",
    "    else:\n",
    "        div = x / y\n",
    "        print(\"{} / {} = {}\".format(x,y,div))\n",
    "else:\n",
    "    print(\"Invalid input\")"
   ]
  },
  {
   "cell_type": "code",
   "execution_count": 13,
   "id": "67ad94d0-16cf-4e18-a586-25a5a8bf9ed4",
   "metadata": {},
   "outputs": [
    {
     "name": "stdin",
     "output_type": "stream",
     "text": [
      "Enter num1 : 4\n",
      "Enter num2 : 9\n",
      "Enter + to add : \n",
      "Enter - to Sub :\n",
      "Enter * to multi :\n",
      "Enter / to div :  *\n"
     ]
    },
    {
     "name": "stdout",
     "output_type": "stream",
     "text": [
      "4.0 * 9.0 = 36.0\n"
     ]
    }
   ],
   "source": [
    "x = float(input(\"Enter num1 :\"))\n",
    "y = float(input(\"Enter num2 :\"))\n",
    "\n",
    "op = input(\"Enter + to add : \\nEnter - to Sub :\\nEnter * to multi :\\nEnter / to div : \") \n",
    "\n",
    "add = x + y\n",
    "sub = x - y\n",
    "mul = x * y\n",
    "\n",
    "\n",
    "if op == \"+\":\n",
    "    print(\"{} + {} = {}\".format(x,y,add))\n",
    "elif op == \"-\":\n",
    "    print(\"{} - {} = {}\".format(x,y,sub))\n",
    "elif op == \"*\":\n",
    "    print(\"{} * {} = {}\".format(x,y,mul))\n",
    "elif op == \"/\":\n",
    "    if num1 == 0 or num2 == 0:\n",
    "        print(\"Division with zero is not possible\")\n",
    "    else:\n",
    "        div = x / y\n",
    "        print(\"{} / {} = {}\".format(x,y,div))\n",
    "else:\n",
    "    print(\"Invalid input\")"
   ]
  },
  {
   "cell_type": "code",
   "execution_count": null,
   "id": "7a6a19fb-31a8-4dee-af2e-cf69553dfd9b",
   "metadata": {},
   "outputs": [],
   "source": []
  }
 ],
 "metadata": {
  "kernelspec": {
   "display_name": "Python 3 (ipykernel)",
   "language": "python",
   "name": "python3"
  },
  "language_info": {
   "codemirror_mode": {
    "name": "ipython",
    "version": 3
   },
   "file_extension": ".py",
   "mimetype": "text/x-python",
   "name": "python",
   "nbconvert_exporter": "python",
   "pygments_lexer": "ipython3",
   "version": "3.10.8"
  }
 },
 "nbformat": 4,
 "nbformat_minor": 5
}
