{
 "cells": [
  {
   "cell_type": "markdown",
   "id": "4ca1db67-9a40-4c4f-b95b-97e8b4703642",
   "metadata": {},
   "source": [
    "                         Programming Assignment no. 06"
   ]
  },
  {
   "cell_type": "markdown",
   "id": "f0778eb2-d30a-428b-bfea-a969bd2e947f",
   "metadata": {},
   "source": []
  },
  {
   "cell_type": "markdown",
   "id": "ade7223d-18a8-45d1-bf2c-5bfff342d100",
   "metadata": {},
   "source": [
    "1. Write a Python Program to Display Fibonacci Sequence Using Recursion?"
   ]
  },
  {
   "cell_type": "code",
   "execution_count": 3,
   "id": "192bc68b-8dc0-41cb-81a9-e12c7babd524",
   "metadata": {},
   "outputs": [
    {
     "name": "stdout",
     "output_type": "stream",
     "text": [
      "Fibonacci Sequence till 6 is : \n",
      "0,1,1,2,3,5,8,"
     ]
    }
   ],
   "source": [
    "def fibonacci(n):\n",
    "    if n == 0:\n",
    "        return 0\n",
    "    elif n == 1:\n",
    "        return 1\n",
    "    else:\n",
    "        fib = fibonacci(n - 1) + fibonacci(n - 2)\n",
    "        return fib\n",
    "    \n",
    "    \n",
    "def main(number:int):\n",
    "    print(f\"Fibonacci Sequence till {number} is : \")\n",
    "    for i in range(number + 1):\n",
    "        print(fibonacci(i), end =',')\n",
    "        \n",
    "main(6)"
   ]
  },
  {
   "cell_type": "markdown",
   "id": "5cccf8fc-3d9a-420a-87fa-09b3c49c1b07",
   "metadata": {},
   "source": []
  },
  {
   "cell_type": "markdown",
   "id": "cefaed47-ee1b-47da-9100-df03aef56183",
   "metadata": {},
   "source": [
    "2. Write a Python Program to Find Factorial of Number Using Recursion?"
   ]
  },
  {
   "cell_type": "code",
   "execution_count": 6,
   "id": "6c7274f0-ad3d-4267-9c4c-4c5d9a8c27bb",
   "metadata": {},
   "outputs": [
    {
     "name": "stdin",
     "output_type": "stream",
     "text": [
      "Enter a Number =  7\n"
     ]
    },
    {
     "name": "stdout",
     "output_type": "stream",
     "text": [
      "Factorial of 7 is 5040\n"
     ]
    }
   ],
   "source": [
    "# Factorial function\n",
    "def fact(n):\n",
    "    if n <= 1:\n",
    "        return 1\n",
    "    else:\n",
    "        return n * fact(n - 1)\n",
    "    \n",
    "num = int(input(\"Enter a Number = \"))\n",
    "print(\"Factorial of\", num, \"is\", fact(num))"
   ]
  },
  {
   "cell_type": "markdown",
   "id": "97af403f-b8d1-4eb8-86e6-df35b4dcf31f",
   "metadata": {},
   "source": []
  },
  {
   "cell_type": "markdown",
   "id": "a49c7738-e7f6-4207-86e5-d905593598c0",
   "metadata": {},
   "source": [
    "3. Write a Python Program to calculate your Body Mass Index?"
   ]
  },
  {
   "cell_type": "code",
   "execution_count": 7,
   "id": "a402e94e-099a-4f7d-8862-4897b3cd3b07",
   "metadata": {},
   "outputs": [
    {
     "name": "stdin",
     "output_type": "stream",
     "text": [
      "Input your Height in Feet:  5.7\n",
      "Input your Weight in Kilogram:  56\n"
     ]
    },
    {
     "name": "stdout",
     "output_type": "stream",
     "text": [
      "Your Body Mass Index is :  1.72\n"
     ]
    }
   ],
   "source": [
    "height = float(input(\"Input your Height in Feet: \"))\n",
    "weight = float(input(\"Input your Weight in Kilogram: \"))\n",
    "\n",
    "print(\"Your Body Mass Index is : \", round(weight / (height * height), 2))"
   ]
  },
  {
   "cell_type": "markdown",
   "id": "ed02bd51-f04a-4240-b3c0-c4a3d8d41fc6",
   "metadata": {},
   "source": []
  },
  {
   "cell_type": "markdown",
   "id": "d2149b07-39f1-4416-a11c-82dd4c410cf7",
   "metadata": {},
   "source": [
    "4. Write a Python Program to calculate the natural logarithm of any number?"
   ]
  },
  {
   "cell_type": "code",
   "execution_count": 9,
   "id": "341fda77-bb84-4953-873f-46c63c000536",
   "metadata": {},
   "outputs": [
    {
     "name": "stdin",
     "output_type": "stream",
     "text": [
      "Enter a number =  4\n"
     ]
    },
    {
     "name": "stdout",
     "output_type": "stream",
     "text": [
      "logarithm of the number 4 is 1.3862943611198906\n"
     ]
    }
   ],
   "source": [
    "import math\n",
    "num = int(input(\"Enter a number = \"))\n",
    "\n",
    "print(\"logarithm of the number\", num, 'is', math.log(num))"
   ]
  },
  {
   "cell_type": "markdown",
   "id": "305469f6-16ba-45fd-9afa-1a1218bd8134",
   "metadata": {},
   "source": []
  },
  {
   "cell_type": "markdown",
   "id": "bb3dd1d0-d54f-40e3-b128-0514446e2cd8",
   "metadata": {},
   "source": [
    "5. Write a Python Program for cube sum of first n natural numbers?"
   ]
  },
  {
   "cell_type": "code",
   "execution_count": 11,
   "id": "924cad3f-08d6-47b4-aff7-e4d03ff92926",
   "metadata": {},
   "outputs": [
    {
     "name": "stdin",
     "output_type": "stream",
     "text": [
      "Enter a number of Natural number =  10\n"
     ]
    },
    {
     "name": "stdout",
     "output_type": "stream",
     "text": [
      "Sum of cube of 10 natural numbers is 3025\n"
     ]
    }
   ],
   "source": [
    "num = int(input(\"Enter a number of Natural number = \"))\n",
    "\n",
    "addition = 0\n",
    "for n in range(1, num + 1):\n",
    "    addition = addition + n ** 3\n",
    "    \n",
    "print(f\"Sum of cube of {num} natural numbers is {addition}\")"
   ]
  },
  {
   "cell_type": "markdown",
   "id": "ca1814bd-1104-4898-8fa0-bb9fefc9864f",
   "metadata": {},
   "source": []
  }
 ],
 "metadata": {
  "kernelspec": {
   "display_name": "Python 3 (ipykernel)",
   "language": "python",
   "name": "python3"
  },
  "language_info": {
   "codemirror_mode": {
    "name": "ipython",
    "version": 3
   },
   "file_extension": ".py",
   "mimetype": "text/x-python",
   "name": "python",
   "nbconvert_exporter": "python",
   "pygments_lexer": "ipython3",
   "version": "3.10.8"
  }
 },
 "nbformat": 4,
 "nbformat_minor": 5
}
