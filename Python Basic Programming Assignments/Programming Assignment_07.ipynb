{
 "cells": [
  {
   "cell_type": "markdown",
   "id": "fb081144-c8e4-440d-9b12-e0dd86797be9",
   "metadata": {},
   "source": [
    "                       Programming Assignment no. 07"
   ]
  },
  {
   "cell_type": "markdown",
   "id": "767b7385-592e-4f6e-b0cf-7844a115f010",
   "metadata": {},
   "source": []
  },
  {
   "cell_type": "markdown",
   "id": "ab3a7ae1-d5d3-410d-bfdc-382005df9b66",
   "metadata": {},
   "source": [
    "1. Write a Python Program to find sum of array?"
   ]
  },
  {
   "cell_type": "code",
   "execution_count": 1,
   "id": "9d5f1b27-5b68-45ff-aa76-0e676130b657",
   "metadata": {},
   "outputs": [
    {
     "name": "stdout",
     "output_type": "stream",
     "text": [
      "Sum:  39\n"
     ]
    }
   ],
   "source": [
    "sum = 0\n",
    "arr = [1,3,5,6,7,8,9]\n",
    "for i in range(0, len(arr)):\n",
    "    sum += arr[i]\n",
    "    \n",
    "print(\"Sum: \", sum)"
   ]
  },
  {
   "cell_type": "markdown",
   "id": "9537bef2-fa32-49d2-b601-74ee1a016029",
   "metadata": {},
   "source": []
  },
  {
   "cell_type": "markdown",
   "id": "dfef823b-dd3a-4540-aef6-cc00e0103c4f",
   "metadata": {},
   "source": [
    "2. Write a Python Program to find largest element in an array?"
   ]
  },
  {
   "cell_type": "code",
   "execution_count": 6,
   "id": "bed11422-a04c-4c44-a96c-830bb81affb0",
   "metadata": {},
   "outputs": [
    {
     "name": "stdout",
     "output_type": "stream",
     "text": [
      "24\n",
      "24\n",
      "Largest Element in an [3, 4, 6, 8, 13, 24, 2, 9] is 24: \n"
     ]
    }
   ],
   "source": [
    "c = 0\n",
    "arr = [3, 4, 6, 8, 13, 24, 2, 9]\n",
    "for i in range(0, len(arr)):\n",
    "    if c > arr[i]:\n",
    "        print(c)\n",
    "    else:\n",
    "        c = arr[i]\n",
    "        \n",
    "print(\"Largest Element in an {} is {}: \".format(arr,c))"
   ]
  },
  {
   "cell_type": "markdown",
   "id": "da4fb52e-5111-4aaf-8609-2e7aaa02bd88",
   "metadata": {},
   "source": []
  },
  {
   "cell_type": "markdown",
   "id": "1fa625e0-7da7-4271-8f1e-dd3a2592aaf3",
   "metadata": {},
   "source": [
    "3. Write a Python Program for array rotation?"
   ]
  },
  {
   "cell_type": "code",
   "execution_count": 8,
   "id": "47d8b73d-826e-4541-887a-f7d1d87e4e8e",
   "metadata": {},
   "outputs": [
    {
     "name": "stdout",
     "output_type": "stream",
     "text": [
      "9\n",
      "5\n",
      "8\n",
      "6\n",
      "2\n",
      "3\n"
     ]
    }
   ],
   "source": [
    "arr = [1, 3, 2, 6, 8, 5, 9]\n",
    "rot = []\n",
    "l = len(arr) - 1\n",
    "for i in range(l, 0, -1):\n",
    "    print(arr[i])"
   ]
  },
  {
   "cell_type": "code",
   "execution_count": 4,
   "id": "1b7ca388-0e37-4adb-905a-35847eef7aec",
   "metadata": {},
   "outputs": [],
   "source": [
    "def left_rotate(arr, d):\n",
    "    \"\"\"\n",
    "    Left rotates the array 'arr' by 'd' positions.\n",
    "    \"\"\"\n",
    "    n = len(arr)\n",
    "    d = d % n       # To handle where d is greater than the array size\n",
    "    return arr[d:] + arr[:d]\n",
    "\n",
    "def right_rotate(arr, d):\n",
    "    \"\"\"\n",
    "    Right rotates the array 'arr' by 'd' positions.\n",
    "    \"\"\"\n",
    "    n = len(arr)\n",
    "    d = d % n    # To handle cases where d is greater than the array size\n",
    "    return arr[-d:] + arr[:-d]\n"
   ]
  },
  {
   "cell_type": "code",
   "execution_count": 5,
   "id": "3f946eb6-1212-4489-b38b-c923211a5d51",
   "metadata": {},
   "outputs": [
    {
     "name": "stdout",
     "output_type": "stream",
     "text": [
      "Original Array is :  [1, 3, 2, 6, 8, 5, 9]\n",
      "Rotational Distance is :  2\n",
      "Left rotated array is :  [2, 6, 8, 5, 9, 1, 3]\n",
      "Right rotated array is :  [5, 9, 1, 3, 2, 6, 8]\n"
     ]
    }
   ],
   "source": [
    "# Test rotations\n",
    "\n",
    "array_to_rotate = [1, 3, 2, 6, 8, 5, 9]\n",
    "rotational_distance = 2\n",
    "\n",
    "\n",
    "print(\"Original Array is : \", array_to_rotate)\n",
    "print(\"Rotational Distance is : \", rotational_distance)\n",
    "\n",
    "left_rotated_array = left_rotate(array_to_rotate, rotational_distance)\n",
    "print(\"Left rotated array is : \", left_rotated_array)\n",
    "\n",
    "right_rotated_array = right_rotate(array_to_rotate, rotational_distance)\n",
    "print(\"Right rotated array is : \", right_rotated_array)\n"
   ]
  },
  {
   "cell_type": "markdown",
   "id": "ebbbc98d-a32d-43bc-859d-a697b703e4fb",
   "metadata": {},
   "source": []
  },
  {
   "cell_type": "markdown",
   "id": "c1802dbe-1285-4e2b-8926-5a6dd2299cf6",
   "metadata": {},
   "source": [
    "4. Write a Python Program to Split the array and add the first part to the end?"
   ]
  },
  {
   "cell_type": "code",
   "execution_count": 6,
   "id": "44e40713-6e34-4d1f-b9d7-4024d718109b",
   "metadata": {},
   "outputs": [
    {
     "name": "stdout",
     "output_type": "stream",
     "text": [
      "[5, 6, 7, 8, 9, 1, 2, 3, 4]\n"
     ]
    }
   ],
   "source": [
    "arr = [1, 2, 3, 4, 5, 6, 7, 8, 9]\n",
    "break_point = 3     # index for break an array\n",
    "\n",
    "first_part = arr[0:break_point + 1]\n",
    "last_part = arr[break_point + 1:]\n",
    "\n",
    "new_array = last_part + first_part   # new transformed array\n",
    "print(new_array)\n"
   ]
  },
  {
   "cell_type": "markdown",
   "id": "d0bbafb1-fef9-4464-844b-9ecf1bc1d98d",
   "metadata": {},
   "source": []
  },
  {
   "cell_type": "markdown",
   "id": "c977bccd-65dc-413f-93ee-1876eacdb093",
   "metadata": {},
   "source": [
    "5. Write a Python Program to check if given array is Monotonic?"
   ]
  },
  {
   "cell_type": "code",
   "execution_count": 9,
   "id": "8e031907-9e0e-4fea-9e28-af284fa0dbb7",
   "metadata": {},
   "outputs": [
    {
     "name": "stdout",
     "output_type": "stream",
     "text": [
      "False\n"
     ]
    }
   ],
   "source": [
    "array = [2, 5, 5, 2]\n",
    "\n",
    "# Check if given array is Monotonic\n",
    "\n",
    "def isMonotonic(A):\n",
    "    return all(A[i] <= A[i+1] for i in range(len(A) - 1)) or all(A[i] >= A[i+1] for i in range(len(A) - 1))\n",
    "\n",
    "# Printing the required result\n",
    "print(isMonotonic(array))"
   ]
  },
  {
   "cell_type": "markdown",
   "id": "73ca6ca3-5b81-4513-8790-92ff2c111296",
   "metadata": {},
   "source": []
  }
 ],
 "metadata": {
  "kernelspec": {
   "display_name": "Python 3 (ipykernel)",
   "language": "python",
   "name": "python3"
  },
  "language_info": {
   "codemirror_mode": {
    "name": "ipython",
    "version": 3
   },
   "file_extension": ".py",
   "mimetype": "text/x-python",
   "name": "python",
   "nbconvert_exporter": "python",
   "pygments_lexer": "ipython3",
   "version": "3.10.8"
  }
 },
 "nbformat": 4,
 "nbformat_minor": 5
}
