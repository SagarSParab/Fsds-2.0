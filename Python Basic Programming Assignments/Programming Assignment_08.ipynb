{
 "cells": [
  {
   "cell_type": "markdown",
   "id": "7d57da91-b0ee-4a52-ab1f-e3ce06067ea3",
   "metadata": {},
   "source": [
    "                            Programming Assignment no. 08"
   ]
  },
  {
   "cell_type": "markdown",
   "id": "69bdf5e7-9364-46ba-8769-107f5a7d7e8f",
   "metadata": {},
   "source": []
  },
  {
   "cell_type": "markdown",
   "id": "65e014fd-d79b-4814-8035-4f66a28730c1",
   "metadata": {},
   "source": [
    "1. Write a Python Program to Add Two Matrices?"
   ]
  },
  {
   "cell_type": "code",
   "execution_count": 27,
   "id": "c92ef3ba-82b8-4af2-8a20-29e67736e760",
   "metadata": {},
   "outputs": [
    {
     "name": "stdout",
     "output_type": "stream",
     "text": [
      "After adding two matrices: \n",
      "\n",
      "[11, 15, 27]\n",
      "[12, 24, 31]\n",
      "[29, 43, 54]\n"
     ]
    }
   ],
   "source": [
    "A = [[8, 9, 11],\n",
    "     [7, 11, 14],\n",
    "     [10, 22, 28]]\n",
    "     \n",
    "\n",
    "B = [[3, 6, 16],\n",
    "     [5, 13, 17],\n",
    "     [19, 21, 26]]\n",
    "     \n",
    "     \n",
    "result = [[0, 0, 0],\n",
    "          [0, 0, 0],\n",
    "          [0, 0, 0]]\n",
    "          \n",
    "          \n",
    "          \n",
    "#iterate through rows\n",
    "\n",
    "for x in range(len(A)):\n",
    "    # iterate through columns\n",
    "    for y in range(len(A[0])):\n",
    "        result[x][y] = A[x][y] + B[x][y]\n",
    "        \n",
    "print(\"After adding two matrices: \\n\")\n",
    "\n",
    "for q in result:\n",
    "    print(q)"
   ]
  },
  {
   "cell_type": "code",
   "execution_count": 26,
   "id": "9b45eea1-a0da-4b71-b172-291a26afe2fd",
   "metadata": {},
   "outputs": [
    {
     "name": "stdout",
     "output_type": "stream",
     "text": [
      "The sum of two matrix is \n",
      "\n",
      " [[ 8  9 11]\n",
      " [ 7 11 14]\n",
      " [10 22 28]] and \n",
      "\n",
      "[[ 3  6 16]\n",
      " [ 5 13 17]\n",
      " [19 21 26]]  is \n",
      "\n",
      "[[11 15 27]\n",
      " [12 24 31]\n",
      " [29 43 54]] \n"
     ]
    }
   ],
   "source": [
    "# Using numpy \n",
    "import numpy as np\n",
    "\n",
    "matrix1 = np.array([[8, 9, 11],\n",
    "             [7, 11, 14],\n",
    "             [10, 22, 28]])\n",
    "     \n",
    "\n",
    "matrix2 = np.array([[3, 6, 16],\n",
    "     [5, 13, 17],\n",
    "     [19, 21, 26]])\n",
    "\n",
    "matrixsum = np.add(matrix1,matrix2)\n",
    "print(\"The sum of two matrix is \\n\\n {} and \\n\\n{}  is \\n\\n{} \".format(matrix1,matrix2,matrixsum))"
   ]
  },
  {
   "cell_type": "markdown",
   "id": "cfbf9156-3284-4a30-951f-d013d189136c",
   "metadata": {},
   "source": []
  },
  {
   "cell_type": "markdown",
   "id": "17ab2ea9-cd21-428d-84b7-b1be2743645e",
   "metadata": {},
   "source": [
    "2. Write a Python Program to Multiply Two Matrices?"
   ]
  },
  {
   "cell_type": "code",
   "execution_count": 37,
   "id": "8ed1345b-3282-4fa0-9dbb-3500265cccba",
   "metadata": {},
   "outputs": [
    {
     "name": "stdout",
     "output_type": "stream",
     "text": [
      "After Multiplication matrix is: \n",
      "\n",
      "[34, 101, 173, 216]\n",
      "[92, 273, 469, 586]\n",
      "[143, 437, 731, 925]\n"
     ]
    }
   ],
   "source": [
    "A = [[3, 5, 7],\n",
    "     [9, 13, 19],\n",
    "     [16, 23, 27]]\n",
    "\n",
    "B = [[1, 4, 6, 9],\n",
    "     [2, 8, 10, 14],\n",
    "     [3, 7, 15, 17]]\n",
    "\n",
    "result = [[0, 0, 0, 0],\n",
    "          [0, 0, 0, 0],\n",
    "          [0, 0, 0, 0]]\n",
    "\n",
    "# iterate through rows of matrix A\n",
    "for i in range(len(A)):\n",
    "    # iterate through columns of matrix B\n",
    "    for j in range(len(B[0])):\n",
    "        # iterates through row of natrix B\n",
    "        for k in range(len(B)):\n",
    "            result[i][j] += A[i][k] * B[k][j]\n",
    "            \n",
    "print(\"After Multiplication matrix is: \\n\")\n",
    "for r in result:\n",
    "    print(r)"
   ]
  },
  {
   "cell_type": "code",
   "execution_count": 39,
   "id": "6d0858e0-ca51-4124-a0ca-1dbf9b841fba",
   "metadata": {},
   "outputs": [
    {
     "name": "stdout",
     "output_type": "stream",
     "text": [
      "The product of two matrix \n",
      "\n",
      "[[ 3  5  7]\n",
      " [ 9 13 19]\n",
      " [16 23 27]]  and  \n",
      "\n",
      "[[ 1  4  6  9]\n",
      " [ 2  8 10 14]\n",
      " [ 3  7 15 17]]   is  \n",
      "\n",
      "[[ 34 101 173 216]\n",
      " [ 92 273 469 586]\n",
      " [143 437 731 925]] \n"
     ]
    }
   ],
   "source": [
    "# using numpy\n",
    "\n",
    "import numpy as np\n",
    "\n",
    "A = np.array([[3, 5, 7],\n",
    "     [9, 13, 19],\n",
    "     [16, 23, 27]])\n",
    "\n",
    "B = np.array([[1, 4, 6, 9],\n",
    "     [2, 8, 10, 14],\n",
    "     [3, 7, 15, 17]])\n",
    "\n",
    "matrixmult = np.dot(A,B)\n",
    "\n",
    "print(\"The product of two matrix \\n\\n{}  and  \\n\\n{}   is  \\n\\n{} \".format(A, B, matrixmult))"
   ]
  },
  {
   "cell_type": "markdown",
   "id": "1c680290-7a4b-47fb-be37-0b5234620333",
   "metadata": {},
   "source": []
  },
  {
   "cell_type": "markdown",
   "id": "9cffaee5-accd-4080-84c4-161c67779763",
   "metadata": {},
   "source": [
    "3. Write a Python Program to Transpose a Matrix?"
   ]
  },
  {
   "cell_type": "code",
   "execution_count": 41,
   "id": "845bce46-47e9-4e75-860e-809315131473",
   "metadata": {},
   "outputs": [
    {
     "name": "stdout",
     "output_type": "stream",
     "text": [
      "Original Matrix is :\n",
      "[1, 3, 5]\n",
      "[4, 6, 8]\n",
      "And\n",
      "Transported Matrix is :\n",
      "[1, 4]\n",
      "[3, 6]\n",
      "[5, 8]\n"
     ]
    }
   ],
   "source": [
    "matrix = [[1, 3, 5], \n",
    "          [4, 6, 8]]\n",
    "print(\"Original Matrix is :\")\n",
    "\n",
    "for i in matrix:\n",
    "    print(i)\n",
    "print('And')\n",
    "m = len(matrix)\n",
    "n = len(matrix[0])\n",
    "\n",
    "result = [[matrix[j][i] for j in range(len(matrix))] for i in range(len(matrix[0]))]\n",
    "print(\"Transported Matrix is :\")\n",
    "for i in result:\n",
    "    print(i)"
   ]
  },
  {
   "cell_type": "markdown",
   "id": "5497f092-3f7c-4181-bf0f-eb03ecaa42f1",
   "metadata": {},
   "source": []
  },
  {
   "cell_type": "markdown",
   "id": "d7cd9bd4-7966-47fc-8df7-14ffab5840c5",
   "metadata": {},
   "source": [
    "4. Write a Python Program to Sort Words in Alphabetic Order?"
   ]
  },
  {
   "cell_type": "code",
   "execution_count": 42,
   "id": "2451252f-daed-4074-8bda-2d189f26a407",
   "metadata": {},
   "outputs": [
    {
     "name": "stdin",
     "output_type": "stream",
     "text": [
      "Enter String Data Science is Leading Tech Career\n"
     ]
    },
    {
     "name": "stdout",
     "output_type": "stream",
     "text": [
      "Career\n",
      "Data\n",
      "Leading\n",
      "Science\n",
      "Tech\n",
      "is\n"
     ]
    }
   ],
   "source": [
    "Arr = input(\"Enter String\")\n",
    "\n",
    "words = Arr.split()\n",
    "words.sort()\n",
    "for word in words:\n",
    "    print(word)"
   ]
  },
  {
   "cell_type": "code",
   "execution_count": 43,
   "id": "5ecbc43b-3fbd-44df-b6aa-dfe8028df1af",
   "metadata": {},
   "outputs": [
    {
     "name": "stdin",
     "output_type": "stream",
     "text": [
      "Enter a Word bharat\n"
     ]
    },
    {
     "name": "stdout",
     "output_type": "stream",
     "text": [
      "['b', 'h', 'a', 'r', 'a', 't']\n",
      "a a b h r t\n"
     ]
    }
   ],
   "source": [
    "word = input(\"Enter a Word\")\n",
    "\n",
    "# splitting word into form of list\n",
    "\n",
    "split = list(word)\n",
    "print(split)\n",
    "\n",
    "# Sorting list by an Alphabetical Order\n",
    "\n",
    "split.sort()\n",
    "\n",
    "# Joining list letters to make word\n",
    "\n",
    "string = \" \".join(split)\n",
    "print(string)\n"
   ]
  },
  {
   "cell_type": "markdown",
   "id": "b9cae776-7818-4d5a-924f-355b9d122dcf",
   "metadata": {},
   "source": []
  },
  {
   "cell_type": "markdown",
   "id": "fe467a5f-1542-4016-ab98-b1576f74ba0e",
   "metadata": {},
   "source": [
    "5. Write a Python Program to Remove Punctuation From a String?"
   ]
  },
  {
   "cell_type": "code",
   "execution_count": 44,
   "id": "d7e2dda1-a89e-44d7-991b-063dd9e7bcf6",
   "metadata": {},
   "outputs": [],
   "source": [
    "import re\n",
    "\n",
    "def remove_punctuation(string):\n",
    "    \n",
    "    \"\"\"Removes punctuations from a string.\n",
    "    \n",
    "    Args:\n",
    "    String: The string to remove punctuations from.\n",
    "    \n",
    "    Returns: \n",
    "    A string with punctuation removed.\n",
    "    \n",
    "    \"\"\"\n",
    "    \n",
    "    # Create a regular expression to match all punctuation characters.\n",
    "    punctuation = re.compile(r\"[^\\w\\s]\")\n",
    "    \n",
    "    # Replace all punctuation characters with spaces.\n",
    "    return punctuation.sub(\"\", string)\n"
   ]
  },
  {
   "cell_type": "code",
   "execution_count": 45,
   "id": "6265d692-aee9-475f-88f2-a31cf81cd7cb",
   "metadata": {},
   "outputs": [
    {
     "name": "stdout",
     "output_type": "stream",
     "text": [
      "This is a string  with punctuation\n"
     ]
    }
   ],
   "source": [
    "string = \"This is a string ! with punctuation.\"\n",
    "print(remove_punctuation(string))"
   ]
  },
  {
   "cell_type": "markdown",
   "id": "e8d85e3a-e489-4b31-b413-ba8f7ffcd87c",
   "metadata": {},
   "source": []
  }
 ],
 "metadata": {
  "kernelspec": {
   "display_name": "Python 3 (ipykernel)",
   "language": "python",
   "name": "python3"
  },
  "language_info": {
   "codemirror_mode": {
    "name": "ipython",
    "version": 3
   },
   "file_extension": ".py",
   "mimetype": "text/x-python",
   "name": "python",
   "nbconvert_exporter": "python",
   "pygments_lexer": "ipython3",
   "version": "3.10.8"
  }
 },
 "nbformat": 4,
 "nbformat_minor": 5
}
