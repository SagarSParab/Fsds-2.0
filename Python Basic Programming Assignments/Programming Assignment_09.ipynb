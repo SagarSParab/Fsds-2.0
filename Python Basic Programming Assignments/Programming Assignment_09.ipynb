{
 "cells": [
  {
   "cell_type": "markdown",
   "id": "ed0e51fc-af30-4889-85e3-6725a7172764",
   "metadata": {},
   "source": [
    "                           Programming Assignment no. 09"
   ]
  },
  {
   "cell_type": "markdown",
   "id": "6d438940-b069-4090-9d98-0b8a3df5d7bc",
   "metadata": {},
   "source": []
  },
  {
   "cell_type": "markdown",
   "id": "bb590cbb-b140-42e7-85db-021f80c683df",
   "metadata": {},
   "source": [
    "1. Write a Python program to check if the given number is a Disarium Number?"
   ]
  },
  {
   "cell_type": "code",
   "execution_count": 1,
   "id": "6e4f69e7-0766-4ea2-af74-c3fb76857bad",
   "metadata": {},
   "outputs": [],
   "source": [
    "\"\"\" A Disarium Number is a number that is equal to the sum of it's digits raised to the power of their respective positions \"\"\"\n",
    "\n",
    "def is_disarium(number):\n",
    "    \n",
    "    sum_of_digits = 0\n",
    "    \n",
    "    for index in range(len(number)):\n",
    "        sum_of_digits += int(number[index])**(index+1)\n",
    "        \n",
    "    if sum_of_digits == int(number):\n",
    "        print(f\"{number} is Disarium Number\")\n",
    "    else:\n",
    "        print(f\"{number} is not a Disarium Number\")\n",
    "        \n"
   ]
  },
  {
   "cell_type": "code",
   "execution_count": 3,
   "id": "cf19f400-3569-4ea8-a515-1ff6cce919c3",
   "metadata": {},
   "outputs": [
    {
     "name": "stdin",
     "output_type": "stream",
     "text": [
      "Enter a Number:  55\n"
     ]
    },
    {
     "name": "stdout",
     "output_type": "stream",
     "text": [
      "55 is not a Disarium Number\n"
     ]
    }
   ],
   "source": [
    "number = input(\"Enter a Number: \")\n",
    "is_disarium(number)"
   ]
  },
  {
   "cell_type": "code",
   "execution_count": 4,
   "id": "6fe1aa54-c475-4167-a5eb-a21dcbe6840a",
   "metadata": {},
   "outputs": [
    {
     "name": "stdin",
     "output_type": "stream",
     "text": [
      "Enter a Number:  89\n"
     ]
    },
    {
     "name": "stdout",
     "output_type": "stream",
     "text": [
      "89 is Disarium Number\n"
     ]
    }
   ],
   "source": [
    "number = input(\"Enter a Number: \")\n",
    "is_disarium(number)"
   ]
  },
  {
   "cell_type": "markdown",
   "id": "d172d148-6e33-4f16-9e86-89a926965404",
   "metadata": {},
   "source": []
  },
  {
   "cell_type": "markdown",
   "id": "0a1c7635-5491-4d79-87dd-6a0ffb624288",
   "metadata": {},
   "source": [
    "2. Write a Python program to print all disarium numbers between 1 to 100?"
   ]
  },
  {
   "cell_type": "code",
   "execution_count": 12,
   "id": "49f03ac2-8275-48aa-b0b7-2fbaa883cd27",
   "metadata": {},
   "outputs": [
    {
     "name": "stdout",
     "output_type": "stream",
     "text": [
      "Disarium Number between 1 and 100 is :  [1, 2, 3, 4, 5, 6, 7, 8, 9, 89]\n"
     ]
    }
   ],
   "source": [
    "def is_disarium_number(number):\n",
    "    num_str = str(number)\n",
    "    total = sum(int(digit) ** (index + 1) for index, digit in enumerate(num_str))\n",
    "    return number == total\n",
    "\n",
    "disarium_number = [num for num in range(1, 101) if is_disarium_number(num)]\n",
    "\n",
    "print(\"Disarium Number between 1 and 100 is : \", disarium_number)"
   ]
  },
  {
   "cell_type": "markdown",
   "id": "dfffd244-b79d-4649-ae2f-c5a8cca0ae33",
   "metadata": {},
   "source": []
  },
  {
   "cell_type": "markdown",
   "id": "8f80b217-f611-477d-adea-a2684fe0c7d0",
   "metadata": {},
   "source": [
    "3. Write a Python program to check if the given number is Happy Number?"
   ]
  },
  {
   "cell_type": "code",
   "execution_count": null,
   "id": "179993c8-8b0c-4a62-8a74-7fac2517d74b",
   "metadata": {},
   "outputs": [],
   "source": []
  },
  {
   "cell_type": "code",
   "execution_count": 15,
   "id": "a8f8a098-4da4-43f6-ba26-334b518107a5",
   "metadata": {},
   "outputs": [
    {
     "name": "stdout",
     "output_type": "stream",
     "text": [
      "19 is a Happy Number.\n"
     ]
    }
   ],
   "source": [
    "\"\"\" Happy Number is if it leads to 1 after a sequence of steps wherein each step number is replaced by sum of the squares of it's digit sum \n",
    "\n",
    "that is if we start with happy number and Keep replacing it with its digit square sum, we reach to 1.\"\"\"\n",
    "\n",
    "def is_happy_number(number):\n",
    "    def square_sum(num):\n",
    "        return sum(int(digit) ** 2 for digit in str(num))\n",
    "    \n",
    "    seen = set()\n",
    "    while number != 1 and number not in seen:\n",
    "        seen.add(number)\n",
    "        number = square_sum(number)\n",
    "        \n",
    "    return number == 1\n",
    "\n",
    "\n",
    "# Example uses\n",
    "num = 19\n",
    "if is_happy_number(num):\n",
    "    print(f\"{num} is a Happy Number.\")\n",
    "else:\n",
    "    print(f\"{num} is not a Happy Number.\")\n"
   ]
  },
  {
   "cell_type": "markdown",
   "id": "f8741327-deba-405c-9da3-49dc710e4bb5",
   "metadata": {},
   "source": []
  },
  {
   "cell_type": "markdown",
   "id": "c3746d85-ff81-4dac-bd80-7547d341b3d1",
   "metadata": {},
   "source": [
    "4. Write a Python program to print all happy numbers between 1 and 100?"
   ]
  },
  {
   "cell_type": "code",
   "execution_count": 16,
   "id": "b7b6a1f2-fa6b-4592-b097-a3c144ae09a1",
   "metadata": {},
   "outputs": [],
   "source": [
    "numbers = [num for num in range(1, 101) if is_happy_number(num)]"
   ]
  },
  {
   "cell_type": "code",
   "execution_count": 22,
   "id": "6a05501c-bb47-42cd-8b57-05bc182689c4",
   "metadata": {},
   "outputs": [
    {
     "data": {
      "text/plain": [
       "[1, 7, 10, 13, 19, 23, 28, 31, 32, 44, 49, 68, 70, 79, 82, 86, 91, 94, 97, 100]"
      ]
     },
     "execution_count": 22,
     "metadata": {},
     "output_type": "execute_result"
    }
   ],
   "source": [
    "numbers"
   ]
  },
  {
   "cell_type": "markdown",
   "id": "59748e93-f69f-48ae-bc7a-83e911a5a2df",
   "metadata": {},
   "source": []
  },
  {
   "cell_type": "markdown",
   "id": "a120ac21-5a6f-47f6-a0fc-328360ec5960",
   "metadata": {},
   "source": [
    "5. Write a Python program to determine whether the given number is a Harshad Number?"
   ]
  },
  {
   "cell_type": "code",
   "execution_count": 25,
   "id": "90d10409-1b78-423d-8906-9fb0c778df27",
   "metadata": {},
   "outputs": [],
   "source": [
    "\"\"\" \n",
    "if a number is divisible by the sum of its digits, then it will be known as Harshad Number.\n",
    "for Example:\n",
    "The number 21 is divisible by (sum of  [21] -> 2 + 1 = 3 so 21 / 3 = 7)).\n",
    "Some Harshad Numbers Are  1, 2, 3, 4, 5, 6, 7, 8, 9, 10, 12, 18, 20, 21, 24, 27, 30, 36, 40, 42, 45, 48, 50, 54, 60, 63, 70, 72, 80, 81, 84, 90, 100, 102, 108, 110, 111, 112, 114,...\n",
    "\"\"\"\n",
    "\n",
    "def is_harshad(number):\n",
    "    digit_sum = 0\n",
    "    for i in number:\n",
    "        digit_sum += int(i)\n",
    "        \n",
    "    if int(number) % digit_sum == 0:\n",
    "        print(f\"Given number {number} is Harshad Number\")\n",
    "    else:\n",
    "        print(f\"Given number {number} is not Harshad Number\")\n",
    "        "
   ]
  },
  {
   "cell_type": "code",
   "execution_count": 26,
   "id": "0def6dbc-37e6-46e0-b971-05c0607039af",
   "metadata": {},
   "outputs": [
    {
     "name": "stdin",
     "output_type": "stream",
     "text": [
      "Enter a Number:  21\n"
     ]
    },
    {
     "name": "stdout",
     "output_type": "stream",
     "text": [
      "Given number 21 is Harshad Number\n"
     ]
    }
   ],
   "source": [
    "number = input(\"Enter a Number: \")\n",
    "is_harshad(number)"
   ]
  },
  {
   "cell_type": "code",
   "execution_count": 28,
   "id": "459e38e2-6619-43c5-807b-4550f62c9f6a",
   "metadata": {},
   "outputs": [
    {
     "name": "stdin",
     "output_type": "stream",
     "text": [
      "Enter a Number:  25\n"
     ]
    },
    {
     "name": "stdout",
     "output_type": "stream",
     "text": [
      "Given number 25 is not Harshad Number\n"
     ]
    }
   ],
   "source": [
    "number = input(\"Enter a Number: \")\n",
    "is_harshad(number)"
   ]
  },
  {
   "cell_type": "markdown",
   "id": "02712313-3616-43f1-9fa2-0608fe788394",
   "metadata": {},
   "source": []
  },
  {
   "cell_type": "markdown",
   "id": "0461ecb5-ad6e-4dc5-bf67-8bbf7eb04751",
   "metadata": {},
   "source": [
    "6. Write a Python program to print all pronic numbers between 1 and 100?"
   ]
  },
  {
   "cell_type": "code",
   "execution_count": 31,
   "id": "f94131fb-395c-4668-83a3-c481ee9601d5",
   "metadata": {},
   "outputs": [
    {
     "name": "stdout",
     "output_type": "stream",
     "text": [
      "Pronic Numbers between 1 and 100 are:  [2, 6, 12, 20, 30, 42, 56, 72, 90]\n"
     ]
    }
   ],
   "source": [
    "\"\"\"\n",
    "The Pronic Number is a product of two consecutive integers of the form : n(n + 1)\n",
    "For Example:\n",
    "12 = 3(3+1) = n(n+1)\n",
    "42 = 6(6+1) = n(n+1)\n",
    "Some Pronic Numbers are: 0, 2, 6, 12, 20, 30, 42, 56, 72, 90, 110, 132, 156, 182, 210, 240, 272, 306, 342, 380, 420, 462, ... \n",
    "\"\"\"\n",
    "\n",
    "def is_pronic(number):\n",
    "    for i in range(1, number):\n",
    "        if i * ( i + 1 ) == number:\n",
    "            return True\n",
    "    return False\n",
    "    \n",
    "pronic_numbers = [num for num in range(1, 101) if is_pronic(num)]\n",
    "print(\"Pronic Numbers between 1 and 100 are: \", pronic_numbers)"
   ]
  },
  {
   "cell_type": "markdown",
   "id": "df836100-938a-43a8-8da4-6e93f456a08d",
   "metadata": {},
   "source": []
  }
 ],
 "metadata": {
  "kernelspec": {
   "display_name": "Python 3 (ipykernel)",
   "language": "python",
   "name": "python3"
  },
  "language_info": {
   "codemirror_mode": {
    "name": "ipython",
    "version": 3
   },
   "file_extension": ".py",
   "mimetype": "text/x-python",
   "name": "python",
   "nbconvert_exporter": "python",
   "pygments_lexer": "ipython3",
   "version": "3.10.8"
  }
 },
 "nbformat": 4,
 "nbformat_minor": 5
}
