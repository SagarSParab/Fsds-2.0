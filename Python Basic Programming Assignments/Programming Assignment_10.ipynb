{
 "cells": [
  {
   "cell_type": "markdown",
   "id": "1d253a07-8f94-4245-bc21-7922de58e47a",
   "metadata": {},
   "source": [
    "                         Programming Assignment no. 10"
   ]
  },
  {
   "cell_type": "markdown",
   "id": "2a25acf8-5d4e-41df-9345-90e23bee8e74",
   "metadata": {},
   "source": []
  },
  {
   "cell_type": "markdown",
   "id": "0a2e28b4-7904-468d-8bfb-6918ae833b97",
   "metadata": {},
   "source": [
    "1. Write a Python program to find sum of elements in list?"
   ]
  },
  {
   "cell_type": "code",
   "execution_count": 2,
   "id": "17d04935-4bf0-440c-9eda-a41e8359dd45",
   "metadata": {},
   "outputs": [
    {
     "name": "stdin",
     "output_type": "stream",
     "text": [
      "Emter the length of the list :  5\n",
      " 1\n",
      " 4\n",
      " 6\n",
      " 8\n",
      " 12\n"
     ]
    },
    {
     "name": "stdout",
     "output_type": "stream",
     "text": [
      "The list is :  [1, 4, 6, 8, 12]\n",
      "Sum of elements in list :  31\n"
     ]
    }
   ],
   "source": [
    "n = int(input(\"Emter the length of the list : \"))\n",
    "lst = []\n",
    "\n",
    "for i in range(n):\n",
    "        lst.append(int(input()))\n",
    "print(\"The list is : \", lst)\n",
    "print(\"Sum of elements in list : \", sum(lst))"
   ]
  },
  {
   "cell_type": "code",
   "execution_count": 6,
   "id": "93cfb2b5-a0b1-4b39-a151-0c1331e17c59",
   "metadata": {},
   "outputs": [
    {
     "name": "stdout",
     "output_type": "stream",
     "text": [
      "list is : [1, 4, 6, 8, 12] \n",
      "Sum of elements in list are  31\n"
     ]
    }
   ],
   "source": [
    "# Another method is by defining a function which will return sum of elements in list\n",
    "\n",
    "def sum_of_list(lst):\n",
    "    for i in lst:\n",
    "        if type(i) != int:\n",
    "            raise Exception(\"Found other than type int elements !\")\n",
    "    return sum(lst)\n",
    "\n",
    "\n",
    "lst = [1, 4, 6, 8, 12]\n",
    "\n",
    "# printing sum of elements in list\n",
    "print(\"list is :\", lst, \"\\n\"\"Sum of elements in list are \", sum_of_list(lst))\n"
   ]
  },
  {
   "cell_type": "markdown",
   "id": "cb67743f-d6b8-4c33-8cc6-12601fcb1331",
   "metadata": {},
   "source": []
  },
  {
   "cell_type": "markdown",
   "id": "8942d398-d8b6-49ee-bae5-358638eeebb7",
   "metadata": {},
   "source": [
    "2. Write a Python program to Multiply all numbers in the list?"
   ]
  },
  {
   "cell_type": "code",
   "execution_count": 10,
   "id": "28d20de3-dc42-4572-ac70-c901c94bbd5e",
   "metadata": {},
   "outputs": [
    {
     "name": "stdin",
     "output_type": "stream",
     "text": [
      "Enter the length of the list :  4\n",
      " 2\n",
      " 3\n",
      " 4\n",
      " 5\n"
     ]
    },
    {
     "name": "stdout",
     "output_type": "stream",
     "text": [
      "The list is :  [2, 3, 4, 5]\n",
      "Product of elements in list is :  120\n"
     ]
    }
   ],
   "source": [
    "n = int(input(\"Enter the length of the list : \"))\n",
    "lst = []\n",
    "\n",
    "for i in range(n):\n",
    "    lst.append(int(input()))\n",
    "print(\"The list is : \", lst)\n",
    "product = 1\n",
    "for i in lst:\n",
    "    product = product * i\n",
    "print(\"Product of elements in list is : \", product)\n"
   ]
  },
  {
   "cell_type": "code",
   "execution_count": 14,
   "id": "3ecd0556-f368-4276-b137-4ffcedc6d916",
   "metadata": {},
   "outputs": [
    {
     "name": "stdout",
     "output_type": "stream",
     "text": [
      "The list is :  [2, 3, 4, 5]\n",
      "Multiplication of elements in list is :  120\n"
     ]
    }
   ],
   "source": [
    "# Another method is by defining a function which will return multiplication of elements in list\n",
    "\n",
    "def mul_of_list(lst):\n",
    "    mul = 1\n",
    "    for i in lst:\n",
    "        if type(i) != int:\n",
    "            raise Exception(\"Found other than type int elements !\")\n",
    "        else:\n",
    "            mul = mul * i\n",
    "    return mul\n",
    "\n",
    "lst = [2, 3, 4, 5]\n",
    "\n",
    "# printing multiplication of elements in list\n",
    "print(\"The list is : \", lst)\n",
    "print(\"Multiplication of elements in list is : \", mul_of_list(lst))"
   ]
  },
  {
   "cell_type": "markdown",
   "id": "c82cfb96-791f-4175-98d9-0a4fe588e43d",
   "metadata": {},
   "source": []
  },
  {
   "cell_type": "markdown",
   "id": "28944116-3707-4b6c-8cb0-fef121353c57",
   "metadata": {},
   "source": [
    "3. Write a Python program to find smallest number in a list?"
   ]
  },
  {
   "cell_type": "code",
   "execution_count": 15,
   "id": "ae30e7d7-345f-436c-a5c7-5c008b8116dc",
   "metadata": {},
   "outputs": [
    {
     "name": "stdin",
     "output_type": "stream",
     "text": [
      "Enter the length of the list :  5\n",
      " 2\n",
      " 3\n",
      " 5\n",
      " 7\n",
      " 9\n"
     ]
    },
    {
     "name": "stdout",
     "output_type": "stream",
     "text": [
      "The List is :  [2, 3, 5, 7, 9]\n",
      "Smallest element in a list is :  2\n"
     ]
    }
   ],
   "source": [
    "n = int(input(\"Enter the length of the list : \"))\n",
    "lst = []\n",
    "\n",
    "for i in range(n):\n",
    "    lst.append(int(input()))\n",
    "    \n",
    "# Printing Smallest element in a list\n",
    "\n",
    "print(\"The List is : \", lst)\n",
    "print(\"Smallest element in a list is : \", min(lst))"
   ]
  },
  {
   "cell_type": "markdown",
   "id": "5a603cfc-f9f1-4846-9dc4-bc99c6344498",
   "metadata": {},
   "source": []
  },
  {
   "cell_type": "code",
   "execution_count": 21,
   "id": "4c0ac94b-9e43-4cef-b7e9-69994ee84c4b",
   "metadata": {},
   "outputs": [
    {
     "name": "stdout",
     "output_type": "stream",
     "text": [
      "The list is :  [5, 6, 3, 7, 2, 9, 1]\n",
      "Smallest element in a list is :  1\n"
     ]
    }
   ],
   "source": [
    "# Another method by defining a function which will return the smallest element in a list  \n",
    "\n",
    "def smallest(lst):\n",
    "    smallest = lst[0]\n",
    "    for i in lst:\n",
    "        if i < smallest:\n",
    "            smallest = i\n",
    "    return smallest\n",
    "\n",
    "lst = [5,6,3,7,2,9,1]\n",
    "\n",
    "# Printing Smallest element in a list\n",
    "print('The list is : ', lst)\n",
    "print('Smallest element in a list is : ', smallest(lst))"
   ]
  },
  {
   "cell_type": "markdown",
   "id": "64473ef9-6fdf-4d74-8c7a-9ed7aa674108",
   "metadata": {},
   "source": []
  },
  {
   "cell_type": "markdown",
   "id": "14f508cf-61d5-4da8-adf5-7177a0877b29",
   "metadata": {},
   "source": [
    "4. Write a Python program to find largest number in a list?"
   ]
  },
  {
   "cell_type": "code",
   "execution_count": 26,
   "id": "d864c68c-4972-444a-ba1a-d2845f9969f7",
   "metadata": {},
   "outputs": [
    {
     "name": "stdin",
     "output_type": "stream",
     "text": [
      "Enter the length of the list :  5\n",
      " 1\n",
      " 3\n",
      " 9\n",
      " 5\n",
      " 8\n"
     ]
    },
    {
     "name": "stdout",
     "output_type": "stream",
     "text": [
      "The list is :  [1, 3, 9, 5, 8]\n",
      "Largest element in a list is :  9\n"
     ]
    }
   ],
   "source": [
    "n = int(input(\"Enter the length of the list : \"))\n",
    "lst = []\n",
    "\n",
    "for i in range(n):\n",
    "    lst.append(int(input()))\n",
    "    \n",
    "\n",
    "\n",
    "print(\"The list is : \", lst)\n",
    "print(\"Largest element in a list is : \", max(lst))\n"
   ]
  },
  {
   "cell_type": "markdown",
   "id": "cc9e95f3-488c-4aea-bbcd-ee5f853561b8",
   "metadata": {},
   "source": []
  },
  {
   "cell_type": "code",
   "execution_count": 28,
   "id": "06cdbe86-240e-405f-9fc9-31ee289d2d99",
   "metadata": {},
   "outputs": [
    {
     "name": "stdout",
     "output_type": "stream",
     "text": [
      "The list is :  [2, 4, 1, 6, 8]\n",
      "Largest element in a list :  8\n"
     ]
    }
   ],
   "source": [
    "# Another method by defining a function which will return largest element in a list\n",
    "\n",
    "def largest(lst):\n",
    "    largest = lst[0]\n",
    "    for i in lst:\n",
    "        if i > largest:\n",
    "            largest = i\n",
    "    return largest\n",
    "\n",
    "lst = [2,4,1,6,8]\n",
    "\n",
    "# Printing Largest element in a list \n",
    "\n",
    "print(\"The list is : \", lst)\n",
    "print(\"Largest element in a list : \", largest(lst)) "
   ]
  },
  {
   "cell_type": "markdown",
   "id": "bd0ad1b2-747a-4aa5-a47d-c05959e9597c",
   "metadata": {},
   "source": []
  },
  {
   "cell_type": "markdown",
   "id": "e8efa2d9-55d6-454a-bcd9-4ea8a7fe9db1",
   "metadata": {},
   "source": [
    "5. Write a Python program to find second largest number in a list?"
   ]
  },
  {
   "cell_type": "code",
   "execution_count": 35,
   "id": "cd34e67f-703f-4195-84e0-2d6bbf1ecd65",
   "metadata": {},
   "outputs": [
    {
     "name": "stdin",
     "output_type": "stream",
     "text": [
      "enter the length of the list :  5\n",
      " 2\n",
      " 4\n",
      " 3\n",
      " 8\n",
      " 1\n"
     ]
    },
    {
     "name": "stdout",
     "output_type": "stream",
     "text": [
      "The List is :  [2, 4, 3, 8, 1]\n",
      "The Sorted list is :  [1, 2, 3, 4, 8]\n",
      "The Second Largest number in a list :  4\n"
     ]
    }
   ],
   "source": [
    "n = int(input(\"enter the length of the list : \"))\n",
    "lst = []\n",
    "\n",
    "for i in range(n):\n",
    "    lst.append(int(input()))\n",
    "print(\"The List is : \", lst)\n",
    "# first we sort the list here \n",
    "lst.sort()\n",
    "\n",
    "# printing Second Largest number in a list\n",
    "print(\"The Sorted list is : \", lst)\n",
    "print(\"The Second Largest number in a list : \", lst[-2])\n"
   ]
  },
  {
   "cell_type": "markdown",
   "id": "51158e17-520b-4fa1-9269-d3540bd10395",
   "metadata": {},
   "source": []
  },
  {
   "cell_type": "code",
   "execution_count": 1,
   "id": "10a91582-2563-4e48-8a46-49c5b8db0ce4",
   "metadata": {},
   "outputs": [
    {
     "name": "stdout",
     "output_type": "stream",
     "text": [
      "The list is :  [2, 4, 3, 8, 1]\n",
      "The Second largest number in a list :  4\n"
     ]
    }
   ],
   "source": [
    "# Another Solution is define a function which finds largest number in a list and \n",
    "# then again define function which removes the largest so we get the second largest number in a list\n",
    "\n",
    "\n",
    "def largest(lst):\n",
    "    largest = lst[0]\n",
    "    for i in lst:\n",
    "        if i > largest:\n",
    "            largest = i\n",
    "    return largest\n",
    "\n",
    "def second_largest(lst):\n",
    "    temp = lst\n",
    "    temp.remove(largest(lst))\n",
    "    return largest(temp)\n",
    "\n",
    "lst = [2,4,3,8,1]\n",
    "\n",
    "# printing the second largest number in a list\n",
    "print(\"The list is : \", lst)\n",
    "print(\"The Second largest number in a list : \", second_largest(lst))\n"
   ]
  },
  {
   "cell_type": "markdown",
   "id": "485fa785-dba1-498b-b6bf-e675e93fcff0",
   "metadata": {},
   "source": []
  },
  {
   "cell_type": "markdown",
   "id": "fcf4f2b3-1c3a-4be9-b151-7ee83fd51fb9",
   "metadata": {},
   "source": [
    "6. Write a Python program to find N largest elements from a list?"
   ]
  },
  {
   "cell_type": "code",
   "execution_count": 2,
   "id": "72c1bd5b-b080-43ad-9e96-b754b0aee88c",
   "metadata": {},
   "outputs": [
    {
     "name": "stdin",
     "output_type": "stream",
     "text": [
      "Enter the length of the list :  5\n",
      " 14\n",
      " 28\n",
      " 10\n",
      " 22\n",
      " 97\n"
     ]
    },
    {
     "name": "stdout",
     "output_type": "stream",
     "text": [
      "The list is :  [14, 28, 10, 22, 97]\n",
      "Sorted list is :  [10, 14, 22, 28, 97]\n"
     ]
    },
    {
     "name": "stdin",
     "output_type": "stream",
     "text": [
      "Enter how many largest element you want from the list :  3\n"
     ]
    },
    {
     "name": "stdout",
     "output_type": "stream",
     "text": [
      "3 Largest element from the list are :  [22, 28, 97]\n"
     ]
    }
   ],
   "source": [
    "n = int(input(\"Enter the length of the list : \"))\n",
    "lst = []\n",
    "for i in range(n):\n",
    "    lst.append(int(input()))\n",
    "print(\"The list is : \", lst)\n",
    "lst.sort()\n",
    "print(\"Sorted list is : \", lst)\n",
    "\n",
    "nlargest =int(input(\"Enter how many largest element you want from the list : \"))\n",
    "\n",
    "if n < nlargest:\n",
    "    print(\"Entered value is larger than the length of the list\")\n",
    "else:\n",
    "    print(nlargest, \"Largest element from the list are : \", lst[(n-nlargest):])\n",
    "\n"
   ]
  },
  {
   "cell_type": "markdown",
   "id": "a1a486c2-588a-4b3e-964f-1189b3151041",
   "metadata": {},
   "source": []
  },
  {
   "cell_type": "code",
   "execution_count": 3,
   "id": "1556a9a4-5f44-4723-bc60-3b42180df5a4",
   "metadata": {},
   "outputs": [
    {
     "name": "stdout",
     "output_type": "stream",
     "text": [
      "[97, 28, 22]\n"
     ]
    }
   ],
   "source": [
    "# Anothe method by defining a function which will return the N largest elements from a list\n",
    "\n",
    "def find_n_largest_element(list1, n):\n",
    "    \n",
    "    \"\"\"\n",
    "    Finds the N largest element from a list.\n",
    "    \"\"\"\n",
    "    \n",
    "    # sort the list in descending order\n",
    "    list1.sort(reverse = True)\n",
    "    \n",
    "    # return first N elements\n",
    "    return list1[:n]\n",
    "\n",
    "\n",
    "# create list of numbers\n",
    "list1 = [14, 28, 10, 22, 97]\n",
    "\n",
    "# find the 3 largest elements from a list\n",
    "n = 3\n",
    "largest_elements = find_n_largest_element(list1, n)\n",
    "\n",
    "# print the largest elements\n",
    "print(largest_elements)\n",
    "\n",
    "    "
   ]
  },
  {
   "cell_type": "markdown",
   "id": "c06f53af-568e-45a3-9099-daf423072def",
   "metadata": {},
   "source": []
  },
  {
   "cell_type": "markdown",
   "id": "786474d8-21b6-4aaa-b63e-bf5147b38dee",
   "metadata": {},
   "source": [
    "7. Write a Python program to print even numbers in a list?"
   ]
  },
  {
   "cell_type": "code",
   "execution_count": 5,
   "id": "8e4ab45a-bd80-46df-9269-83fe96c90882",
   "metadata": {},
   "outputs": [
    {
     "name": "stdin",
     "output_type": "stream",
     "text": [
      "Enter the length of the list :  8\n",
      " 2\n",
      " 4\n",
      " 5\n",
      " 6\n",
      " 7\n",
      " 9\n",
      " 13\n",
      " 14\n"
     ]
    },
    {
     "name": "stdout",
     "output_type": "stream",
     "text": [
      "The list is :  [2, 4, 5, 6, 7, 9, 13, 14]\n",
      "Even numbers in a list are : [2, 4, 6, 14]\n"
     ]
    }
   ],
   "source": [
    "# using list comprehension\n",
    "\n",
    "n = int(input(\"Enter the length of the list : \"))\n",
    "lst = []\n",
    "for i in range(n):\n",
    "    lst.append(int(input()))\n",
    "print(\"The list is : \", lst)\n",
    "even = [i for i in lst if i%2 == 0 ]\n",
    "print(\"Even numbers in a list are :\", even)"
   ]
  },
  {
   "cell_type": "markdown",
   "id": "90a43644-04e9-4582-ac65-e77851fe47f3",
   "metadata": {},
   "source": []
  },
  {
   "cell_type": "code",
   "execution_count": 16,
   "id": "09b54f3e-e3ff-4acf-8f0a-419d410585fa",
   "metadata": {},
   "outputs": [
    {
     "name": "stdout",
     "output_type": "stream",
     "text": [
      "2 is a Even Number\n",
      "4 is a Even Number\n",
      "6 is a Even Number\n",
      "14 is a Even Number\n"
     ]
    }
   ],
   "source": [
    "# by defining a function which will return even numbers in a list\n",
    "\n",
    "def even(lst):\n",
    "    for i in lst:\n",
    "        if i % 2 == 0:\n",
    "            print(i, \"is a Even Number\")\n",
    "            \n",
    "lst = [2, 4, 5, 6, 7, 9, 13, 14]\n",
    "\n",
    "even(lst)"
   ]
  },
  {
   "cell_type": "markdown",
   "id": "51751258-ff51-4d6f-a091-4d4c174a440a",
   "metadata": {},
   "source": []
  },
  {
   "cell_type": "markdown",
   "id": "519a3f07-a944-4ee4-806c-616ff3b0f3c3",
   "metadata": {},
   "source": [
    "8. Write a Python program to print odd numbers in a List?"
   ]
  },
  {
   "cell_type": "code",
   "execution_count": 6,
   "id": "221ca9eb-6a47-40d3-824b-60489a8a9fa2",
   "metadata": {},
   "outputs": [
    {
     "name": "stdin",
     "output_type": "stream",
     "text": [
      "Enter the length of the list :  5\n",
      " 2\n",
      " 3\n",
      " 6\n",
      " 7\n",
      " 9\n"
     ]
    },
    {
     "name": "stdout",
     "output_type": "stream",
     "text": [
      "The list is :  [2, 3, 6, 7, 9]\n",
      "Even numbers in a list are : [3, 7, 9]\n"
     ]
    }
   ],
   "source": [
    "# using list comprehension\n",
    "\n",
    "n = int(input(\"Enter the length of the list : \"))\n",
    "lst = []\n",
    "for i in range(n):\n",
    "    lst.append(int(input()))\n",
    "print(\"The list is : \", lst)\n",
    "odd = [i for i in lst if i%2 == 1]\n",
    "print(\"Even numbers in a list are :\", odd)"
   ]
  },
  {
   "cell_type": "markdown",
   "id": "b1033781-ccbb-4f5b-a88f-c5cdf86c7ed2",
   "metadata": {},
   "source": []
  },
  {
   "cell_type": "code",
   "execution_count": 17,
   "id": "91d3bc83-67fb-4eec-81b9-f815029c0c99",
   "metadata": {},
   "outputs": [
    {
     "name": "stdout",
     "output_type": "stream",
     "text": [
      "3 is Odd Number\n",
      "7 is Odd Number\n",
      "9 is Odd Number\n"
     ]
    }
   ],
   "source": [
    "# by defining a function which will return odd numbers in a list\n",
    "\n",
    "def odd(lst):\n",
    "    for i in lst:\n",
    "        if i % 2 == 1:\n",
    "            print(i, \"is Odd Number\")\n",
    "            \n",
    "lst = [2, 3, 6, 7, 9]\n",
    "\n",
    "odd(lst)"
   ]
  },
  {
   "cell_type": "markdown",
   "id": "50c42e82-019e-4b6e-a04a-fa9a541a5608",
   "metadata": {},
   "source": []
  },
  {
   "cell_type": "markdown",
   "id": "7c29457d-f32a-48fc-87fc-12ecd7534648",
   "metadata": {},
   "source": [
    "9. Write a Python program to Remove empty List from List?"
   ]
  },
  {
   "cell_type": "code",
   "execution_count": 11,
   "id": "2780b346-0473-4d80-9d6c-a1c8b1d6e660",
   "metadata": {},
   "outputs": [
    {
     "name": "stdout",
     "output_type": "stream",
     "text": [
      "The list is :  [22, [], 14, 28, 22, [], 35, 57, [], 88]\n",
      "The list after removing empty list is :  [22, 14, 28, 22, 35, 57, 88]\n"
     ]
    }
   ],
   "source": [
    "# using list comprehension\n",
    "\n",
    "lst = [22, [], 14, 28, 22, [], 35, 57, [], 88]\n",
    "print(\"The list is : \", lst)\n",
    "new_list = [item for item in lst if item != [] ]\n",
    "print(\"The list after removing empty list is : \", new_list)"
   ]
  },
  {
   "cell_type": "markdown",
   "id": "7bb97b15-1f2d-4a95-a195-072c301aa061",
   "metadata": {},
   "source": []
  },
  {
   "cell_type": "code",
   "execution_count": 18,
   "id": "6c4b3a9c-8724-404b-b901-bc7aacb8ce53",
   "metadata": {},
   "outputs": [
    {
     "name": "stdout",
     "output_type": "stream",
     "text": [
      "After removing empty list :  [22, 14, 28, 22, 35, 57, 88]\n"
     ]
    }
   ],
   "source": [
    "# program to remove empty list from list\n",
    "\n",
    "def rem_empty(lst):\n",
    "    for i in lst:\n",
    "        if type(i) == list:\n",
    "            if len(i) == 0:\n",
    "                lst.remove(i)\n",
    "    return lst\n",
    "\n",
    "lst = [22, [], 14, 28, 22, [], 35, 57, [], 88]\n",
    "\n",
    "print(\"After removing empty list : \", rem_empty(lst))"
   ]
  },
  {
   "cell_type": "markdown",
   "id": "9fef67b8-b101-417b-a756-44912e0df299",
   "metadata": {},
   "source": []
  },
  {
   "cell_type": "markdown",
   "id": "6fa32382-8426-4a87-ac58-31a807e53238",
   "metadata": {},
   "source": [
    "10. Write a Python program to Cloning or Copying a list?"
   ]
  },
  {
   "cell_type": "code",
   "execution_count": 15,
   "id": "802d6f90-5ea9-4876-95af-aa25c71cb812",
   "metadata": {},
   "outputs": [
    {
     "name": "stdin",
     "output_type": "stream",
     "text": [
      "Enter the lenth of your list :  5\n",
      " 1\n",
      " 3\n",
      " 4\n",
      " 7\n",
      " 8\n"
     ]
    },
    {
     "name": "stdout",
     "output_type": "stream",
     "text": [
      "The List is :  [1, 3, 4, 7, 8]\n",
      "Cloning by list copying lst :  [1, 3, 4, 7, 8]\n"
     ]
    }
   ],
   "source": [
    "n = int(input(\"Enter the lenth of your list : \"))\n",
    "lst = []\n",
    "\n",
    "for i in range(n):\n",
    "    lst.append(int(input()))\n",
    "print(\"The List is : \",lst)\n",
    "\n",
    "lst_copy = lst.copy()\n",
    "print(\"Cloning by list copying lst : \", lst_copy)"
   ]
  },
  {
   "cell_type": "markdown",
   "id": "330ab827-303a-4c42-8267-ef300400f440",
   "metadata": {},
   "source": []
  },
  {
   "cell_type": "code",
   "execution_count": 21,
   "id": "8814c1c4-066c-4d08-af45-4710177b1fd7",
   "metadata": {},
   "outputs": [
    {
     "name": "stdout",
     "output_type": "stream",
     "text": [
      "Clone of lst :  [1, 3, 4, 7, 8]\n"
     ]
    }
   ],
   "source": [
    "# prgram to copy a list\\\n",
    "\n",
    "def clone(lst):\n",
    "    l = lst[0:]\n",
    "    return l\n",
    "\n",
    "lst = [1,3,4,7,8]\n",
    "\n",
    "print(\"Clone of lst : \", clone(lst))"
   ]
  },
  {
   "cell_type": "markdown",
   "id": "9c209d9f-25c2-4d12-9a49-9cf63e49dd2d",
   "metadata": {},
   "source": []
  },
  {
   "cell_type": "markdown",
   "id": "28a69a9f-e937-42b2-b877-ca7ac18db134",
   "metadata": {},
   "source": [
    "11. Write a Python program to Count occurrences of an element in a list?"
   ]
  },
  {
   "cell_type": "code",
   "execution_count": 23,
   "id": "13709d7b-7c2e-4bb6-ae00-15191af0cdbe",
   "metadata": {},
   "outputs": [
    {
     "name": "stdin",
     "output_type": "stream",
     "text": [
      "Enter the lenth of your list :  5\n",
      " 2\n",
      " 1\n",
      " 2\n",
      " 1\n",
      " 2\n"
     ]
    },
    {
     "name": "stdout",
     "output_type": "stream",
     "text": [
      "The List is :  [2, 1, 2, 1, 2]\n"
     ]
    },
    {
     "name": "stdin",
     "output_type": "stream",
     "text": [
      "Enter the element to find its occurence :  2\n"
     ]
    },
    {
     "name": "stdout",
     "output_type": "stream",
     "text": [
      "2 has occured 3 times in the list \n"
     ]
    }
   ],
   "source": [
    "n = int(input(\"Enter the lenth of your list : \"))\n",
    "lst = []\n",
    "\n",
    "for i in range(n):\n",
    "    lst.append(int(input()))\n",
    "print(\"The List is : \",lst)\n",
    "\n",
    "ele = int(input(\"Enter the element to find its occurence : \"))\n",
    "print(ele, \"has occured {} times in the list \".format(lst.count(ele)))"
   ]
  },
  {
   "cell_type": "code",
   "execution_count": 28,
   "id": "0a82ae95-341d-43ca-a81f-9b2c656e59a4",
   "metadata": {},
   "outputs": [
    {
     "name": "stdout",
     "output_type": "stream",
     "text": [
      "[2, 1, 2, 1, 2]\n",
      "2 occurs 3 number of times in list\n"
     ]
    }
   ],
   "source": [
    "# program to count occurences of the element in a list\n",
    "\n",
    "def occur(lst, element):\n",
    "    count = 0\n",
    "    for i in lst:\n",
    "        if i == element:\n",
    "            count += 1\n",
    "    return count\n",
    "\n",
    "lst = [2,1,2,1,2]\n",
    "\n",
    "print(lst)\n",
    "print(\"2 occurs\", occur(lst, 2), \"number of times in list\")"
   ]
  },
  {
   "cell_type": "markdown",
   "id": "5ae2e56a-0b08-4c71-8ed6-3360c8765983",
   "metadata": {},
   "source": []
  }
 ],
 "metadata": {
  "kernelspec": {
   "display_name": "Python 3 (ipykernel)",
   "language": "python",
   "name": "python3"
  },
  "language_info": {
   "codemirror_mode": {
    "name": "ipython",
    "version": 3
   },
   "file_extension": ".py",
   "mimetype": "text/x-python",
   "name": "python",
   "nbconvert_exporter": "python",
   "pygments_lexer": "ipython3",
   "version": "3.10.8"
  }
 },
 "nbformat": 4,
 "nbformat_minor": 5
}
