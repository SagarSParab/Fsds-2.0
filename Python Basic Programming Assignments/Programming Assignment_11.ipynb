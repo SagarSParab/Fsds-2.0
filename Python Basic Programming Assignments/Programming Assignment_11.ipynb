{
 "cells": [
  {
   "cell_type": "markdown",
   "id": "bf5052c4-2e9f-4ed6-a484-036e2c3d3729",
   "metadata": {},
   "source": [
    "                           Programming Assignment no. 11"
   ]
  },
  {
   "cell_type": "markdown",
   "id": "053e72a2-2902-4a88-9560-6c1c8a297cf4",
   "metadata": {},
   "source": []
  },
  {
   "cell_type": "markdown",
   "id": "69c0b0e2-c5b9-4c0a-88d1-9d27687bb30a",
   "metadata": {},
   "source": [
    "1. Write a Python program to find words which are greater than given length k?"
   ]
  },
  {
   "cell_type": "code",
   "execution_count": 1,
   "id": "16b37cad-c42d-49b4-826d-35af5a06fa43",
   "metadata": {},
   "outputs": [
    {
     "name": "stdout",
     "output_type": "stream",
     "text": [
      "Python\n",
      "commonly\n",
      "used\n",
      "developing\n",
      "websites\n",
      "software,\n",
      "task\n",
      "automation,\n",
      "data\n",
      "analysis,\n",
      "data\n",
      "visualisation.\n"
     ]
    }
   ],
   "source": [
    "# Given a line in string fomat\n",
    "line = 'Python is commonly used for developing websites and software, task automation, data analysis, and data visualisation. '\n",
    "\n",
    "# length of word\n",
    "length = 3\n",
    "\n",
    "# To obtain list of words\n",
    "word_list = line.split(' ')\n",
    "\n",
    "# print word if it is greater than given length\n",
    "for word in word_list:\n",
    "    if len(word) > length:\n",
    "        print(word)\n"
   ]
  },
  {
   "cell_type": "markdown",
   "id": "ed77a5d3-f458-47b4-ba10-3dcf17173638",
   "metadata": {},
   "source": []
  },
  {
   "cell_type": "markdown",
   "id": "6b5edd12-df80-43c1-ad5d-f731ef634610",
   "metadata": {},
   "source": [
    "2. Write a Python program for removing i-th character from a string?"
   ]
  },
  {
   "cell_type": "code",
   "execution_count": 6,
   "id": "b77b4972-b3d2-414c-82e5-6c0c0a0f5fbb",
   "metadata": {},
   "outputs": [
    {
     "name": "stdin",
     "output_type": "stream",
     "text": [
      "Enter a string :  Python is a computer programming language\n",
      "Enter the index of the character to remove :  10\n"
     ]
    },
    {
     "name": "stdout",
     "output_type": "stream",
     "text": [
      "Input string :  Python is a computer programming language\n",
      "Resulting string :  Python is  computer programming language\n"
     ]
    }
   ],
   "source": [
    "\n",
    "def remove_ith_character(input_string, i):\n",
    "    if i < 0 or i >= len(input_string):\n",
    "        print(\"Invalid index. The string remains unchanegd \")\n",
    "        return input_string\n",
    "    \n",
    "    # Slice the string before and after the i-th character and concatenate them\n",
    "    result_string = input_string[:i] + input_string[i + 1:]\n",
    "    \n",
    "    return result_string\n",
    "\n",
    "# Test the function\n",
    "user_input = input(\"Enter a string : \")\n",
    "index_to_remove = int(input(\"Enter the index of the character to remove : \"))\n",
    "print(\"Input string : \", user_input)\n",
    "result = remove_ith_character(user_input, index_to_remove)\n",
    "print(\"Resulting string : \", result)\n"
   ]
  },
  {
   "cell_type": "markdown",
   "id": "408d71b0-15a4-48f0-9016-f5857f39493e",
   "metadata": {},
   "source": []
  },
  {
   "cell_type": "markdown",
   "id": "2e087c88-f9a4-42b0-886f-be058bee69ce",
   "metadata": {},
   "source": [
    "3. Write a Python program to split and join a string?"
   ]
  },
  {
   "cell_type": "code",
   "execution_count": 9,
   "id": "80042f12-2c8f-4b4e-ab95-9ddbf044fdb6",
   "metadata": {},
   "outputs": [
    {
     "name": "stdout",
     "output_type": "stream",
     "text": [
      "After Split :  ['Python', 'is', 'an', 'object', 'oriented', 'language']\n",
      "After join :  Python is an object oriented language\n"
     ]
    }
   ],
   "source": [
    "string = 'Python is an object oriented language'\n",
    "\n",
    "# Splitting a string\n",
    "split_words = string.split(' ')\n",
    "\n",
    "print('After Split : ', split_words)\n",
    "\n",
    "join_words = ' '.join(split_words)\n",
    "\n",
    "print('After join : ', join_words)"
   ]
  },
  {
   "cell_type": "markdown",
   "id": "a162718e-ac5a-4085-b98f-60150dc73ac5",
   "metadata": {},
   "source": []
  },
  {
   "cell_type": "markdown",
   "id": "e9ad6166-5324-47f9-9bd0-ae0d092d8322",
   "metadata": {},
   "source": [
    "4. Write a Python to check if a given string is binary string or not?"
   ]
  },
  {
   "cell_type": "code",
   "execution_count": 10,
   "id": "ea7d2e05-d255-4a4b-a46d-6714b0a241e1",
   "metadata": {},
   "outputs": [
    {
     "name": "stdout",
     "output_type": "stream",
     "text": [
      "(True, 'Given string is a binary string')\n"
     ]
    }
   ],
   "source": [
    "def is_binary_string(string):\n",
    "    \"\"\"\n",
    "    \n",
    "    Checks if a given string is a binary string or not \n",
    "    \n",
    "    \"\"\"\n",
    "    \n",
    "    for character in string:\n",
    "        if character in \"01\":\n",
    "            return True, \"Given string is a binary string\"\n",
    "        \n",
    "        return False\n",
    "    \n",
    "string = \"1010101010\"\n",
    "print(is_binary_string(string))"
   ]
  },
  {
   "cell_type": "code",
   "execution_count": 12,
   "id": "3bcbf4f1-7a11-409b-9f05-ae69adb6d6ea",
   "metadata": {},
   "outputs": [
    {
     "name": "stdout",
     "output_type": "stream",
     "text": [
      "False\n"
     ]
    }
   ],
   "source": [
    "def is_binary_string(string):\n",
    "    \"\"\"\n",
    "    \n",
    "    Checks if a given string is a binary string or not \n",
    "    \n",
    "    \"\"\"\n",
    "    \n",
    "    for character in string:\n",
    "        if character in \"01\":\n",
    "            return True, \"Given string is a binary string\"\n",
    "        \n",
    "        return False\n",
    "    \n",
    "string = \"python\"\n",
    "print(is_binary_string(string))"
   ]
  },
  {
   "cell_type": "markdown",
   "id": "5066da07-26cf-464e-9d76-20a39fa000cd",
   "metadata": {},
   "source": []
  },
  {
   "cell_type": "markdown",
   "id": "6880cf40-70c7-486c-9d97-5bce845b7fac",
   "metadata": {},
   "source": [
    "5. Write a Python program to find uncommon words from two Strings?"
   ]
  },
  {
   "cell_type": "code",
   "execution_count": 19,
   "id": "3e96562b-8237-4da4-bc3a-f48a3140e1c0",
   "metadata": {},
   "outputs": [
    {
     "data": {
      "text/plain": [
       "['D', 'l', 'A', 'n', 's', 'y']"
      ]
     },
     "execution_count": 19,
     "metadata": {},
     "output_type": "execute_result"
    }
   ],
   "source": [
    "\n",
    "def find_uncommon(string1, string2):\n",
    "    uncommon_words = []\n",
    "    set1 = set(string1)\n",
    "    set2 = set(string2)\n",
    "    \n",
    "    for word in set1:\n",
    "        if word not in set2:\n",
    "            uncommon_words.append(word)\n",
    "    for word in set2:\n",
    "        if word not in set1:\n",
    "            uncommon_words.append(word)\n",
    "            \n",
    "    return uncommon_words\n",
    "\n",
    "find_uncommon('Data', 'Analyst')"
   ]
  },
  {
   "cell_type": "markdown",
   "id": "6303743a-188a-455d-a57a-4eb4835a7abd",
   "metadata": {},
   "source": []
  },
  {
   "cell_type": "markdown",
   "id": "6c45d682-d372-4c11-96e1-63f185e351f5",
   "metadata": {},
   "source": [
    "6. Write a Python to find all duplicate characters in string?"
   ]
  },
  {
   "cell_type": "code",
   "execution_count": 17,
   "id": "b6dc9c92-c1d2-4a8b-947c-b8da72a8551f",
   "metadata": {},
   "outputs": [
    {
     "data": {
      "text/plain": [
       "\"Duplicate words in both characters in string are {'a', 't'} \""
      ]
     },
     "execution_count": 17,
     "metadata": {},
     "output_type": "execute_result"
    }
   ],
   "source": [
    "def find_duplicate(string1, string2):\n",
    "    set1 = set(string1)\n",
    "    set2 = set(string2)\n",
    "    \n",
    "    return f\"Duplicate words in both characters in string are {set1 & set2 } \"\n",
    "\n",
    "find_duplicate('Data', 'Analyst')"
   ]
  },
  {
   "cell_type": "markdown",
   "id": "9e1483de-a62d-45d9-b214-d1faa1ebde35",
   "metadata": {},
   "source": []
  },
  {
   "cell_type": "markdown",
   "id": "d17fefaa-970b-463c-838c-3a6348f01395",
   "metadata": {},
   "source": [
    "7. Write a Python Program to check if a string contains any special character?"
   ]
  },
  {
   "cell_type": "code",
   "execution_count": 20,
   "id": "7ef49f0a-cd27-41d8-a3ad-44c3807602d5",
   "metadata": {},
   "outputs": [
    {
     "name": "stdin",
     "output_type": "stream",
     "text": [
      "Enter a string :  password is data@12\n"
     ]
    },
    {
     "name": "stdout",
     "output_type": "stream",
     "text": [
      "<re.Match object; span=(16, 17), match='@'>\n",
      "The string contains a special characters. \n"
     ]
    }
   ],
   "source": [
    "import re\n",
    "\n",
    "def has_special_character(input_string):\n",
    "    # Define the pattern for special characters using a regular expressions\n",
    "    special_character_pattern = re.compile(r'[!@#$%&*(),.?\":{}|<>]')\n",
    "    \n",
    "    # Use the re.search() method to find a match in a string\n",
    "    global match\n",
    "    match = special_character_pattern.search(input_string)\n",
    "    print(match)\n",
    "    \n",
    "    # if a match is found, the string contains a special character\n",
    "    return bool(match)\n",
    "\n",
    "# Test the functionn\n",
    "user_input = input(\"Enter a string : \")\n",
    "\n",
    "if has_special_character(user_input):\n",
    "    print(\"The string contains a special characters. \")\n",
    "else:\n",
    "    print(\"The string does NOT contains any special characters. \")\n"
   ]
  },
  {
   "cell_type": "code",
   "execution_count": 21,
   "id": "d2fb4ce0-8f95-46fc-bfdc-e380294db28c",
   "metadata": {},
   "outputs": [
    {
     "name": "stdin",
     "output_type": "stream",
     "text": [
      "Enter a string :  password is Data\n"
     ]
    },
    {
     "name": "stdout",
     "output_type": "stream",
     "text": [
      "None\n",
      "The string does NOT contains any special characters. \n"
     ]
    }
   ],
   "source": [
    "import re\n",
    "\n",
    "def has_special_character(input_string):\n",
    "    # Define the pattern for special characters using a regular expressions\n",
    "    special_character_pattern = re.compile(r'[!@#$%&*(),.?\":{}|<>]')\n",
    "    \n",
    "    # Use the re.search() method to find a match in a string\n",
    "    global match\n",
    "    match = special_character_pattern.search(input_string)\n",
    "    print(match)\n",
    "    \n",
    "    # if a match is found, the string contains a special character\n",
    "    return bool(match)\n",
    "\n",
    "# Test the functionn\n",
    "user_input = input(\"Enter a string : \")\n",
    "\n",
    "if has_special_character(user_input):\n",
    "    print(\"The string contains a special characters. \")\n",
    "else:\n",
    "    print(\"The string does NOT contains any special characters. \")\n"
   ]
  },
  {
   "cell_type": "markdown",
   "id": "36d080f6-a63e-40e8-a62d-75a3d90d85e6",
   "metadata": {},
   "source": []
  }
 ],
 "metadata": {
  "kernelspec": {
   "display_name": "Python 3 (ipykernel)",
   "language": "python",
   "name": "python3"
  },
  "language_info": {
   "codemirror_mode": {
    "name": "ipython",
    "version": 3
   },
   "file_extension": ".py",
   "mimetype": "text/x-python",
   "name": "python",
   "nbconvert_exporter": "python",
   "pygments_lexer": "ipython3",
   "version": "3.10.8"
  }
 },
 "nbformat": 4,
 "nbformat_minor": 5
}
