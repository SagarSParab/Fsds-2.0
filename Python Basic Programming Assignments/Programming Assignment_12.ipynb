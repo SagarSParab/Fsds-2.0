{
 "cells": [
  {
   "cell_type": "markdown",
   "id": "c39753ca-44b1-4e3f-b202-c9ae1c51caf1",
   "metadata": {},
   "source": [
    "                          Programming Assignment no. 12"
   ]
  },
  {
   "cell_type": "markdown",
   "id": "b54bbf4a-1a9d-4e9b-bd53-6fd2b0714678",
   "metadata": {},
   "source": []
  },
  {
   "cell_type": "markdown",
   "id": "742152fe-3790-4a72-98a3-ada847f0cf3c",
   "metadata": {},
   "source": [
    "1. Write a Python program to Extract Unique values dictionary values?"
   ]
  },
  {
   "cell_type": "code",
   "execution_count": 1,
   "id": "ff63db05-8632-41d2-8dfe-d965dfa568c2",
   "metadata": {},
   "outputs": [
    {
     "name": "stdout",
     "output_type": "stream",
     "text": [
      "Unique_Values : {'four', 'one', 'five', 'zero', 'six'}\n"
     ]
    }
   ],
   "source": [
    "demo = {'key1':'zero', 'key2':'one', 'key3':'four', 'key4':'five', 'key5':'six', 'key6':'six'}\n",
    "\n",
    "# To get all the values\n",
    "values = demo.values()\n",
    "\n",
    "# To get unique values\n",
    "unique_values = set(values)\n",
    "print('Unique_Values :', unique_values)"
   ]
  },
  {
   "cell_type": "markdown",
   "id": "53cc0898-f720-4344-b6e5-3ee3749b08b2",
   "metadata": {},
   "source": []
  },
  {
   "cell_type": "markdown",
   "id": "bd621dfe-2595-4aad-9d74-a8a78a173da5",
   "metadata": {},
   "source": [
    "2. Write a Python program to find the sum of all items in a dictionary?"
   ]
  },
  {
   "cell_type": "code",
   "execution_count": 4,
   "id": "1b335c8d-3e11-4d71-a98f-9ced7c2196f0",
   "metadata": {},
   "outputs": [
    {
     "name": "stdout",
     "output_type": "stream",
     "text": [
      "Sum of all items in a dictionary is :  300\n"
     ]
    }
   ],
   "source": [
    "def sum_dict(dict):\n",
    "    \n",
    "    list = []\n",
    "    for i in dict:\n",
    "        list.append(dict[i])\n",
    "        final = sum(list)\n",
    "        \n",
    "    return final\n",
    "\n",
    "dict = {'a': 80, 'b':100, 'c':120}\n",
    "print(\"Sum of all items in a dictionary is : \", sum_dict(dict))\n"
   ]
  },
  {
   "cell_type": "markdown",
   "id": "00d01095-4e79-4586-b6cc-620e31105b43",
   "metadata": {},
   "source": []
  },
  {
   "cell_type": "markdown",
   "id": "1bef96c5-105c-4cc1-8090-23006f662a6e",
   "metadata": {},
   "source": [
    "3. Write a Python program to Merging two Dictionaries?"
   ]
  },
  {
   "cell_type": "code",
   "execution_count": 6,
   "id": "3d3be82b-4886-4c51-9e39-6d8c5e15cc04",
   "metadata": {},
   "outputs": [
    {
     "name": "stdout",
     "output_type": "stream",
     "text": [
      "Merged Dictionary is : \n",
      "{1: 'Data', 2: 'Science', 3: 'Data', 4: 'Analyst'}\n"
     ]
    }
   ],
   "source": [
    "def merge_dict(dict1, dict2):\n",
    "    dict1.update(dict2)\n",
    "    return dict1\n",
    "\n",
    "dict1 = {1:'Data', 2:'Science'}\n",
    "dict2 = {3:'Data', 4:'Analyst'}\n",
    "\n",
    "print(\"Merged Dictionary is : \")\n",
    "\n",
    "print(merge_dict(dict1, dict2))\n"
   ]
  },
  {
   "cell_type": "markdown",
   "id": "3d693773-a7d9-41c7-a835-bf024c1685f6",
   "metadata": {},
   "source": []
  },
  {
   "cell_type": "markdown",
   "id": "956c29b9-d765-4832-bb1d-26e03eee236b",
   "metadata": {},
   "source": [
    "4. Write a Python program to convert key-values list to flat dictionary?"
   ]
  },
  {
   "cell_type": "code",
   "execution_count": 14,
   "id": "7a6d10d0-8ede-4158-b832-63a822869750",
   "metadata": {},
   "outputs": [
    {
     "name": "stdout",
     "output_type": "stream",
     "text": [
      "Original Dictionary is : {'Date': [10, 28, 14], 'Month': ['May', 'September', 'October']} \n",
      "\n",
      "[(10, 'May'), (28, 'September'), (14, 'October')] \n",
      "\n",
      "Flattened Dictionary is :  {10: 'May', 28: 'September', 14: 'October'}\n"
     ]
    }
   ],
   "source": [
    "# Dictionary \n",
    "test_dict = {'Date' : [10, 28, 14],\n",
    "             'Month' : ['May', 'September', 'October']}\n",
    "\n",
    "#Printing the original dictionary\n",
    "print(\"Original Dictionary is : \" + str(test_dict), '\\n')\n",
    "\n",
    "# Convert key-values list to flat dictionary\n",
    "# Using dict() + zip()\n",
    "\n",
    "res = list(zip(test_dict['Date'], test_dict['Month']))\n",
    "print(res, '\\n')\n",
    "dt = {}\n",
    "for r in res:\n",
    "    dt[r[0]] = r[1]\n",
    "    \n",
    "# Printing the result\n",
    "print(\"Flattened Dictionary is : \", dt)"
   ]
  },
  {
   "cell_type": "markdown",
   "id": "8e2cfe7a-ea84-4a67-95b3-15eebdf25d37",
   "metadata": {},
   "source": []
  },
  {
   "cell_type": "markdown",
   "id": "0873a8e0-711d-4ca7-aad2-baf045562107",
   "metadata": {},
   "source": [
    "5. Write a Python program to insertion at the beginning in OrderedDict?"
   ]
  },
  {
   "cell_type": "code",
   "execution_count": 18,
   "id": "3faa6bd1-e927-4913-8470-28f68bbbd8c7",
   "metadata": {},
   "outputs": [],
   "source": [
    "# Using OrderedDict\n",
    "\n",
    "from collections import OrderedDict\n",
    "\n",
    "def add_beginning(key, value, old_dict):\n",
    "    # Create a new OrderedDict\n",
    "    ordered_dict = OrderedDict()\n",
    "    \n",
    "    # Add latest record at beginning\n",
    "    ordered_dict[key] = value\n",
    "    \n",
    "    # Update with old values\n",
    "    ordered_dict.update(old_dict)\n",
    "    \n",
    "    # Printing all the key, value pairs\n",
    "    for key, value in ordered_dict.items():\n",
    "        print(key, values)\n",
    "        \n",
    "    return ordered_dict\n"
   ]
  },
  {
   "cell_type": "code",
   "execution_count": 19,
   "id": "8c35eb06-5a97-42b8-9620-2052c560efd8",
   "metadata": {},
   "outputs": [
    {
     "name": "stdout",
     "output_type": "stream",
     "text": [
      "latest dict_values(['zero', 'one', 'four', 'five', 'six', 'six'])\n",
      "a dict_values(['zero', 'one', 'four', 'five', 'six', 'six'])\n",
      "b dict_values(['zero', 'one', 'four', 'five', 'six', 'six'])\n"
     ]
    },
    {
     "data": {
      "text/plain": [
       "OrderedDict([('latest', 'value'), ('a', 1), ('b', 5)])"
      ]
     },
     "execution_count": 19,
     "metadata": {},
     "output_type": "execute_result"
    }
   ],
   "source": [
    "add_beginning('latest', 'value', {'a': 1, 'b': 5})"
   ]
  },
  {
   "cell_type": "markdown",
   "id": "6c7191ec-c414-4102-8da1-dab9ff2a9247",
   "metadata": {},
   "source": []
  },
  {
   "cell_type": "markdown",
   "id": "67f3b756-3780-444a-83fc-d097fce17a4b",
   "metadata": {},
   "source": [
    "6. Write a Python program to check order of character in string using OrderedDict()?"
   ]
  },
  {
   "cell_type": "code",
   "execution_count": 23,
   "id": "d48c3d96-534a-4b12-8150-3f4158a21ecd",
   "metadata": {},
   "outputs": [
    {
     "name": "stdout",
     "output_type": "stream",
     "text": [
      "True\n"
     ]
    }
   ],
   "source": [
    "import collections\n",
    "\n",
    "def check_order(string, pattern):\n",
    "    \n",
    "    \"\"\" Checks if the order of character in the string matches the pattern. \"\"\"\n",
    "    \n",
    "    ordered_dict = collections.OrderedDict()\n",
    "    \n",
    "    for c in string:\n",
    "        ordered_dict[c] = None\n",
    "        \n",
    "    pointer = 0\n",
    "    for c in pattern:\n",
    "        if c not in ordered_dict:\n",
    "            return False\n",
    "        else:\n",
    "            del ordered_dict[c]\n",
    "            pointer += 1\n",
    "            \n",
    "    if pointer == len(pattern):\n",
    "        return True\n",
    "    else:\n",
    "        return False\n",
    "    \n",
    "# If order matches it will return True\n",
    "\n",
    "string = \"DataDrives\"\n",
    "pattern = \"at\"\n",
    "result = check_order(string, pattern)\n",
    "print(result)\n"
   ]
  },
  {
   "cell_type": "code",
   "execution_count": 24,
   "id": "34f48f3d-8595-4f94-99d5-fa522a5a8932",
   "metadata": {},
   "outputs": [
    {
     "name": "stdout",
     "output_type": "stream",
     "text": [
      "False\n"
     ]
    }
   ],
   "source": [
    "import collections\n",
    "\n",
    "def check_order(string, pattern):\n",
    "    \n",
    "    \"\"\" Checks if the order of character in the string matches the pattern. \"\"\"\n",
    "    \n",
    "    ordered_dict = collections.OrderedDict()\n",
    "    \n",
    "    for c in string:\n",
    "        ordered_dict[c] = None\n",
    "        \n",
    "    pointer = 0\n",
    "    for c in pattern:\n",
    "        if c not in ordered_dict:\n",
    "            return False\n",
    "        else:\n",
    "            del ordered_dict[c]\n",
    "            pointer += 1\n",
    "            \n",
    "    if pointer == len(pattern):\n",
    "        return True\n",
    "    else:\n",
    "        return False\n",
    "    \n",
    "# If order matches it will return True\n",
    "\n",
    "string = \"DataDrives\"\n",
    "pattern = \"bt\"\n",
    "result = check_order(string, pattern)\n",
    "print(result)\n"
   ]
  },
  {
   "cell_type": "markdown",
   "id": "5eb9e156-d92f-405a-9da2-0b0fceb39548",
   "metadata": {},
   "source": []
  },
  {
   "cell_type": "markdown",
   "id": "f7057f00-1912-4bec-acea-fa65fbe3d7eb",
   "metadata": {},
   "source": [
    "7. Write a Python program to sort Python Dictionaries by Key or Value?"
   ]
  },
  {
   "cell_type": "code",
   "execution_count": 30,
   "id": "cbdaed45-316e-422c-82b9-6be639553767",
   "metadata": {},
   "outputs": [
    {
     "name": "stdout",
     "output_type": "stream",
     "text": [
      "Before Sort : \n",
      "{'name': 'Rohit', 'Title': 'Captain', 'Sport': 'Cricket', 'format': 'T20'} \n",
      "\n",
      "After Sorting by keys : \n"
     ]
    },
    {
     "data": {
      "text/plain": [
       "{'Sport': 'Cricket', 'Title': 'Captain', 'format': 'T20', 'name': 'Rohit'}"
      ]
     },
     "execution_count": 30,
     "metadata": {},
     "output_type": "execute_result"
    }
   ],
   "source": [
    "# Function which will sort the key\n",
    "def sort_keys(dic:dict):\n",
    "    \n",
    "    # List to extract put all extracted keys from dict\n",
    "    keys = list(dic.keys())\n",
    "    \n",
    "    # Sorting the keys\n",
    "    keys.sort()\n",
    "    \n",
    "    # Creating copy of original dict\n",
    "    temp = dic.copy()\n",
    "    \n",
    "    # Clearing the original dict\n",
    "    dic.clear()\n",
    "    \n",
    "    # Again adding values according to sorted keys in dict\n",
    "    for k in keys:\n",
    "        dic[k] = temp[k]\n",
    "        \n",
    "    return dic\n",
    "\n",
    "dt = {'name':\"Rohit\", 'Title':\"Captain\", 'Sport':\"Cricket\", 'format':\"T20\"}\n",
    "\n",
    "print(\"Before Sort : \")\n",
    "print(dt, '\\n')\n",
    "\n",
    "# Calling sorting function\n",
    "print(\"After Sorting by keys : \")\n",
    "sort_keys(dt)\n"
   ]
  },
  {
   "cell_type": "markdown",
   "id": "c1433040-65ee-4243-bd1f-8a949fabd9d3",
   "metadata": {},
   "source": []
  }
 ],
 "metadata": {
  "kernelspec": {
   "display_name": "Python 3 (ipykernel)",
   "language": "python",
   "name": "python3"
  },
  "language_info": {
   "codemirror_mode": {
    "name": "ipython",
    "version": 3
   },
   "file_extension": ".py",
   "mimetype": "text/x-python",
   "name": "python",
   "nbconvert_exporter": "python",
   "pygments_lexer": "ipython3",
   "version": "3.10.8"
  }
 },
 "nbformat": 4,
 "nbformat_minor": 5
}
