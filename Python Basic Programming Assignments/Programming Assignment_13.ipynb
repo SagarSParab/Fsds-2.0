{
 "cells": [
  {
   "cell_type": "markdown",
   "id": "d085f701-6a34-4fa3-be48-31bbc9cee13a",
   "metadata": {},
   "source": [
    "                        Programming Assignment no. 13"
   ]
  },
  {
   "cell_type": "markdown",
   "id": "ca0c25cd-54b6-4c93-a068-ec1b7ccf9846",
   "metadata": {},
   "source": []
  },
  {
   "cell_type": "markdown",
   "id": "a5bd564e-9c2e-4514-a37b-16d6cd6c592d",
   "metadata": {},
   "source": [
    "Question 1:\n",
    "\n",
    "Write a program that calculates and prints the value according to the given formula:\n",
    "Q = Square root of [(2 * C * D)/H]\n",
    "\n",
    "Following are the fixed values of C and H:\n",
    "C is 50. H is 30.\n",
    "\n",
    "D is the variable whose values should be input to your program in a comma-separated\n",
    "sequence.\n",
    "\n",
    "Example  : -\n",
    "\n",
    "Let us assume the following comma separated input sequence is given to the program:\n",
    "100,150,180\n",
    "\n",
    "The output of the program should be:\n",
    "18,22,24"
   ]
  },
  {
   "cell_type": "code",
   "execution_count": 4,
   "id": "a8fde36f-d456-4d0c-8d42-fb995aa0a4b7",
   "metadata": {},
   "outputs": [],
   "source": [
    "from math import sqrt\n",
    "\n",
    "def calculate(input_:str):\n",
    "    #Pre-defined variables\n",
    "    C = 50\n",
    "    H = 30\n",
    "    \n",
    "    # Input variables\n",
    "    input_var = input_.split(sep = ',')\n",
    "    print(f'Given sequence is {input_var}')\n",
    "    \n",
    "    # Calculation using formula ->  Q = Square root of [(2 * C * D )/ H]\n",
    "    answers = []\n",
    "    \n",
    "    for D in input_var:\n",
    "        Q = sqrt((2 * C * int(D)) / H)\n",
    "        answers.append(round(Q))\n",
    "        \n",
    "    return answers\n",
    "\n",
    "    "
   ]
  },
  {
   "cell_type": "code",
   "execution_count": 5,
   "id": "b68fe4b6-fd1c-4ce4-95be-69ea7e4a35b5",
   "metadata": {},
   "outputs": [
    {
     "name": "stdout",
     "output_type": "stream",
     "text": [
      "Given sequence is ['100', '150', '180']\n"
     ]
    },
    {
     "data": {
      "text/plain": [
       "[18, 22, 24]"
      ]
     },
     "execution_count": 5,
     "metadata": {},
     "output_type": "execute_result"
    }
   ],
   "source": [
    "calculate('100,150,180')"
   ]
  },
  {
   "cell_type": "markdown",
   "id": "a42d7631-433d-4f38-852a-42ce33b9eeb5",
   "metadata": {},
   "source": []
  },
  {
   "cell_type": "markdown",
   "id": "f7f924ce-0f9a-4452-8fc6-be615f73f096",
   "metadata": {},
   "source": [
    "Question 2:\n",
    "\n",
    "Write a program which takes 2 digits, X,Y as input and generates a 2-dimensional array. The\n",
    "element value in the i-th row and j-th column of the array should be i*j.\n",
    "\n",
    "Note: i=0,1.., X-1; j=0,1,¡Y-1.\n",
    "\n",
    "Example : -\n",
    "\n",
    "Suppose the following inputs are given to the program:\n",
    "3,5\n",
    "\n",
    "Then, the output of the program should be:\n",
    "[[0, 0, 0, 0, 0], [0, 1, 2, 3, 4], [0, 2, 4, 6, 8]]"
   ]
  },
  {
   "cell_type": "code",
   "execution_count": 6,
   "id": "7dfe6a7c-f74e-4438-bdf2-1689071ae981",
   "metadata": {},
   "outputs": [
    {
     "name": "stdin",
     "output_type": "stream",
     "text": [
      "Enter the number of rows :  3\n",
      "Enter the number of columns :  4\n"
     ]
    },
    {
     "name": "stdout",
     "output_type": "stream",
     "text": [
      "Empty Array : [[0, 0, 0, 0], [0, 0, 0, 0], [0, 0, 0, 0]]\n",
      "Output Array is :  [[0, 0, 0, 0], [0, 1, 2, 3], [0, 2, 4, 6]]\n"
     ]
    }
   ],
   "source": [
    "def generate_2d_array(x, y):\n",
    "    \n",
    "    \"\"\" Generates a 2-dimensional array with dimension x and y. \"\"\"\n",
    "    \n",
    "    array = [[0 for i in range(y)] for j in range(x)]\n",
    "    print(f\"Empty Array : {array}\")\n",
    "    \n",
    "    for i in range(x):\n",
    "        \n",
    "        for j in range(y):\n",
    "            array[i][j] = i * j\n",
    "            \n",
    "    return array\n",
    "\n",
    "x = int(input(\"Enter the number of rows : \"))\n",
    "y = int(input(\"Enter the number of columns : \"))\n",
    "\n",
    "array = generate_2d_array(x,y)\n",
    "print('Output Array is : ', array)"
   ]
  },
  {
   "cell_type": "markdown",
   "id": "8c5dc15a-3a85-4706-938c-9a89ed2fbc33",
   "metadata": {},
   "source": []
  },
  {
   "cell_type": "markdown",
   "id": "1a00227c-cc0b-4d8a-a5df-1bdd3c3a6865",
   "metadata": {},
   "source": [
    "Question 3:\n",
    "\n",
    "Write a program that accepts a comma separated sequence of words as input and prints the\n",
    "words in a comma-separated sequence after sorting them alphabetically.\n",
    "\n",
    "Suppose the following input is supplied to the program:\n",
    "\n",
    "without,hello,bag,world\n",
    "\n",
    "Then, the output should be:\n",
    "\n",
    "bag,hello,without,world"
   ]
  },
  {
   "cell_type": "code",
   "execution_count": 7,
   "id": "f3fbb6dc-c7cc-469a-9120-829a9edf1b48",
   "metadata": {},
   "outputs": [],
   "source": [
    "def sort_words():\n",
    "    \n",
    "    # Taking input in comma seperated format\n",
    "    inp = input('Enter words seperated by comma (,): ')\n",
    "    \n",
    "    # Creating list of given words\n",
    "    lsst = inp.split(',')\n",
    "    print(lsst)\n",
    "    \n",
    "    # Sorting words alphabetically\n",
    "    lsst.sort()\n",
    "    \n",
    "    # Joining sorted words\n",
    "    \n",
    "    return f\"Sorted words are : {','.join(lsst)}\""
   ]
  },
  {
   "cell_type": "code",
   "execution_count": 8,
   "id": "a79958cb-8bad-4562-9301-a2e169681c28",
   "metadata": {},
   "outputs": [
    {
     "name": "stdin",
     "output_type": "stream",
     "text": [
      "Enter words seperated by comma (,):  without, hello, bag, world\n"
     ]
    },
    {
     "name": "stdout",
     "output_type": "stream",
     "text": [
      "['without', ' hello', ' bag', ' world']\n"
     ]
    },
    {
     "data": {
      "text/plain": [
       "'Sorted words are :  bag, hello, world,without'"
      ]
     },
     "execution_count": 8,
     "metadata": {},
     "output_type": "execute_result"
    }
   ],
   "source": [
    "sort_words()"
   ]
  },
  {
   "cell_type": "markdown",
   "id": "1170b67c-d9b7-43ed-88ea-94ef228f1d63",
   "metadata": {},
   "source": []
  },
  {
   "cell_type": "code",
   "execution_count": 10,
   "id": "00d80bc3-5383-41b6-ac4e-853359502d87",
   "metadata": {},
   "outputs": [
    {
     "name": "stdin",
     "output_type": "stream",
     "text": [
      "Enter comma seperated words  without,hello,bag,world\n"
     ]
    },
    {
     "name": "stdout",
     "output_type": "stream",
     "text": [
      "bag,hello,without,world\n"
     ]
    }
   ],
   "source": [
    "# Another method is comprehension\n",
    "\n",
    "words = [x for x in input('Enter comma seperated words ').split(',')]\n",
    "words.sort()\n",
    "print(','.join(words))"
   ]
  },
  {
   "cell_type": "markdown",
   "id": "d6983ecb-d318-4f33-b679-c6988e77051b",
   "metadata": {},
   "source": []
  },
  {
   "cell_type": "markdown",
   "id": "73d27af0-5183-42b5-afba-b0d5a4ce8531",
   "metadata": {},
   "source": [
    "Question 4:\n",
    "\n",
    "Write a program that accepts a sequence of whitespace separated words as input and prints\n",
    "the words after removing all duplicate words and sorting them alphanumerically.\n",
    "\n",
    "Suppose the following input is supplied to the program:\n",
    "\n",
    "hello world and practice makes perfect and hello world again\n",
    "Then, the output should be:\n",
    "\n",
    "again and hello makes perfect practice world"
   ]
  },
  {
   "cell_type": "code",
   "execution_count": 9,
   "id": "c0a79221-81f5-478a-8955-91a3525c346d",
   "metadata": {},
   "outputs": [
    {
     "name": "stdin",
     "output_type": "stream",
     "text": [
      "Enter words seperated by whitespaces =  this is a line with wowrdspaces\n"
     ]
    },
    {
     "name": "stdout",
     "output_type": "stream",
     "text": [
      "Sorted words are as :  a is line this with wowrdspaces\n"
     ]
    }
   ],
   "source": [
    "# Taking input\n",
    "string = input(\"Enter words seperated by whitespaces = \")\n",
    "\n",
    "# Sorting and removing duplicate using this function\n",
    "\n",
    "def sort_words(string):\n",
    "    words = string.split(' ')\n",
    "    words = set(words)\n",
    "    words = list(words)\n",
    "    words.sort()\n",
    "    \n",
    "    return \" \".join(words)\n",
    "\n",
    "# Print the sorted words and removed duplicate\n",
    "print(\"Sorted words are as : \", sort_words(string))\n"
   ]
  },
  {
   "cell_type": "markdown",
   "id": "074c2a12-2ff7-4c13-8fbf-c13132b0f3d1",
   "metadata": {},
   "source": []
  },
  {
   "cell_type": "code",
   "execution_count": 13,
   "id": "1a52e0f1-218f-4ae0-beb2-87ed472470c6",
   "metadata": {},
   "outputs": [
    {
     "name": "stdin",
     "output_type": "stream",
     "text": [
      "Enter space seperated words  this is a  line  with wordsspaces\n"
     ]
    },
    {
     "name": "stdout",
     "output_type": "stream",
     "text": [
      " a is line this with wordsspaces\n"
     ]
    }
   ],
   "source": [
    "# Another method is comprehension\n",
    "\n",
    "words = [x for x in input('Enter space seperated words ').split(' ')]\n",
    "print(' '.join(sorted(list(set(words)))))"
   ]
  },
  {
   "cell_type": "markdown",
   "id": "eafe3914-e495-47a6-8103-b79602b1eddd",
   "metadata": {},
   "source": []
  },
  {
   "cell_type": "markdown",
   "id": "7eebe73e-263b-474c-a85d-2c544644461c",
   "metadata": {},
   "source": [
    "Question 5:\n",
    "\n",
    "Write a program that accepts a sentence and calculate the number of letters and digits.\n",
    "\n",
    "Suppose the following input is supplied to the program:\n",
    "hello world! 123\n",
    "\n",
    "Then, the output should be:\n",
    "LETTERS 10"
   ]
  },
  {
   "cell_type": "code",
   "execution_count": 25,
   "id": "736f0390-d201-4bd1-bb69-345786a53287",
   "metadata": {},
   "outputs": [
    {
     "name": "stdin",
     "output_type": "stream",
     "text": [
      "Input a string :  hello world! 123\n"
     ]
    },
    {
     "name": "stdout",
     "output_type": "stream",
     "text": [
      "String :  hello world! 123\n",
      "Letters 10\n",
      "Digits 3\n"
     ]
    }
   ],
   "source": [
    "a = input(\"Input a string : \")\n",
    "digits = letters = 0\n",
    "\n",
    "for i in a:\n",
    "    if i.isdigit():\n",
    "        digits += 1\n",
    "    elif i.isalpha():\n",
    "        letters += 1\n",
    "    else:\n",
    "        pass\n",
    "\n",
    "print(f\"String : \", a)\n",
    "print(\"Letters\", letters)\n",
    "print(\"Digits\", digits)\n"
   ]
  },
  {
   "cell_type": "markdown",
   "id": "8c6adaee-d927-4c70-9707-e9d856a532f4",
   "metadata": {},
   "source": []
  },
  {
   "cell_type": "markdown",
   "id": "08a9fa4b-3d42-448b-87a7-cc4ed8758805",
   "metadata": {},
   "source": [
    "Question 6:\n",
    "\n",
    "A website requires the users to input username and password to register. Write a program to\n",
    "check the validity of password input by users.\n",
    "\n",
    "Following are the criteria for checking the password:\n",
    "\n",
    "1. At least 1 letter between [a-z]\n",
    "\n",
    "2. At least 1 number between [0-9]\n",
    "\n",
    "1. At least 1 letter between [A-Z]\n",
    "\n",
    "3. At least 1 character from [$#@]\n",
    "\n",
    "4. Minimum length of transaction password: 6\n",
    "\n",
    "5. Maximum length of transaction password: 12\n",
    "\n",
    "Your program should accept a sequence of comma separated passwords and will check them\n",
    "according to the above criteria. Passwords that match the criteria are to be printed, each\n",
    "separated by a comma.\n",
    "\n",
    "Example\n",
    "\n",
    "If the following passwords are given as input to the program:\n",
    "ABd1234@1,a F1#,2w3E*,2We3345\n",
    "\n",
    "Then, the output of the program should be:\n",
    "ABd1234@1"
   ]
  },
  {
   "cell_type": "code",
   "execution_count": 23,
   "id": "0cd3f54c-3f8d-4b19-920e-738cf47bdc6b",
   "metadata": {},
   "outputs": [
    {
     "name": "stdin",
     "output_type": "stream",
     "text": [
      "Enter a password :  India@21\n"
     ]
    },
    {
     "name": "stdout",
     "output_type": "stream",
     "text": [
      "Valid Password\n"
     ]
    }
   ],
   "source": [
    "import re\n",
    "\n",
    "password = input(\"Enter a password : \")\n",
    "x = True\n",
    "\n",
    "while x:\n",
    "    if (6 < len(password) > 12):\n",
    "        break\n",
    "    elif not re.search(\"[a-z]\", password):\n",
    "        break\n",
    "    elif not re.search(\"[0-9]\", password):\n",
    "        break\n",
    "    elif not re.search(\"[A-Z]\", password):\n",
    "        break\n",
    "    elif not re.search(\"[@#$]\", password):\n",
    "        break\n",
    "    elif re.search(\"\\s\", password):\n",
    "        break\n",
    "    else:\n",
    "        print(\"Valid Password\")\n",
    "        x = False\n",
    "        break\n",
    "if x :\n",
    "    print(\"Not a Valid Password\")"
   ]
  },
  {
   "cell_type": "code",
   "execution_count": 22,
   "id": "ffea5cea-5c20-46eb-972a-a9c46be19a30",
   "metadata": {},
   "outputs": [
    {
     "name": "stdin",
     "output_type": "stream",
     "text": [
      "Enter a password :  Abc!2\n"
     ]
    },
    {
     "name": "stdout",
     "output_type": "stream",
     "text": [
      "Not a Valid Password\n"
     ]
    }
   ],
   "source": [
    "import re\n",
    "\n",
    "password = input(\"Enter a password : \")\n",
    "x = True\n",
    "\n",
    "while x:\n",
    "    if (6 < len(password) > 12):\n",
    "        break\n",
    "    elif not re.search(\"[a-z]\", password):\n",
    "        break\n",
    "    elif not re.search(\"[0-9]\", password):\n",
    "        break\n",
    "    elif not re.search(\"[A-Z]\", password):\n",
    "        break\n",
    "    elif not re.search(\"[@#$]\", password):\n",
    "        break\n",
    "    elif re.search(\"\\s\", password):\n",
    "        break\n",
    "    else:\n",
    "        print(\"Valid Password\")\n",
    "        x = False\n",
    "        break\n",
    "if x :\n",
    "    print(\"Not a Valid Password\")"
   ]
  },
  {
   "cell_type": "markdown",
   "id": "a4f919f5-9b91-4f19-8435-2e10118b2f42",
   "metadata": {},
   "source": []
  }
 ],
 "metadata": {
  "kernelspec": {
   "display_name": "Python 3 (ipykernel)",
   "language": "python",
   "name": "python3"
  },
  "language_info": {
   "codemirror_mode": {
    "name": "ipython",
    "version": 3
   },
   "file_extension": ".py",
   "mimetype": "text/x-python",
   "name": "python",
   "nbconvert_exporter": "python",
   "pygments_lexer": "ipython3",
   "version": "3.10.8"
  }
 },
 "nbformat": 4,
 "nbformat_minor": 5
}
