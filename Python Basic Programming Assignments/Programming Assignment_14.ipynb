{
 "cells": [
  {
   "cell_type": "markdown",
   "id": "e2c747ce-c289-4888-aca0-af4a468633bb",
   "metadata": {},
   "source": [
    "                         Programming Assignment no. 14"
   ]
  },
  {
   "cell_type": "markdown",
   "id": "4d2d857a-6f44-47e7-8452-040c55d22c0d",
   "metadata": {},
   "source": []
  },
  {
   "cell_type": "markdown",
   "id": "81cfee6d-04d1-401f-a529-6cea9435c94d",
   "metadata": {},
   "source": [
    "Question 1:\n",
    "Define a class with a generator which can iterate the numbers, which are divisible by\n",
    "7, between a given range 0 and n."
   ]
  },
  {
   "cell_type": "code",
   "execution_count": 1,
   "id": "29db0451-8dc1-486f-acfd-f1687883b659",
   "metadata": {},
   "outputs": [
    {
     "name": "stdin",
     "output_type": "stream",
     "text": [
      "Enter n :  70\n"
     ]
    },
    {
     "name": "stdout",
     "output_type": "stream",
     "text": [
      "0\n",
      "7\n",
      "14\n",
      "21\n",
      "28\n",
      "35\n",
      "42\n",
      "49\n",
      "56\n",
      "63\n"
     ]
    }
   ],
   "source": [
    "def gen(n):\n",
    "    \n",
    "    for i in range(0, n):\n",
    "        if i % 7 == 0:\n",
    "            print(i)\n",
    "n = int(input(\"Enter n : \"))\n",
    "gen(n)"
   ]
  },
  {
   "cell_type": "markdown",
   "id": "cb4b448f-4cef-413a-beb5-c4e74add1a41",
   "metadata": {},
   "source": []
  },
  {
   "cell_type": "markdown",
   "id": "f8943c21-275f-41a6-95fa-be3470ce4ae7",
   "metadata": {},
   "source": [
    "Question 2:\n",
    "\n",
    "Write a program to compute the frequency of the words from the input. The output\n",
    "should output after sorting the key alphanumerically.\n",
    "\n",
    "Suppose the following input is supplied to the program:\n",
    "\n",
    "New to Python or choosing between Python 2 and Python 3? Read Python 2 or\n",
    "Python 3.\n",
    "\n",
    "Then, the output should be:\n",
    "\n",
    "2:2\n",
    "3.:1\n",
    "3?:1\n",
    "New:1\n",
    "Python:5\n",
    "Read:1\n",
    "and:1\n",
    "between:1\n",
    "choosing:1\n",
    "or:2\n",
    "to:1"
   ]
  },
  {
   "cell_type": "code",
   "execution_count": 2,
   "id": "1f7dff15-ff83-49aa-a6c0-5831f3775220",
   "metadata": {},
   "outputs": [
    {
     "name": "stdin",
     "output_type": "stream",
     "text": [
      "Enter the Sentence  New to Python or choosing between Python 2 and Python 3? Read Python 2 or Python 3.\n"
     ]
    },
    {
     "name": "stdout",
     "output_type": "stream",
     "text": [
      "2:2\n",
      "3.:1\n",
      "3?:1\n",
      "New:1\n",
      "Python:5\n",
      "Read:1\n",
      "and:1\n",
      "between:1\n",
      "choosing:1\n",
      "or:2\n",
      "to:1\n"
     ]
    }
   ],
   "source": [
    "sentence = input(\"Enter the Sentence \").split()\n",
    "# To sort alphabetically\n",
    "word = sorted(set(sentence))       \n",
    "\n",
    "for i in word:\n",
    "    print(\"{0}:{1}\".format(i, sentence.count(i)))\n"
   ]
  },
  {
   "cell_type": "markdown",
   "id": "0c3dd7d2-892f-4e37-8e9d-be969ad52c7b",
   "metadata": {},
   "source": []
  },
  {
   "cell_type": "code",
   "execution_count": 3,
   "id": "3aa2b42f-394a-47a5-b134-96e581c7e33f",
   "metadata": {},
   "outputs": [],
   "source": [
    "# Another method\n",
    "\n",
    "def get_count(input_string:str):\n",
    "    count_dict = {}\n",
    "    \n",
    "    # To get the list of words\n",
    "    input_string_list = input_string.split()\n",
    "    \n",
    "    # To get unique keys\n",
    "    keys = set(input_string_list)\n",
    "    \n",
    "    # To get count of each key\n",
    "    \n",
    "    for key in sorted(keys):\n",
    "        count_dict[key] = input_string_list.count(key)\n",
    "        \n",
    "    return count_dict"
   ]
  },
  {
   "cell_type": "code",
   "execution_count": 4,
   "id": "324ce189-fad7-44d9-bdf1-fa8709f7792b",
   "metadata": {},
   "outputs": [
    {
     "data": {
      "text/plain": [
       "{'2': 2,\n",
       " '3.': 1,\n",
       " '3?': 1,\n",
       " 'New': 1,\n",
       " 'Python': 5,\n",
       " 'Read': 1,\n",
       " 'and': 1,\n",
       " 'between': 1,\n",
       " 'choosing': 1,\n",
       " 'or': 2,\n",
       " 'to': 1}"
      ]
     },
     "execution_count": 4,
     "metadata": {},
     "output_type": "execute_result"
    }
   ],
   "source": [
    "a = 'New to Python or choosing between Python 2 and Python 3? Read Python 2 or Python 3.'\n",
    "get_count(a)"
   ]
  },
  {
   "cell_type": "markdown",
   "id": "38bb0cfd-c0a3-4cc2-b645-e28f49815ff4",
   "metadata": {},
   "source": []
  },
  {
   "cell_type": "markdown",
   "id": "c66515e0-4c17-4c4b-869f-1360d819de42",
   "metadata": {},
   "source": [
    "Question 3:\n",
    "\n",
    "Define a class Person and its two child classes: Male and Female. All classes have a\n",
    "method &quot;getGender&quot; which can print &quot;Male&quot; for Male class and &quot;Female&quot; for Female\n",
    "class."
   ]
  },
  {
   "cell_type": "code",
   "execution_count": 7,
   "id": "c6cee29b-39c9-4845-b9de-7889d170700c",
   "metadata": {},
   "outputs": [],
   "source": [
    "class Person:\n",
    "    def getGender(self):\n",
    "        pass\n",
    "    \n",
    "class Male(Person):\n",
    "    def getGender(self):\n",
    "        print(\"Male\")\n",
    "        \n",
    "class Female(Person):\n",
    "    def getGender(self):\n",
    "        print(\"Female\")\n"
   ]
  },
  {
   "cell_type": "code",
   "execution_count": 8,
   "id": "0f7f9ca1-ea82-4027-adeb-761be2651c61",
   "metadata": {},
   "outputs": [
    {
     "name": "stdout",
     "output_type": "stream",
     "text": [
      "Male\n"
     ]
    }
   ],
   "source": [
    "male_person = Male()\n",
    "male_person.getGender()"
   ]
  },
  {
   "cell_type": "code",
   "execution_count": 9,
   "id": "2b02a32c-c2e1-4b3d-b63f-c62e3f3ce294",
   "metadata": {},
   "outputs": [
    {
     "name": "stdout",
     "output_type": "stream",
     "text": [
      "Female\n"
     ]
    }
   ],
   "source": [
    "female_person = Female()\n",
    "female_person.getGender()"
   ]
  },
  {
   "cell_type": "markdown",
   "id": "7c4b64ed-2b44-4cfb-9b4b-e12f996b1a36",
   "metadata": {},
   "source": []
  },
  {
   "cell_type": "markdown",
   "id": "5c048e88-1597-44ae-b72c-09690574e541",
   "metadata": {},
   "source": [
    "Question 4:\n",
    "\n",
    "Please write a program to generate all sentences where subject is in [&quot;I&quot;, &quot;You&quot;] and\n",
    "verb is in [&quot;Play&quot;, &quot;Love&quot;] and the object is in [&quot;Hockey&quot;,&quot;Football&quot;]."
   ]
  },
  {
   "cell_type": "code",
   "execution_count": 11,
   "id": "19be636d-4960-438c-b95f-c73301d1d7ba",
   "metadata": {},
   "outputs": [
    {
     "name": "stdout",
     "output_type": "stream",
     "text": [
      "i Play Hockey\n",
      "i Play Football\n",
      "i Love Hockey\n",
      "i Love Football\n",
      "You Play Hockey\n",
      "You Play Football\n",
      "You Love Hockey\n",
      "You Love Football\n"
     ]
    }
   ],
   "source": [
    "subject = [\"i\", \"You\"]\n",
    "verb = [\"Play\", \"Love\"]\n",
    "objects = [\"Hockey\", \"Football\"]\n",
    "\n",
    "for i in subject:\n",
    "    for j in verb:\n",
    "        for k in objects:\n",
    "            print(i,j,k)"
   ]
  },
  {
   "cell_type": "markdown",
   "id": "a0d7d06d-205f-4f7a-ac8a-552e695d6592",
   "metadata": {},
   "source": []
  },
  {
   "cell_type": "markdown",
   "id": "687da3d3-955d-4a52-8ab1-5d74eb0af0a2",
   "metadata": {},
   "source": [
    "Question 5:\n",
    "\n",
    "Please write a program to compress and decompress the string &quot;hello world!hello\n",
    "world!hello world!hello world!&quot;."
   ]
  },
  {
   "cell_type": "code",
   "execution_count": 12,
   "id": "f0399583-fa64-47f4-b5ba-cc713add12b5",
   "metadata": {},
   "outputs": [],
   "source": [
    "import zlib\n",
    "\n",
    "def compress_string(input_string):\n",
    "    compressed_data = zlib.compress(input_string.encode())\n",
    "    return compressed_data\n",
    "\n",
    "def decompress_string(compressed_data):\n",
    "    decompressed_string = zlib.decompress(compressed_data).decode()\n",
    "    return decompressed_string\n"
   ]
  },
  {
   "cell_type": "code",
   "execution_count": 13,
   "id": "4c8d61c0-8d2e-4478-a8de-7a8e4b401d5f",
   "metadata": {},
   "outputs": [
    {
     "name": "stdout",
     "output_type": "stream",
     "text": [
      "Compressed Data :  b'x\\x9c\\xcbH\\xcd\\xc9\\xc9W(\\xcf/\\xcaIQ\\xcc \\x82\\r\\x00\\xbd[\\x11\\xf5'\n"
     ]
    }
   ],
   "source": [
    "input_string = \"hello world!hello world!hello world!hello world!\"\n",
    "compressed_data = compress_string(input_string)\n",
    "print(\"Compressed Data : \", compressed_data)"
   ]
  },
  {
   "cell_type": "code",
   "execution_count": 16,
   "id": "470a3992-7385-4004-89f0-7c3c60d06ca1",
   "metadata": {},
   "outputs": [
    {
     "name": "stdout",
     "output_type": "stream",
     "text": [
      "Decompressed String :  hello world!hello world!hello world!hello world!\n"
     ]
    }
   ],
   "source": [
    "decompressed_string = decompress_string(compressed_data)\n",
    "print(\"Decompressed String : \", decompressed_string)"
   ]
  },
  {
   "cell_type": "markdown",
   "id": "b29c067c-d30c-46b4-9395-ade5cba5ed1e",
   "metadata": {},
   "source": []
  },
  {
   "cell_type": "markdown",
   "id": "d3daee94-9958-4aef-8923-bfa14d206abb",
   "metadata": {},
   "source": [
    "Question 6:\n",
    "\n",
    "Please write a binary search function which searches an item in a sorted list. The\n",
    "function should return the index of element to be searched in the list."
   ]
  },
  {
   "cell_type": "code",
   "execution_count": 18,
   "id": "1332c7f7-d734-4b3a-aa3e-e9b78a5a567c",
   "metadata": {},
   "outputs": [
    {
     "name": "stdout",
     "output_type": "stream",
     "text": [
      "First occurence of  4 is present at  2\n"
     ]
    }
   ],
   "source": [
    "from bisect import bisect_left\n",
    "\n",
    "def BinarySearch(a, x):\n",
    "    i = bisect_left(a, x)\n",
    "    if i != len(a) and a[i] == x:\n",
    "        return i\n",
    "    else:\n",
    "        return -1\n",
    "    \n",
    "a = [1,2,4,3,4,5,4,8]\n",
    "x= int(4)\n",
    "res = BinarySearch(a, x)\n",
    "if res == 1:\n",
    "    print(x, \"is Absent\")\n",
    "else:\n",
    "    print(\"First occurence of \", x, \"is present at \", res)"
   ]
  },
  {
   "cell_type": "markdown",
   "id": "0cfad0a0-25ec-443c-ba7d-9ebb0fa134c3",
   "metadata": {},
   "source": []
  }
 ],
 "metadata": {
  "kernelspec": {
   "display_name": "Python 3 (ipykernel)",
   "language": "python",
   "name": "python3"
  },
  "language_info": {
   "codemirror_mode": {
    "name": "ipython",
    "version": 3
   },
   "file_extension": ".py",
   "mimetype": "text/x-python",
   "name": "python",
   "nbconvert_exporter": "python",
   "pygments_lexer": "ipython3",
   "version": "3.10.8"
  }
 },
 "nbformat": 4,
 "nbformat_minor": 5
}
