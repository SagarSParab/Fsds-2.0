{
 "cells": [
  {
   "cell_type": "markdown",
   "id": "1a9bf4b2-bdc7-40fc-b1e9-82f5c9158998",
   "metadata": {},
   "source": [
    "                          Programming Assignment no. 15"
   ]
  },
  {
   "cell_type": "markdown",
   "id": "d8bfa6ea-4c98-4460-88a3-66813f8c6cc8",
   "metadata": {},
   "source": []
  },
  {
   "cell_type": "markdown",
   "id": "97f684d9-33d2-40b5-9f79-7e4467031ffd",
   "metadata": {},
   "source": [
    "Question 1:\n",
    "\n",
    "Please write a program using generator to print the numbers which can be divisible by 5 and\n",
    "7 between 0 and n in comma separated form while n is input by console.\n",
    "\n",
    "Example:\n",
    "If the following n is given as input to the program:\n",
    "100\n",
    "\n",
    "Then, the output of the program should be:\n",
    "0,35,70"
   ]
  },
  {
   "cell_type": "code",
   "execution_count": 5,
   "id": "be5027c3-eaf7-4ca3-8b64-97cad6684a3f",
   "metadata": {},
   "outputs": [
    {
     "name": "stdout",
     "output_type": "stream",
     "text": [
      "0\n",
      "35\n",
      "70\n"
     ]
    }
   ],
   "source": [
    "# Function which will behave as generator function\n",
    "\n",
    "def gen(n):\n",
    "    for i in range(0, n):\n",
    "        if i%5 == 0 and i%7 == 0:\n",
    "            yield i\n",
    "            \n",
    "t = gen(100)\n",
    "for i in t:\n",
    "    print(i)"
   ]
  },
  {
   "cell_type": "markdown",
   "id": "5f7dfe07-3df0-46b6-9af1-72b6744af549",
   "metadata": {},
   "source": []
  },
  {
   "cell_type": "markdown",
   "id": "d52a0373-0b58-463a-ad1d-21c9fb0fd060",
   "metadata": {},
   "source": [
    "Question 2:\n",
    "\n",
    "Please write a program using generator to print the even numbers between 0 and n in comma\n",
    "separated form while n is input by console.\n",
    "\n",
    "Example:\n",
    "If the following n is given as input to the program:\n",
    "10\n",
    "\n",
    "Then, the output of the program should be:\n",
    "0,2,4,6,8,10"
   ]
  },
  {
   "cell_type": "code",
   "execution_count": 6,
   "id": "5cae26c2-c14f-4df3-bc43-3f67088938b4",
   "metadata": {},
   "outputs": [
    {
     "name": "stdout",
     "output_type": "stream",
     "text": [
      "0\n",
      "2\n",
      "4\n",
      "6\n",
      "8\n",
      "10\n"
     ]
    }
   ],
   "source": [
    "# Function which will behave as generator function\n",
    "\n",
    "def gen(n):\n",
    "    for i in range(0, n+1):\n",
    "        if i%2 == 0:\n",
    "            yield i\n",
    "            \n",
    "b = gen(10)\n",
    "for i in b:\n",
    "    print(i)"
   ]
  },
  {
   "cell_type": "markdown",
   "id": "15bc6f1d-0dcd-474d-87b6-e29d3ba8a4e9",
   "metadata": {},
   "source": []
  },
  {
   "cell_type": "markdown",
   "id": "700337fe-dd20-48f7-8818-facb46eb7256",
   "metadata": {},
   "source": [
    "Question 3:\n",
    "\n",
    "The Fibonacci Sequence is computed based on the following formula:\n",
    "\n",
    "f(n)=0 if n=0\n",
    "f(n)=1 if n=1\n",
    "f(n)=f(n-1)+f(n-2) if n&gt;1\n",
    "\n",
    "Please write a program using list comprehension to print the Fibonacci Sequence in comma\n",
    "separated form with a given n input by console.\n",
    "\n",
    "Example:\n",
    "If the following n is given as input to the program:\n",
    "7\n",
    "\n",
    "Then, the output of the program should be:\n",
    "0,1,1,2,3,5,8,13"
   ]
  },
  {
   "cell_type": "code",
   "execution_count": 7,
   "id": "f024cb96-8108-46af-8d00-3dc480a3ed6a",
   "metadata": {},
   "outputs": [
    {
     "name": "stdin",
     "output_type": "stream",
     "text": [
      "Enter a number :  7\n"
     ]
    },
    {
     "name": "stdout",
     "output_type": "stream",
     "text": [
      "0,1,1,2,3,5,8,13\n"
     ]
    }
   ],
   "source": [
    "def fib(n):\n",
    "    if n == 0:\n",
    "        return 0\n",
    "    elif n == 1:\n",
    "        return 1\n",
    "    else:\n",
    "        return fib(n-1) + fib(n-2)\n",
    "    \n",
    "n = int(input(\"Enter a number : \"))\n",
    "values = [str(fib(x)) for x in range(0, n+1)]\n",
    "print(\",\".join(values))"
   ]
  },
  {
   "cell_type": "markdown",
   "id": "a8630a71-06bc-439d-9b56-5411db4416a7",
   "metadata": {},
   "source": []
  },
  {
   "cell_type": "markdown",
   "id": "9e954937-c7f8-4d0b-8925-8ac446cb38d3",
   "metadata": {},
   "source": [
    "Question 4:\n",
    "\n",
    "Assuming that we have some email addresses in the &quot;username@companyname.com&quot; format,\n",
    "please write program to print the user name of a given email address. Both user names and\n",
    "company names are composed of letters only.\n",
    "\n",
    "Example:\n",
    "If the following email address is given as input to the program:\n",
    "john@google.com\n",
    "\n",
    "Then, the output of the program should be:\n",
    "john"
   ]
  },
  {
   "cell_type": "code",
   "execution_count": 8,
   "id": "4ce58d65-91a3-4d31-8169-1ee4f822fee3",
   "metadata": {},
   "outputs": [
    {
     "name": "stdout",
     "output_type": "stream",
     "text": [
      "john\n"
     ]
    }
   ],
   "source": [
    "def username(email):\n",
    "    username = email.split('@')[0]\n",
    "    print(username)\n",
    "    \n",
    "# Calling the function\n",
    "username('john@google.com')"
   ]
  },
  {
   "cell_type": "markdown",
   "id": "4cc3f98d-0005-4beb-b980-e868a073f9c3",
   "metadata": {},
   "source": []
  },
  {
   "cell_type": "markdown",
   "id": "cf1a24ee-fc79-402f-b832-5d258c1f6bb4",
   "metadata": {},
   "source": [
    "Question 5:\n",
    "\n",
    "Define a class named Shape and its subclass Square. The Square class has an init function\n",
    "which takes a length as argument. Both classes have a area function which can print the area\n",
    "of the shape where Shape&#39;s area is 0 by default."
   ]
  },
  {
   "cell_type": "code",
   "execution_count": 9,
   "id": "aada3196-64bb-4f30-af8b-155410cc1f3a",
   "metadata": {},
   "outputs": [],
   "source": [
    "# class Shape\n",
    "class Shape:\n",
    "    \n",
    "    # area function\n",
    "    def Area(self):\n",
    "        return 0\n",
    "    \n",
    "# Class Square inheriting Shape \n",
    "class Square(Shape):\n",
    "    \n",
    "    def __init__(self, length):\n",
    "        self.length = length\n",
    "        \n",
    "    def Area(self):\n",
    "        return self.length ** 2\n"
   ]
  },
  {
   "cell_type": "code",
   "execution_count": 10,
   "id": "4354a679-74d4-43f7-9b14-edfd3d3b35d2",
   "metadata": {},
   "outputs": [],
   "source": [
    "sh = Shape()\n",
    "sq = Square(length = 11)"
   ]
  },
  {
   "cell_type": "code",
   "execution_count": 11,
   "id": "f5678d5f-46da-49ee-bb92-dfdb4f490c68",
   "metadata": {},
   "outputs": [
    {
     "name": "stdout",
     "output_type": "stream",
     "text": [
      "Area of Shape :  0\n",
      "Area of Square :  121\n"
     ]
    }
   ],
   "source": [
    "print('Area of Shape : ', sh.Area())\n",
    "print('Area of Square : ', sq.Area())"
   ]
  },
  {
   "cell_type": "markdown",
   "id": "5ea0a73e-df6a-4aaf-96ef-48f73fdeb8f6",
   "metadata": {},
   "source": []
  }
 ],
 "metadata": {
  "kernelspec": {
   "display_name": "Python 3 (ipykernel)",
   "language": "python",
   "name": "python3"
  },
  "language_info": {
   "codemirror_mode": {
    "name": "ipython",
    "version": 3
   },
   "file_extension": ".py",
   "mimetype": "text/x-python",
   "name": "python",
   "nbconvert_exporter": "python",
   "pygments_lexer": "ipython3",
   "version": "3.10.8"
  }
 },
 "nbformat": 4,
 "nbformat_minor": 5
}
