{
 "cells": [
  {
   "cell_type": "markdown",
   "id": "63de2c38-a83c-4a59-b41a-f1f42172ea20",
   "metadata": {},
   "source": [
    "                                  Programming Assignment no. 17"
   ]
  },
  {
   "cell_type": "markdown",
   "id": "1d191d1a-6ad4-4131-99f0-4d463c7bf456",
   "metadata": {},
   "source": []
  },
  {
   "cell_type": "markdown",
   "id": "9a76138e-c37e-48fc-b9ba-48aa5d37cbe2",
   "metadata": {},
   "source": [
    "Question 1 :\n",
    "\n",
    "Create a function that takes three arguments a, b, c and returns the sum of the\n",
    "numbers that are evenly divided by c from the range a, b inclusive.\n",
    "\n",
    "Examples\n",
    "evenly_divisible(1, 10, 20) ➞ 0\n",
    "\n",
    "No number between 1 and 10 can be evenly divided by 20.\n",
    "\n",
    "evenly_divisible(1, 10, 2) ➞ 30\n",
    "\n",
    "2 + 4 + 6 + 8 + 10 = 30\n",
    "\n",
    "evenly_divisible(1, 10, 3) ➞ 18\n",
    "\n",
    "3 + 6 + 9 = 18"
   ]
  },
  {
   "cell_type": "code",
   "execution_count": 1,
   "id": "052bc739-2c53-436e-9f61-efb9cddc7fda",
   "metadata": {},
   "outputs": [
    {
     "name": "stdout",
     "output_type": "stream",
     "text": [
      "0\n",
      "30\n",
      "18\n"
     ]
    }
   ],
   "source": [
    "def evenly_divisible(a, b, c):\n",
    "    \n",
    "    summ = sum([i for i in range(a, b+1) if i%c == 0])\n",
    "    \n",
    "    return summ\n",
    "\n",
    "print(evenly_divisible(1, 10, 20))\n",
    "print(evenly_divisible(1, 10, 2))\n",
    "print(evenly_divisible(1, 10, 3))\n"
   ]
  },
  {
   "cell_type": "markdown",
   "id": "83f8d3e5-0487-41a4-9d42-5724ec4153ba",
   "metadata": {},
   "source": []
  },
  {
   "cell_type": "markdown",
   "id": "9da896c4-6509-42d4-954e-e0d48e938241",
   "metadata": {},
   "source": [
    "Question 2 :\n",
    "\n",
    "Create a function that returns True if a given inequality expression is correct and\n",
    "False otherwise.\n",
    "\n",
    "Examples\n",
    "\n",
    "correct_signs(&quot;3 &lt; 7 &lt; 11&quot;) ➞ True\n",
    "\n",
    "correct_signs(&quot;13 &gt; 44 &gt; 33 &gt; 1&quot;) ➞ False\n",
    "\n",
    "correct_signs(&quot;1 &lt; 2 &lt; 6 &lt; 9 &gt; 3&quot;) ➞ True"
   ]
  },
  {
   "cell_type": "code",
   "execution_count": 2,
   "id": "8fb6add4-f197-4e62-9fa2-46d28ba211f6",
   "metadata": {},
   "outputs": [
    {
     "name": "stdout",
     "output_type": "stream",
     "text": [
      "True\n",
      "True\n",
      "True\n"
     ]
    }
   ],
   "source": [
    "# Function which will gives output about the inequality expressions\n",
    "\n",
    "def correct_signs(exp):\n",
    "    \n",
    "    return bool(exp)\n",
    "\n",
    "print(correct_signs(\"3 < 7 < 11\"))\n",
    "\n",
    "print(correct_signs(\"13 > 44 > 33\"))\n",
    "\n",
    "print(correct_signs(\"1 < 2 < 6 < 9 > 3\"))"
   ]
  },
  {
   "cell_type": "markdown",
   "id": "8239fdb7-69c4-472e-8714-38a95b13bf2d",
   "metadata": {},
   "source": []
  },
  {
   "cell_type": "markdown",
   "id": "4f26abc4-1052-485d-9a4e-83848242784e",
   "metadata": {},
   "source": [
    "Question 3 :\n",
    "\n",
    "Create a function that replaces all the vowels in a string with a specified character.\n",
    "\n",
    "Examples\n",
    "\n",
    "replace_vowels(&quot;the aardvark&quot;, &quot;#&quot;) ➞ &quot;th# ##rdv#rk&quot;\n",
    "\n",
    "replace_vowels(&quot;minnie mouse&quot;, &quot;?&quot;) ➞ &quot;m?nn?? m??s?&quot;\n",
    "\n",
    "replace_vowels(&quot;shakespeare&quot;, &quot;*&quot;) ➞ &quot;sh*k*sp**r*&quot;"
   ]
  },
  {
   "cell_type": "code",
   "execution_count": 19,
   "id": "f0c70974-c902-4e34-aa65-2cd3c26c287d",
   "metadata": {},
   "outputs": [
    {
     "name": "stdout",
     "output_type": "stream",
     "text": [
      "th# ##rdv#rk\n",
      "m?nn?? m??s?\n",
      "sh*k*sp**r*\n"
     ]
    }
   ],
   "source": [
    "# Program to replace the vowels from the string\n",
    "\n",
    "def replace_vowels(string, symbol):\n",
    "    vowels = 'AEIOUaeiou'\n",
    "    \n",
    "    for ele in vowels:\n",
    "           \n",
    "        string = string.replace(ele, symbol)\n",
    "            \n",
    "    return string\n",
    "\n",
    "print(replace_vowels(\"the aardvark\", \"#\"))\n",
    "\n",
    "print(replace_vowels(\"minnie mouse\", \"?\"))\n",
    "\n",
    "print(replace_vowels(\"shakespeare\", \"*\"))"
   ]
  },
  {
   "cell_type": "code",
   "execution_count": 8,
   "id": "3e7ac11d-5d28-4670-ac27-7c5d1ea685ab",
   "metadata": {},
   "outputs": [
    {
     "name": "stdout",
     "output_type": "stream",
     "text": [
      "shak*sp*ar*\n"
     ]
    }
   ],
   "source": [
    "print(replace_vowels(\"shakespeare\", \"*\"))"
   ]
  },
  {
   "cell_type": "markdown",
   "id": "bcb7e793-1eaa-4820-834e-7880b6786ecd",
   "metadata": {},
   "source": []
  },
  {
   "cell_type": "markdown",
   "id": "2f3b37c3-26af-4827-88c8-4eeadb07d39a",
   "metadata": {},
   "source": [
    "Question 4 :\n",
    "\n",
    "Write a function that calculates the factorial of a number recursively.\n",
    "\n",
    "Examples\n",
    "\n",
    "factorial(5) ➞ 120\n",
    "factorial(3) ➞ 6\n",
    "factorial(1) ➞ 1\n",
    "factorial(0) ➞ 1"
   ]
  },
  {
   "cell_type": "code",
   "execution_count": 20,
   "id": "acc42227-f263-45b6-94ad-2cccecb894ea",
   "metadata": {},
   "outputs": [
    {
     "name": "stdout",
     "output_type": "stream",
     "text": [
      "120\n",
      "6\n",
      "1\n",
      "1\n"
     ]
    }
   ],
   "source": [
    "def factorial(n):\n",
    "    if n == 0:\n",
    "        return 1\n",
    "    return n * factorial(n - 1)\n",
    "\n",
    "print(factorial(5))\n",
    "print(factorial(3))\n",
    "print(factorial(1))\n",
    "print(factorial(0))"
   ]
  },
  {
   "cell_type": "markdown",
   "id": "a6f034ec-0274-46ab-99e5-6fb176f0d99c",
   "metadata": {},
   "source": []
  },
  {
   "cell_type": "markdown",
   "id": "da4c4b88-420f-4ccc-a064-1b5b83adefe5",
   "metadata": {},
   "source": [
    "Question 5 :\n",
    "\n",
    "Hamming distance is the number of characters that differ between two strings.\n",
    "\n",
    "To illustrate:\n",
    "\n",
    "String1: &quot;abcbba&quot;\n",
    "\n",
    "String2: &quot;abcbda&quot;\n",
    "\n",
    "Hamming Distance: 1 - &quot;b&quot; vs. &quot;d&quot; is the only difference.\n",
    "\n",
    "Create a function that computes the hamming distance between two strings.\n",
    "\n",
    "Examples\n",
    "\n",
    "hamming_distance(&quot;abcde&quot;, &quot;bcdef&quot;) ➞ 5\n",
    "\n",
    "hamming_distance(&quot;abcde&quot;, &quot;abcde&quot;) ➞ 0\n",
    "\n",
    "hamming_distance(&quot;strong&quot;, &quot;strung&quot;) ➞ 1"
   ]
  },
  {
   "cell_type": "code",
   "execution_count": 21,
   "id": "64228cc9-c152-48a2-9bf8-acf798861b05",
   "metadata": {},
   "outputs": [
    {
     "name": "stdout",
     "output_type": "stream",
     "text": [
      "5\n",
      "0\n",
      "1\n"
     ]
    }
   ],
   "source": [
    "def Hamming(str1, str2):\n",
    "    i = 0\n",
    "    count = 0\n",
    "    \n",
    "    while (i < len(str1)):\n",
    "        if (str1[i] != str2[i]):\n",
    "            count += 1\n",
    "        i += 1\n",
    "    return count\n",
    "\n",
    "print(Hamming(\"abcde\", \"bcdef\"))\n",
    "\n",
    "print(Hamming(\"abcde\", \"abcde\"))\n",
    "\n",
    "print(Hamming(\"strong\", \"strung\"))"
   ]
  },
  {
   "cell_type": "markdown",
   "id": "ce9a77ff-894d-4e75-8377-7b269d009724",
   "metadata": {},
   "source": []
  }
 ],
 "metadata": {
  "kernelspec": {
   "display_name": "Python 3 (ipykernel)",
   "language": "python",
   "name": "python3"
  },
  "language_info": {
   "codemirror_mode": {
    "name": "ipython",
    "version": 3
   },
   "file_extension": ".py",
   "mimetype": "text/x-python",
   "name": "python",
   "nbconvert_exporter": "python",
   "pygments_lexer": "ipython3",
   "version": "3.10.8"
  }
 },
 "nbformat": 4,
 "nbformat_minor": 5
}
