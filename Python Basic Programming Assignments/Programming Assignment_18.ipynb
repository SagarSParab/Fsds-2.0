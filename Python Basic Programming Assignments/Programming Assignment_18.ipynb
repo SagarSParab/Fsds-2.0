{
 "cells": [
  {
   "cell_type": "markdown",
   "id": "7ca745a0-1563-42b4-8d0e-93e1fb095cb6",
   "metadata": {},
   "source": [
    "                                 Programming Assignment no. 18"
   ]
  },
  {
   "cell_type": "markdown",
   "id": "0a719147-7e8f-4ce5-a3e3-e23e5502fd14",
   "metadata": {},
   "source": []
  },
  {
   "cell_type": "markdown",
   "id": "4ed55aaa-e7a9-4c86-89e3-2982e203e6a8",
   "metadata": {},
   "source": [
    "Question 1 :\n",
    "\n",
    "Create a function that takes a list of non-negative integers and strings and return a new list\n",
    "without the strings.\n",
    "\n",
    "Examples\n",
    "\n",
    "filter_list([1, 2, &quot;a&quot;, &quot;b&quot;]) ➞ [1, 2]\n",
    "\n",
    "filter_list([1, &quot;a&quot;, &quot;b&quot;, 0, 15]) ➞ [1, 0, 15]\n",
    "\n",
    "filter_list([1, 2, &quot;aasf&quot;, &quot;1&quot;, &quot;123&quot;, 123]) ➞ [1, 2, 123]"
   ]
  },
  {
   "cell_type": "code",
   "execution_count": 6,
   "id": "036f6de5-e704-4699-ae6a-b9718f4bd31d",
   "metadata": {},
   "outputs": [
    {
     "name": "stdout",
     "output_type": "stream",
     "text": [
      "[1, 2]\n"
     ]
    }
   ],
   "source": [
    "lst = [1,2,\"a\",\"b\"]\n",
    "\n",
    "def filter_list(lst):\n",
    "    new_list = []\n",
    "    for x in lst:\n",
    "        if type(x) == int:\n",
    "            new_list.append(x)\n",
    "    return new_list\n",
    "\n",
    "\n",
    "print(filter_list(lst))"
   ]
  },
  {
   "cell_type": "code",
   "execution_count": 9,
   "id": "3158d557-a684-40df-9394-36699ad2fdc4",
   "metadata": {},
   "outputs": [
    {
     "name": "stdout",
     "output_type": "stream",
     "text": [
      "[1, 0, 15]\n"
     ]
    }
   ],
   "source": [
    "lst = [1, \"a\", \"b\", 0, 15]\n",
    "print(filter_list(lst))"
   ]
  },
  {
   "cell_type": "code",
   "execution_count": 8,
   "id": "854a4d1e-a2e4-4605-897e-af463fc7d74a",
   "metadata": {},
   "outputs": [
    {
     "name": "stdout",
     "output_type": "stream",
     "text": [
      "[1, 2, 123]\n"
     ]
    }
   ],
   "source": [
    "lst = [1, 2, \"aasf\",  \"1\", \"123\", 123]\n",
    "print(filter_list(lst))"
   ]
  },
  {
   "cell_type": "markdown",
   "id": "e441dbd6-1442-488a-aae6-514eddc3acaa",
   "metadata": {},
   "source": []
  },
  {
   "cell_type": "markdown",
   "id": "37ace63f-8f0a-42b4-a221-25ff8beaaf24",
   "metadata": {},
   "source": [
    "Question 2 :\n",
    "\n",
    "The &quot;Reverser&quot; takes a string as input and returns that string in reverse order, with the\n",
    "opposite case.\n",
    "\n",
    "Examples\n",
    "\n",
    "reverse(&quot;Hello World&quot;) ➞ &quot;DLROw OLLEh&quot;\n",
    "\n",
    "reverse(&quot;ReVeRsE&quot;) ➞ &quot;eSrEvEr&quot;\n",
    "\n",
    "reverse(&quot;Radar&quot;) ➞ &quot;RADAr&quot;"
   ]
  },
  {
   "cell_type": "code",
   "execution_count": 38,
   "id": "63ad7453-1d3e-41e8-9f2c-7ae466bad6b4",
   "metadata": {},
   "outputs": [],
   "source": [
    "def reverse(str):\n",
    "    str = str[::-1]\n",
    "    return str.swapcase()\n",
    "    "
   ]
  },
  {
   "cell_type": "code",
   "execution_count": 39,
   "id": "c3aeaa8e-7fbc-4da5-a50e-1ac333865073",
   "metadata": {},
   "outputs": [
    {
     "data": {
      "text/plain": [
       "'DLROw OLLEh'"
      ]
     },
     "execution_count": 39,
     "metadata": {},
     "output_type": "execute_result"
    }
   ],
   "source": [
    "reverse(\"Hello World\")"
   ]
  },
  {
   "cell_type": "code",
   "execution_count": 40,
   "id": "88c652ad-88d1-47bf-937c-544d523cfb1c",
   "metadata": {},
   "outputs": [
    {
     "data": {
      "text/plain": [
       "'eSrEvEr'"
      ]
     },
     "execution_count": 40,
     "metadata": {},
     "output_type": "execute_result"
    }
   ],
   "source": [
    "reverse(\"ReVeRsE\")"
   ]
  },
  {
   "cell_type": "code",
   "execution_count": 41,
   "id": "f337a03b-d81b-415c-8cb9-8e39734f67c3",
   "metadata": {},
   "outputs": [
    {
     "data": {
      "text/plain": [
       "'Radar'"
      ]
     },
     "execution_count": 41,
     "metadata": {},
     "output_type": "execute_result"
    }
   ],
   "source": [
    "reverse(\"RADAr\")"
   ]
  },
  {
   "cell_type": "markdown",
   "id": "e9fef68b-d5da-4984-b447-2327f3d774bf",
   "metadata": {},
   "source": []
  },
  {
   "cell_type": "markdown",
   "id": "8243486c-46a8-4226-8c2b-15c0b01c65b7",
   "metadata": {},
   "source": [
    "Question 3 :\n",
    "\n",
    "You can assign variables from lists like this:\n",
    "\n",
    "lst = [1, 2, 3, 4, 5, 6]\n",
    "\n",
    "first = lst[0]\n",
    "\n",
    "middle = lst[1:-1]\n",
    "\n",
    "last = lst[-1]\n",
    "print(first) ➞ outputs 1\n",
    "\n",
    "print(middle) ➞ outputs [2, 3, 4, 5]\n",
    "\n",
    "print(last) ➞ outputs 6\n",
    "\n",
    "With Python 3, you can assign variables from lists in a much more succinct way. Create\n",
    "variables first, middle and last from the given list using destructuring assignment\n",
    "(check the Resources tab for some examples), where:\n",
    "\n",
    "first ➞ 1\n",
    "\n",
    "middle ➞ [2, 3, 4, 5]\n",
    "\n",
    "last ➞ 6\n",
    "\n",
    "Your task is to unpack the list writeyourcodehere into three variables, being first,\n",
    "middle, and last, with middle being everything in between the first and last element. Then\n",
    "print all three variables."
   ]
  },
  {
   "cell_type": "code",
   "execution_count": 17,
   "id": "b4f7079a-c39b-4c21-9f93-2cdb5f12c9c4",
   "metadata": {},
   "outputs": [],
   "source": [
    "lst = [1, 2, 3, 4, 5, 6]\n",
    "\n",
    "first, *middle, last  = lst"
   ]
  },
  {
   "cell_type": "code",
   "execution_count": 18,
   "id": "4262714b-2fa2-4d44-ae9c-56df2475e463",
   "metadata": {},
   "outputs": [
    {
     "data": {
      "text/plain": [
       "1"
      ]
     },
     "execution_count": 18,
     "metadata": {},
     "output_type": "execute_result"
    }
   ],
   "source": [
    "first"
   ]
  },
  {
   "cell_type": "code",
   "execution_count": 19,
   "id": "bd34865e-d685-4e94-a684-0040a76cdae2",
   "metadata": {},
   "outputs": [
    {
     "data": {
      "text/plain": [
       "[2, 3, 4, 5]"
      ]
     },
     "execution_count": 19,
     "metadata": {},
     "output_type": "execute_result"
    }
   ],
   "source": [
    "middle"
   ]
  },
  {
   "cell_type": "code",
   "execution_count": 20,
   "id": "cc45910f-a417-473b-98a9-e5b25841bde8",
   "metadata": {},
   "outputs": [
    {
     "data": {
      "text/plain": [
       "6"
      ]
     },
     "execution_count": 20,
     "metadata": {},
     "output_type": "execute_result"
    }
   ],
   "source": [
    "last"
   ]
  },
  {
   "cell_type": "code",
   "execution_count": null,
   "id": "d972c48b-8d29-4288-a44b-c1a4f2698103",
   "metadata": {},
   "outputs": [],
   "source": []
  },
  {
   "cell_type": "markdown",
   "id": "72e88453-89d6-40b3-bc2c-b14071f2ab5d",
   "metadata": {},
   "source": [
    "Question 4 :\n",
    "\n",
    "Write a function that calculates the factorial of a number recursively.\n",
    "\n",
    "Examples\n",
    "\n",
    "factorial(5) ➞ 120\n",
    "factorial(3) ➞ 6\n",
    "factorial(1) ➞ 1\n",
    "factorial(0) ➞ 1"
   ]
  },
  {
   "cell_type": "code",
   "execution_count": 30,
   "id": "d8bddbe9-1fec-4cc8-a868-19cf7fec921d",
   "metadata": {},
   "outputs": [
    {
     "data": {
      "text/plain": [
       "120"
      ]
     },
     "execution_count": 30,
     "metadata": {},
     "output_type": "execute_result"
    }
   ],
   "source": [
    " # Function that calculates the factorial of a number using recursion\n",
    "    \n",
    "def factorial(n):\n",
    "    if n == 0:\n",
    "        return 1\n",
    "    else:\n",
    "        mul = n * factorial(n - 1)\n",
    "        return mul\n",
    "    \n",
    "factorial(5)\n"
   ]
  },
  {
   "cell_type": "code",
   "execution_count": 27,
   "id": "66d281ec-114a-4592-891f-65f5f8ceeb8b",
   "metadata": {},
   "outputs": [
    {
     "data": {
      "text/plain": [
       "6"
      ]
     },
     "execution_count": 27,
     "metadata": {},
     "output_type": "execute_result"
    }
   ],
   "source": [
    "(factorial(3))"
   ]
  },
  {
   "cell_type": "code",
   "execution_count": 28,
   "id": "1abbcbc4-e754-4b47-aed0-752f466d3a98",
   "metadata": {},
   "outputs": [
    {
     "data": {
      "text/plain": [
       "1"
      ]
     },
     "execution_count": 28,
     "metadata": {},
     "output_type": "execute_result"
    }
   ],
   "source": [
    "factorial(1)"
   ]
  },
  {
   "cell_type": "code",
   "execution_count": 31,
   "id": "bc97aa1e-e446-420d-8743-5ad37a56599e",
   "metadata": {},
   "outputs": [
    {
     "data": {
      "text/plain": [
       "1"
      ]
     },
     "execution_count": 31,
     "metadata": {},
     "output_type": "execute_result"
    }
   ],
   "source": [
    "factorial(0)"
   ]
  },
  {
   "cell_type": "markdown",
   "id": "4dded1ce-6789-4afc-919a-159e1f78170e",
   "metadata": {},
   "source": []
  },
  {
   "cell_type": "markdown",
   "id": "a6e911e3-0cb1-4a1b-b8ae-2cf77e443e7c",
   "metadata": {},
   "source": [
    "Question 5 :\n",
    "\n",
    "Write a function that moves all elements of one type to the end of the list.\n",
    "\n",
    "Examples\n",
    "\n",
    "move_to_end([1, 3, 2, 4, 4, 1], 1) ➞ [3, 2, 4, 4, 1, 1]\n",
    "\n",
    "#Move all the 1s to the end of the array.\n",
    "\n",
    "move_to_end([7, 8, 9, 1, 2, 3, 4], 9) ➞ [7, 8, 1, 2, 3, 4, 9]\n",
    "\n",
    "move_to_end([&quot;a&quot;, &quot;a&quot;, &quot;a&quot;, &quot;b&quot;], &quot;a&quot;) ➞ [&quot;b&quot;, &quot;a&quot;, &quot;a&quot;, &quot;a&quot;]"
   ]
  },
  {
   "cell_type": "code",
   "execution_count": 47,
   "id": "d930a11b-fae6-4188-a954-ef3670b0c992",
   "metadata": {},
   "outputs": [],
   "source": [
    "# Program to move the one kind of data into end of list\n",
    "\n",
    "def move_to_end(lst, target):\n",
    "    # Remove element from list\n",
    "    for _ in list:\n",
    "        lst.remove(target)\n",
    "        lst.append(target)\n",
    "        \n",
    "    return lst\n"
   ]
  },
  {
   "cell_type": "code",
   "execution_count": 48,
   "id": "edae2221-39fe-4f0f-9cec-89709cc2cf99",
   "metadata": {},
   "outputs": [
    {
     "data": {
      "text/plain": [
       "[3, 2, 4, 4, 1, 1]"
      ]
     },
     "execution_count": 48,
     "metadata": {},
     "output_type": "execute_result"
    }
   ],
   "source": [
    "move_to_end([1,3,2,4,4,1], 1)"
   ]
  },
  {
   "cell_type": "code",
   "execution_count": 49,
   "id": "0dabad63-7c27-4ca7-8369-57d9ec435566",
   "metadata": {},
   "outputs": [
    {
     "data": {
      "text/plain": [
       "[7, 8, 1, 2, 3, 4, 9]"
      ]
     },
     "execution_count": 49,
     "metadata": {},
     "output_type": "execute_result"
    }
   ],
   "source": [
    "move_to_end([7,8,9,1,2,3,4], 9)"
   ]
  },
  {
   "cell_type": "code",
   "execution_count": 50,
   "id": "751a2c7b-ceab-4c7e-ac56-0a20d10b78d8",
   "metadata": {},
   "outputs": [
    {
     "data": {
      "text/plain": [
       "['b', 'a', 'a', 'a']"
      ]
     },
     "execution_count": 50,
     "metadata": {},
     "output_type": "execute_result"
    }
   ],
   "source": [
    "move_to_end([\"a\",\"a\",\"a\",\"b\"], \"a\")"
   ]
  },
  {
   "cell_type": "markdown",
   "id": "98eab86b-e12b-4a69-91a2-1bb0eb8c9a44",
   "metadata": {},
   "source": []
  }
 ],
 "metadata": {
  "kernelspec": {
   "display_name": "Python 3 (ipykernel)",
   "language": "python",
   "name": "python3"
  },
  "language_info": {
   "codemirror_mode": {
    "name": "ipython",
    "version": 3
   },
   "file_extension": ".py",
   "mimetype": "text/x-python",
   "name": "python",
   "nbconvert_exporter": "python",
   "pygments_lexer": "ipython3",
   "version": "3.10.8"
  }
 },
 "nbformat": 4,
 "nbformat_minor": 5
}
