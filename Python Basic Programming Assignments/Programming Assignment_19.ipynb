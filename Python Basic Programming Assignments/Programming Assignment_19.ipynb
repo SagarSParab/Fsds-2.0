{
 "cells": [
  {
   "cell_type": "markdown",
   "id": "36c6face-09da-4a7a-b86b-b6eb46718d79",
   "metadata": {},
   "source": [
    "                                   Programming Assignment no. 19"
   ]
  },
  {
   "cell_type": "markdown",
   "id": "1176acf0-c720-47eb-8b03-3ca1c5c6cc72",
   "metadata": {},
   "source": []
  },
  {
   "cell_type": "markdown",
   "id": "e4ad37a4-b674-47c1-9f7f-c59cbe19d481",
   "metadata": {},
   "source": [
    "Question 1:\n",
    "\n",
    "Create a function that takes a string and returns a string in which each character is repeated\n",
    "once.\n",
    "\n",
    "Examples\n",
    "\n",
    "double_char(&quot;String&quot;) ➞ &quot;SSttrriinngg&quot;\n",
    "\n",
    "double_char(&quot;Hello World!&quot;) ➞ &quot;HHeelllloo WWoorrlldd!!&quot;\n",
    "\n",
    "double_char(&quot;1234!_ &quot;) ➞ &quot;11223344!!__ &quot;"
   ]
  },
  {
   "cell_type": "code",
   "execution_count": 1,
   "id": "51ba2386-0244-4520-b62c-6bba9792f6a5",
   "metadata": {},
   "outputs": [],
   "source": [
    "# program to repeat character\n",
    "\n",
    "def repeat_char(string):\n",
    "    temp = []\n",
    "    for s in string:\n",
    "        temp.append(2*s)\n",
    "        \n",
    "    return ''.join(temp)\n"
   ]
  },
  {
   "cell_type": "code",
   "execution_count": 2,
   "id": "550cddf4-0396-4024-90cc-8cba52c5a2bb",
   "metadata": {},
   "outputs": [
    {
     "data": {
      "text/plain": [
       "'SSttrriinngg'"
      ]
     },
     "execution_count": 2,
     "metadata": {},
     "output_type": "execute_result"
    }
   ],
   "source": [
    "repeat_char(\"String\")"
   ]
  },
  {
   "cell_type": "code",
   "execution_count": 3,
   "id": "d1d7d9ac-10f3-40a8-8748-0b252459ac87",
   "metadata": {},
   "outputs": [
    {
     "data": {
      "text/plain": [
       "'HHeelllloo  WWoorrlldd!!'"
      ]
     },
     "execution_count": 3,
     "metadata": {},
     "output_type": "execute_result"
    }
   ],
   "source": [
    "repeat_char(\"Hello World!\")"
   ]
  },
  {
   "cell_type": "code",
   "execution_count": 4,
   "id": "29486fc2-a26b-4768-8a2d-6fe3ccd30ca1",
   "metadata": {},
   "outputs": [
    {
     "data": {
      "text/plain": [
       "'11223344!!__'"
      ]
     },
     "execution_count": 4,
     "metadata": {},
     "output_type": "execute_result"
    }
   ],
   "source": [
    "repeat_char(\"1234!_\")"
   ]
  },
  {
   "cell_type": "markdown",
   "id": "5ceebd9d-b41e-4195-949b-53f7b97e0e9a",
   "metadata": {},
   "source": []
  },
  {
   "cell_type": "markdown",
   "id": "b4dbeca1-e97b-4639-9b65-f85fef978a58",
   "metadata": {},
   "source": [
    "Question 2 :\n",
    "\n",
    "Create a function that reverses a boolean value and returns the string &quot;boolean expected&quot;\n",
    "if another variable type is given.\n",
    "\n",
    "Examples\n",
    "\n",
    "reverse(True) ➞ False\n",
    "\n",
    "reverse(False) ➞ True\n",
    "\n",
    "reverse(0) ➞ &quot;boolean expected&quot;\n",
    "\n",
    "reverse(None) ➞ &quot;boolean expected&quot;"
   ]
  },
  {
   "cell_type": "code",
   "execution_count": 5,
   "id": "a47e3196-6d84-4e95-beb3-bea4942e459c",
   "metadata": {},
   "outputs": [],
   "source": [
    "def reverse(input_):\n",
    "    if type(input_) == bool:\n",
    "        return not input_\n",
    "    else:\n",
    "        return 'Boolean Expected'\n"
   ]
  },
  {
   "cell_type": "code",
   "execution_count": 6,
   "id": "e5090992-1416-4bba-bf3e-49986589d862",
   "metadata": {},
   "outputs": [
    {
     "data": {
      "text/plain": [
       "False"
      ]
     },
     "execution_count": 6,
     "metadata": {},
     "output_type": "execute_result"
    }
   ],
   "source": [
    "reverse(True)"
   ]
  },
  {
   "cell_type": "code",
   "execution_count": 7,
   "id": "36dd3046-2b64-4169-8d3f-f44d3f76095a",
   "metadata": {},
   "outputs": [
    {
     "data": {
      "text/plain": [
       "True"
      ]
     },
     "execution_count": 7,
     "metadata": {},
     "output_type": "execute_result"
    }
   ],
   "source": [
    "reverse(False)"
   ]
  },
  {
   "cell_type": "code",
   "execution_count": 8,
   "id": "536e59eb-14d6-43cd-81e5-f60ea89ed315",
   "metadata": {},
   "outputs": [
    {
     "data": {
      "text/plain": [
       "'Boolean Expected'"
      ]
     },
     "execution_count": 8,
     "metadata": {},
     "output_type": "execute_result"
    }
   ],
   "source": [
    "reverse(0)"
   ]
  },
  {
   "cell_type": "code",
   "execution_count": 9,
   "id": "9a87970c-eb71-40ba-b81a-6284691cfcf8",
   "metadata": {},
   "outputs": [
    {
     "data": {
      "text/plain": [
       "'Boolean Expected'"
      ]
     },
     "execution_count": 9,
     "metadata": {},
     "output_type": "execute_result"
    }
   ],
   "source": [
    "reverse(None)"
   ]
  },
  {
   "cell_type": "markdown",
   "id": "4595874f-2dc9-4c19-81de-8a9d1fa8c583",
   "metadata": {},
   "source": []
  },
  {
   "cell_type": "markdown",
   "id": "b0c815bc-a431-4e9a-95ad-692753282815",
   "metadata": {},
   "source": [
    "Question 3 :\n",
    "\n",
    "Create a function that returns the thickness (in meters) of a piece of paper after folding it n\n",
    "number of times. The paper starts off with a thickness of 0.5mm.\n",
    "\n",
    "Examples\n",
    "\n",
    "num_layers(1) ➞ &quot;0.001m&quot;\n",
    "#Paper folded once is 1mm (equal to 0.001m)\n",
    "\n",
    "num_layers(4) ➞ &quot;0.008m&quot;\n",
    "#Paper folded 4 times is 8mm (equal to 0.008m)\n",
    "\n",
    "num_layers(21) ➞ &quot;1048.576m&quot;\n",
    "#Paper folded 21 times is 1048576mm (equal to 1048.576m)"
   ]
  },
  {
   "cell_type": "code",
   "execution_count": 12,
   "id": "befb7328-9d28-4b77-ba13-9047e4d38b59",
   "metadata": {},
   "outputs": [],
   "source": [
    "# Program to the thickness of the folded papers\n",
    "\n",
    "def num_layers(layers):\n",
    "    thickness = 0.5 / 1000\n",
    "    thick = (2 ** layers) * thickness\n",
    "    return str(thick) + 'm'"
   ]
  },
  {
   "cell_type": "code",
   "execution_count": 15,
   "id": "6a4d5587-9255-4bd9-adb9-9caeccbf8cf2",
   "metadata": {},
   "outputs": [
    {
     "data": {
      "text/plain": [
       "'0.001m'"
      ]
     },
     "execution_count": 15,
     "metadata": {},
     "output_type": "execute_result"
    }
   ],
   "source": [
    "num_layers(1)"
   ]
  },
  {
   "cell_type": "code",
   "execution_count": 17,
   "id": "5dbe2003-1fee-47f0-9435-5b55ab72f376",
   "metadata": {},
   "outputs": [
    {
     "data": {
      "text/plain": [
       "'0.008m'"
      ]
     },
     "execution_count": 17,
     "metadata": {},
     "output_type": "execute_result"
    }
   ],
   "source": [
    "num_layers(4)"
   ]
  },
  {
   "cell_type": "code",
   "execution_count": 18,
   "id": "da4385ef-ec8f-4c4e-bd78-7aef495235e6",
   "metadata": {},
   "outputs": [
    {
     "data": {
      "text/plain": [
       "'1048.576m'"
      ]
     },
     "execution_count": 18,
     "metadata": {},
     "output_type": "execute_result"
    }
   ],
   "source": [
    "num_layers(21)"
   ]
  },
  {
   "cell_type": "markdown",
   "id": "fde9e22a-742f-4acb-9ee2-18aab9718d3a",
   "metadata": {},
   "source": []
  },
  {
   "cell_type": "markdown",
   "id": "9895054a-e267-4889-a31e-2d3730b508e4",
   "metadata": {},
   "source": [
    "Question 4 :\n",
    "\n",
    "Create a function that takes a single string as argument and returns an ordered list containing\n",
    "the indices of all capital letters in the string.\n",
    "\n",
    "Examples\n",
    "\n",
    "index_of_caps(&quot;eDaBiT&quot;) ➞ [1, 3, 5]\n",
    "\n",
    "index_of_caps(&quot;eQuINoX&quot;) ➞ [1, 3, 4, 6]\n",
    "\n",
    "index_of_caps(&quot;determine&quot;) ➞ []\n",
    "\n",
    "index_of_caps(&quot;STRIKE&quot;) ➞ [0, 1, 2, 3, 4, 5]\n",
    "\n",
    "index_of_caps(&quot;sUn&quot;) ➞ [1]"
   ]
  },
  {
   "cell_type": "code",
   "execution_count": 19,
   "id": "2761bb97-4a67-4938-99ba-2c97920e6fb7",
   "metadata": {},
   "outputs": [],
   "source": [
    "# Program to return the index of the indices of capital letters\n",
    "\n",
    "def index_of_caps(string):\n",
    "    letters = list(string)\n",
    "    indices = [ index for index in range(len(letters)) if letters[index].isupper()]\n",
    "    return indices\n"
   ]
  },
  {
   "cell_type": "code",
   "execution_count": 20,
   "id": "02e9a070-5cc2-4e21-ba03-39611eb97d22",
   "metadata": {},
   "outputs": [
    {
     "data": {
      "text/plain": [
       "[1, 3, 5]"
      ]
     },
     "execution_count": 20,
     "metadata": {},
     "output_type": "execute_result"
    }
   ],
   "source": [
    "index_of_caps(\"eDaBiT\")"
   ]
  },
  {
   "cell_type": "code",
   "execution_count": 21,
   "id": "828e2cbb-c914-4503-977b-9b22fc193123",
   "metadata": {},
   "outputs": [
    {
     "data": {
      "text/plain": [
       "[1, 3, 4, 6]"
      ]
     },
     "execution_count": 21,
     "metadata": {},
     "output_type": "execute_result"
    }
   ],
   "source": [
    "index_of_caps(\"eQuINoX\")"
   ]
  },
  {
   "cell_type": "code",
   "execution_count": 22,
   "id": "f4a64cbe-523e-4414-903f-0aede4d172e8",
   "metadata": {},
   "outputs": [
    {
     "data": {
      "text/plain": [
       "[]"
      ]
     },
     "execution_count": 22,
     "metadata": {},
     "output_type": "execute_result"
    }
   ],
   "source": [
    "index_of_caps(\"determine\")"
   ]
  },
  {
   "cell_type": "code",
   "execution_count": 24,
   "id": "3b8ab7a4-bd59-4ae2-b7c3-21d7eba693eb",
   "metadata": {},
   "outputs": [
    {
     "data": {
      "text/plain": [
       "[0, 1, 2, 3, 4, 5]"
      ]
     },
     "execution_count": 24,
     "metadata": {},
     "output_type": "execute_result"
    }
   ],
   "source": [
    "index_of_caps(\"STRIKE\")"
   ]
  },
  {
   "cell_type": "code",
   "execution_count": 25,
   "id": "ab966ac9-6d2d-4773-8d0d-30b0913ab9dd",
   "metadata": {},
   "outputs": [
    {
     "data": {
      "text/plain": [
       "[1]"
      ]
     },
     "execution_count": 25,
     "metadata": {},
     "output_type": "execute_result"
    }
   ],
   "source": [
    "index_of_caps(\"sUn\")"
   ]
  },
  {
   "cell_type": "markdown",
   "id": "40e757fc-140e-4b65-9a4d-2e6d070d812e",
   "metadata": {},
   "source": []
  },
  {
   "cell_type": "markdown",
   "id": "d3674449-9be9-4db4-a803-ecefabe8c323",
   "metadata": {},
   "source": [
    "Question 5 :\n",
    "\n",
    "Using list comprehensions, create a function that finds all even numbers from 1 to the given\n",
    "number.\n",
    "\n",
    "Examples\n",
    "\n",
    "find_even_nums(8) ➞ [2, 4, 6, 8]\n",
    "\n",
    "find_even_nums(4) ➞ [2, 4]\n",
    "\n",
    "find_even_nums(2) ➞ [2]"
   ]
  },
  {
   "cell_type": "code",
   "execution_count": 26,
   "id": "11e49ee1-4513-464a-8aa4-19675dc62eff",
   "metadata": {},
   "outputs": [],
   "source": [
    "# Program to find out the even numbers using list comprehension\n",
    "\n",
    "def find_even_num(n):\n",
    "    return [i for i in range(0, n) if i%2 == 0]\n"
   ]
  },
  {
   "cell_type": "code",
   "execution_count": 27,
   "id": "3c405055-3d50-4009-aeb0-58e94f6c95aa",
   "metadata": {},
   "outputs": [
    {
     "data": {
      "text/plain": [
       "[0, 2, 4, 6]"
      ]
     },
     "execution_count": 27,
     "metadata": {},
     "output_type": "execute_result"
    }
   ],
   "source": [
    "find_even_num(8)"
   ]
  },
  {
   "cell_type": "code",
   "execution_count": 28,
   "id": "170e46a5-2b34-4e53-ba5f-b54a0a35593b",
   "metadata": {},
   "outputs": [
    {
     "data": {
      "text/plain": [
       "[0, 2]"
      ]
     },
     "execution_count": 28,
     "metadata": {},
     "output_type": "execute_result"
    }
   ],
   "source": [
    "find_even_num(4)"
   ]
  },
  {
   "cell_type": "code",
   "execution_count": 29,
   "id": "49d3e4fd-eb55-4c2e-a74c-6bfda02e19c5",
   "metadata": {},
   "outputs": [
    {
     "data": {
      "text/plain": [
       "[0]"
      ]
     },
     "execution_count": 29,
     "metadata": {},
     "output_type": "execute_result"
    }
   ],
   "source": [
    "find_even_num(2)"
   ]
  },
  {
   "cell_type": "markdown",
   "id": "2ff5cdee-b1b4-4fc5-ab6a-340c90bfdcf0",
   "metadata": {},
   "source": []
  }
 ],
 "metadata": {
  "kernelspec": {
   "display_name": "Python 3 (ipykernel)",
   "language": "python",
   "name": "python3"
  },
  "language_info": {
   "codemirror_mode": {
    "name": "ipython",
    "version": 3
   },
   "file_extension": ".py",
   "mimetype": "text/x-python",
   "name": "python",
   "nbconvert_exporter": "python",
   "pygments_lexer": "ipython3",
   "version": "3.10.8"
  }
 },
 "nbformat": 4,
 "nbformat_minor": 5
}
