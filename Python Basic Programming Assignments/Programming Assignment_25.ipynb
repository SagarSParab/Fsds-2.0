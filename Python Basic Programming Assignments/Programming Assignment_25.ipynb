{
 "cells": [
  {
   "cell_type": "markdown",
   "id": "332881ac-4ff7-41ec-8b15-3d6df58f79ff",
   "metadata": {},
   "source": [
    "                                     Programming Assignment no. 25"
   ]
  },
  {
   "cell_type": "markdown",
   "id": "5a83bb1b-61f8-4b0c-9a4f-c5e6fc0f126c",
   "metadata": {},
   "source": []
  },
  {
   "cell_type": "markdown",
   "id": "042ae3fd-f608-4356-b605-f41eefe73e7f",
   "metadata": {},
   "source": [
    "Question 1 :\n",
    "Create a function that takes three integer arguments (a, b, c) and returns the amount of\n",
    "integers which are of equal value.\n",
    "\n",
    "Examples :-\n",
    "\n",
    "equal(3, 4, 3) ➞ 2\n",
    "\n",
    "equal(1, 1, 1) ➞ 3\n",
    "\n",
    "equal(3, 4, 1) ➞ 0\n",
    "\n",
    "Notes -\n",
    "Your function must return 0, 2 or 3."
   ]
  },
  {
   "cell_type": "code",
   "execution_count": 9,
   "id": "fc53a4f3-d86c-4b6d-8cce-25d10b9e0d6e",
   "metadata": {},
   "outputs": [],
   "source": [
    "def equal(a,b,c):\n",
    "    lst = [a,b,c]\n",
    "    count = 0\n",
    "    for integer in set(lst):\n",
    "        if lst.count(integer) > 1:\n",
    "            count = lst.count(integer)\n",
    "    return count \n",
    "        "
   ]
  },
  {
   "cell_type": "code",
   "execution_count": 10,
   "id": "db84e6c1-a7e7-44aa-bab3-48695a121e06",
   "metadata": {},
   "outputs": [
    {
     "data": {
      "text/plain": [
       "2"
      ]
     },
     "execution_count": 10,
     "metadata": {},
     "output_type": "execute_result"
    }
   ],
   "source": [
    "equal(3,4,3)"
   ]
  },
  {
   "cell_type": "code",
   "execution_count": 11,
   "id": "78f266f7-c7c6-4a35-9ba9-3dd921eea37a",
   "metadata": {},
   "outputs": [
    {
     "data": {
      "text/plain": [
       "3"
      ]
     },
     "execution_count": 11,
     "metadata": {},
     "output_type": "execute_result"
    }
   ],
   "source": [
    "equal(1,1,1)"
   ]
  },
  {
   "cell_type": "code",
   "execution_count": 8,
   "id": "c0f8ecc7-1aa5-4cbc-88c4-337063016725",
   "metadata": {},
   "outputs": [
    {
     "data": {
      "text/plain": [
       "0"
      ]
     },
     "execution_count": 8,
     "metadata": {},
     "output_type": "execute_result"
    }
   ],
   "source": [
    "equal(3,4,1)"
   ]
  },
  {
   "cell_type": "markdown",
   "id": "ee239506-af06-4a1f-b6cf-d0a5109b20bf",
   "metadata": {},
   "source": []
  },
  {
   "cell_type": "markdown",
   "id": "0d8cd9b6-407c-41cb-9c24-86694173014a",
   "metadata": {},
   "source": [
    "Question 2 :\n",
    "\n",
    "Write a function that converts a dictionary into a list of keys-values tuples.\n",
    "\n",
    "Examples :- \n",
    "\n",
    "dict_to_list({\n",
    "&quot;D&quot;: 1,\n",
    "&quot;B&quot;: 2,\n",
    "&quot;C&quot;: 3\n",
    "}) ➞ [(&quot;B&quot;, 2), (&quot;C&quot;, 3), (&quot;D&quot;, 1)]\n",
    "\n",
    "dict_to_list({\n",
    "&quot;likes&quot;: 2,\n",
    "&quot;dislikes&quot;: 3,\n",
    "&quot;followers&quot;: 10\n",
    "}) ➞ [(&quot;dislikes&quot;, 3), (&quot;followers&quot;, 10), (&quot;likes&quot;, 2)]\n",
    "\n",
    "Notes -\n",
    "Return the elements in the list in alphabetical order."
   ]
  },
  {
   "cell_type": "code",
   "execution_count": 17,
   "id": "2d8b63d7-f924-4eda-9d24-7dcd402ea276",
   "metadata": {},
   "outputs": [],
   "source": [
    "\n",
    "def dict_list(d):\n",
    "    return list(sorted(d.items()))\n"
   ]
  },
  {
   "cell_type": "code",
   "execution_count": 18,
   "id": "e7c30770-e1e2-4fd6-92c1-8dd781e91618",
   "metadata": {},
   "outputs": [
    {
     "data": {
      "text/plain": [
       "[('B', 2), ('C', 3), ('D', 1)]"
      ]
     },
     "execution_count": 18,
     "metadata": {},
     "output_type": "execute_result"
    }
   ],
   "source": [
    "dict_list({\"D\":1, \"B\":2, \"C\":3})"
   ]
  },
  {
   "cell_type": "code",
   "execution_count": 20,
   "id": "11f32a40-403f-4f38-bec4-88443b7eec22",
   "metadata": {},
   "outputs": [
    {
     "data": {
      "text/plain": [
       "[('dislikes', 3), ('followers', 10), ('likes', 2)]"
      ]
     },
     "execution_count": 20,
     "metadata": {},
     "output_type": "execute_result"
    }
   ],
   "source": [
    "dict_list({\"likes\": 2,\"dislikes\": 3,\"followers\": 10})"
   ]
  },
  {
   "cell_type": "markdown",
   "id": "81e235ef-3888-4150-8b5d-9f63111b3d30",
   "metadata": {},
   "source": []
  },
  {
   "cell_type": "markdown",
   "id": "315a0406-beb2-4f1d-ba12-0c60b2098b18",
   "metadata": {},
   "source": [
    "Question 3 :\n",
    "\n",
    "Write a function that creates a dictionary with each (key, value) pair being the (lower case,\n",
    "upper case) versions of a letter, respectively.\n",
    "\n",
    "Examples :-\n",
    "\n",
    "mapping([&quot;p&quot;, &quot;s&quot;]) ➞ { &quot;p&quot;: &quot;P&quot;, &quot;s&quot;: &quot;S&quot; }\n",
    "\n",
    "mapping([&quot;a&quot;, &quot;b&quot;, &quot;c&quot;]) ➞ { &quot;a&quot;: &quot;A&quot;, &quot;b&quot;: &quot;B&quot;, &quot;c&quot;: &quot;C&quot; }\n",
    "\n",
    "mapping([&quot;a&quot;, &quot;v&quot;, &quot;y&quot;, &quot;z&quot;]) ➞ { &quot;a&quot;: &quot;A&quot;, &quot;v&quot;: &quot;V&quot;, &quot;y&quot;: &quot;Y&quot;, &quot;z&quot;: &quot;Z&quot; }\n",
    "\n",
    "Notes - \n",
    "All of the letters in the input list will always be lowercase."
   ]
  },
  {
   "cell_type": "code",
   "execution_count": 21,
   "id": "5abbeab9-e71e-4a12-acb4-7b298185e7c7",
   "metadata": {},
   "outputs": [],
   "source": [
    "\n",
    "def mapping(lst):\n",
    "    return {value.lower():value.upper() for value in lst}\n"
   ]
  },
  {
   "cell_type": "code",
   "execution_count": 23,
   "id": "2c975bfd-bf4b-434c-9e88-fa26da28936c",
   "metadata": {},
   "outputs": [
    {
     "data": {
      "text/plain": [
       "{'p': 'P', 's': 'S'}"
      ]
     },
     "execution_count": 23,
     "metadata": {},
     "output_type": "execute_result"
    }
   ],
   "source": [
    "mapping(['p', 's'])"
   ]
  },
  {
   "cell_type": "code",
   "execution_count": 22,
   "id": "296f14fb-3de2-4d84-ba5b-de9a76b8b0fb",
   "metadata": {},
   "outputs": [
    {
     "data": {
      "text/plain": [
       "{'a': 'A', 'b': 'B', 'c': 'C'}"
      ]
     },
     "execution_count": 22,
     "metadata": {},
     "output_type": "execute_result"
    }
   ],
   "source": [
    "mapping([\"a\",\"b\",\"c\"])"
   ]
  },
  {
   "cell_type": "code",
   "execution_count": 24,
   "id": "2b53bef8-5667-45dd-8b80-09a78bfb7d60",
   "metadata": {},
   "outputs": [
    {
     "data": {
      "text/plain": [
       "{'a': 'A', 'v': 'V', 'y': 'Y', 'z': 'Z'}"
      ]
     },
     "execution_count": 24,
     "metadata": {},
     "output_type": "execute_result"
    }
   ],
   "source": [
    "mapping(['a', 'v', 'y', 'z'])"
   ]
  },
  {
   "cell_type": "markdown",
   "id": "e7ca385f-080b-4b66-ac0c-131bf1b976ee",
   "metadata": {},
   "source": []
  },
  {
   "cell_type": "markdown",
   "id": "063d7f3b-b447-4895-97f8-f909b1d7017e",
   "metadata": {},
   "source": [
    "Question 4 :\n",
    "\n",
    "Write a function, that replaces all vowels in a string with a specified vowel.\n",
    "\n",
    "Examples :-\n",
    "\n",
    "vow_replace(&quot;apples and bananas&quot;, &quot;u&quot;) ➞ &quot;upplus und bununus&quot\n",
    ";\n",
    "vow_replace(&quot;cheese casserole&quot;, &quot;o&quot;) ➞ &quot;chooso cossorolo&quot;\n",
    "\n",
    "vow_replace(&quot;stuffed jalapeno poppers&quot;, &quot;e&quot;) ➞ &quot;steffed jelepene peppers&quot;\n",
    "\n",
    "Notes -\n",
    "All words will be lowercase. Y is not considered a vowel."
   ]
  },
  {
   "cell_type": "code",
   "execution_count": 34,
   "id": "0fa00c12-08e1-47e2-bbb1-fa888749d377",
   "metadata": {},
   "outputs": [],
   "source": [
    "\n",
    "def vow_replace(string, vowel):\n",
    "    vowels = \"aeiouAEIOU\"\n",
    "    string1 = []\n",
    "    for s in range(len(string)):\n",
    "        if string[s] in vowels:\n",
    "            string1.append(vowel)\n",
    "        else:\n",
    "            string1.append(string[s])\n",
    "            \n",
    "    return ''.join((string1))\n"
   ]
  },
  {
   "cell_type": "code",
   "execution_count": 35,
   "id": "e9e80cf1-7157-4586-8fbf-df4ad7e289d5",
   "metadata": {},
   "outputs": [
    {
     "data": {
      "text/plain": [
       "'upplus und bununus'"
      ]
     },
     "execution_count": 35,
     "metadata": {},
     "output_type": "execute_result"
    }
   ],
   "source": [
    "vow_replace('apples and bananas', 'u')"
   ]
  },
  {
   "cell_type": "code",
   "execution_count": 36,
   "id": "4be77d5b-3506-4fc5-93e1-5bb8a1bac555",
   "metadata": {},
   "outputs": [
    {
     "data": {
      "text/plain": [
       "'steffed jelepene peppers'"
      ]
     },
     "execution_count": 36,
     "metadata": {},
     "output_type": "execute_result"
    }
   ],
   "source": [
    "vow_replace('stuffed jalapeno poppers', 'e')"
   ]
  },
  {
   "cell_type": "markdown",
   "id": "b9a91321-ae0b-4864-aa69-eeffb667e915",
   "metadata": {},
   "source": []
  },
  {
   "cell_type": "markdown",
   "id": "a0ee7e95-8c5d-40e7-bad2-7afaa3d073d0",
   "metadata": {},
   "source": [
    "Question 5 :\n",
    "\n",
    "Create a function that takes a string as input and capitalizes a letter if its ASCII code is even\n",
    "and returns its lower case version if its ASCII code is odd.\n",
    "\n",
    "Examples :-\n",
    "\n",
    "ascii_capitalize(&quot;to be or not to be!&quot;) ➞ &quot;To Be oR NoT To Be!&quot;\n",
    "\n",
    "ascii_capitalize(&quot;THE LITTLE MERMAID&quot;) ➞ &quot;THe LiTTLe meRmaiD&quot;\n",
    "\n",
    "ascii_capitalize(&quot;Oh what a beautiful morning.&quot;) ➞ &quot;oH wHaT a BeauTiFuL\n",
    "moRNiNg.&quot;"
   ]
  },
  {
   "cell_type": "code",
   "execution_count": 30,
   "id": "ab3ad0d3-02a0-4945-8b4d-babeb5235385",
   "metadata": {},
   "outputs": [],
   "source": [
    "def ascii_capitalize(s):\n",
    "    s1 = []\n",
    "    for i in range(len(s)):\n",
    "        if ord(s[i]) % 2 == 0:\n",
    "            s1.append(s[i].upper())\n",
    "        else:\n",
    "            s1.append(s[i].lower())\n",
    "            \n",
    "    return \"\".join((s1))\n"
   ]
  },
  {
   "cell_type": "code",
   "execution_count": 31,
   "id": "d69bcbd7-f13a-46ae-93cd-d67054af69cd",
   "metadata": {},
   "outputs": [
    {
     "data": {
      "text/plain": [
       "'To Be oR NoT To Be!'"
      ]
     },
     "execution_count": 31,
     "metadata": {},
     "output_type": "execute_result"
    }
   ],
   "source": [
    "ascii_capitalize('to be or not to be!')"
   ]
  },
  {
   "cell_type": "code",
   "execution_count": 32,
   "id": "89278660-5dd3-4919-b369-2520bc9b88c6",
   "metadata": {},
   "outputs": [
    {
     "data": {
      "text/plain": [
       "'THe LiTTLe meRmaiD'"
      ]
     },
     "execution_count": 32,
     "metadata": {},
     "output_type": "execute_result"
    }
   ],
   "source": [
    "ascii_capitalize('THE LITTLE MERMAID')"
   ]
  },
  {
   "cell_type": "code",
   "execution_count": 33,
   "id": "b708af84-ab63-49f4-910f-07999a1bd521",
   "metadata": {},
   "outputs": [
    {
     "data": {
      "text/plain": [
       "'oH wHaT a BeauTiFuL moRNiNg.'"
      ]
     },
     "execution_count": 33,
     "metadata": {},
     "output_type": "execute_result"
    }
   ],
   "source": [
    "ascii_capitalize('Oh what a beautiful morning.')"
   ]
  },
  {
   "cell_type": "markdown",
   "id": "7abd996b-f820-4143-b1db-74cbb7f56ac9",
   "metadata": {},
   "source": []
  }
 ],
 "metadata": {
  "kernelspec": {
   "display_name": "Python 3 (ipykernel)",
   "language": "python",
   "name": "python3"
  },
  "language_info": {
   "codemirror_mode": {
    "name": "ipython",
    "version": 3
   },
   "file_extension": ".py",
   "mimetype": "text/x-python",
   "name": "python",
   "nbconvert_exporter": "python",
   "pygments_lexer": "ipython3",
   "version": "3.10.8"
  }
 },
 "nbformat": 4,
 "nbformat_minor": 5
}
