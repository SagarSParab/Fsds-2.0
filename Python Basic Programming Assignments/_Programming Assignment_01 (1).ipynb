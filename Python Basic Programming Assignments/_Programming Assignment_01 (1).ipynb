{
 "cells": [
  {
   "cell_type": "markdown",
   "id": "6f83d9f2-4e99-4997-9701-9bba5cc497b5",
   "metadata": {},
   "source": [
    "                Programming Assignment_01"
   ]
  },
  {
   "cell_type": "markdown",
   "id": "fb84f2f5-2cca-475c-b4dc-d50de1bf3f12",
   "metadata": {},
   "source": []
  },
  {
   "cell_type": "markdown",
   "id": "2ffd08fc-0dac-40fc-8ba2-91cd5305934d",
   "metadata": {},
   "source": [
    "1. Write a Python program to print &quot;Hello Python&quot;?"
   ]
  },
  {
   "cell_type": "code",
   "execution_count": 2,
   "id": "44a9f908-2724-43b1-9db8-60451394f48a",
   "metadata": {},
   "outputs": [
    {
     "name": "stdout",
     "output_type": "stream",
     "text": [
      "Hello Python\n"
     ]
    }
   ],
   "source": [
    "word = \"Hello Python\"\n",
    "print(word)"
   ]
  },
  {
   "cell_type": "markdown",
   "id": "60f1f783-211a-4ff9-aca4-55d179d4953a",
   "metadata": {},
   "source": []
  },
  {
   "cell_type": "markdown",
   "id": "9ca64e0a-5a56-458d-bd90-c9fc2a99ca39",
   "metadata": {},
   "source": [
    "2. Write a Python program to do arithmetical operations addition and division.?"
   ]
  },
  {
   "cell_type": "code",
   "execution_count": 1,
   "id": "06e942a6-3fa0-4f10-bf7a-320eb6fd3608",
   "metadata": {},
   "outputs": [
    {
     "name": "stdin",
     "output_type": "stream",
     "text": [
      "enter a no.1:  5\n",
      "enter a no.2:  7\n"
     ]
    },
    {
     "name": "stdout",
     "output_type": "stream",
     "text": [
      "Addition of no.s 5 and 7 is :  12\n"
     ]
    }
   ],
   "source": [
    "a = int(input(\"enter a no.1: \"))\n",
    "b = int(input(\"enter a no.2: \"))\n",
    "\n",
    "# Addition\n",
    "print(\"Addition of no.s {} and {} is : \".format(a,b), a+b)\n"
   ]
  },
  {
   "cell_type": "code",
   "execution_count": 2,
   "id": "dd011b22-c617-4e70-b7b8-04133e04716a",
   "metadata": {},
   "outputs": [
    {
     "name": "stdin",
     "output_type": "stream",
     "text": [
      "enter a no.1:  6\n",
      "enter a no.2:  2\n"
     ]
    },
    {
     "name": "stdout",
     "output_type": "stream",
     "text": [
      "Division of no.s 6 and 2 is :  3.0\n"
     ]
    }
   ],
   "source": [
    "a = int(input(\"enter a no.1: \"))\n",
    "b = int(input(\"enter a no.2: \"))\n",
    "\n",
    "# Division\n",
    "print(\"Division of no.s {} and {} is : \".format(a,b), a/b)\n"
   ]
  },
  {
   "cell_type": "markdown",
   "id": "5d94945c-9b81-47a6-99d6-25a15ce1031e",
   "metadata": {},
   "source": []
  },
  {
   "cell_type": "markdown",
   "id": "d39c735c-1b12-4bf4-aa2a-6eeb9861fad0",
   "metadata": {},
   "source": [
    "3. Write a Python program to find the area of a triangle?"
   ]
  },
  {
   "cell_type": "code",
   "execution_count": 5,
   "id": "d37bb3d2-4db8-4e54-acdf-0b21defae774",
   "metadata": {},
   "outputs": [
    {
     "name": "stdin",
     "output_type": "stream",
     "text": [
      "enter a height of triangle in cm: 12\n",
      "enter a breadth of triangle in cm: 15\n"
     ]
    },
    {
     "name": "stdout",
     "output_type": "stream",
     "text": [
      "Area of triangle is 90.0 cm^2\n"
     ]
    }
   ],
   "source": [
    "height = int(input(\"enter a height of triangle in cm:\"))\n",
    "breadth = int(input(\"enter a breadth of triangle in cm:\"))\n",
    "\n",
    "Area_of_triangle = (height*breadth)/2\n",
    "\n",
    "print(\"Area of triangle is {area} cm^2\".format(area = Area_of_triangle))\n"
   ]
  },
  {
   "cell_type": "markdown",
   "id": "937b9819-8694-4eaa-98c4-82f106635572",
   "metadata": {},
   "source": []
  },
  {
   "cell_type": "markdown",
   "id": "7cffd9a3-202c-4a36-8fd3-b530e287b109",
   "metadata": {},
   "source": [
    "4. Write a Python program to swap two variables?"
   ]
  },
  {
   "cell_type": "code",
   "execution_count": 13,
   "id": "a6d6511d-c02a-4c47-bca5-f51686974156",
   "metadata": {},
   "outputs": [
    {
     "name": "stdout",
     "output_type": "stream",
     "text": [
      "before swapping a: Variable_1 and b: Variable_2\n",
      "Variables after swapping a:bVariable_2 and b:bVariable_1\n"
     ]
    }
   ],
   "source": [
    "# Before Swapping Variables\n",
    "\n",
    "a = \"Variable_1\"\n",
    "b = \"Variable_2\"\n",
    "\n",
    "print(\"before swapping a: {} and b: {}\".format(a,b))\n",
    "\n",
    "# After Swapping Variables\n",
    "\n",
    "a,b = b,a\n",
    "\n",
    "print(\"Variables after swapping a:b{} and b:b{}\".format(a,b))\n"
   ]
  },
  {
   "cell_type": "markdown",
   "id": "e12e6b5b-f8bc-4b16-ad0d-520dd9996813",
   "metadata": {},
   "source": []
  },
  {
   "cell_type": "markdown",
   "id": "8a88642a-6c69-4d2a-a86e-1ffb6504f015",
   "metadata": {},
   "source": [
    "5. Write a Python program to generate a random number?"
   ]
  },
  {
   "cell_type": "code",
   "execution_count": 14,
   "id": "7b1a0556-f5db-4839-b09d-620c53cc3042",
   "metadata": {},
   "outputs": [
    {
     "name": "stdout",
     "output_type": "stream",
     "text": [
      "45\n"
     ]
    }
   ],
   "source": [
    "import random\n",
    "\n",
    "random_no = random.randint(1,100)\n",
    "\n",
    "print(random_no)"
   ]
  },
  {
   "cell_type": "markdown",
   "id": "8364f1c9-580e-4ca7-bc75-f1ca5ebc2bb9",
   "metadata": {},
   "source": []
  }
 ],
 "metadata": {
  "kernelspec": {
   "display_name": "Python 3 (ipykernel)",
   "language": "python",
   "name": "python3"
  },
  "language_info": {
   "codemirror_mode": {
    "name": "ipython",
    "version": 3
   },
   "file_extension": ".py",
   "mimetype": "text/x-python",
   "name": "python",
   "nbconvert_exporter": "python",
   "pygments_lexer": "ipython3",
   "version": "3.10.8"
  }
 },
 "nbformat": 4,
 "nbformat_minor": 5
}
